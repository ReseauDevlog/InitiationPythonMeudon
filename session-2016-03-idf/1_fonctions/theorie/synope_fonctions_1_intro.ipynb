{
 "cells": [
  {
   "cell_type": "markdown",
   "metadata": {},
   "source": [
    "*Ce notebook est distribué par Devlog sous licence Creative Commons - Attribution - Pas d’Utilisation Commerciale - Partage dans les Mêmes Conditions. La description complète de la license est disponible à l'adresse web http://creativecommons.org/licenses/by-nc-sa/4.0/.*"
   ]
  },
  {
   "cell_type": "markdown",
   "metadata": {},
   "source": [
    "# Introduction"
   ]
  },
  {
   "cell_type": "markdown",
   "metadata": {
    "internals": {
     "slide_type": "subslide"
    },
    "slideshow": {
     "slide_type": "slide"
    }
   },
   "source": [
    "##  Grandes dates\n",
    "\n",
    " * **1989** : au sein du Centrum voor Wiskunde en Informatica (Pays-Bas), **Guido van Rossum** conçoit un langage de script inspiré d'ABC, Modula-3, C, Unix.\n",
    " * **1991** : Python 0.9.0 est posté sur le forum alt.sources.\n",
    " * **2001** : Python 2.1, première version de la Python Software Foundation.\n",
    " * **2008** : Python 3.0, non compatible avec les précédentes.\n"
   ]
  },
  {
   "cell_type": "markdown",
   "metadata": {
    "internals": {
     "slide_helper": "subslide_end",
     "slide_type": "subslide"
    },
    "slide_helper": "slide_end",
    "slideshow": {
     "slide_type": "slide"
    }
   },
   "source": [
    "## Usages\n",
    "\n",
    "Langage de programmation à usage général de haut niveau, riche et polyvalent, ouvert et multiplateforme, facile à apprendre et à mettre en oeuvre, mature, très répandu et évolutif.\n",
    "\n",
    "* **Scripts système**\n",
    "\n",
    "\n",
    "* **Réseaux** (TwistedMatrix, PyRO, scapy, forensics...).\n",
    "\n",
    "* **Bases de données** (MySQL, PostgrSQL, Oracle...).\n",
    "\n",
    "* **Interfaces utilisateurs*** (Gtk, Qt, Tcl/Tk, WxWidgets, Kivy...).\n",
    "\n",
    "* **Web** (Django, TurboGears, Zope, Plone, ...).\n",
    "\n",
    "* **Calcul scientifique** ([NumPy](http://www.numpy.org), [SciPy](http://www.scipy.org), [Sage](http://sagemath.org/)), les parties sensible étant optimisées en C.\n",
    "\n",
    "* **Représentation graphique** (gnuplot, matplotlib, VTK, ...).\n",
    "\n",
    "* ..."
   ]
  },
  {
   "cell_type": "markdown",
   "metadata": {},
   "source": [
    "## Zen de Python\n",
    "\n",
    "* L'élégance est préférable à la laideur.\n",
    "* L'explicite est préférable à l'implicite.\n",
    "* La simplicité est préférable à la complexité.\n",
    "* Dérouler est préférable à imbriquer.\n",
    "* La lisibilité compte. Aérer est préférable à densifier.\n",
    "* Les cas particuliers ne le sont jamais assez pour violer les règles,  \n",
    "  ... mais le côté pratique doit être privilégié sur la pureté.\n",
    "* Les erreurs ne doivent jamais être ignorées,  \n",
    "  ... à moins d'avoir été explicitement désactivées.\n",
    "* En cas d'ambiguité, ne te laisse pas aller à deviner.\n",
    "* Il ne devrait y avoir une façon, et si possible une seule, de faire les choses,  \n",
    "  ... même si elle n'est pas immédiatement évidente pour un non hollandais.\n",
    "* Maintenant est mieux que jamais,  \n",
    "  ... bien que jamais est souvent mieux que tout de suite.\n",
    "* Si l'implémentation est difficile à expliquer, elle est mauvaise.\n",
    "* Si l'implémentation est facile à expliquer, elle est peut-être bonne.\n",
    "* Les espaces de nommage sont une foutue bonne idée, faisons-en plus !"
   ]
  },
  {
   "cell_type": "markdown",
   "metadata": {
    "internals": {
     "slide_helper": "subslide_end",
     "slide_type": "subslide"
    },
    "slide_helper": "slide_end",
    "slideshow": {
     "slide_type": "slide"
    }
   },
   "source": [
    "## Principales caractéristiques techniques\n",
    "\n",
    "* **Semi-interprété** : interprété, mais compilé au vol dans un langage propre à chaque interpréteur (CPython, Jython, !IronPython).\n",
    "\n",
    "* **Multi-paradigmes** : impératif, orienté objets (classes et héritage), fonctionnel…\n",
    "\n",
    "* **Typage** :\n",
    "     * **dynamique** : le type est attaché aux objets (pas aux variables ou références vers ces objets), il est présent et interrogeable à l'éxécution (introspection).\n",
    "     * **fort** : refus d'additionner des pommes et des poires, ni de transformer implicitement un type dans un autre.\n",
    "     * **\"canard\"** : si je vois un animal qui vole comme un canard, cancane comme un canard, et nage comme un canard, alors j'appelle cet oiseau un canard => une fonction peut utiliser n'importe quel objet, du moment qu'il offre l'interface attendue (un peu comme les templates C++).\n",
    "\n",
    "* **Gestion automatique de la mémoire** : les variables sont des références vers les objets, et les copies ne copient en général que la référence, pas l'objet. Les objets qui ne sont plus référencés sont automatiquement récupérés par le ramasse-miette."
   ]
  },
  {
   "cell_type": "markdown",
   "metadata": {
    "internals": {
     "slide_helper": "subslide_end",
     "slide_type": "subslide"
    },
    "slide_helper": "slide_end",
    "slideshow": {
     "slide_type": "slide"
    }
   },
   "source": [
    "## Comment est traduit mon code source en langage machine ?\n",
    "\n",
    "Il existe 2 techniques principales pour effectuer la traduction en langage machine de mon code source :\n",
    "\n",
    "- Interprétation\n",
    "<img src=\"img/Interpretation.png\" />\n",
    "\n",
    "- Compilation\n",
    "<img src=\"img/Compilation.png\" />"
   ]
  },
  {
   "cell_type": "markdown",
   "metadata": {
    "internals": {
     "slide_helper": "subslide_end",
     "slide_type": "subslide"
    },
    "slide_helper": "slide_end",
    "slideshow": {
     "slide_type": "slide"
    }
   },
   "source": [
    "## Comment est traduit mon code Python en langage machine ?\n",
    "\n",
    "<img src=\"img/TraductionPython.png\" />\n",
    "\n",
    "Nota : il est possible de générer des exécutables win32."
   ]
  },
  {
   "cell_type": "markdown",
   "metadata": {
    "internals": {
     "slide_helper": "subslide_end",
     "slide_type": "subslide"
    },
    "slide_helper": "slide_end",
    "slideshow": {
     "slide_type": "slide"
    }
   },
   "source": [
    "## Les implémentations de Python\n",
    "\n",
    "Il existe plusieurs implémentations de python, qui permettent notamment d'étendre le langage avec des bibliothèques dans d'autres langages :\n",
    "- **CPython** : L'interpréteur de référence de python. Il génère du byte-code python.pyc. Écrit en C; il permet d'étendre le langage avec des librairies C.\n",
    "- **Jython** : Interpréteur qui permet de coupler du python et du java dans le même programme, génère du byte-code JAVA.\n",
    "- **IronPython** : Implémentation de python qui vise .Net et Mono, permet de coupler python avec le framework .Net.\n",
    "- **Pypy** : Implémentation de Python en Python; projet de recherche pour obtenir une implémentation plus rapide que l'implémentation de référence (CPython).\n",
    "\n",
    "Plus d'informations sur les implémentations [ici](https://wiki.python.org/moin/PythonImplementations)"
   ]
  },
  {
   "cell_type": "markdown",
   "metadata": {},
   "source": [
    "## Mes premiers pas avec l'interpréteur interactif\n",
    "\n",
    "Vous pouvez commencer à essayer d'exécuter et modifier les commandes ci-dessous dans l'environnement interactif *ipython*."
   ]
  },
  {
   "cell_type": "markdown",
   "metadata": {},
   "source": [
    "Ouvrez un Terminal et executer:\n",
    "\n",
    "$ ipython"
   ]
  },
  {
   "cell_type": "code",
   "execution_count": null,
   "metadata": {
    "collapsed": false
   },
   "outputs": [],
   "source": [
    "\"Hello World !\""
   ]
  },
  {
   "cell_type": "code",
   "execution_count": null,
   "metadata": {
    "collapsed": false
   },
   "outputs": [],
   "source": [
    "1+1"
   ]
  },
  {
   "cell_type": "code",
   "execution_count": null,
   "metadata": {
    "collapsed": false
   },
   "outputs": [],
   "source": [
    "print(\"Hello\",\"World\",\"!\")"
   ]
  },
  {
   "cell_type": "code",
   "execution_count": null,
   "metadata": {
    "collapsed": false,
    "internals": {
     "slide_helper": "subslide_end",
     "slide_type": "subslide"
    },
    "slide_helper": "slide_end",
    "slideshow": {
     "slide_type": "slide"
    }
   },
   "outputs": [],
   "source": [
    "help(\"print\")"
   ]
  },
  {
   "cell_type": "markdown",
   "metadata": {},
   "source": [
    "L'aide dans IPython, c'est aussi :\n",
    "- **help(\"topics\")** : énumère les différents \"concepts\" Python au sujet desquels on peut demander de l'aide ; frapper ensuite\n",
    "- **help(\"SUJET\")** pour avoir de l'aide sur le SUJET souhaité\n",
    "- **help(objet)** : affiche des informations sur l'objet Python spécifié (variable, fonction...) tel que son type, ses méthodes...\n",
    "- **help(\"module\")** : affiche l'aide relative au module spécifié ; si le module est importé on peut directement faire help(module)\n",
    "- **help(\"module.objet\")** : affiche directement l'aide relative à l'objet spécifié du module"
   ]
  },
  {
   "cell_type": "markdown",
   "metadata": {},
   "source": [
    "## Mes premières variables\n",
    "\n",
    "Les noms de variables sont faits de **lettres**, de **chiffres**, et de soulignés \"**_**\". Par convention, les variables automatiquement définies par le système ont un nom qui commence et se termine par un double souligné  \"**__**\". Python fait la différence entre minuscules et majuscules dans les noms de variables.   Depuis Python 3, les caractères non-ascii sont autorisés dans les noms de variables, puisqu'il travaille en unicode… mais à éviter pour le moment !!\n",
    "\n",
    "Il est bien sur interdit d'utiliser les mot-clés (ou mots réservés), et très dangereux de redéfinir les types et fonctions prédéfinies.\n",
    "\n",
    "L'affectation d'une valeur à une variable se fait à l'aide de l'opérateur égal \"**=**\". La comparaison de deux valeurs se fait à l'aide du double-égal \"**==**\".\n",
    "\n",
    "On peut voir le contenu d'une variable en donnant son nom à l'interpréteur python, comme pour toute expression, ou par un appel à la fonction `print()`."
   ]
  },
  {
   "cell_type": "code",
   "execution_count": null,
   "metadata": {
    "collapsed": false
   },
   "outputs": [],
   "source": [
    "x = \"Hello World !\"\n",
    "x"
   ]
  },
  {
   "cell_type": "code",
   "execution_count": null,
   "metadata": {
    "collapsed": false
   },
   "outputs": [],
   "source": [
    "y = 3.14\n",
    "print(y)"
   ]
  },
  {
   "cell_type": "markdown",
   "metadata": {},
   "source": [
    "Python permet de faire des affectations multiples, en fournissant une collection de variables à gauche et une collection de valeurs à droite."
   ]
  },
  {
   "cell_type": "code",
   "execution_count": null,
   "metadata": {
    "collapsed": false
   },
   "outputs": [],
   "source": [
    "a, b, c = 1, 2, \"hello\"\n",
    "print(a,b,c)"
   ]
  },
  {
   "cell_type": "markdown",
   "metadata": {},
   "source": [
    "On peut même très facilement échanger deux variables :"
   ]
  },
  {
   "cell_type": "code",
   "execution_count": null,
   "metadata": {
    "collapsed": false
   },
   "outputs": [],
   "source": [
    "x, y = y, x\n",
    "print(x,y)"
   ]
  },
  {
   "cell_type": "markdown",
   "metadata": {},
   "source": [
    "Dans l'exemple ci-dessus, vous remarquerez que `x` contenait d'abord `'Hello World !'`, puis `3.14`... notre variable peut contenir n'importe quoi, de n'importe quel type, et en changer à tout moment. Les variables de Python doivent être vues comme de simples noms (des pointeurs C) ou des étiquettes, qui font référence à la valeur (objet) de votre choix. Le langage n'est pas pour autant \"non-typé\" : le type est attaché à la valeur, non à la variable, et vous ne pouvez pas combiner des choses qui ne vont pas entre elles, comme en témoigne l'exemple suivant :"
   ]
  },
  {
   "cell_type": "code",
   "execution_count": null,
   "metadata": {
    "collapsed": false
   },
   "outputs": [],
   "source": [
    "x+y"
   ]
  },
  {
   "cell_type": "markdown",
   "metadata": {},
   "source": [
    "Est-ce nécessaire de préciser qu'il est déconseillé de réutiliser une variable à toutes les sauces, en lui attributant au fil de l'exécution des valeurs sans rapport les unes avec les autres ?"
   ]
  },
  {
   "cell_type": "markdown",
   "metadata": {},
   "source": [
    "## Mon premier fichier\n",
    "\n",
    "L'interpréteur est un moyen pratique de tester quelques commandes très simples, mais dès que les instructions sont nombreuses et qu'elles vont être répétées, il est plus efficace de les placer dans un fichier.\n",
    "\n",
    "Copier les instructions suivantes au sein d'un fichier `mon_fichier.py` :\n",
    "\n",
    "```python\n",
    "\"Hello World !\"\n",
    "1+1\n",
    "print(\"Hello\",\"World\",\"!\")\n",
    "```\n",
    "\n",
    "Exécutez le avec la commande `python mon_fichier.py`. Que remarquez vous ?\n",
    "\n",
    "Dans un fichier, la seule façon de faire afficher la valeur d'une variable est un appel à `print()`."
   ]
  },
  {
   "cell_type": "markdown",
   "metadata": {},
   "source": [
    "## Types prédéfinis\n",
    "\n",
    " * **Nombres** : \n",
    "   * `12345678910111213141516171819`,\n",
    "   * `3.1415`,\n",
    "   * `3+4j`.\n",
    " * **Chaines de caractères** : `'spam'`, `\"guido's\"`.\n",
    " * **Tuples** : `(1, 'spam', 4, 'U')`.\n",
    " * **Listes** : `[1, [2, 'three'], 4]`.\n",
    " * **Dictionnaires** : `{'a': 'val', 3: 'x', 'key': 124}`.\n",
    " * **Fichiers** : `myfile = open('eggs.txt','r')`.\n",
    "\n",
    "Remarques :\n",
    "* les collections sont \"hétérogènes\", on peut y mélanger des torchons et des serviettes ;\n",
    "* on peut imbriquer des collections dans les collections."
   ]
  },
  {
   "cell_type": "markdown",
   "metadata": {},
   "source": [
    "## Mise en page\n",
    "\n",
    " * Une instruction par ligne.\n",
    " * On peut poursuivre sur plusieurs lignes avec \"\\\" ou parenthèses.\n",
    " * On peut mettre plusieurs instructions par ligne séparées par des \";\"  \n",
    "   (non recommandé... sauf pour écrire des slides compacts).\n",
    " * Les blocs d'instructions sont indentés.\n",
    " * Commentaires par \"#\"."
   ]
  },
  {
   "cell_type": "code",
   "execution_count": null,
   "metadata": {
    "collapsed": false
   },
   "outputs": [],
   "source": [
    "if a > 1 and b > 5 \\\n",
    "        and c < 3:\n",
    "    print('a>1 & b>5 & c<3')\n",
    "\n",
    "if (a > 1 and b > 5\n",
    "        and c < 3):\n",
    "    print(1)\n",
    "\n",
    "a = 1\n",
    "if a > 2:\n",
    "    b = a + 1\n",
    "    print(b)\n",
    "print(a)\n",
    "\n",
    "# commentaire\n",
    "print(1) # un autre commentaire"
   ]
  },
  {
   "cell_type": "markdown",
   "metadata": {
    "internals": {
     "slide_type": "subslide"
    },
    "slideshow": {
     "slide_type": "slide"
    }
   },
   "source": [
    "## Instructions de contrôle de flux"
   ]
  },
  {
   "cell_type": "code",
   "execution_count": null,
   "metadata": {
    "collapsed": false,
    "internals": {},
    "slideshow": {
     "slide_type": "-"
    }
   },
   "outputs": [],
   "source": [
    "if a > b:\n",
    "  print('a>b')\n",
    "elif a == b:\n",
    "  print('a==b')\n",
    "else:\n",
    "  print('a<b')"
   ]
  },
  {
   "cell_type": "code",
   "execution_count": null,
   "metadata": {
    "collapsed": true
   },
   "outputs": [],
   "source": [
    "while a < max: \n",
    "    print(a)\n",
    "    a += 1 "
   ]
  },
  {
   "cell_type": "code",
   "execution_count": null,
   "metadata": {
    "collapsed": true
   },
   "outputs": [],
   "source": [
    "for i in ['a', 'b', 'c']:\n",
    "    print(i)"
   ]
  },
  {
   "cell_type": "code",
   "execution_count": null,
   "metadata": {
    "collapsed": true
   },
   "outputs": [],
   "source": [
    "for i in range(10):\n",
    "    print(i)"
   ]
  },
  {
   "cell_type": "code",
   "execution_count": null,
   "metadata": {
    "collapsed": true
   },
   "outputs": [],
   "source": [
    "for i in range(4):\n",
    "    if i == 2:\n",
    "        continue\n",
    "    print(i)"
   ]
  },
  {
   "cell_type": "code",
   "execution_count": null,
   "metadata": {
    "collapsed": true
   },
   "outputs": [],
   "source": [
    "for i in range(6):\n",
    "    if i == 4:\n",
    "        break\n",
    "    print(i)"
   ]
  },
  {
   "cell_type": "markdown",
   "metadata": {},
   "source": [
    "## Ma première fonction\n",
    "\n",
    "Une fonction se définit à l'aide du mot clé `def`, suivi du nom de la fonction, suivi des arguments entre parenthèses (sans types), suivi du double-point `:`, suivi enfin sur les lignes suivantes du bloc indenté des instructions constituant le corps de la fonction.\n",
    "\n",
    "On sort d'une fonction à l'aide du mot clé `return`, suivi de la valeur de retour. En absence de `return`, la fonction retourne `None`. Si `return` est suivi d'une liste de valeurs séparées par des virgules, elles sont empaquetées sous forme de tuple."
   ]
  },
  {
   "cell_type": "code",
   "execution_count": null,
   "metadata": {
    "collapsed": false,
    "scrolled": true
   },
   "outputs": [],
   "source": [
    "def divs(x,y):\n",
    "  if y!=0:\n",
    "    print(x,'/',y,':',x/y)\n",
    "    print(x,'//',y,':',x//y)\n",
    "    return True\n",
    "  else:\n",
    "    return False\n",
    "\n",
    "if not divs(2,3):\n",
    "  print('ERROR')\n",
    "if not divs(2.,3.):\n",
    "  print('ERROR')\n",
    "if not divs(1,0):\n",
    "  print('ERROR')\n",
    "if not divs('a','b'):\n",
    "  print('ERROR')"
   ]
  },
  {
   "cell_type": "markdown",
   "metadata": {},
   "source": [
    "On notera que Python n'impose pas le type des paramètres `x` et `y` de la fonction. Du moment que les valeurs données en arguments sont dotées d'un opérateur `/`, `//`, et que `y` est comparable à `0`, un appel se déroule sans problème. Pour autant, si les opérations appliquées ne sont pas valides pour les valeurs utilisées, comme dans l'appel `divs('a','b')`, Python détecte l'erreur et la signale. C'est le typage \"canard\"."
   ]
  },
  {
   "cell_type": "markdown",
   "metadata": {},
   "source": [
    "## Opérateurs\n",
    "\n",
    "Opérateurs :\n",
    "~~~python\n",
    "& | ^ ~ << >> \n",
    "== != < > <= >= \n",
    "+ - * ** / // %\n",
    "~~~\n",
    "Délimiteurs :\n",
    "~~~python\n",
    "( ) [ ] { } \n",
    ", : . ; @\n",
    "= += -= *= /= //= %= &= |= ^= >>= <<= **=\n",
    "~~~"
   ]
  },
  {
   "cell_type": "markdown",
   "metadata": {},
   "source": [
    "## Mon premier import\n",
    "\n",
    "Pour utiliser une fonction founie au sein de la bibliothèque standard, ou une sein d'une bibliothèque fournie par un tiers, on doit d'abord \"importer\" le module que contient cette fonction. Ci-dessous, ce qu'on peut faire si on veut générer un nombre aléatoire."
   ]
  },
  {
   "cell_type": "code",
   "execution_count": null,
   "metadata": {
    "collapsed": false
   },
   "outputs": [],
   "source": [
    "import random\n",
    "rand_number = random.randint(1, 100)\n",
    "print(rand_number)"
   ]
  },
  {
   "cell_type": "markdown",
   "metadata": {},
   "source": [
    "## Trucs et astuces pour grands débutants\n",
    "\n",
    "* N'oubliez pas le ':' à la fin de vos if/while/for.\n",
    "* Commencer vos instructions de plus haut niveau sur la colonne 1.\n",
    "* Avec l'interpréteur les lignes blanches comptent ! (elles marquent la fin d'un bloc d'instructions, alors que dans un fichier elles sont ignorées).\n",
    "* Ne mélangez pas tabulations et espaces pour votre indentation, et soyez très attentifs à ce que fait votre éditeur \"intelligent\" en la matière. Un texte qui semble aligné peut ne pas l'être du point de vue de Python, ou dans un autre éditeur qui gère différemment les tabulations.\n",
    "* Ne faites pas du C\n",
    "  * inutile de mettre vos conditions entre parenthèses\n",
    "  * inutile de terminer les lignes par des ';'\n",
    "  * ne faites pas d'assignation dans les conditions\n",
    "  * ne mettez pas de {} autour de vos blocs d'instructions. "
   ]
  },
  {
   "cell_type": "markdown",
   "metadata": {},
   "source": [
    "## A propos des auteurs"
   ]
  },
  {
   "cell_type": "markdown",
   "metadata": {
    "internals": {
     "slide_helper": "subslide_end"
    },
    "slide_helper": "slide_end",
    "slideshow": {
     "slide_type": "-"
    }
   },
   "source": [
    "*Travail initié en 2014 dans le cadre d'une série de formations Python organisées par le réseau Devlog.  \n",
    "Auteurs principaux : Loic Gouarin & David Chamont. Relecteurs : Nicolas Can, Sekou Diakite, Christophe Halgand, Christophe Gengembre.*"
   ]
  },
  {
   "cell_type": "markdown",
   "metadata": {},
   "source": [
    "### Mise en forme"
   ]
  },
  {
   "cell_type": "code",
   "execution_count": null,
   "metadata": {
    "collapsed": false
   },
   "outputs": [],
   "source": [
    "# execute this part to modify the css style\n",
    "from IPython.core.display import HTML\n",
    "def css_styling():\n",
    "    styles = open(\"../../styles/custom.css\", \"r\").read()\n",
    "    return HTML(styles)\n",
    "css_styling()"
   ]
  }
 ],
 "metadata": {
  "kernelspec": {
   "display_name": "Python 3",
   "language": "python",
   "name": "python3"
  },
  "language_info": {
   "codemirror_mode": {
    "name": "ipython",
    "version": 3
   },
   "file_extension": ".py",
   "mimetype": "text/x-python",
   "name": "python",
   "nbconvert_exporter": "python",
   "pygments_lexer": "ipython3",
   "version": "3.5.1"
  }
 },
 "nbformat": 4,
 "nbformat_minor": 0
}
