{
 "cells": [
  {
   "cell_type": "markdown",
   "metadata": {},
   "source": [
    "*Ce notebook est distribué par Devlog sous licence Creative Commons - Attribution - Pas d’Utilisation Commerciale - Partage dans les Mêmes Conditions. La description complète de la license est disponible à l'adresse web http://creativecommons.org/licenses/by-nc-sa/4.0/.*"
   ]
  },
  {
   "cell_type": "markdown",
   "metadata": {},
   "source": [
    "# Mise en page et structures de contrôle"
   ]
  },
  {
   "cell_type": "markdown",
   "metadata": {
    "internals": {
     "slide_type": "subslide"
    },
    "slideshow": {
     "slide_type": "slide"
    }
   },
   "source": [
    "## Instruction sur plusieurs lignes et commentaires\n",
    "\n",
    "Imaginons que nous sommes des linguistes, on veut étudier la première phrase de présentation du CNRS :\n",
    "\n",
    "\"Le Centre national de la recherche scientifique est un organisme public de recherche  (Etablissement public à caractère scientifique et technologique, placé sous la tutelle du Ministère de l'Éducation nationale, de l'Enseignement supérieur et de la Recherche).\""
   ]
  },
  {
   "cell_type": "code",
   "execution_count": null,
   "metadata": {
    "collapsed": false,
    "internals": {},
    "slideshow": {
     "slide_type": "-"
    }
   },
   "outputs": [],
   "source": [
    "print(\"Le Centre national de la recherche scientifique est un organisme public de recherche (Etablissement public à caractère scientifique et technologique, placé sous la tutelle du Ministère de l'Éducation nationale, de l'Enseignement supérieur et de la Recherche). Il produit du savoir et met ce savoir au service de la société.\")"
   ]
  },
  {
   "cell_type": "markdown",
   "metadata": {
    "internals": {},
    "slideshow": {
     "slide_type": "-"
    }
   },
   "source": [
    "Pour des raisons de libilité et de portabilité, le [guide de style Python](https://www.python.org/dev/peps/pep-0008/#maximum-line-length) recommande de ne pas dépasser 79 caractères sur une ligne de code..."
   ]
  },
  {
   "cell_type": "code",
   "execution_count": null,
   "metadata": {
    "collapsed": false,
    "internals": {},
    "slideshow": {
     "slide_type": "-"
    }
   },
   "outputs": [],
   "source": [
    "print(\"Le Centre national de la recherche scientifique est un organisme public de recherche \\\n",
    "(Etablissement public à caractère scientifique et technologique, placé sous la tutelle \\\n",
    "du Ministère de l'Éducation nationale, de l'Enseignement supérieur et de la Recherche)\")"
   ]
  },
  {
   "cell_type": "markdown",
   "metadata": {
    "internals": {
     "slide_helper": "subslide_end"
    },
    "slide_helper": "slide_end",
    "slideshow": {
     "slide_type": "-"
    }
   },
   "source": [
    "Essayer en utilisant des apostrophes à la place des guillemets..."
   ]
  },
  {
   "cell_type": "markdown",
   "metadata": {
    "internals": {
     "slide_type": "subslide"
    },
    "slideshow": {
     "slide_type": "slide"
    }
   },
   "source": [
    "## Instruction sur plusieurs lignes et commentaires"
   ]
  },
  {
   "cell_type": "code",
   "execution_count": null,
   "metadata": {
    "collapsed": false,
    "internals": {},
    "slideshow": {
     "slide_type": "-"
    }
   },
   "outputs": [],
   "source": [
    "print('pourtant ca marche avec ces apostrophes')"
   ]
  },
  {
   "cell_type": "markdown",
   "metadata": {
    "internals": {},
    "slideshow": {
     "slide_type": "-"
    }
   },
   "source": [
    "Vous avez des apostrophes dans votre chaine de caractères, utilisez les guillemets :"
   ]
  },
  {
   "cell_type": "code",
   "execution_count": null,
   "metadata": {
    "collapsed": false,
    "internals": {},
    "slideshow": {
     "slide_type": "-"
    }
   },
   "outputs": [],
   "source": [
    "print(\"Puisqu'il pleut, jusqu'à demain, c'est...\")"
   ]
  },
  {
   "cell_type": "markdown",
   "metadata": {
    "internals": {
     "slide_helper": "subslide_end"
    },
    "slide_helper": "slide_end",
    "slideshow": {
     "slide_type": "-"
    }
   },
   "source": [
    "Pour les commentaires sur plusieurs lignes, vous pouvez utiliser le triple guillemet ou le triple apostrophe...\n",
    "\n",
    "~~~python\n",
    "\"\"\"ceci est un commentaire sur\n",
    "plusieurs lignes\"\"\"\n",
    "'''ceci est un autre commentaire sur\n",
    "plusieurs lignes'''\n",
    "# Rappel : celui-ci n'est valable que jusqu'à la fin de la ligne\n",
    "~~~"
   ]
  },
  {
   "cell_type": "markdown",
   "metadata": {
    "internals": {
     "slide_helper": "subslide_end",
     "slide_type": "subslide"
    },
    "slide_helper": "slide_end",
    "slideshow": {
     "slide_type": "slide"
    }
   },
   "source": [
    "## Les structures de contrôle\n",
    "\n",
    "En python, les structures de contrôle existent par l'indentation des blocs de code. L'indentation est donc très importante en Python. Cette indentation apporte au langage une lisibilité et légereté au code (absence d'accolades, points-virgules,...)\n",
    "\n",
    "<img src=\"img/Instructions_Blocs.png\" />\n",
    "\n",
    "Le [guide de style Python](https://www.python.org/dev/peps/pep-0008/#indentation) mentionne qu'il est préférable d'utiliser les espaces que la tabulation. Il indique même 4 espaces par niveau d'indentation. Sous **Spyder**, nous pouvons gérer les caractères d'indentation dans : Outils/Préférences/Editeurs/Options avancées."
   ]
  },
  {
   "cell_type": "markdown",
   "metadata": {
    "internals": {
     "slide_type": "subslide"
    },
    "slideshow": {
     "slide_type": "slide"
    }
   },
   "source": [
    "## Exécution conditionelle if-elif-else\n",
    "\n",
    "La forme de cette structure de contrôle est montrée ci-dessous. Les parties **elif** et **else** sont bien sûr facultatives."
   ]
  },
  {
   "cell_type": "code",
   "execution_count": null,
   "metadata": {
    "collapsed": false,
    "internals": {},
    "slideshow": {
     "slide_type": "-"
    }
   },
   "outputs": [],
   "source": [
    "a = 10.\n",
    "if a > 0:\n",
    "    print(\"a est strictement positif\")\n",
    "    if a >= 10:\n",
    "        print(\"a est un nombre\")\n",
    "    else:\n",
    "        print(\"a est un chiffre\")\n",
    "    a += 1\n",
    "elif a is not 0:\n",
    "    print(\"a est strictement negatif\")\n",
    "else:\n",
    "    print(\"a est nul\")"
   ]
  },
  {
   "cell_type": "markdown",
   "metadata": {
    "internals": {},
    "slideshow": {
     "slide_type": "-"
    }
   },
   "source": [
    "Comme dans d'autres langages, python offre l'écriture d'expression conditionnelle :"
   ]
  },
  {
   "cell_type": "code",
   "execution_count": null,
   "metadata": {
    "collapsed": false,
    "internals": {},
    "slideshow": {
     "slide_type": "-"
    }
   },
   "outputs": [],
   "source": [
    "a=10 ; print(\"a est positif\") if a>=0 else print(\"a est négatif\")"
   ]
  },
  {
   "cell_type": "markdown",
   "metadata": {
    "slideshow": {
     "slide_type": "slide"
    }
   },
   "source": [
    "## Boucle for\n",
    "-----\n",
    "La boucle **for** permet d'itérer les valeurs d'une liste, d'un tuple, d'une chaîne ou de tout objet itérable. Comme dans les autres structures de contrôle, le caractère \"**:**\" (double-point) définit le début du bloc d'instructions contrôlé par **for**."
   ]
  },
  {
   "cell_type": "code",
   "execution_count": null,
   "metadata": {
    "collapsed": false
   },
   "outputs": [],
   "source": [
    "# Sur listes ou tuples\n",
    "maList = [1,2,3]\n",
    "for n in maList:\n",
    "    print(n)"
   ]
  },
  {
   "cell_type": "markdown",
   "metadata": {},
   "source": [
    "Pour itérer sur une suite de nombres entiers, on utilise souvent la fonction **range**"
   ]
  },
  {
   "cell_type": "code",
   "execution_count": null,
   "metadata": {
    "collapsed": false
   },
   "outputs": [],
   "source": [
    "for index in range(len(maList)):  #Attention python2 : xrange est obsolète\n",
    "    print(index, maList[index])"
   ]
  },
  {
   "cell_type": "markdown",
   "metadata": {},
   "source": [
    "Vous pouvez également utiliser la fonction `enumerate()`, qui renvoie des paires `indice, valeur` quand on l'utilise dans une boucle."
   ]
  },
  {
   "cell_type": "code",
   "execution_count": null,
   "metadata": {
    "collapsed": false
   },
   "outputs": [],
   "source": [
    "for index,val in enumerate(maList):\n",
    "    print(index, val)"
   ]
  },
  {
   "cell_type": "markdown",
   "metadata": {
    "slideshow": {
     "slide_type": "slide"
    }
   },
   "source": [
    "## Boucle for"
   ]
  },
  {
   "cell_type": "code",
   "execution_count": null,
   "metadata": {
    "collapsed": false
   },
   "outputs": [],
   "source": [
    "# Sur chaînes\n",
    "voyelles = 'aeiouy'\n",
    "for car in 'chaine de catacteres':\n",
    "    if car in voyelles:\n",
    "        print(car)"
   ]
  },
  {
   "cell_type": "code",
   "execution_count": null,
   "metadata": {
    "collapsed": false
   },
   "outputs": [],
   "source": [
    "# Sur dictionnaires\n",
    "carres = {}\n",
    "for n in range(1,4):\n",
    "    carres[n] = n**2\n",
    "print(carres)"
   ]
  },
  {
   "cell_type": "code",
   "execution_count": null,
   "metadata": {
    "collapsed": false
   },
   "outputs": [],
   "source": [
    "for k in carres:  # itère par défaut sur la clé !\n",
    "  # identique à: for k in carres.keys():\n",
    "    print(k)"
   ]
  },
  {
   "cell_type": "markdown",
   "metadata": {
    "slideshow": {
     "slide_type": "slide"
    }
   },
   "source": [
    "## Boucle for"
   ]
  },
  {
   "cell_type": "code",
   "execution_count": null,
   "metadata": {
    "collapsed": false
   },
   "outputs": [],
   "source": [
    "for n in sorted(carres):\n",
    "  # identique à: for n in sorted(carres.keys()):\n",
    "    print(\"Carré de %u = %u\" % (n,carres[n]))"
   ]
  },
  {
   "cell_type": "markdown",
   "metadata": {},
   "source": [
    "De même, la méthode dictionnaire**.items()** retourne un objet permettant d'itérer sur la clé et la valeur de chaque élément d'un dictionnaire. Les méthodes **.keys()** et **.values()** retournent quant à elles respectivement les clés et les valeurs du dictionnaire."
   ]
  },
  {
   "cell_type": "code",
   "execution_count": null,
   "metadata": {
    "collapsed": false
   },
   "outputs": [],
   "source": [
    "for cle, val in carres.items():\n",
    "    print('Clé: %s, Valeur: %s' % (cle, val))"
   ]
  },
  {
   "cell_type": "markdown",
   "metadata": {
    "slideshow": {
     "slide_type": "slide"
    }
   },
   "source": [
    "## Boucle while\n",
    "\n",
    "La boucle **while** permet d'exécuter un bloc d'instructions aussi longtemps qu'une condition (expression logique) est vraie."
   ]
  },
  {
   "cell_type": "code",
   "execution_count": null,
   "metadata": {
    "collapsed": false,
    "slideshow": {
     "slide_type": "-"
    }
   },
   "outputs": [],
   "source": [
    "nb = 1 ; stop = 3\n",
    "# Affiche le carré des nombres de nb à stop\n",
    "while nb <= stop:\n",
    "    print(nb, nb**2)\n",
    "    nb += 1"
   ]
  },
  {
   "cell_type": "markdown",
   "metadata": {
    "slideshow": {
     "slide_type": "slide"
    }
   },
   "source": [
    "## Instructions continue et break\n",
    "\n",
    "Dans une boucle **for** ou une boucle **while** :\n",
    "\n",
    "- l'instruction **continue** passe à l'itération suivante de la boucle courante (i.e. sans poursuivre l'exécution des instructions du bloc)\n",
    "- l'instruction **break** sort de la boucle courante\n"
   ]
  },
  {
   "cell_type": "code",
   "execution_count": null,
   "metadata": {
    "collapsed": false,
    "slideshow": {
     "slide_type": "-"
    }
   },
   "outputs": [],
   "source": [
    "# Affiche le carré des nombres impairs jusqu'à ce que\n",
    "# le carré atteigne 25, donc: 1  1 , 3  9 , 5  25\n",
    "for n in range(0, 10):\n",
    "    if (n % 2) == 0:  # nombre pair\n",
    "        continue      # => re-boucler\n",
    "    carre = n**2\n",
    "    if carre > 25:\n",
    "        break         # => sortir de la boucle\n",
    "    print(n, carre)"
   ]
  },
  {
   "cell_type": "markdown",
   "metadata": {},
   "source": [
    "## A propos des auteurs"
   ]
  },
  {
   "cell_type": "markdown",
   "metadata": {
    "internals": {
     "slide_helper": "subslide_end"
    },
    "slide_helper": "slide_end",
    "slideshow": {
     "slide_type": "-"
    }
   },
   "source": [
    "*Travail initié en 2014 dans le cadre d'une série de formations Python organisées par le réseau Devlog.  \n",
    "Auteurs principaux : Loic Gouarin & David Chamont. Relecteurs : Nicolas Can, Sekou Diakite, Christophe Halgand, Christophe Gengembre.*"
   ]
  },
  {
   "cell_type": "markdown",
   "metadata": {},
   "source": [
    "### Mise en forme"
   ]
  },
  {
   "cell_type": "code",
   "execution_count": null,
   "metadata": {
    "collapsed": false
   },
   "outputs": [],
   "source": [
    "# execute this part to modify the css style\n",
    "from IPython.core.display import HTML\n",
    "def css_styling():\n",
    "    styles = open(\"../../styles/custom.css\", \"r\").read()\n",
    "    return HTML(styles)\n",
    "css_styling()"
   ]
  }
 ],
 "metadata": {
  "kernelspec": {
   "display_name": "Python 3",
   "language": "python",
   "name": "python3"
  },
  "language_info": {
   "codemirror_mode": {
    "name": "ipython",
    "version": 3
   },
   "file_extension": ".py",
   "mimetype": "text/x-python",
   "name": "python",
   "nbconvert_exporter": "python",
   "pygments_lexer": "ipython3",
   "version": "3.4.3"
  }
 },
 "nbformat": 4,
 "nbformat_minor": 0
}
