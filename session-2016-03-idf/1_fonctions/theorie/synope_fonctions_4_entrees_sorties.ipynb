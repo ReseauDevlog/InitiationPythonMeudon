{
 "cells": [
  {
   "cell_type": "markdown",
   "metadata": {},
   "source": [
    "*Ce notebook est distribué par Devlog sous licence Creative Commons - Attribution - Pas d’Utilisation Commerciale - Partage dans les Mêmes Conditions. La description complète de la license est disponible à l'adresse web http://creativecommons.org/licenses/by-nc-sa/4.0/.*"
   ]
  },
  {
   "cell_type": "markdown",
   "metadata": {},
   "source": [
    "# Entrées/sorties"
   ]
  },
  {
   "cell_type": "markdown",
   "metadata": {},
   "source": [
    "## Affichage dans le terminal : fonction print()"
   ]
  },
  {
   "cell_type": "code",
   "execution_count": null,
   "metadata": {
    "collapsed": false
   },
   "outputs": [],
   "source": [
    "help(\"print\");"
   ]
  },
  {
   "cell_type": "markdown",
   "metadata": {},
   "source": [
    "Comme vous le voyez dans l'aide ci-dessus, on peut donner à la fonction autant d'arguments non nommés que l'on veut, et ils seront envoyés par defaut sur la sortie standard, séparés par des espaces \" \", terminés par un changement de ligne, et le tout en attente dans un tampon. Toutes choses modifiables en utilisant les arguments nommés adéquats."
   ]
  },
  {
   "cell_type": "code",
   "execution_count": null,
   "metadata": {
    "collapsed": false
   },
   "outputs": [],
   "source": [
    "a=3; b=2;\n",
    "print('La somme de', a, 'et', b, 'est', a+b)\n",
    "print('Le produit de', a, 'et', b, 'est', a*b)"
   ]
  },
  {
   "cell_type": "code",
   "execution_count": null,
   "metadata": {
    "collapsed": false
   },
   "outputs": [],
   "source": [
    "print('La somme de', a, 'et', b, 'est', a+b, end=', ')\n",
    "print('et le produit de', a, 'et', b, 'est', a*b, end='.\\n')"
   ]
  },
  {
   "cell_type": "markdown",
   "metadata": {},
   "source": [
    "## Formattage des affichages"
   ]
  },
  {
   "cell_type": "markdown",
   "metadata": {},
   "source": [
    "La méthode `str.format()` permet de construire une chaîne de caractères complexe à partir d'une chaîne qui décrit le format et d'une collection de valeurs données en arguments. La chaîne de format doit comprendre des accolades `{}` aux emplacements ou l'on veut substituer les valeurs."
   ]
  },
  {
   "cell_type": "code",
   "execution_count": null,
   "metadata": {
    "collapsed": false
   },
   "outputs": [],
   "source": [
    "'{} {} ! {}'.format('===','Hello world','===')"
   ]
  },
  {
   "cell_type": "markdown",
   "metadata": {},
   "source": [
    "On peut utiliser des numéros si on veut répéter ou inverser l'ordre de certaines valeurs."
   ]
  },
  {
   "cell_type": "code",
   "execution_count": null,
   "metadata": {
    "collapsed": false
   },
   "outputs": [],
   "source": [
    "'{0} {1} ! {0}'.format('===','Hello world')"
   ]
  },
  {
   "cell_type": "markdown",
   "metadata": {},
   "source": [
    "On peut aussi utiliser des noms si les arguments sont nommés."
   ]
  },
  {
   "cell_type": "code",
   "execution_count": null,
   "metadata": {
    "collapsed": false
   },
   "outputs": [],
   "source": [
    "'{cadre} {texte} ! {cadre}'.format(texte='Hello world',cadre='===')"
   ]
  },
  {
   "cell_type": "markdown",
   "metadata": {},
   "source": [
    "Pour donner des instructions plus précises sur la façon de formatter une valeur précise, on peut ajouter un double-point `:` suivi d'un ensemble de caractères à la façon de la fonction `printf()` du langage C."
   ]
  },
  {
   "cell_type": "code",
   "execution_count": null,
   "metadata": {
    "collapsed": false
   },
   "outputs": [],
   "source": [
    "\"Entiers : {:04d} {:o} {:X}\".format(-2,8,15)"
   ]
  },
  {
   "cell_type": "code",
   "execution_count": null,
   "metadata": {
    "collapsed": false
   },
   "outputs": [],
   "source": [
    "\"Flottants :  {1:-E} {0:+2.3f} {1:-E}\".format(4.5,0.000006)"
   ]
  },
  {
   "cell_type": "code",
   "execution_count": null,
   "metadata": {
    "collapsed": false
   },
   "outputs": [],
   "source": [
    "\"Avec noms : {ch:s} {val:d} {ch:s}\".format(ch='texte',val=10)"
   ]
  },
  {
   "cell_type": "markdown",
   "metadata": {},
   "source": [
    "Pour reprendre l'exemple utilisé dans la section précédente :"
   ]
  },
  {
   "cell_type": "code",
   "execution_count": null,
   "metadata": {
    "collapsed": false
   },
   "outputs": [],
   "source": [
    "print('La somme de {0} et {1} est {2}, et le produit de {0} et {1} est {3}.'.format(3,2,3+2,3*2))"
   ]
  },
  {
   "cell_type": "markdown",
   "metadata": {},
   "source": [
    "Il est encore courant de rencontrer la méthode de formattage historique de Python, qui reposait sur l'opérateur `%`. Bien que plus pratique en apparence, l'usage de cet opérateur est maintenant déconseillé."
   ]
  },
  {
   "cell_type": "code",
   "execution_count": null,
   "metadata": {
    "collapsed": false
   },
   "outputs": [],
   "source": [
    "\"pi = %1.2f \" % 3.14159"
   ]
  },
  {
   "cell_type": "markdown",
   "metadata": {},
   "source": [
    "## Lecture d'une valeur au clavier : fonction input()"
   ]
  },
  {
   "cell_type": "markdown",
   "metadata": {},
   "source": [
    "La fonction `input()` permet demander une valeur au clavier. On peut fournir en argument une chaine de caractères à afficher juste avant."
   ]
  },
  {
   "cell_type": "code",
   "execution_count": null,
   "metadata": {
    "collapsed": false
   },
   "outputs": [],
   "source": [
    "nom = input(\"Quel est votre nom ? \") ; print(nom)"
   ]
  },
  {
   "cell_type": "markdown",
   "metadata": {},
   "source": [
    "ATTENTION : la chaîne de caractère n'est pas interprétée, ni transformée en nombre si celle-ci ressemble à un nombre. Il faut le faire explicitement (contrairement à Python 2)."
   ]
  },
  {
   "cell_type": "code",
   "execution_count": null,
   "metadata": {
    "collapsed": false
   },
   "outputs": [],
   "source": [
    "age = input(\"Quel âge avez-vous ?\") ; print(type(age)) ; age = int(age) ; print(type(age))"
   ]
  },
  {
   "cell_type": "markdown",
   "metadata": {
    "slideshow": {
     "slide_type": "slide"
    }
   },
   "source": [
    "## Fichiers textuels"
   ]
  },
  {
   "cell_type": "markdown",
   "metadata": {},
   "source": [
    "On ouvre un fichier par open('filename', 'mode') et on le ferme par close(). Modes : 'r', 'w' et 'a'. Quelques méthodes :\n",
    "* read() : lit tout le fichier dans une chaîne de caractères.\n",
    "* readline() lit une seule ligne.\n",
    "* readlines() lit tout le fichier dans une liste de chaînes.\n",
    "* write('string') : écrit la chaine dans le fichier.\n",
    "* writelines(sequence) : écrit la séquence dans le fichier, en mettant bout à bout les éléments. "
   ]
  },
  {
   "cell_type": "code",
   "execution_count": null,
   "metadata": {
    "collapsed": false,
    "slideshow": {
     "slide_type": "subslide"
    }
   },
   "outputs": [],
   "source": [
    "fout = open('Monfichier','w')\n",
    "fout.write('Ceci est un fichier\\n')\n",
    "fout.close()\n",
    "fout = open('Monfichier','a')\n",
    "fout.write(\"avec du contenu ...!\")\n",
    "fout.write(str(1))\n",
    "fout.write(\"\\n et encore d'autres informations\\n\")\n",
    "for i in [\"inutiles\", \" au possible\"]:\n",
    "    fout.write(i)\n",
    "fout.close()"
   ]
  },
  {
   "cell_type": "code",
   "execution_count": null,
   "metadata": {
    "collapsed": false,
    "scrolled": true,
    "slideshow": {
     "slide_type": "subslide"
    }
   },
   "outputs": [],
   "source": [
    "fin = open(\"Monfichier\", 'r')\n",
    "ligne = fin.readline()\n",
    "print(\"ceci est la premiere ligne du fichier : <\" + ligne + \">\")\n",
    "chaine = fin.read(5)\n",
    "print(\"ceci sont les 5 caractères suivants : <\" + chaine + \">\")\n",
    "reste = fin.readlines()\n",
    "print(\"ceci est le reste du fichier : <\")\n",
    "print(reste)\n",
    "print(\">\")"
   ]
  },
  {
   "cell_type": "markdown",
   "metadata": {
    "slideshow": {
     "slide_type": "slide"
    }
   },
   "source": [
    "## Fichiers binaires\n",
    "\n",
    "Les données lues et écrites sont en format texte par défaut.  \n",
    "Il est également possible de lire et écrire des données en format binaire via le module `pickle`."
   ]
  },
  {
   "cell_type": "code",
   "execution_count": null,
   "metadata": {
    "collapsed": false,
    "slideshow": {
     "slide_type": "subslide"
    }
   },
   "outputs": [],
   "source": [
    "import pickle\n",
    "a, b, c = 27, 12.96, [5, 4.83, \"Mathieu\"]\n",
    "f = open('donnees_test', 'wb')\n",
    "pickle.dump(a, f)\n",
    "pickle.dump(b, f)\n",
    "pickle.dump(c, f)\n",
    "f.close()\n",
    "f = open('donnees_test', 'rb')\n",
    "j = pickle.load(f)\n",
    "k = pickle.load(f)\n",
    "l = pickle.load(f)\n",
    "print(j, type(j))\n",
    "print(k, type(k))\n",
    "print(l, type(l))\n",
    "f.close()"
   ]
  },
  {
   "cell_type": "markdown",
   "metadata": {
    "slideshow": {
     "slide_type": "slide"
    }
   },
   "source": [
    "## Exceptions et contextes\n",
    "\n",
    "En cas de problème lors de la manipulation d'un fichier, Python est susceptible d'émettre une exception, qui va interrompre les instructions en cours, et oublier la fermeture du fichier. Il est important de surveiller ces exceptions et de s'assurer de la fermeture du fichier.\n"
   ]
  },
  {
   "cell_type": "code",
   "execution_count": null,
   "metadata": {
    "collapsed": false,
    "slideshow": {
     "slide_type": "subslide"
    }
   },
   "outputs": [],
   "source": [
    "fh = None\n",
    "try:\n",
    "    fh = open(\"donnees_test\")\n",
    "    for line in fh:\n",
    "        process(line)\n",
    "except BaseException as err:\n",
    "    print(err)\n",
    "finally:\n",
    "    if fh is not None:\n",
    "        fh.close()"
   ]
  },
  {
   "cell_type": "markdown",
   "metadata": {
    "slideshow": {
     "slide_type": "slide"
    }
   },
   "source": [
    "Pour alléger ce travail, les auteurs de Python ont introduit la notion de **gestionnaires de contexte**. Un tel gestionnaire, utilisé à la suite d'une instruction **with**, garantit que certaines instructions sont toujours exécutées au début et à la fin de l'exécution du bloc de codede `with`, même si une exception est levée pendant l'exécution de ce bloc.\n",
    "\n",
    "La fonction `open` renvoie maintenant un objet qui est aussi un gestionnaire de contexte (en plus d'être un fichier), et garantit la fermeture du fichier en présence d'exception."
   ]
  },
  {
   "cell_type": "code",
   "execution_count": null,
   "metadata": {
    "collapsed": false
   },
   "outputs": [],
   "source": [
    "try:\n",
    "    with open(\"donnees_test\") as fh:\n",
    "        for line in fh:\n",
    "            process(line)\n",
    "except BaseException as err:\n",
    "    print(err)"
   ]
  },
  {
   "cell_type": "markdown",
   "metadata": {},
   "source": [
    "### Exercice 9\n",
    "\n",
    "Si ce n'est pas déjà fait, regroupez toutes les fonctions précédentes dans un fichier. \n",
    "\n",
    "Ajoutez des instructions pour demander à l'utilisateur combien de points de discrétisation $N$ il souhaite pour $\\theta$ avant d'appeler $superellipse(N,1,1,2)$."
   ]
  },
  {
   "cell_type": "markdown",
   "metadata": {},
   "source": [
    "### Exercice 10\n",
    "\n",
    "Formattez les affichages de valeurs réelles pour avoir deux chiffres après la virgule."
   ]
  },
  {
   "cell_type": "markdown",
   "metadata": {},
   "source": [
    "### Exercice 11\n",
    "\n",
    "Au lieu de les afficher à l'écran, écrivez dans un fichier ASCII les résultats de l'appel à $superellipse(N,1,1,2)$."
   ]
  },
  {
   "cell_type": "markdown",
   "metadata": {},
   "source": [
    "## A propos des auteurs"
   ]
  },
  {
   "cell_type": "markdown",
   "metadata": {},
   "source": [
    "*Travail initié en 2014 dans le cadre d'une série de formations Python organisées par le réseau Devlog.  \n",
    "Auteurs principaux : Loic Gouarin & David Chamont. Relecteurs : Nicolas Can, Sekou Diakite, Christophe Halgand, Christophe Gengembre.*\n",
    "\n",
    "*Des exercices présentés ici ont été développés pour les sessions 2016. Auteurs principaux : Loic Gouarin & David Chamont. Contributeurs: Dmitry Khvorostyanov & Marc-Antoine Drouin.*\n"
   ]
  },
  {
   "cell_type": "markdown",
   "metadata": {},
   "source": [
    "### Mise en forme"
   ]
  },
  {
   "cell_type": "code",
   "execution_count": null,
   "metadata": {
    "collapsed": false
   },
   "outputs": [],
   "source": [
    "# execute this part to modify the css style\n",
    "from IPython.core.display import HTML\n",
    "def css_styling():\n",
    "    styles = open(\"../../styles/custom.css\", \"r\").read()\n",
    "    return HTML(styles)\n",
    "css_styling()"
   ]
  }
 ],
 "metadata": {
  "kernelspec": {
   "display_name": "Python 3",
   "language": "python",
   "name": "python3"
  },
  "language_info": {
   "codemirror_mode": {
    "name": "ipython",
    "version": 3
   },
   "file_extension": ".py",
   "mimetype": "text/x-python",
   "name": "python",
   "nbconvert_exporter": "python",
   "pygments_lexer": "ipython3",
   "version": "3.5.1"
  }
 },
 "nbformat": 4,
 "nbformat_minor": 0
}
