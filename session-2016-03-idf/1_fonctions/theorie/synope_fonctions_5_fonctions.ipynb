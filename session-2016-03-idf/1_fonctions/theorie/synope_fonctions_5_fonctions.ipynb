{
 "cells": [
  {
   "cell_type": "markdown",
   "metadata": {},
   "source": [
    "*Ce notebook est distribué par Devlog sous licence Creative Commons - Attribution - Pas d’Utilisation Commerciale - Partage dans les Mêmes Conditions. La description complète de la license est disponible à l'adresse web http://creativecommons.org/licenses/by-nc-sa/4.0/.*"
   ]
  },
  {
   "cell_type": "markdown",
   "metadata": {},
   "source": [
    "# Fonctions"
   ]
  },
  {
   "cell_type": "markdown",
   "metadata": {
    "slideshow": {
     "slide_type": "slide"
    }
   },
   "source": [
    "## Une fonction\n",
    "\n",
    "Une fonction représente un sous-programme dédié à une tâche particulière :\n",
    " - permet de découper un programme complexe en sous-tâches\n",
    " - réutiliser plusieurs fois une même séquence d'instructions sans la réécrire"
   ]
  },
  {
   "cell_type": "markdown",
   "metadata": {
    "slideshow": {
     "slide_type": "subslide"
    }
   },
   "source": [
    "Une fonction contient:\n",
    " - le mot clef **def**, un nom, '**(**', la liste des paramètres, '**)**' '**:**'\n",
    " - un bloc d'instructions (indenté).\n",
    "L'exécution d'une fonction se termine lorsque son bloc d'instructions se termine ou au premier **return**."
   ]
  },
  {
   "cell_type": "markdown",
   "metadata": {
    "slideshow": {
     "slide_type": "slide"
    }
   },
   "source": [
    "## Fonction simple sans paramètre"
   ]
  },
  {
   "cell_type": "code",
   "execution_count": null,
   "metadata": {
    "collapsed": false,
    "slideshow": {
     "slide_type": "fragment"
    }
   },
   "outputs": [],
   "source": [
    "#définition\n",
    "def maFonction():\n",
    "    pass\n",
    "# Cette fonction ne fait rien et ne produit aucun résultat"
   ]
  },
  {
   "cell_type": "code",
   "execution_count": null,
   "metadata": {
    "collapsed": false,
    "slideshow": {
     "slide_type": "fragment"
    }
   },
   "outputs": [],
   "source": [
    "#Appel\n",
    "maFonction()"
   ]
  },
  {
   "cell_type": "code",
   "execution_count": null,
   "metadata": {
    "collapsed": false,
    "slideshow": {
     "slide_type": "fragment"
    }
   },
   "outputs": [],
   "source": [
    "#Appel et affichage du résultat\n",
    "print (maFonction())"
   ]
  },
  {
   "cell_type": "markdown",
   "metadata": {
    "slideshow": {
     "slide_type": "slide"
    }
   },
   "source": [
    "## Fonction simple avec paramètres"
   ]
  },
  {
   "cell_type": "code",
   "execution_count": null,
   "metadata": {
    "collapsed": false,
    "slideshow": {
     "slide_type": "fragment"
    }
   },
   "outputs": [],
   "source": [
    "#définition\n",
    "def maFonction(a, b):\n",
    "    pass\n",
    "# Cette fonction ne fait rien et ne produit aucun résultat"
   ]
  },
  {
   "cell_type": "markdown",
   "metadata": {
    "slideshow": {
     "slide_type": "slide"
    }
   },
   "source": [
    "## Code de la fonction"
   ]
  },
  {
   "cell_type": "code",
   "execution_count": null,
   "metadata": {
    "collapsed": false,
    "slideshow": {
     "slide_type": "fragment"
    }
   },
   "outputs": [],
   "source": [
    "#Ajoutons un corps de fonction\n",
    "def maFonction():\n",
    "    print(\"Dans ma fonction\")\n",
    "\n",
    "#Appel à maFonction\n",
    "maFonction()"
   ]
  },
  {
   "cell_type": "code",
   "execution_count": null,
   "metadata": {
    "collapsed": false,
    "slideshow": {
     "slide_type": "fragment"
    }
   },
   "outputs": [],
   "source": [
    "#Appel et affichage du résultat\n",
    "print (maFonction())"
   ]
  },
  {
   "cell_type": "markdown",
   "metadata": {
    "slideshow": {
     "slide_type": "slide"
    }
   },
   "source": [
    "## Sortir d'une fonction\n",
    "\n",
    "On sort d'une fonction soit\n",
    "- parce que la fin du code est atteinte\n",
    "- en utilisant le mot clef **return**"
   ]
  },
  {
   "cell_type": "code",
   "execution_count": null,
   "metadata": {
    "collapsed": false,
    "slideshow": {
     "slide_type": "fragment"
    }
   },
   "outputs": [],
   "source": [
    "def maFonction():\n",
    "    print(\"Dans ma fonction\")\n",
    "    return\n",
    "    print(\"Toujours dans ma fonction\")\n",
    "\n",
    "print(maFonction())"
   ]
  },
  {
   "cell_type": "markdown",
   "metadata": {
    "slideshow": {
     "slide_type": "slide"
    }
   },
   "source": [
    "## Passage d'arguments\n",
    "\n",
    "Une partie de programme qui appelle une fonction peut lui communiquer des arguments."
   ]
  },
  {
   "cell_type": "code",
   "execution_count": null,
   "metadata": {
    "collapsed": false,
    "slideshow": {
     "slide_type": "fragment"
    }
   },
   "outputs": [],
   "source": [
    "def maFonction(a, b):\n",
    "    print(\"coucou\", a, \"et\", b)\n",
    "\n",
    "maFonction(\"tata\", \"toto\")"
   ]
  },
  {
   "cell_type": "markdown",
   "metadata": {
    "slideshow": {
     "slide_type": "slide"
    }
   },
   "source": [
    "A son tour, la fonction peut communiquer à \"l'appelant\" un résultat."
   ]
  },
  {
   "cell_type": "code",
   "execution_count": null,
   "metadata": {
    "collapsed": false,
    "slideshow": {
     "slide_type": "fragment"
    }
   },
   "outputs": [],
   "source": [
    "def maFonction(a, b):\n",
    "    resultat = int(a * b)\n",
    "    print(a, \"x\", b, \"=>\", resultat)\n",
    "    return resultat\n",
    "\n",
    "val = maFonction(10, 4.2)\n",
    "print(\"Le résultat de maFonction(10, 4.2) est:\", val)"
   ]
  },
  {
   "cell_type": "markdown",
   "metadata": {},
   "source": [
    "Pour initialiser ses arguments, Python réalise une affectation, et les variables représentant ces arguments pointent donc sur les valeurs qu'on lui a passé lors de l'appel, ou vers les valeurs pointées par les variables qu'on lui a passé lors de l'appel. **Il n'y a pas duplication des valeurs**.\n",
    "\n",
    "Si on réalise une nouvelle affectation à cet argument dans le corps de la fonction, l'ancienne valeur n'est pas affectée. Et les éventuelles variables extérieures qui pointaient cette valeur ne voient pas de modification."
   ]
  },
  {
   "cell_type": "code",
   "execution_count": null,
   "metadata": {
    "collapsed": false,
    "slideshow": {
     "slide_type": "fragment"
    }
   },
   "outputs": [],
   "source": [
    "def maFonction(a, b):\n",
    "    print(\"{} => 5, \\\"{}\\\" => \\\"tata\\\"\".format(a, b))\n",
    "    a = 5\n",
    "    b = \"tata\"\n",
    "\n",
    "a = 10\n",
    "b = \"toto\"\n",
    "print(\"a={}, b={}\".format(a, b))\n",
    "maFonction(a, b)\n",
    "print(\"a={}, b={}\".format(a, b))\n"
   ]
  },
  {
   "cell_type": "markdown",
   "metadata": {
    "slideshow": {
     "slide_type": "slide"
    }
   },
   "source": [
    "Par contre, si on réalise une modification interne de la valeur pointée, comme changer un élément d'une collection modifiable, alors les variables extérieures qui pointaient cette collection voient le changement."
   ]
  },
  {
   "cell_type": "code",
   "execution_count": null,
   "metadata": {
    "collapsed": false,
    "slideshow": {
     "slide_type": "fragment"
    }
   },
   "outputs": [],
   "source": [
    "def maFonction(a, b):\n",
    "    print(\"{0} => 5, \\\"{1}\\\" => \\\"tata\\\"\".format(a[0], \"\".join(b)))\n",
    "    a[0] = 5\n",
    "    b[1] = \"a\"\n",
    "    b[3] = \"a\"\n",
    "\n",
    "a = [10]\n",
    "b = list(\"toto\")\n",
    "print(\"a=\", a[0], \",\", \"b=\", \"\".join(b))\n",
    "maFonction(a, b)\n",
    "print(\"a=\", a[0], \",\", \"b=\", \"\".join(b))"
   ]
  },
  {
   "cell_type": "markdown",
   "metadata": {
    "slideshow": {
     "slide_type": "slide"
    }
   },
   "source": [
    "Pour communiquer les changements au programme principal, on peut aussi retourner la ou les valeurs transformée(s)."
   ]
  },
  {
   "cell_type": "code",
   "execution_count": null,
   "metadata": {
    "collapsed": false,
    "slideshow": {
     "slide_type": "fragment"
    }
   },
   "outputs": [],
   "source": [
    "def maFonction(a, b):\n",
    "    print(\"{0} => 5, \\\"{1}\\\" => \\\"tata\\\"\".format(a, b))\n",
    "    a = 5\n",
    "    b = \"tata\"\n",
    "    return a, b\n",
    "\n",
    "a = 10\n",
    "b = \"toto\"\n",
    "print(\"a={}, b={}\".format(a, b))\n",
    "a, b = maFonction(a, b)\n",
    "print(\"a={}, b={}\".format(a, b))"
   ]
  },
  {
   "cell_type": "markdown",
   "metadata": {
    "slideshow": {
     "slide_type": "slide"
    }
   },
   "source": [
    "## Visibilité des variables\n",
    "\n",
    " - Chaque fonction crée sa propre pile;\n",
    " - Une fonction a accès à ses variables locales et aux variables globales;\n",
    " - Si une variable locale a le même nom qu'une variable globale, c'est elle qui l'emporte;\n",
    " - Pour changer la valeur d'une variable globale dans une fonction, il faut utiliser le mot clef **global**."
   ]
  },
  {
   "cell_type": "code",
   "execution_count": null,
   "metadata": {
    "collapsed": false,
    "slideshow": {
     "slide_type": "slide"
    }
   },
   "outputs": [],
   "source": [
    "######################################################\n",
    "#### Une fonction voit l'espace mémoire \"global\", ####\n",
    "####                      mais ne le modifie pas. ####\n",
    "######################################################\n",
    "a, b, c = 5, 6, 7\n",
    "def maFonction(c):\n",
    "    b = 7\n",
    "    print(\"a={0}, b={1}, c={2}\".format(a, b, c))\n",
    "maFonction(\"$\")\n",
    "print(\"a={0}, b={1}, c={2}\".format(a, b, c))"
   ]
  },
  {
   "cell_type": "code",
   "execution_count": null,
   "metadata": {
    "collapsed": false,
    "slideshow": {
     "slide_type": "slide"
    }
   },
   "outputs": [],
   "source": [
    "###############################################\n",
    "#### Partage de l'espace mémoire \"global\"  ####\n",
    "###############################################\n",
    "a, b, c = 5, 6, 7\n",
    "def maFonction(c):\n",
    "    global b\n",
    "    a, b = 8, 7\n",
    "    print(\"a={0}, b={1}, c={2}\".format(a, b, c))\n",
    "maFonction(\"$\")\n",
    "print(\"a={0}, b={1}, c={2}\".format(a, b, c))\n"
   ]
  },
  {
   "cell_type": "code",
   "execution_count": null,
   "metadata": {
    "collapsed": false,
    "slideshow": {
     "slide_type": "slide"
    }
   },
   "outputs": [],
   "source": [
    "##########################################\n",
    "#### Imbrication des espaces mémoires ####\n",
    "##########################################\n",
    "a, b, c = 5, 6, 7\n",
    "def maFonction(c):\n",
    "    global b\n",
    "    a, b = 8, 7\n",
    "    print(\" * a={0}, b={1}, c={2}\".format(a, b, c))\n",
    "    def maSousFonction():\n",
    "        global a\n",
    "        b, a = 32, 0\n",
    "        print(\" *** a={0}, b={1}, c={2}\".format(a, b, c))\n",
    "    maSousFonction()\n",
    "    print(\" * a={0}, b={1}, c={2}\".format(a, b, c))\n",
    "\n",
    "maFonction(\"$\")\n",
    "print(\"a={0}, b={1}, c={2}\".format(a, b, c))\n"
   ]
  },
  {
   "cell_type": "markdown",
   "metadata": {},
   "source": [
    "Pour récapituler :\n",
    "* en cas d'accès en lecture, une variable est recherchée selon la règle LEGB : dans la fonction Locale, puis dans les fonctions Englobantes, puis au niveau Global, et enfin dans le module Builtin ou réside les variables prédéfinis.\n",
    "* en cas d'affectation à une variable, une varibale locale est créé dans la fonction courante, à moins qu'une instruction préalable `global` est indiqué qu'on voulait modifier la variable globale de même nom.\n",
    "* en cas de modification interne, on recherche d'abord la variable selon la règle LEGB, puis on modife son ou ses éléments internes."
   ]
  },
  {
   "cell_type": "markdown",
   "metadata": {
    "slideshow": {
     "slide_type": "slide"
    }
   },
   "source": [
    "## Valeurs par défaut\n",
    " \n",
    "Il est possible de donner une valeur par défaut aux arguments des fonctions.\n"
   ]
  },
  {
   "cell_type": "code",
   "execution_count": null,
   "metadata": {
    "collapsed": false,
    "slideshow": {
     "slide_type": "fragment"
    }
   },
   "outputs": [],
   "source": [
    "def maFonction(a, b = 5, c = 6):\n",
    "    print(a, b, c)\n",
    "\n",
    "maFonction(1)\n",
    "maFonction(1, 2)\n",
    "maFonction(1, 2, 3)"
   ]
  },
  {
   "cell_type": "markdown",
   "metadata": {
    "slideshow": {
     "slide_type": "slide"
    }
   },
   "source": [
    "## Appel d'une fonction avec les arguments \"nommés\"\n",
    "\n",
    "Pour plus de lisibilité, il est également possible de nommer les arguments lors d'un appel de fonction."
   ]
  },
  {
   "cell_type": "code",
   "execution_count": null,
   "metadata": {
    "collapsed": false,
    "slideshow": {
     "slide_type": "fragment"
    }
   },
   "outputs": [],
   "source": [
    "def maFonction(a, b, c):\n",
    "    print(a, b, c)\n",
    "\n",
    "maFonction(c=\"a\", a=\"b\", b=\"c\")"
   ]
  },
  {
   "cell_type": "markdown",
   "metadata": {
    "slideshow": {
     "slide_type": "fragment"
    }
   },
   "source": [
    "Cela permet également de changer l'ordre des arguments de la fonction."
   ]
  },
  {
   "cell_type": "markdown",
   "metadata": {
    "slideshow": {
     "slide_type": "slide"
    }
   },
   "source": [
    "## Nombre variable d'arguments\n",
    "\n",
    "Il est souvent utile pour une fonction d'accepter un nombre quelconque d'arguments."
   ]
  },
  {
   "cell_type": "code",
   "execution_count": null,
   "metadata": {
    "collapsed": false,
    "slideshow": {
     "slide_type": "fragment"
    }
   },
   "outputs": [],
   "source": [
    "def unNouveauNomDeFonction(*arguments):\n",
    "    print(\"Liste des arguments\")\n",
    "    for arg in arguments:\n",
    "        print(arg)\n",
    "\n",
    "unNouveauNomDeFonction(\"abcd\", 0, 2, [3, 4], {\"a\": 5, \"b\": 6})"
   ]
  },
  {
   "cell_type": "markdown",
   "metadata": {
    "collapsed": false,
    "slideshow": {
     "slide_type": "slide"
    }
   },
   "source": [
    " Il est possible de passer une collection (liste, tuple, dictionnaire)"
   ]
  },
  {
   "cell_type": "code",
   "execution_count": null,
   "metadata": {
    "collapsed": false,
    "slideshow": {
     "slide_type": "fragment"
    }
   },
   "outputs": [],
   "source": [
    "unNouveauNomDeFonction(*\"abcd\")\n",
    "unNouveauNomDeFonction(*[1, 2, 3, 4])\n",
    "unNouveauNomDeFonction(*'a', 12, 'c')\n",
    "unNouveauNomDeFonction(*{\"a\": 5, \"b\": 6})"
   ]
  },
  {
   "cell_type": "markdown",
   "metadata": {},
   "source": [
    "Y compris pour une fonction à nombre fixe d'arguments. On parle alors d' \"unpacking\"."
   ]
  },
  {
   "cell_type": "code",
   "execution_count": null,
   "metadata": {
    "collapsed": false
   },
   "outputs": [],
   "source": [
    "def maFonction(a, b, c):\n",
    "    print(a, b, c)\n",
    "\n",
    "args = 'a', 'b', 'c'\n",
    "print(args)\n",
    "maFonction(*args)"
   ]
  },
  {
   "cell_type": "markdown",
   "metadata": {
    "slideshow": {
     "slide_type": "slide"
    }
   },
   "source": [
    "## Nombre variable d'arguments nommés"
   ]
  },
  {
   "cell_type": "code",
   "execution_count": null,
   "metadata": {
    "collapsed": false,
    "slideshow": {
     "slide_type": "fragment"
    }
   },
   "outputs": [],
   "source": [
    "def unNouveauNomDeFonction(**arguments):\n",
    "    print(arguments)\n",
    "    for clef in arguments:\n",
    "        print(\"{0}:{1}\".format(clef, arguments[clef]),)\n",
    "    print(\"\")\n",
    "\n",
    "unNouveauNomDeFonction(a=5, b=\"6\")"
   ]
  },
  {
   "cell_type": "markdown",
   "metadata": {
    "slideshow": {
     "slide_type": "slide"
    }
   },
   "source": [
    " Il est possible de passer un dictionnaire (unpacking)."
   ]
  },
  {
   "cell_type": "code",
   "execution_count": null,
   "metadata": {
    "collapsed": false,
    "slideshow": {
     "slide_type": "fragment"
    }
   },
   "outputs": [],
   "source": [
    "unNouveauNomDeFonction(**{\"a\": 9, \"b\": 16})"
   ]
  },
  {
   "cell_type": "markdown",
   "metadata": {},
   "source": [
    "## A propos des auteurs"
   ]
  },
  {
   "cell_type": "markdown",
   "metadata": {},
   "source": [
    "*Travail initié en 2014 dans le cadre d'une série de formations Python organisées par le réseau Devlog.  \n",
    "Auteurs principaux : Loic Gouarin & David Chamont. Relecteurs : Nicolas Can, Sekou Diakite, Christophe Halgand, Christophe Gengembre.*"
   ]
  },
  {
   "cell_type": "markdown",
   "metadata": {},
   "source": [
    "### Mise en forme"
   ]
  },
  {
   "cell_type": "code",
   "execution_count": null,
   "metadata": {
    "collapsed": false
   },
   "outputs": [],
   "source": [
    "# execute this part to modify the css style\n",
    "from IPython.core.display import HTML\n",
    "def css_styling():\n",
    "    styles = open(\"../../styles/custom.css\", \"r\").read()\n",
    "    return HTML(styles)\n",
    "css_styling()"
   ]
  }
 ],
 "metadata": {
  "kernelspec": {
   "display_name": "Python 3",
   "language": "python",
   "name": "python3"
  },
  "language_info": {
   "codemirror_mode": {
    "name": "ipython",
    "version": 3
   },
   "file_extension": ".py",
   "mimetype": "text/x-python",
   "name": "python",
   "nbconvert_exporter": "python",
   "pygments_lexer": "ipython3",
   "version": "3.4.3"
  }
 },
 "nbformat": 4,
 "nbformat_minor": 0
}
