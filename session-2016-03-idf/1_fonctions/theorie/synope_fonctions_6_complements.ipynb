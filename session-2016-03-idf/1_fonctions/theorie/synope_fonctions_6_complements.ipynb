{
 "cells": [
  {
   "cell_type": "markdown",
   "metadata": {},
   "source": [
    "*Ce notebook est distribué par Devlog sous licence Creative Commons - Attribution - Pas d’Utilisation Commerciale - Partage dans les Mêmes Conditions. La description complète de la license est disponible à l'adresse web http://creativecommons.org/licenses/by-nc-sa/4.0/.*"
   ]
  },
  {
   "cell_type": "markdown",
   "metadata": {},
   "source": [
    "# Compléments"
   ]
  },
  {
   "cell_type": "markdown",
   "metadata": {},
   "source": [
    "## Compréhensions de liste"
   ]
  },
  {
   "cell_type": "code",
   "execution_count": null,
   "metadata": {
    "collapsed": false
   },
   "outputs": [],
   "source": [
    "l = [ i**2 for i in range(100) if i%2==0 ]\n",
    "print(l)"
   ]
  },
  {
   "cell_type": "markdown",
   "metadata": {
    "slideshow": {
     "slide_type": "slide"
    }
   },
   "source": [
    "## Une fonction est une valeur comme une autre"
   ]
  },
  {
   "cell_type": "code",
   "execution_count": null,
   "metadata": {
    "collapsed": false,
    "slideshow": {
     "slide_type": "fragment"
    }
   },
   "outputs": [],
   "source": [
    "def fa(a):\n",
    "    return a ** 2\n",
    "\n",
    "maVar = fa\n",
    "print (maVar(5))"
   ]
  },
  {
   "cell_type": "code",
   "execution_count": null,
   "metadata": {
    "collapsed": false,
    "slideshow": {
     "slide_type": "fragment"
    }
   },
   "outputs": [],
   "source": [
    "def jAccepteUneFonction(f, v):\n",
    "    return f(v)\n",
    "\n",
    "print(jAccepteUneFonction(maVar, 6))\n",
    "print(jAccepteUneFonction(int, 6.48074069841))"
   ]
  },
  {
   "cell_type": "markdown",
   "metadata": {
    "slideshow": {
     "slide_type": "slide"
    }
   },
   "source": [
    "## Autre définition de fonctions : les *lambdas*"
   ]
  },
  {
   "cell_type": "code",
   "execution_count": null,
   "metadata": {
    "collapsed": false,
    "slideshow": {
     "slide_type": "fragment"
    }
   },
   "outputs": [],
   "source": [
    "maVar4 = lambda a : a * 2\n",
    "print(maVar4(21))"
   ]
  },
  {
   "cell_type": "markdown",
   "metadata": {
    "slideshow": {
     "slide_type": "slide"
    }
   },
   "source": [
    "## Les prédicats\n",
    "\n",
    "Un prédicat est une fonction qui retourne \"Vrai\" ou \"Faux\" en fonction de critères qui lui sont propres.\n",
    "Idéalement, la valeur \"Vrai\" ou \"Faux\" du prédicat ne doit dépendre que des arguments de celui-ci."
   ]
  },
  {
   "cell_type": "code",
   "execution_count": null,
   "metadata": {
    "collapsed": false,
    "slideshow": {
     "slide_type": "fragment"
    }
   },
   "outputs": [],
   "source": [
    "# Prédicat qui nous dit si la valeur de l'entier a est plus grande que 10\n",
    "def auDessusDe10(a):\n",
    "    return a >= 10\n",
    "\n",
    "print(auDessusDe10(5),auDessusDe10(11))"
   ]
  },
  {
   "cell_type": "markdown",
   "metadata": {
    "slideshow": {
     "slide_type": "slide"
    }
   },
   "source": [
    "## Utilisation"
   ]
  },
  {
   "cell_type": "code",
   "execution_count": null,
   "metadata": {
    "collapsed": false,
    "slideshow": {
     "slide_type": "fragment"
    }
   },
   "outputs": [],
   "source": [
    "# Prédicat qui nous dit si la valeur de l'entier a est plus grande que 10\n",
    "def auDessusDe10(a):\n",
    "    return a >= 10\n",
    "\n",
    "monTableau = [ 1764, 49, 25, 9, 0, -16, 25, -9, 4, 64 ]\n",
    "f = filter(auDessusDe10, monTableau)\n",
    "print(f)\n",
    "print(list(f))"
   ]
  },
  {
   "cell_type": "markdown",
   "metadata": {
    "slideshow": {
     "slide_type": "slide"
    }
   },
   "source": [
    "## Prédicats anonymes: les lambdas"
   ]
  },
  {
   "cell_type": "code",
   "execution_count": null,
   "metadata": {
    "collapsed": false,
    "slideshow": {
     "slide_type": "fragment"
    }
   },
   "outputs": [],
   "source": [
    "monTableau = [ 1764, 49, 25, 9, 0, -16, 25, -9, 4, 64 ]\n",
    "f=filter(lambda a : a < 0, monTableau)\n",
    "print(f)\n",
    "print(list(f))"
   ]
  },
  {
   "cell_type": "markdown",
   "metadata": {
    "slideshow": {
     "slide_type": "fragment"
    }
   },
   "source": [
    "Syntaxe:\n",
    "**lambda** arg0 [, arg1, [arg2, ...]] : _code_\n",
    "\n",
    "La dernière _expression_ de la section **_code_** de lambda correspond à la valeur retournée."
   ]
  },
  {
   "cell_type": "code",
   "execution_count": null,
   "metadata": {
    "collapsed": false,
    "slideshow": {
     "slide_type": "subslide"
    }
   },
   "outputs": [],
   "source": [
    "f = filter(lambda a : a < 0, monTableau)\n",
    "# est équivalent à\n",
    "def anon0(a):\n",
    "    return a < 0\n",
    "f2 = filter(anon0, monTableau)\n",
    "\n",
    "print(list(f))\n",
    "print(list(f2))"
   ]
  },
  {
   "cell_type": "markdown",
   "metadata": {
    "slideshow": {
     "slide_type": "slide"
    }
   },
   "source": [
    "## Le traitement de données par fonctions\n",
    "\n",
    "Il existe _3_ traitements standards sur les données de type \"**sequences**\" en python :\n",
    "- filter : qui, comme nous l'avons vu, permet de _filtrer_ nos données selon un critère exprimé par un prédicat :\n",
    "    - len(data) >= len(filter(predicat, data))\n"
   ]
  },
  {
   "cell_type": "markdown",
   "metadata": {
    "slideshow": {
     "slide_type": "subslide"
    }
   },
   "source": [
    "- map : qui applique un traitement à chaque élément :\n",
    "    - len(data) == len(map(lambda, data))\n",
    "- functools.reduce : qui fusionne les éléments grâce à un opérateur :\n",
    "    - 1 == len(functools.reduce(lambda, data))"
   ]
  },
  {
   "cell_type": "markdown",
   "metadata": {
    "slideshow": {
     "slide_type": "slide"
    }
   },
   "source": [
    "## map"
   ]
  },
  {
   "cell_type": "code",
   "execution_count": null,
   "metadata": {
    "collapsed": false,
    "slideshow": {
     "slide_type": "fragment"
    }
   },
   "outputs": [],
   "source": [
    "import math\n",
    "monTableau = [ 1764, 49, 25, 9, 0, -16, 25, -9, 4, 64 ]\n",
    "m = map(lambda a : (float('nan') if (a < 0) else int(math.sqrt(a))), monTableau)\n",
    "print(list(m))"
   ]
  },
  {
   "cell_type": "markdown",
   "metadata": {
    "slideshow": {
     "slide_type": "slide"
    }
   },
   "source": [
    "## reduce"
   ]
  },
  {
   "cell_type": "code",
   "execution_count": null,
   "metadata": {
    "collapsed": false,
    "slideshow": {
     "slide_type": "fragment"
    }
   },
   "outputs": [],
   "source": [
    "import functools\n",
    "monTableau = [ 1764, 49, 25, 9 ]\n",
    "r=functools.reduce(lambda a, b : a + b, monTableau)\n",
    "print(r)"
   ]
  },
  {
   "cell_type": "code",
   "execution_count": null,
   "metadata": {
    "collapsed": false,
    "slideshow": {
     "slide_type": "fragment"
    }
   },
   "outputs": [],
   "source": [
    "import functools\n",
    "\n",
    "def add(a, b):\n",
    "    print(\" - {} + {}\".format(a, b))\n",
    "    return a + b\n",
    "\n",
    "print(functools.reduce(add, monTableau))"
   ]
  },
  {
   "cell_type": "markdown",
   "metadata": {
    "slideshow": {
     "slide_type": "subslide"
    }
   },
   "source": [
    "<center>\n",
    "![Illustration reduce](./img/fonctions_reduce.png \"Illustration reduce\")\n",
    "</center>"
   ]
  },
  {
   "cell_type": "markdown",
   "metadata": {},
   "source": [
    "## A propos des auteurs"
   ]
  },
  {
   "cell_type": "markdown",
   "metadata": {},
   "source": [
    "*Travail initié en 2014 dans le cadre d'une série de formations Python organisées par le réseau Devlog.  \n",
    "Auteurs principaux : Loic Gouarin & David Chamont. Relecteurs : Nicolas Can, Sekou Diakite, Christophe Halgand, Christophe Gengembre.*"
   ]
  },
  {
   "cell_type": "markdown",
   "metadata": {},
   "source": [
    "### Mise en forme"
   ]
  },
  {
   "cell_type": "code",
   "execution_count": null,
   "metadata": {
    "collapsed": false
   },
   "outputs": [],
   "source": [
    "# execute this part to modify the css style\n",
    "from IPython.core.display import HTML\n",
    "def css_styling():\n",
    "    styles = open(\"../../styles/custom.css\", \"r\").read()\n",
    "    return HTML(styles)\n",
    "css_styling()"
   ]
  }
 ],
 "metadata": {
  "kernelspec": {
   "display_name": "Python 3",
   "language": "python",
   "name": "python3"
  },
  "language_info": {
   "codemirror_mode": {
    "name": "ipython",
    "version": 3
   },
   "file_extension": ".py",
   "mimetype": "text/x-python",
   "name": "python",
   "nbconvert_exporter": "python",
   "pygments_lexer": "ipython3",
   "version": "3.4.3"
  }
 },
 "nbformat": 4,
 "nbformat_minor": 0
}
