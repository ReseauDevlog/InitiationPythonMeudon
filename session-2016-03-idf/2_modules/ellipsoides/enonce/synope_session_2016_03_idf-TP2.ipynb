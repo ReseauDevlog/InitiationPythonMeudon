{
 "cells": [
  {
   "cell_type": "markdown",
   "metadata": {
    "slideshow": {
     "slide_type": "-"
    }
   },
   "source": [
    "*Ce notebook est distribué par Devlog sous licence Creative Commons - Attribution - Pas d’Utilisation Commerciale - Partage dans les Mêmes Conditions. La description complète de la license est disponible à l'adresse web http://creativecommons.org/licenses/by-nc-sa/4.0/.*"
   ]
  },
  {
   "cell_type": "markdown",
   "metadata": {
    "slideshow": {
     "slide_type": "slide"
    }
   },
   "source": [
    "# Ellipsoides - paquets et modules"
   ]
  },
  {
   "cell_type": "markdown",
   "metadata": {},
   "source": [
    "## Modules\n",
    "\n",
    "Créez les deux fichiers ci-dessous\n",
    "- *demo_superellipsoid.py*\n",
    "~~~python\n",
    "import superellipse as se2d\n",
    "import superellipsoid as se3d\n",
    "print(se2d.superellipse(10, 1, 1, 2))\n",
    "print(se3d.superellipsoid(10, 1, 1, 1, 2, 2))~~~\n",
    "- *demo_quaternion.py*\n",
    "~~~python\n",
    "import quaternion\n",
    "import math\n",
    "print(quaternion.rotate_using_complex(math.pi/4, [1, 0]))  \n",
    "print(quaternion.rotate_using_quaternion(math.pi/4, [0, 0, 1], [1, 0, 0]))\n",
    "~~~\n",
    "\n",
    "***\n",
    "#### Question 1\n",
    "Distribuez dans des fichiers *linspace.py*, *quaternion.py*, *superellipse.py*, *superellipsoid.py* et *utils.py* les fonctions crées dans les pratiques précédentes. Le fichier *utils.py* contiendra les fonctions $spe\\_cos$ et $spe\\_sin$. Faites en sorte que les programmes de démonstration ci-dessus s'exécutent correctement.\n",
    "***"
   ]
  },
  {
   "cell_type": "markdown",
   "metadata": {},
   "source": [
    "## Paquets\n",
    "\n",
    "Modifiez les deux fichiers de démonstration :\n",
    "- *demo_superellipsoid.py*\n",
    "~~~python\n",
    "import pySynope.superellipse as se2d\n",
    "import pySynope.superellipsoid as se3d\n",
    "print(se2d.superellipse(10, 1, 1, 2))\n",
    "print(se3d.superellipsoid(10, 1, 1, 1, 2, 2))~~~\n",
    "- *demo_quaternion.py*\n",
    "~~~python\n",
    "import pySynope.quaternion\n",
    "import math\n",
    "print(pySynope.quaternion.rotate_using_complex(math.pi/4, [1, 0]))  \n",
    "print(pySynope.quaternion.rotate_using_quaternion(math.pi/4, [0, 0, 1], [1, 0, 0]))\n",
    "~~~\n",
    "\n",
    "***\n",
    "#### Question 2\n",
    "Déplacez les fichiers appropriés dans un sous-répertoire *pySynope* afin que les démonstrations fonctionnent de nouveau.\n",
    "***\n",
    "\n",
    "***\n",
    "#### Question 3\n",
    "Déplacez les fichiers *superellipse.py*, *superellipsoid.py* dans un sous-répertoire *pySynope/ellipsoides*. Corrigez les fichiers appropriés et les démonstrations pour qu'elles fonctionnent de nouveau.\n",
    "***\n",
    "\n",
    "Modifiez encore les deux fichiers de démonstration :\n",
    "- *demo_superellipsoid.py*\n",
    "~~~python\n",
    "import pySynope\n",
    "print(pySynope.superellipse(10, 1, 1, 2))\n",
    "print(pySynope.superellipsoid(10, 1, 1, 1, 2, 2))~~~\n",
    "- *demo_quaternion.py*\n",
    "~~~python\n",
    "import pySynope\n",
    "import math\n",
    "print(pySynope.rotate_using_complex(math.pi/4, [1, 0]))  \n",
    "print(pySynope.rotate_using_quaternion(math.pi/4, [0, 0, 1], [1, 0, 0]))\n",
    "~~~\n",
    "\n",
    "***\n",
    "#### Question 4\n",
    "Modifiez les fichiers *__init__.py* afin que les démonstrations fonctionnent de nouveau.\n",
    "***\n",
    "\n"
   ]
  },
  {
   "cell_type": "markdown",
   "metadata": {},
   "source": [
    "## Distribution\n",
    "\n",
    "Ecrivez le fichier *setup.py* permettant d'installer *pySynope*. Il devra contenir au moins les champs:\n",
    "- name,\n",
    "- version,\n",
    "- author,\n",
    "- description,\n",
    "- packages.\n",
    "\n",
    "***\n",
    "#### Question 5\n",
    "Installez le package *pySynope*, déplacez les fichiers de démonstration dans un sous-répertoire *demos*, et vérifiez qu'ils fonctionnent toujours.\n",
    "***\n",
    "\n",
    "Au final, vos répertoires et vos fichiers devraient être proches de ceci :\n",
    "\n",
    "<img src=\"figures/synope_tree.png\" />\n"
   ]
  },
  {
   "cell_type": "markdown",
   "metadata": {},
   "source": [
    "### Mise en forme du notebook"
   ]
  },
  {
   "cell_type": "code",
   "execution_count": null,
   "metadata": {
    "collapsed": false,
    "scrolled": true
   },
   "outputs": [],
   "source": [
    "# execute this part to modify the css style\n",
    "from IPython.core.display import HTML\n",
    "def css_styling():\n",
    "    styles = open(\"../../../styles/custom.css\", \"r\").read()\n",
    "    return HTML(styles)\n",
    "css_styling()"
   ]
  }
 ],
 "metadata": {
  "kernelspec": {
   "display_name": "Python 3",
   "language": "python",
   "name": "python3"
  },
  "language_info": {
   "codemirror_mode": {
    "name": "ipython",
    "version": 3
   },
   "file_extension": ".py",
   "mimetype": "text/x-python",
   "name": "python",
   "nbconvert_exporter": "python",
   "pygments_lexer": "ipython3",
   "version": "3.4.3"
  }
 },
 "nbformat": 4,
 "nbformat_minor": 0
}
