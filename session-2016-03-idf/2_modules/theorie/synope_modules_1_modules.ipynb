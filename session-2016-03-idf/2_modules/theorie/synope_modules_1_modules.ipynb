{
 "cells": [
  {
   "cell_type": "markdown",
   "metadata": {
    "slideshow": {
     "slide_type": "slide"
    }
   },
   "source": [
    "# Les modules"
   ]
  },
  {
   "cell_type": "markdown",
   "metadata": {
    "slideshow": {
     "slide_type": "slide"
    }
   },
   "source": [
    "- Un module est un bloc de code réutilisable en python. Ce bloc de code peut-être importé par un autre bloc de code. Il existe plusieurs types de module : les modules Python, les modules d’extension et les packages.\n",
    "- Les modules Python sont comme leur nom l’indique écrit en python dans un fichier ayant comme extension **.py** (.pyc et/ou .pyo). Ils sont parfois appelés «pure module». Le nom du module est le nom du fichier (sans l'extension) accessible via la variable globale **`__name__`**.\n",
    "- Les modules d’extension sont des modules écrits en langage bas-niveau utilisable par Python : C/C++ pour Python ou Java pour Jython. Ces modules sont généralement contenus dans un seul fichier pré-compilé et chargeable dynamiquement comme par exemple un objet partagé (fichier .so) sous unix, une DLL sous windows ou une classe java. On parle également de modules «built-in», lorsqu’il s’agit de modules de la bibliothèque standard (les bibliothèques logicielles de base du langage distribuées avec l’interpréteur Python) écrit en C.\n",
    "- Un package est un module qui contient d’autres modules. Un package est généralement un répertoire contenant un fichier **`__init__.py`**.\n",
    "- Il existe un package particulier qui est le «root package». C’est la racine dans la hiérarchie des paquets. la grande majorité de la bibliothèque standard est dans le «root package». "
   ]
  },
  {
   "cell_type": "markdown",
   "metadata": {
    "slideshow": {
     "slide_type": "subslide"
    }
   },
   "source": [
    "Lancer votre éditeur de texte pour créer un fichier python appelé **fibo.py** dans le répertoire courant et contenant ce bout de code :"
   ]
  },
  {
   "cell_type": "code",
   "execution_count": null,
   "metadata": {
    "collapsed": false,
    "slideshow": {
     "slide_type": "subslide"
    }
   },
   "outputs": [],
   "source": [
    "%%file fibo.py\n",
    "#! /usr/bin/env python3\n",
    "# -*- coding: utf-8 -*-\n",
    "\"\"\"\n",
    "Module nombres de Fibonacci\n",
    "\"\"\"\n",
    "\n",
    "# Fibonacci numbers module\n",
    "\n",
    "def fib(n):    # write Fibonacci series up to n\n",
    "    a, b = 0, 1\n",
    "    while b < n:\n",
    "        print(b),\n",
    "        a, b = b, a + b\n",
    "\n",
    "def fib2(n): # returns Fibonacci series up to n\n",
    "    result = []\n",
    "    a, b = 0, 1\n",
    "    while b < n:\n",
    "        result.append(b)\n",
    "        a, b = b, a + b\n",
    "    return result\n"
   ]
  },
  {
   "cell_type": "markdown",
   "metadata": {
    "slideshow": {
     "slide_type": "subslide"
    }
   },
   "source": [
    "Une fois ce fichier créé, lancer l’interpréteur via la commande python et importer le module créé :\n",
    "```shell\n",
    ">>> import fibo\n",
    "```\n",
    "Une fois le module importé, vous pouvez accéder aux méthodes et variables via son nom.\n",
    "```shell\n",
    ">>> fibo.fib(1000)\n",
    "1 1 2 3 5 8 13 21 34 55 89 144 233 377 610 987\n",
    ">>> fibo.fib2(100)\n",
    "[1, 1, 2, 3, 5, 8, 13, 21, 34, 55, 89]\n",
    ">>> fibo.__name__\n",
    "'fibo'\n",
    "```"
   ]
  },
  {
   "cell_type": "markdown",
   "metadata": {
    "slideshow": {
     "slide_type": "subslide"
    }
   },
   "source": [
    "- Un module peut contenir aussi bien des déclarations (*statements*) que des définitions de fonctions.\n",
    "- Les déclarations sont destinées à initialiser le module.\n",
    "- Elles sont exécutées seulement lors du premier *import* du module (pour forcer le rechargement, il faut utiliser *reload()*)\n",
    "- Chaque module possède son propre espace de nommage (ou table de nommage) «privé» qui est global pour toutes les fonctions de ce même module. Les variables sont accessibles via la notation «nommodule.nomvariable» (comme pour une fonction)\n",
    "- Un module peut importer d’autres modules. Par convention, on place tous les imports au début du module.\n",
    "- L’instruction «import» crée un objet de type module contenant toutes les données et fonctions du module, et ajoute une variable désignant ce module au sein de l’espace de nommage du programme/module/interpréteur qui fait l’import. Il existe une variante qui permet d’importer directement dans la table de nommage un ou des éléments particuliers du module :\n",
    "```python\n",
    "from module import nom\n",
    "```\n",
    "- Par exemple :\n",
    "```shell\n",
    ">>> from fibo import fib, fib2\n",
    ">>> fib(500)\n",
    "1 1 2 3 5 8 13 21 34 55 89 144 233 377\n",
    "```\n",
    "_Dans cet exemple, fib et fib2 sont ajoutés dans la table de nommage locale. Fibo n’est pas défini.\n",
    "On peut aussi utiliser le symbole \\* qui va importer toute la table de nommage sauf ceux dont le nom commence par un tiret-bas_ *(underscore : _ )*. _Il conseillé d'éviter l'utilisation de l'instruction `import *` qui peut conduire à des problèmes avec la table de nommage si des éléments ont le même nom._"
   ]
  },
  {
   "cell_type": "markdown",
   "metadata": {
    "slideshow": {
     "slide_type": "slide"
    }
   },
   "source": [
    "## Exécution d’un module"
   ]
  },
  {
   "cell_type": "markdown",
   "metadata": {
    "slideshow": {
     "slide_type": "subslide"
    }
   },
   "source": [
    "Pour exécuter un module Python, on utilise cette commande :\n",
    "\n",
    "```shell\n",
    "$> python fibo.py <arguments\\>\n",
    "```\n",
    "\n",
    "Le code va être exécuté comme lors d’un import mais la valeur de la variable __name__ est alors égale à __main__.\n",
    "En ajoutant ce bout de code à la fin de votre module :\n",
    "\n",
    "```python\n",
    "if __name__ == \"__main__\":\n",
    "    import sys\n",
    "    fib(int(sys.argv[1]))\n",
    "```\n",
    "vous rendrez ce fichier utilisable comme un script ou comme un module.\n",
    "Dans la pratique cela permet de tester votre module :\n",
    "\n",
    "```shell\n",
    "$ python fibo.py 50\n",
    "1 1 2 3 5 8 13 21 34\n",
    "```\n",
    "\n",
    "Pour rappel, si le module est importé, le code du *main* ne sera pas exécuté :\n",
    "\n",
    "```python\n",
    ">>> import fibo\n",
    ">>>\n",
    "```\n",
    "\n",
    "Enfin, il est possible d’exécuter un module python comme un script Unix en ajoutant :\n",
    "\n",
    "```python\n",
    "#! /usr/bin/env python3\n",
    "```\n",
    "en début de fichier. Le module sera alors exécutable (à condition que les droits sur le fichier le permette après un \n",
    "*chmod u+x ./fibo.py* par exemple) via la commande\n",
    "\n",
    "```shell\n",
    "$> ./fibo.py <arguments>\n",
    "``` "
   ]
  },
  {
   "cell_type": "markdown",
   "metadata": {
    "slideshow": {
     "slide_type": "slide"
    }
   },
   "source": [
    "## Le «path»"
   ]
  },
  {
   "cell_type": "markdown",
   "metadata": {
    "slideshow": {
     "slide_type": "subslide"
    }
   },
   "source": [
    "Quand un module nommé **spam** est importé, l’interpreteur cherche en premier ce nom dans les modules intégrés. S’il ne le trouve pas, il va ensuite chercher un fichier nommé **spam.py** d’une liste de répertoires donnée par la variable **sys.path**.\n",
    "\n",
    "```python\n",
    ">>> import sys\n",
    ">>> sys.path\n",
    "['', '/usr/lib/python2.7', '/usr/lib/python2.7/plat-linux2', '/usr/lib/python2.7/lib-tk', '/usr/lib/python2.7/lib-old', '/usr/lib/python2.7/lib-dynload', '/usr/local/lib/python2.7/dist-packages', '/usr/lib/python2.7/dist-packages', '/usr/lib/python2.7/dist-packages/PIL', '/usr/lib/pymodules/python2.7']\n",
    "```\n",
    "**sys.path** contient le répertoire courant, le PYTHONPATH et les dépendances par défaut de l’installation python.\n"
   ]
  },
  {
   "cell_type": "markdown",
   "metadata": {
    "slideshow": {
     "slide_type": "slide"
    }
   },
   "source": [
    "## Les modules Compilés"
   ]
  },
  {
   "cell_type": "markdown",
   "metadata": {
    "slideshow": {
     "slide_type": "subslide"
    }
   },
   "source": [
    "* Pour accélerer le chargement des modules, une version compilée (ou *pré-compilée*) du module est présente dans le même répertoire. La compilation est faite automatiquement par Python si le module est plus récent que l’éventuelle compilation disponible. Cette dernière possède l’extension *.pyc*. \n",
    "* la compilation n’augmente pas la vitesse d’exécution mais la vitesse de chargement du module.\n",
    "* Il ne s’agit que d’une version convertie en «byte code» du module qui est donc indépendante de la plateforme d’exécution. Les modules *.pyc* peuvent donc être partagés (on parle de portabilité).\n"
   ]
  },
  {
   "cell_type": "markdown",
   "metadata": {
    "slideshow": {
     "slide_type": "slide"
    }
   },
   "source": [
    "## Les modules standards"
   ]
  },
  {
   "cell_type": "markdown",
   "metadata": {
    "slideshow": {
     "slide_type": "subslide"
    }
   },
   "source": [
    "* Python fournit toute une bibliothèque de modules standards décrite dans un document séparé : la *Python Library Reference*.\n",
    "* Certains modules sont intégrés à l’interpréteur (selon par exemple le système d’exploitation : winreg est fourni uniquement sur les systèmes Windows) et permettent un accès aux opérations qui ne font pas partie du noyau de la langue (**dir** ou **help** que nous allons voir après par exemple) pour améliorer l’efficacité ou un accès à des primitives du système d’exploitation (**sys** qui est fourni dans chaque interpréteur Python).\n",
    "\n",
    "```python\n",
    ">>> import sys\n",
    ">>> sys.ps1\n",
    "'>>> '\n",
    ">>> sys.path\n",
    "['', '/usr/lib/python2.7', '/usr/lib/python2.7/plat-linux2', '/usr/lib/python2.7/lib-tk', '/usr/lib/python2.7/lib-old', '/usr/lib/python2.7/lib-dynload', '/usr/local/lib/python2.7/dist-packages', '/usr/lib/python2.7/dist-packages', '/usr/lib/python2.7/dist-packages/PIL', '/usr/lib/pymodules/python2.7']\n",
    "```\n",
    "\n",
    "Vous pouvez faire un ***sys.path.append*** pour ajouter un répertoire de développement utilisable par différents modules."
   ]
  },
  {
   "cell_type": "markdown",
   "metadata": {
    "slideshow": {
     "slide_type": "slide"
    }
   },
   "source": [
    "## La fonction dir()"
   ]
  },
  {
   "cell_type": "markdown",
   "metadata": {
    "slideshow": {
     "slide_type": "subslide"
    }
   },
   "source": [
    "La fonction intégrée dir() renvoie la liste des noms définis par un module.\n",
    "\n",
    "```python\n",
    ">>> import fibo\n",
    ">>> dir(fibo)\n",
    "['__builtins__', '__doc__', '__file__', '__name__', '__package__', 'fib', 'fib2']\n",
    "```\n",
    "\n",
    "Sans argument, la fonction **dir()** liste les noms que l’on a actuellement définis :\n",
    "\n",
    "```python\n",
    ">>> import fibo\n",
    ">>> dir(fibo)\n",
    "['__builtins__', '__doc__', '__file__', '__name__', '__package__', 'fib', 'fib2']\n",
    ">>> a = [1, 2, 3, 4, 5]\n",
    ">>> import sys\n",
    ">>> dir()\n",
    "['__builtins__', '__doc__', '__name__', '__package__', 'a', 'fibo', 'sys']\n",
    "```\n",
    "\n",
    "- **`__builtins__`** est l’espace de noms contenant toutes les fonctions et variables intégrées\n",
    "- **`__doc__`** contient l’aide du module\n",
    "- **`__file__`** contient le nom du fichier Python contenant le module\n",
    "- **`__name__`** contient le nom du module\n",
    "- **`__package__`** contient le nom du package contenant le module\n",
    "\n",
    "```python\n",
    ">>> fibo.__doc__\n",
    "'\\nModule nombres de Fibonacci\\n'\n",
    ">>> print fibo\n",
    "<module 'fibo' from 'fibo.py'>\n",
    ">>> fibo.__file__\n",
    "'fibo.py'\n",
    ">>> fibo.__name__\n",
    "'fibo'\n",
    ">>> fibo.__package__\n",
    ">>> \n",
    "```\n"
   ]
  },
  {
   "cell_type": "markdown",
   "metadata": {
    "slideshow": {
     "slide_type": "slide"
    }
   },
   "source": [
    "## La fonction help()"
   ]
  },
  {
   "cell_type": "markdown",
   "metadata": {
    "slideshow": {
     "slide_type": "subslide"
    }
   },
   "source": [
    "* Aide en ligne Python.\n",
    "* la commande **help()** place l’interpréteur en mode d’aide\n",
    "\n",
    "```shell\n",
    ">>> help()\n",
    "\n",
    "Welcome to Python 2.7!  This is the online help utility.\n",
    "\n",
    "If this is your first time using Python, you should definitely check out\n",
    "the tutorial on the Internet at http://docs.python.org/2.7/tutorial/.\n",
    "\n",
    "Enter the name of any module, keyword, or topic to get help on writing\n",
    "Python programs and using Python modules.  To quit this help utility and\n",
    "return to the interpreter, just type \"quit\".\n",
    "\n",
    "To get a list of available modules, keywords, or topics, type \"modules\",\n",
    "\"keywords\", or \"topics\".  Each module also comes with a one-line summary\n",
    "of what it does; to list the modules whose summaries contain a given word\n",
    "such as \"spam\", type \"modules spam\".\n",
    "\n",
    "help> figo\n",
    "no Python documentation found for 'figo'\n",
    "```\n",
    "\n",
    "* **help(module)** renvoie l’aide du module\n",
    "\n",
    "```python\n",
    ">>> import fibo\n",
    ">>> help(fibo)\n",
    "Help on module fibo:\n",
    "\n",
    "NAME\n",
    "    fibo - # Fibonacci numbers module\n",
    "\n",
    "FILE\n",
    "    /root/fibo.py\n",
    "\n",
    "FUNCTIONS\n",
    "    fib(n)\n",
    "    \n",
    "    fib2(n)\n",
    "```\n",
    "\n",
    "* **help(module.methode)** renvoie l’aide de la méthode\n",
    "\n",
    "-----\n",
    "** Ajoutons de l’aide à notre module fibo : **"
   ]
  },
  {
   "cell_type": "code",
   "execution_count": null,
   "metadata": {
    "collapsed": false,
    "slideshow": {
     "slide_type": "subslide"
    }
   },
   "outputs": [],
   "source": [
    "%%file fibo_help.py\n",
    "#! /usr/bin/env python3\n",
    "# -*- coding: utf-8 -*-\n",
    "\n",
    "\"\"\"\n",
    "Fibonacci numbers module\n",
    "\"\"\"\n",
    "\n",
    "def fib(n):    # write Fibonacci series up to n\n",
    "    \"\"\"\n",
    "    do : write Fibonacci series up to n \n",
    "    parameters : n as number\n",
    "    return : void\n",
    "    \"\"\"\n",
    "    a, b = 0, 1\n",
    "    while b < n:\n",
    "        print b,\n",
    "        a, b = b, a + b\n",
    "\n",
    "def fib2(n):   # returns Fibonacci series up to n\n",
    "    result = []\n",
    "    a, b = 0, 1\n",
    "    while b < n:\n",
    "        result.append(b)\n",
    "        a, b = b, a + b\n",
    "    return result"
   ]
  },
  {
   "cell_type": "markdown",
   "metadata": {
    "slideshow": {
     "slide_type": "subslide"
    }
   },
   "source": [
    "** Voici le résultat :**\n",
    "\n",
    "```python\n",
    ">>> reload(fibo)\n",
    "<module 'fibo' from 'fibo.py'>\n",
    ">>> help(fibo)\n",
    "Help on module fibo:\n",
    "\n",
    "NAME\n",
    "    fibo - Fibonacci numbers module\n",
    "\n",
    "FILE\n",
    "    /root/fibo.py\n",
    "\n",
    "FUNCTIONS\n",
    "    fib(n)\n",
    "        do : writes Fibonacci series up to n \n",
    "        parameters : n as number\n",
    "        return : void\n",
    "    \n",
    "    fib2(n)\n",
    "```"
   ]
  },
  {
   "cell_type": "markdown",
   "metadata": {},
   "source": [
    "## A propos des auteurs\n",
    "\n",
    "*Travail initié en 2014 dans le cadre d'une série de formations Python organisées par le réseau Devlog.  \n",
    "Auteur principal : . \n",
    "Contributions de : Christophe Gengembre.\n",
    "Relecteurs : Nicolas Can, Sekou Diakite, Christophe Halgand, Loic Gouarin, David Chamont.*"
   ]
  },
  {
   "cell_type": "markdown",
   "metadata": {},
   "source": [
    "### Mise en forme"
   ]
  },
  {
   "cell_type": "code",
   "execution_count": null,
   "metadata": {
    "collapsed": false
   },
   "outputs": [],
   "source": [
    "# execute this part to modify the css style\n",
    "from IPython.core.display import HTML\n",
    "def css_styling():\n",
    "    styles = open(\"../../styles/custom.css\", \"r\").read()\n",
    "    return HTML(styles)\n",
    "css_styling()"
   ]
  }
 ],
 "metadata": {
  "kernelspec": {
   "display_name": "Python 3",
   "language": "python",
   "name": "python3"
  },
  "language_info": {
   "codemirror_mode": {
    "name": "ipython",
    "version": 3
   },
   "file_extension": ".py",
   "mimetype": "text/x-python",
   "name": "python",
   "nbconvert_exporter": "python",
   "pygments_lexer": "ipython3",
   "version": "3.4.3"
  }
 },
 "nbformat": 4,
 "nbformat_minor": 0
}
