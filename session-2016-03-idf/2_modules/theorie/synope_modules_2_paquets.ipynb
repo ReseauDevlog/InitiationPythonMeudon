{
 "cells": [
  {
   "cell_type": "markdown",
   "metadata": {
    "slideshow": {
     "slide_type": "slide"
    }
   },
   "source": [
    "# Les paquets"
   ]
  },
  {
   "cell_type": "markdown",
   "metadata": {
    "slideshow": {
     "slide_type": "subslide"
    }
   },
   "source": [
    "\n",
    "Les paquets python sont des espaces de noms python pouvant contenir d'autres paquets et modules.\n",
    "Concrètement c'est une arborescence de repertoires devant respecter certaines règles : \n",
    "\n",
    "* Chaque paquets est un repertoire qui doit contenir un fichier python spécial nommé ```__init__.py```. Sans ce fichier, le repertoire ne sera pas reconu comme un paquets python.\n",
    "* Le fichier ```__init__.py``` peut être vide ou contenir du code d'initialisation. On peut ici en particulier instancier la variable ```__all__```.\n",
    "* La variable ```__all__``` permet de selectionner ce qui est visible à l'utilisateur quand il utilise le paquets.\n",
    "\n",
    "Supposons que l'on veuille écrire un paquets de traitement de fichiers text. Il existe un grand nombre de formats (.txt, .xml, .csv, .json, *etc*) et vous pouvez avoir un grand nombre d’opération de traitement à effectuer (compression, exportation, *etc*). Voici une structure possible pour ce projet :\n",
    "\n",
    "```python\n",
    "traitement/                          Racine du paquet\n",
    "      __init__.py                    Initialise le paquet traitement\n",
    "      formats/                       Sous-paquet pour les formats de fichiers\n",
    "              __init__.py\n",
    "              csv.py\n",
    "              json.py\n",
    "              txt.py\n",
    "              xml.py\n",
    "              …\n",
    "      compression/                   Sous-paquet pour la compression\n",
    "              __init__.py\n",
    "              zip.py\n",
    "              tar.py\n",
    "              …\n",
    "      exportation/                   Sous-paquet pour l’exportation\n",
    "              __init__.py\n",
    "              pdf.py\n",
    "              html.py\n",
    "              …\n",
    "```\n",
    "\n",
    "## Utilisation des paquets : \n",
    "\n",
    "\n",
    "Pour nommer un module **B** contenu dans un paquet **A**, on pourra utiliser le \"dotted module names\" (nom de modules avec des point) : On ecrira **A.B**. Par exemple, pour appeler le module **zip** dans l'exemple précedent, on ecrira : **traitement.compression.zip**. On suit simplement le chemin vers le fichier **zip.py**.\n",
    "\n",
    "Lors d'un import, pour trouver le paquet, python cherche parmis les repertoires indiqués par la variable **path** du module **sys** (liste de chaines de caractères où chaque chaine est un chemin absolut vers un repertoire du système).  \n",
    "\n",
    "Un paquet ou un module ne peut être utilisé que s'il est importé.\n",
    "Pour importer quelque-chose, on utilise toujours le mot-clé **import**. On l'utilisera parfois associé au mot clé **from**.\n",
    "\n",
    "### Import avec le mot-clé **import** seul :\n",
    "\n",
    "La syntaxe est la suivante : \n",
    "\n",
    "```Python\n",
    "    import <dotted name>\n",
    "```\n",
    "\n",
    "Cette syntaxe permet d'importer un paquet ou un module. Par exemple pour importer le paquet **compression** de l'exemple précédent, on ecrira :\n",
    "\n",
    "```Python\n",
    "    >>> import traitement.compression\n",
    "    >>> traitement.compression.__file__\n",
    "    'traitement/compression/__init__.py'\n",
    "```\n",
    "\n",
    "Pour impoter le module **html**, on ecrira :\n",
    "\n",
    "```Python\n",
    "    >>> import traitement.exportation.html\n",
    "    >>> traitement.exportation.html.__file__\n",
    "    'traitement/exportation/html.py'\n",
    "```\n",
    "\n",
    "La commande ```import traitement.exportation.html``` charge le module **traitement.exportation.html**. Pour l'utiliser, il devra être référencé par son nom complet tel qu'importé :\n",
    "\n",
    "```Python\n",
    "    >>> traitement.exportation.html.write('file.html')\n",
    "```\n",
    "\n",
    "### Import avec les mot-clé **import** et **from** :\n",
    "\n",
    "* La syntaxe est la suivante : \n",
    "\n",
    "```Python\n",
    "    from <dotted name> import <item>[,<item>]* | *\n",
    "```\n",
    "\n",
    "* Ici ```<dotted name>``` peut être un paquet ou un module. Et ```<item>``` peut être un sous-paquet, un module, ou encore une classe, une fonction ou une variable. \n",
    "\n",
    "* La partie ```[,<item>]*``` indique que l'on peut importer au besoin plusieurs items du package.\n",
    "\n",
    "* Pour importer le module **html**, on pourra ecrire :\n",
    "\n",
    "```Python\n",
    "    from traitement.exportation import html\n",
    "```\n",
    "\n",
    "* Cette commande charge le module **html** et le rend disponible sans le prefixe du paquet. La fonction **write** est alors utilisable de cette façon :\n",
    "\n",
    "```Python\n",
    "    >>> html.write('file.html')\n",
    "```\n",
    "\n",
    "* Par exemple, si on a besoin seulement de la fonction **write**, on peut la charger directement :\n",
    "\n",
    "```Python\n",
    "    >>> from traitement.exportation.html import write\n",
    "```\n",
    "\n",
    "* Cette dernière commande charge le module **html** mais rend la fonction **write ** directement disponible :\n",
    "\n",
    "```Python\n",
    "    >>> write('file.html')\n",
    "```\n",
    "\n",
    "### Imports relatifs\n",
    "\n",
    "Au sein d'un même paquet, Python3 a introduit la notion d'imports relatifs.\n",
    "\n",
    "Par exemple, le module **zip** peut avoir besoin du module **pdf** ou d'autres items du paquet traitement. On poura alors ecrire dans le module ```zip.py``` :\n",
    "```python\n",
    "    from . import tar\n",
    "    from .. import formats\n",
    "```\n",
    "\n",
    "Supposons qu'il existe un autre module **pdf** qui se trouve dans un dossier dont le chemin présent dans le ```sys.path```.\n",
    "Dans le module zip on pourra ecrire :\n",
    "\n",
    "```python\n",
    "   import pdf # import le module pdf indiqué par le sys.path\n",
    "```\n",
    "ou bien :\n",
    "```python\n",
    "   from ..exportation import pdf # import du module pdf de notre package traitement\n",
    "```\n",
    "\n",
    "### Mot clé as\n",
    "\n",
    "Toutes instruction d'import peut se terminer par ```as <name>```. Par exemple :\n",
    "```python\n",
    "    >>> import traitement.exportation.html as html\n",
    "    >>> html.read(\"nom.html\") # plus court que traitement.exportation.html.read(\"nom.html\") \n",
    "```\n",
    "\n",
    "### Petite mise en garde\n",
    "\n",
    "L’instruction `from package import *` est déconseillée. Cette instruction va lancer le parcours des modules du paquet et faire toutes les importations. Cela peut prendre donc un certain temps et l’importation des modules peut générer des conflits dans la table de nommage. L’auteur du paquet peut fournir une liste explicite des modules à importer grâce à la variable `__all__` dans le fichier `__init__.py` du paquet.\n",
    "\n",
    "```python\n",
    "__all__ = [\"csv\", \"json\", \"txt\", \"xml\"]\n",
    "```"
   ]
  },
  {
   "cell_type": "markdown",
   "metadata": {
    "collapsed": false
   },
   "source": [
    "## A propos des auteurs\n",
    "\n",
    "*Travail initié en 2014 dans le cadre d'une série de formations Python organisées par le réseau Devlog.  \n",
    "Auteur principal : . \n",
    "Contributions de : Christophe Gengembre.\n",
    "Relecteurs : Nicolas Can, Sekou Diakite, Christophe Halgand, Loic Gouarin, David Chamont.*"
   ]
  },
  {
   "cell_type": "markdown",
   "metadata": {},
   "source": [
    "### Mise en forme"
   ]
  },
  {
   "cell_type": "code",
   "execution_count": null,
   "metadata": {
    "collapsed": false
   },
   "outputs": [],
   "source": [
    "# execute this part to modify the css style\n",
    "from IPython.core.display import HTML\n",
    "def css_styling():\n",
    "    styles = open(\"../../styles/custom.css\", \"r\").read()\n",
    "    return HTML(styles)\n",
    "css_styling()"
   ]
  }
 ],
 "metadata": {
  "kernelspec": {
   "display_name": "Python 3",
   "language": "python",
   "name": "python3"
  },
  "language_info": {
   "codemirror_mode": {
    "name": "ipython",
    "version": 3
   },
   "file_extension": ".py",
   "mimetype": "text/x-python",
   "name": "python",
   "nbconvert_exporter": "python",
   "pygments_lexer": "ipython3",
   "version": "3.4.3"
  }
 },
 "nbformat": 4,
 "nbformat_minor": 0
}
