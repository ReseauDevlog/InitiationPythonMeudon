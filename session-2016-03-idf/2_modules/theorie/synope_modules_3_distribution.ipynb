{
 "cells": [
  {
   "cell_type": "markdown",
   "metadata": {
    "slideshow": {
     "slide_type": "slide"
    }
   },
   "source": [
    "# Distribuez votre projet"
   ]
  },
  {
   "cell_type": "markdown",
   "metadata": {
    "slideshow": {
     "slide_type": "subslide"
    }
   },
   "source": [
    "* Une distribution est une collection de modules Python distribués ensembles comme une ressource téléchargeable et destinée à être installée. Il existe énormément de distributions de modules comme *PIL (the Python Imaging Library)*, *PyXML*, *etc*.\n",
    "\n",
    "* Pour faire le lien entre la distribution et la plateforme de destination, on utilise des outils appelés *packagers*. Les packagers vont prendre les sources et les compiler pour effectuer une «release». Ainsi les utilisateurs finaux vont pouvoir installer les modules sans difficulté.\n",
    "\n",
    "* *Distutils* est un packager basique. Pour distribuer votre code, il faudra écrire un script d’installation (nommé `setup.py` par convention) et éventuellement écrire un fichier de configuration d’installation. Ensuite, il vous faudra créer une ressource distribuable (souvent une archive) et optionnellement créer une ou plusieurs distributions compilées.\n"
   ]
  },
  {
   "cell_type": "markdown",
   "metadata": {
    "slideshow": {
     "slide_type": "slide"
    }
   },
   "source": [
    "## Ecrire le fichier setup.py"
   ]
  },
  {
   "cell_type": "markdown",
   "metadata": {
    "slideshow": {
     "slide_type": "subslide"
    }
   },
   "source": [
    "* Le script setup est généralement assez simple. Voici un premier exemple :\n",
    "\n",
    "```python\n",
    "from distutils.core import setup\n",
    "setup(name='foo',\n",
    "      version='1.0',\n",
    "      py_modules=['foo'])\n",
    "```\n",
    "\n",
    "* La plupart des informations sont fournies comme arguments à la fonction `setup`.\n",
    "* Ces arguments peuvent être regroupés en deux catégories : les metadonnées du package (nom, version) et les informations sur ce qu’est, ce que fait le package. \n",
    "* Les modules sont spécifiés par leur nom d’objet et non leur nom de fichier. Il est recommandé de fournir des metadonnées supplémentaires comme son nom, son adresse mail et une url du projet :\n",
    "    * Vous pouvez lister des modules individuellement : `py_modules = ['mod1', 'pkg.mod2']`\n",
    "    * ou lister des packages entiers : `packages = ['distutils', 'distutils.command']`. Ici on spécifie des modules purs Python par package plutôt que de lister tous les modules de ce paquet.\n",
    "    * Par exemple, ce package :\n",
    "\n",
    "```python\n",
    "    setup.py\n",
    "    src/\n",
    "        mypkg/\n",
    "            __init__.py\n",
    "            module.py\n",
    "            data/\n",
    "                tables.dat\n",
    "                spoons.dat\n",
    "                forks.dat\n",
    "```\n",
    "\n",
    "* pourrait avoir un setup comme cela :\n",
    "\n",
    "```python\n",
    "    setup(...,\n",
    "          packages=['mypkg'],\n",
    "          package_dir={'mypkg': 'src/mypkg'},\n",
    "          package_data={'mypkg': ['data/*.dat']})\n",
    "```        "
   ]
  },
  {
   "cell_type": "markdown",
   "metadata": {
    "slideshow": {
     "slide_type": "subslide"
    }
   },
   "source": [
    "* Voici une liste non exhaustive d’arguments de la fonction **setup**\n",
    "    - le nom du projet : nom=\"sample\"\n",
    "    - la version : version=\"1.2.0\" (voir [PEP 440](https://www.python.org/dev/peps/pep-0440/))\n",
    "    - les packages à inclure dans le projet. On peut les lister ou utiliser `find_packages` pour automatiser cette tâche (`exclude` pour pour exlure ceux qui ne doivent pas être installés) : `py_modules=['foo']`\n",
    "    - Metadonnées: Il est important d’inclure des métadonnées à propos de votre projet. \n",
    "\n",
    "        ```python\n",
    "\n",
    "            # A description of your project\n",
    "            description='A sample Python project',\n",
    "            long_description=long_description,\n",
    "\n",
    "            # The project's main homepage\n",
    "            url='https://github.com/pypa/sampleproject',\n",
    "\n",
    "            # Author details\n",
    "            author='The Python Packaging Authority',\n",
    "            author_email='pypa-dev@googlegroups.com',\n",
    "\n",
    "            # Choose your license\n",
    "            license='MIT',\n",
    "\n",
    "            # See https://pypi.python.org/pypi?%3Aaction=list_classifiers\n",
    "            classifiers=[\n",
    "                # How mature is this project? Common values are\n",
    "                #   3 - Alpha\n",
    "                #   4 - Beta\n",
    "                #   5 - Production/Stable\n",
    "                'Development Status :: 3 - Alpha',\n",
    "\n",
    "                # Indicate who your project is intended for\n",
    "                'Intended Audience :: Developers',\n",
    "                'Topic :: Software Development :: Build Tools',\n",
    "\n",
    "                # Pick your license as you wish (should match \"license\" above)\n",
    "                'License :: OSI Approved :: MIT License',\n",
    "\n",
    "                # Specify the Python versions you support here. In particular, ensure\n",
    "                # that you indicate whether you support Python 2, Python 3 or both.\n",
    "                'Programming Language :: Python :: 2',\n",
    "                'Programming Language :: Python :: 2.6',\n",
    "                'Programming Language :: Python :: 2.7',\n",
    "                'Programming Language :: Python :: 3',\n",
    "                'Programming Language :: Python :: 3.2',\n",
    "                'Programming Language :: Python :: 3.3',\n",
    "                'Programming Language :: Python :: 3.4',\n",
    "            ],\n",
    "\n",
    "            # What does your project relate to?\n",
    "            keywords='sample setuptools development',\n",
    "        ```\n",
    "\n",
    "- Enfin, il est possible d'ajouter :\n",
    "    - Les dépendances : install_requires = ['peppercorn']\n",
    "        \"install_requires\" est utilisé pour spécifier quelles dépendances sont nécessaire au projet pour fonctionner. Ces dépendances seront installés par Pip lors de l'installation de votre projet.\n",
    "    - Fichiers additionnels : package_data = { 'sample': ['package_data.dat']}\n",
    "- Voici un exemple plus complet :\n",
    "\n",
    "    ```python\n",
    "    #! /usr/bin/env python3\n",
    "\n",
    "    from distutils.core import setup\n",
    "\n",
    "    setup(name='Distutils',\n",
    "          version='1.0',\n",
    "          description='Python Distribution Utilities',\n",
    "          author='Greg Ward',\n",
    "          author_email='gward@python.net',\n",
    "          url='https://www.python.org/sigs/distutils-sig/',\n",
    "          packages=['distutils', 'distutils.command'],\n",
    "         )\n",
    "\n",
    "    ```\n",
    "\n",
    "* Vous pouvez également inclure d’autre fichier au package comme un ***README*** pour expliquer le projet et un ***MANIFEST*** pour définir des fichiers supplémentaires à inclure dans la distribution du projet packagé. \n",
    "\n"
   ]
  },
  {
   "cell_type": "markdown",
   "metadata": {},
   "source": [
    "## Utiliser le fichier setup.py\n",
    "\n",
    "Nous allons voir qu'un même ```setup.py``` est utilisé aussi bien pour créer une distribution que pour installer la distribution.  "
   ]
  },
  {
   "cell_type": "markdown",
   "metadata": {
    "slideshow": {
     "slide_type": "subslide"
    }
   },
   "source": [
    "- Pour créer une distribution des fichiers sources du module, il faut donc créer un script d’installation (setup.py) contenant le code ci-dessus et exécuter la commande \n",
    "```\n",
    "$>python setup.py sdist [$>sdist setup.py sous windows]\n",
    "```\n",
    "\n",
    "- sdist va créer une archive (tarball sous unix et zip sous windows) contenant le script setup.py et le module. Le fichier d’archive sera nommé foo-1.0.tar.gz (ou .zip) et sera décompressé dans un répertoire foo-1.0.\n",
    "\n"
   ]
  },
  {
   "cell_type": "markdown",
   "metadata": {
    "slideshow": {
     "slide_type": "subslide"
    }
   },
   "source": [
    "- Pour installer le module, après avoir télécharger et décompresser l’archive, il faut se déplacer dans le répertoire créé par la décompression de l’archive et taper la commande suivante :\n",
    "\n",
    "```\n",
    "$>python setup.py install\n",
    "```\n",
    "\n",
    "- Cette commande va copier les fichiers dans le répertoire réservé aux modules tiers de l’installation Python. \n",
    "- Remarque : On note donc que c’est le même script qui sert pour la distribution et l’installation.\n"
   ]
  },
  {
   "cell_type": "markdown",
   "metadata": {
    "slideshow": {
     "slide_type": "subslide"
    }
   },
   "source": [
    "- On peut faciliter encore plus l’installation des modules distribués. Par exemple, sous windows, on peut créer un installateur exécutable avec cette commande :\n",
    "\n",
    "```\n",
    "$>python setup.py bdist_wininst\n",
    "```\n",
    "\n",
    "- Cette commande va créer un `.exe` nommé foo-1.0.win32.exe dans le répertoire courant.\n",
    "- Il existe également d’autre format de distribution : le rpm avec bdist_rpm, le pkgtool (bdist_pkgtool) et le hp_ux swinstall (bdist_sdux)\n",
    "- Vous pouvez lister les formats de distribution disponibles avec cette commande :\n",
    "\n",
    "```\n",
    "$>python setup.py bdist –help-formats\n",
    "```\n",
    "\n"
   ]
  },
  {
   "cell_type": "markdown",
   "metadata": {},
   "source": [
    "## Le mode développement\n",
    "\n",
    "Setuptools (l'extension de Distutils) offre un mode \"développement\", qui permet de faire semblant d'installer un package, mais de n'installer en fait que des liens symboliques qui pointent vers les fichiers originaux, de telle sorte qu'on peut éditer ces fichiers et tester leur utilisation par du code client, sans avoir à les réinstaller à chaque fois. De plus, une commande permet de nettoyer la fausse installation si nécessaire :\n",
    "* pour pseudo-installer une distribution : `python setup.py develop`\n",
    "* pour nettoyer : `python setup.py develop --uninstall`"
   ]
  },
  {
   "cell_type": "markdown",
   "metadata": {
    "slideshow": {
     "slide_type": "slide"
    }
   },
   "source": [
    "## Publier ses packages"
   ]
  },
  {
   "cell_type": "markdown",
   "metadata": {
    "slideshow": {
     "slide_type": "subslide"
    }
   },
   "source": [
    "Pour installer des packages, on vous conseille d’utiliser `pip` (Python installing package). Cet outil cherche les packages sur le Python Package Index (PyPi). Les packages Python peuvent être compactés dans des archives tarball ou zip. Python utilise des formats de distribution. Actuellement, Python utilise egg mais ce format va etre peu à peu remplacé par wheel. Pour construire votre package, vous pouvez donc utiliser **[wheel](http://pythonwheels.com/)** et pour envoyer votre package sur Pypi, il faut utiliser l’outil **[twine](https://github.com/pypa/twine)**"
   ]
  },
  {
   "cell_type": "markdown",
   "metadata": {
    "collapsed": false
   },
   "source": [
    "## A propos des auteurs\n",
    "\n",
    "*Travail initié en 2014 dans le cadre d'une série de formations Python organisées par le réseau Devlog.  \n",
    "Auteur principal : . \n",
    "Contributions de : Christophe Gengembre.\n",
    "Relecteurs : Nicolas Can, Sekou Diakite, Christophe Halgand, Loic Gouarin, David Chamont.*"
   ]
  },
  {
   "cell_type": "markdown",
   "metadata": {},
   "source": [
    "### Mise en forme"
   ]
  },
  {
   "cell_type": "code",
   "execution_count": null,
   "metadata": {
    "collapsed": false
   },
   "outputs": [],
   "source": [
    "# execute this part to modify the css style\n",
    "from IPython.core.display import HTML\n",
    "def css_styling():\n",
    "    styles = open(\"../../styles/custom.css\", \"r\").read()\n",
    "    return HTML(styles)\n",
    "css_styling()"
   ]
  }
 ],
 "metadata": {
  "kernelspec": {
   "display_name": "Python 3",
   "language": "python",
   "name": "python3"
  },
  "language_info": {
   "codemirror_mode": {
    "name": "ipython",
    "version": 3
   },
   "file_extension": ".py",
   "mimetype": "text/x-python",
   "name": "python",
   "nbconvert_exporter": "python",
   "pygments_lexer": "ipython3",
   "version": "3.4.3"
  }
 },
 "nbformat": 4,
 "nbformat_minor": 0
}
