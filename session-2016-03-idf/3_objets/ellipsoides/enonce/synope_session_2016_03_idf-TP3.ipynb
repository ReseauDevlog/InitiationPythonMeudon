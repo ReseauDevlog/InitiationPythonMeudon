{
 "cells": [
  {
   "cell_type": "markdown",
   "metadata": {},
   "source": [
    "*Ce notebook est distribué par Devlog sous licence Creative Commons - Attribution - Pas d’Utilisation Commerciale - Partage dans les Mêmes Conditions. La description complète de la license est disponible à l'adresse web http://creativecommons.org/licenses/by-nc-sa/4.0/.*"
   ]
  },
  {
   "cell_type": "markdown",
   "metadata": {},
   "source": [
    "# Ellipsoides - objets"
   ]
  },
  {
   "cell_type": "markdown",
   "metadata": {},
   "source": [
    "## 1/6 : La définition de classes\n",
    "\n",
    "Définissez les trois classes ci-dessous."
   ]
  },
  {
   "cell_type": "markdown",
   "metadata": {},
   "source": [
    "#### Question 1\n",
    "\n",
    "Définissez la classe `Superellipse`:\n",
    "* Attributs\n",
    "  * rx : rayon suivant x\n",
    "  * ry : rayon suivant y\n",
    "  * m : puissance dans l'expression de la superellipse.\n",
    "* Méthodes\n",
    "  * init(self, rx, ry, m) : initialisation des attributs.\n",
    "  * cloud(self,n): renvoie un échantillon de n points de la surface (deux listes x,y).\n",
    "  * area(self): renvoie l'aire (un scalaire).\n",
    "  \n",
    "L'aire d'une super-ellipse est la suivante (utilisez math.gamma) :\n",
    "$$\n",
    "\\frac{4^{(1-\\frac{1}{m})} r_x r_y \\sqrt{\\pi} \\Gamma{(1+\\frac{1}{m})}}{\\Gamma{(\\frac{1}{2}+\\frac{1}{m})}}\n",
    "$$\n",
    "\n",
    "  \n",
    "Dans le fichier `demos/superellipse.py`, placez ce programme de démonstration et faites en sorte qu'il s'exécute correctement :\n",
    "\n",
    "~~~python\n",
    "import pySynope\n",
    "import math\n",
    "\n",
    "se = pySynope.Superellipse()\n",
    "se.init(1, 1, 2)\n",
    "print(se.cloud(5))\n",
    "print(se.area())\n",
    "~~~"
   ]
  },
  {
   "cell_type": "markdown",
   "metadata": {},
   "source": [
    "#### Question 2\n",
    "\n",
    "Définissez la classe `Superellipsoid` :\n",
    "* Attributs\n",
    "  * rx : rayon suivant x\n",
    "  * ry : rayon suivant y\n",
    "  * rz : rayon suivant z\n",
    "  * m1 : puissance dans l'expression de la superellipse\n",
    "  * m2 : paramètre qui détérmine le \"balayage\" vertical \n",
    "* Méthodes\n",
    "  * init(self, rx, ry, rz, m1, m2) : initialisation des attributs.\n",
    "  * cloud(self,n) : renvoie un échantillon de n*n points de la surface (trois listes a 2 dimensions x,y,z).\n",
    "  * volume(self) : renvoie le volume de la superellipsoide.\n",
    " \n",
    "Le volume d'une superellipsoide s'exprime en deux temps :\n",
    "\n",
    "$$\n",
    "\\beta{(m,n)} = \\frac{\\Gamma{(m)} \\Gamma{(n)}}{\\Gamma{(m+n)}}\n",
    "$$\n",
    "\n",
    "$$\n",
    "V = \\frac{2}{3} r_x r_y r_z \\frac{4}{m_1 m_2} \\beta{(\\frac{1}{m_1}, \\frac{1}{m_1})} \\beta{(\\frac{2}{m_1}, \\frac{1}{m_2})}\n",
    "$$\n",
    " \n",
    "Dans le fichier `demos/superellipsoid.py`, placez ce programme de démonstration et faites en sorte qu'il s'exécute correctement :\n",
    "\n",
    "~~~python\n",
    "import pySynope\n",
    "import math\n",
    "\n",
    "se = pySynope.Superellipsoid()\n",
    "se.init(1, 1, 1, 2, 2)\n",
    "print(se.cloud(4))\n",
    "print(se.volume(), 4./3*math.pi)\n",
    "~~~"
   ]
  },
  {
   "cell_type": "markdown",
   "metadata": {},
   "source": [
    "#### Question 3\n",
    "\n",
    "Définissez la classe `Quaternion` :\n",
    "* Attributs\n",
    "  * w : flottant représentant la partie réelle du quaternion.\n",
    "  * coords : liste de trois flottants représentant la partie imaginaire du quaternion.\n",
    "* Méthodes\n",
    "  * init(self,angle,axe) : initialise les attributs pour que le quaternion représente une rotation de l'angle donné autour de l'axe donné (ce dernier étant fourni sous forme d'un tuple de trois flottants correspondants aux coordonnées x, y, z).\n",
    "  * rotate(self, point) : applique la rotation au point (donné sous la forme d'un tuple de trois flottants correspondants aux coordonnées x, y, z).\n",
    "\n",
    "Dans le fichier `demos/quaternion.py`, placez ce programme de démonstration et faites en sorte qu'il s'exécute correctement :\n",
    "\n",
    "~~~python\n",
    "import pySynope\n",
    "import math\n",
    "\n",
    "q = pySynope.Quaternion()\n",
    "q.init(math.pi/4)\n",
    "print(q)\n",
    "\n",
    "pos = (1, 0, 0)\n",
    "pos = q.rotate(pos)\n",
    "pos = q.rotate(pos)\n",
    "print(pos)  \n",
    "~~~"
   ]
  },
  {
   "cell_type": "markdown",
   "metadata": {
    "collapsed": true
   },
   "source": [
    "## 2/6 : Les méthodes spéciales\n",
    "\n",
    "#### Question 4\n",
    "\n",
    "Transformez les fonctions `init()` en constructeurs.  \n",
    "Comme d'habitude, assurez vous du bon fonctionnement des démonstrations.\n",
    "\n",
    "#### Question 5\n",
    "\n",
    "Dotez la classe `Quaternion` de la méthode spéciale appropriée, afin que l'affichage effectué par print soit similaire à la notation mathématique \"a + bi +cj + dk\".\n",
    "\n",
    "#### Question 6\n",
    "\n",
    "Dotez la classe `Quaternion` d'un opérateur de multiplication, qui permette de combiner plusieurs rotations (on utilisera le produit hamiltonien). Ainsi, la double rotation de la démonstration peut se réécrire :\n",
    "\n",
    "~~~python\n",
    "...\n",
    "pos = (q*q).rotate(pos)\n",
    "print(pos)  \n",
    "~~~\n",
    "\n",
    "#### Question 7\n",
    "\n",
    "Enrichissez le constructeur de quaternion pour qu'il accepte plusieurs\n",
    "possibilités pour ses arguments :\n",
    "1. l'utilisateur fournit un nombre flottant, et une liste de trois flottants, auquel cas il faut comprendre qu'il s'agit d'un angle de rotation et d'un axe de rotation,\n",
    "2. l'utilisateur fournit une liste de trois flottants, auquel cas il faut comprendre qu'il s'agit d'un point 3D dont les coordonnées doivent être utilisées pour initialiser la partie imaginaire du quaternion (bi+cj+dk), et la partie réelle doit être mise à 0.\n",
    "3. l'utilisateur fournit une liste de quatre flottants, auquel cas il faut comprendre qu'il s'agit des quatres coordonnées du quaternion (partie réelle, puis les trois coordonnées de la partie imaginaire).\n",
    "\n",
    "Ajoutez une méthode conjugate() à la classe `Quaternion`, qui renvoit un quaternion modifié, dans lequel les coordonnées imaginaires ont été remplacées par leur opposé.\n",
    "\n",
    "Ainsi, on peut se passer de la méthode `rotate()` et écrire ainsi la démonstration du quaternion :\n",
    "\n",
    "~~~python\n",
    "from pySynope import Quaternion\n",
    "import math\n",
    "\n",
    "q = Quaternion(math.pi/4)\n",
    "print(q)\n",
    "\n",
    "pos = Quaternion((1, 0, 0))\n",
    "q2 = q*q\n",
    "pos = q2*pos*q2.conjugate()\n",
    "print(pos)  \n",
    "~~~\n"
   ]
  },
  {
   "cell_type": "markdown",
   "metadata": {
    "collapsed": true
   },
   "source": [
    "## 3/6 : Les objets composés\n",
    "\n",
    "#### Question 8\n",
    "\n",
    "Vous allez créer une nouvelle classe `Point3d`, avec trois attributs `x`, `y` et `z`, qui serviront décrire les points, les axes, et la partie imaginaire du quaternion. Faites en sorte que le constructeur du quaternion appelle le constructeur de point. "
   ]
  },
  {
   "cell_type": "markdown",
   "metadata": {
    "collapsed": true
   },
   "source": [
    "## 4/6 : L'héritage entre classes\n",
    "\n",
    "#### Question 9\n",
    "\n",
    "Définissez la classe dérivée `Circle` qui hérite de la classe `Superellipse`. Elle surcharge son constructeur __init__ en appelant celui du parent avec rx=ry=r et m=2. Elle contient une méthode supplementaire:\n",
    "\n",
    "    perimeter: renvoie le périmètre du cercle.\n",
    "    \n",
    "Dans le programme de démonstration de  `Superellipse`, ajoutez :\n",
    "\n",
    "~~~python\n",
    "circle = pySynope.Circle()\n",
    "circle.init(1)\n",
    "print(circle.cloud(10))\n",
    "print(circle.area(),math.pi)\n",
    "print(circle.perimeter(),2.*math.pi)\n",
    "~~~\n",
    "\n",
    "\n",
    "#### Question 10\n",
    "\n",
    "Définissez la classe dérivée Sphere qui hérite de la classe `Superellipsoid`. Elle surcharge son constructeur __init__ en appelant celui du parent avec rx=ry=rz=r et m1=m2=2. Elle contient une méthode supplementaire:\n",
    "\n",
    "    area: renvoie l'aire de la sphère.\n",
    "    \n",
    "Dans le programme de démonstration de `Superellipsoid`, ajoutez :\n",
    "\n",
    "~~~python\n",
    "sphere = pySynope.Sphere(1)\n",
    "print(sphere.volume(), 4./3*math.pi)\n",
    "~~~"
   ]
  },
  {
   "cell_type": "markdown",
   "metadata": {
    "collapsed": true
   },
   "source": [
    "## 5/6 : Sauvegarde et reconstruction d'objets"
   ]
  },
  {
   "cell_type": "markdown",
   "metadata": {},
   "source": [
    "#### Question 11\n",
    "\n",
    "1. Modifiez la classe `Superellipsoide` pour que sa méthode `cloud()` renvoit une double liste d'instance de `Point3d`.\n",
    "2. Interactivement, créez une instance de `Superellipsoide`, appelez `cloud()`, et stockez la collection de `Point3d` dans un fichier.\n",
    "3. Créez un programme qui lit ce fichier, applique une rotation d'angle PI/4 à tous les points, et resauvegarde le résultat dans le fihier de départ.\n",
    "4. Vérifiez qu'en appliquant 8 fois le programme ci-dessus, on retrouve les points de départ."
   ]
  },
  {
   "cell_type": "markdown",
   "metadata": {
    "collapsed": true
   },
   "source": [
    "## 6/6 : Quelques concepts avancés"
   ]
  },
  {
   "cell_type": "markdown",
   "metadata": {},
   "source": [
    "#### Question 12\n",
    "\n",
    "En utilisant des \"properties\", définissez des \"getters\" et des \"setters\" afin d'éliminer tout accès direct aux attributs."
   ]
  },
  {
   "cell_type": "markdown",
   "metadata": {},
   "source": [
    "## A propos des auteurs"
   ]
  },
  {
   "cell_type": "markdown",
   "metadata": {
    "collapsed": false
   },
   "source": [
    "*Auteurs : Loic Gouarin, David Chamont, Dmitry Khvorostyanov. Document réalisé en 2016 dans le cadre d'une série de formations Python organisées par les réseaux LoOPS et PiCo en collaboration avec le pôle formation du SMUT CNRS.*"
   ]
  },
  {
   "cell_type": "markdown",
   "metadata": {},
   "source": [
    "### Mise en forme"
   ]
  },
  {
   "cell_type": "code",
   "execution_count": 2,
   "metadata": {
    "collapsed": false
   },
   "outputs": [
    {
     "data": {
      "text/html": [
       "<link href='http://fonts.googleapis.com/css?family=Oswald' rel='stylesheet' type='text/css'>\n",
       "<link href='http://fonts.googleapis.com/css?family=Lora:400,400italic' rel='stylesheet' type='text/css'>\n",
       "<link href='http://fonts.googleapis.com/css?family=Open+Sans:300' rel='stylesheet' type='text/css'>\n",
       "<link href='http://fonts.googleapis.com/css?family=Alegreya+Sans:100,300,400,500,700,800,900,100italic,300italic,400italic,500italic,700italic,800italic,900italic' rel='stylesheet' type='text/css'>\n",
       "\n",
       "<style>\n",
       "\n",
       "h1, h2, h3, h4, h5 {\n",
       "    font-family: 'Alegreya Sans', sans-serif;\n",
       "}\n",
       "\n",
       "div.text_cell_render{\n",
       "    font-family: 'Alegreya Sans',Computer Modern, \"Helvetica Neue\", Arial, Helvetica, Geneva, sans-serif;\n",
       "    line-height: 135%;\n",
       "    font-size: 140%;\n",
       "    width:100%;/*600px;*/\n",
       "    /*margin-left:auto;*/\n",
       "    /*margin-right:auto;*/\n",
       "}\n",
       "/*div.text_cell_render{font-family: \"Open Sans\", sans-serif;font-weight: normal; line-height:normal;}*/\n",
       "\n",
       "/* header colours and fonts */\n",
       ".rendered_html h1 {\n",
       "    color:#9A3334;\n",
       "    /*margin-top: 0.5em;*/\n",
       "    padding: 1em;\n",
       "    display: block;\n",
       "    font-size: 40px;\n",
       "    text-align: center;\n",
       "    border-top: 2px solid #9A3334;\n",
       "    border-bottom: 2px solid #9A3334;\n",
       "}\n",
       "\n",
       "/*.rendered_html h1 { color: #9A3334; font-family: Lora, sans-serif; font-weight: normal; text-align: center; }*/\n",
       ".rendered_html h2 {\n",
       "    color: #9A3334;\n",
       "    /*font-family: Lora, sans-serif;*/\n",
       "    font-style: italic;\n",
       "    font-weight: normal;\n",
       "    font-size: 30px;\n",
       "    /*text-align: center;*/\n",
       "    border-bottom: 1px solid #9A3334;\n",
       "}\n",
       ".rendered_html h3 {\n",
       "    color: #9A3334;\n",
       "    /*font-family: Lora, sans-serif;*/\n",
       "    font-weight: normal;\n",
       "    font-size: 25px;\n",
       "    font-style: italic;\n",
       "}\n",
       "\n",
       ".rendered_html h4 {\n",
       "    border: 2px solid #9A3334;\n",
       "    border-radius: 25px;\n",
       "    font-style: italic;\n",
       "    height:5%;\n",
       "    width:20%;\n",
       "    padding:5px;\n",
       "    text-align: center;\n",
       "}\n",
       "\n",
       "div.prompt {\n",
       "    display: None;\n",
       "}\n",
       "\n",
       "/* center the images */\n",
       ".ui-wrapper {\n",
       "    margin-left: auto !important;\n",
       "    margin-right: auto !important;\n",
       "}\n",
       "\n",
       "/* center the images */\n",
       ".video {\n",
       "    margin-left: auto !important;\n",
       "    margin-right: auto !important;\n",
       "}\n",
       "\n",
       ".rendered_html img {\n",
       "    margin-top: 0em;\n",
       "}\n",
       "\n",
       "div.input_area {\n",
       "    border-radius: 10px;\n",
       "}\n",
       "\n",
       ".reveal h1 {\n",
       "    font-size: 70px;\n",
       "    text-shadow: 10px 10px 10px rgba(0, 0, 0, 0.5);\n",
       "}\n",
       "\n",
       ".reveal h2 {\n",
       "    font-size: 50px;\n",
       "    text-shadow: 10px 10px 10px rgba(0, 0, 0, 0.5);\n",
       "}\n",
       "\n",
       ".reveal h3 {\n",
       "    font-size: 50px;\n",
       "    \n",
       "}\n",
       "\n",
       "</style>"
      ],
      "text/plain": [
       "<IPython.core.display.HTML object>"
      ]
     },
     "execution_count": 2,
     "metadata": {},
     "output_type": "execute_result"
    }
   ],
   "source": [
    "# execute this part to modify the css style\n",
    "from IPython.core.display import HTML\n",
    "def css_styling():\n",
    "    styles = open(\"../../../styles/custom.css\", \"r\").read()\n",
    "    return HTML(styles)\n",
    "css_styling()"
   ]
  }
 ],
 "metadata": {
  "kernelspec": {
   "display_name": "Python 3",
   "language": "python",
   "name": "python3"
  },
  "language_info": {
   "codemirror_mode": {
    "name": "ipython",
    "version": 3
   },
   "file_extension": ".py",
   "mimetype": "text/x-python",
   "name": "python",
   "nbconvert_exporter": "python",
   "pygments_lexer": "ipython3",
   "version": "3.4.3"
  }
 },
 "nbformat": 4,
 "nbformat_minor": 0
}
