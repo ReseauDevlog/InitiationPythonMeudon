{
 "cells": [
  {
   "cell_type": "markdown",
   "metadata": {},
   "source": [
    "*Ce notebook est distribué par Devlog sous licence Creative Commons - Attribution - Pas d’Utilisation Commerciale - Partage dans les Mêmes Conditions. La description complète de la license est disponible à l'adresse web http://creativecommons.org/licenses/by-nc-sa/4.0/.*"
   ]
  },
  {
   "cell_type": "markdown",
   "metadata": {
    "internals": {
     "slide_helper": "subslide_end",
     "slide_type": "subslide"
    },
    "slide_helper": "slide_end",
    "slideshow": {
     "slide_type": "slide"
    }
   },
   "source": [
    "# Initiation Python - Objets 1/6 : La définition de classes"
   ]
  },
  {
   "cell_type": "markdown",
   "metadata": {
    "internals": {
     "slide_type": "subslide"
    },
    "slideshow": {
     "slide_type": "slide"
    }
   },
   "source": [
    "## Généralités"
   ]
  },
  {
   "cell_type": "markdown",
   "metadata": {
    "internals": {},
    "slideshow": {
     "slide_type": "-"
    }
   },
   "source": [
    "La création d'une nouvelle classe peut être considérée comme la création d'un *nouveau type de données*, défini par le développeur. Par convention, les noms de classe sont généralement typographiés en \"CamelCase\". Dans l'exemple ci-dessous, l'exécution de l'instruction `class` provoque la création d'un objet de type `class`, et lui assigne comme nom `Vecteur`."
   ]
  },
  {
   "cell_type": "code",
   "execution_count": null,
   "metadata": {
    "collapsed": false,
    "internals": {
     "slide_helper": "subslide_end"
    },
    "slide_helper": "subslide_end",
    "slideshow": {
     "slide_type": "-"
    }
   },
   "outputs": [],
   "source": [
    "class Vecteur(object):\n",
    "    pass\n",
    "\n",
    "print(Vecteur)"
   ]
  },
  {
   "cell_type": "markdown",
   "metadata": {},
   "source": [
    "Comme n'importe quelle entité de Python, la classe créée est placée dans un module (ici `__main__` puisque `print()` est appelé du programme principal. Vous pouvez définir `Vecteur` dans un fichier à part, e.g. maclasse.py, et d'exécuter `print()` depuis un script qui importe `Vecteur` de `maclasse`, vous verrez la différence)."
   ]
  },
  {
   "cell_type": "markdown",
   "metadata": {
    "internals": {
     "frag_number": 4,
     "slide_type": "subslide"
    },
    "slideshow": {
     "slide_type": "subslide"
    }
   },
   "source": [
    "De même qu'un type prédéfini de Python (par exemple `float` ou `list`) possède de multiples valeurs (par exemple `3.14` ou `[]`), une classe peut donner naissance à de multiples objets. On dit de chacun de ces objets qu'il est une ** *\"instance\"* ** de la classe. Pour créer une telle instance, on utilise le nom de la classe comme si c'était un nom de fonction (utilisation de parenthèses). Dans l'exemple ci-dessous, la première instruction provoque la création d'une instance de type `Vecteur`, et lui assigne comme nom `v`. La deuxième instruction crée une deuxième instance nommée `w`."
   ]
  },
  {
   "cell_type": "code",
   "execution_count": null,
   "metadata": {
    "collapsed": false,
    "internals": {
     "frag_helper": "fragment_end",
     "frag_number": 4
    },
    "slideshow": {
     "slide_type": "-"
    }
   },
   "outputs": [],
   "source": [
    "v = Vecteur()\n",
    "w = Vecteur()\n",
    "\n",
    "print(v, w)"
   ]
  },
  {
   "cell_type": "markdown",
   "metadata": {
    "internals": {
     "slide_helper": "subslide_end"
    },
    "slide_helper": "slide_end",
    "slideshow": {
     "slide_type": "-"
    }
   },
   "source": [
    "<img src=\"img-objets/classes/classe-instances.png\" width=222px>"
   ]
  },
  {
   "cell_type": "markdown",
   "metadata": {
    "internals": {
     "frag_helper": "fragment_end",
     "frag_number": 4,
     "slide_type": "subslide"
    },
    "slideshow": {
     "slide_type": "slide"
    }
   },
   "source": [
    "## Données membres "
   ]
  },
  {
   "cell_type": "markdown",
   "metadata": {
    "internals": {
     "frag_helper": "fragment_end",
     "frag_number": 4
    },
    "slideshow": {
     "slide_type": "-"
    }
   },
   "source": [
    "Tout comme un nombre flottant est composé de sous-parties (mantisse, exposant, signe...), une instance est appelée à contenir des données nommées, accessibles individuellement par l'opérateur `.`. Les données membres peuvent être lues, créées et modifiées à tout moment et par n'importe qui."
   ]
  },
  {
   "cell_type": "code",
   "execution_count": null,
   "metadata": {
    "collapsed": false,
    "internals": {
     "frag_helper": "fragment_end",
     "frag_number": 4
    },
    "slideshow": {
     "slide_type": "-"
    }
   },
   "outputs": [],
   "source": [
    "v.x, v.y, v.z = 1, 2, 3\n",
    "print(v.x, v.y, v.z)"
   ]
  },
  {
   "cell_type": "code",
   "execution_count": null,
   "metadata": {
    "collapsed": false,
    "internals": {
     "frag_helper": "fragment_end",
     "frag_number": 4,
     "slide_helper": "subslide_end"
    },
    "slide_helper": "slide_end",
    "slideshow": {
     "slide_type": "-"
    }
   },
   "outputs": [],
   "source": [
    "del v.z\n",
    "print(v.x, v.y, v.z)"
   ]
  },
  {
   "cell_type": "markdown",
   "metadata": {},
   "source": [
    "<img src=\"img-objets/classes/donnees-membre.png\" width=228px>"
   ]
  },
  {
   "cell_type": "markdown",
   "metadata": {
    "internals": {
     "frag_helper": "fragment_end",
     "frag_number": 4,
     "slide_type": "subslide"
    },
    "slideshow": {
     "slide_type": "slide"
    }
   },
   "source": [
    "## Méthodes "
   ]
  },
  {
   "cell_type": "markdown",
   "metadata": {
    "internals": {
     "frag_helper": "fragment_end",
     "frag_number": 4
    },
    "slideshow": {
     "slide_type": "-"
    }
   },
   "source": [
    "Imaginons ci-dessous que l'on souhaite doter nos nouveaux vecteurs d'un calcul de norme et de transformation d'échelle. Pour uniformiser, on définit également une fonction pour initialiser les attributs d'une instance, et une fonction d'affichage :"
   ]
  },
  {
   "cell_type": "code",
   "execution_count": null,
   "metadata": {
    "collapsed": false,
    "internals": {
     "frag_helper": "fragment_end",
     "frag_number": 4
    },
    "slideshow": {
     "slide_type": "-"
    }
   },
   "outputs": [],
   "source": [
    "class Vecteur(object):\n",
    "    pass\n",
    "    \n",
    "def init(v, x=0, y=0):\n",
    "    v.x = x\n",
    "    v.y = y\n",
    "\n",
    "def norme(v):\n",
    "    x2 = v.x**2\n",
    "    y2 = v.y**2\n",
    "    return (x2+y2)**(1./2.)\n",
    "\n",
    "def scale(v, n):\n",
    "    v.x = v.x * n\n",
    "    v.y = v.y * n\n",
    "\n",
    "def affiche(v):\n",
    "    print(v.x, v.y)\n",
    "\n",
    "v = Vecteur()\n",
    "init(v, 3, -4)\n",
    "print(norme(v))"
   ]
  },
  {
   "cell_type": "code",
   "execution_count": null,
   "metadata": {
    "collapsed": false,
    "internals": {
     "frag_helper": "fragment_end",
     "frag_number": 4,
     "slide_helper": "subslide_end"
    },
    "slide_helper": "slide_end",
    "slideshow": {
     "slide_type": "-"
    }
   },
   "outputs": [],
   "source": [
    "affiche(v)\n",
    "scale(v, 3) \n",
    "affiche(v)"
   ]
  },
  {
   "cell_type": "markdown",
   "metadata": {},
   "source": [
    "<img src=\"img-objets/classes/fonctions-libres.png\" width=251px>"
   ]
  },
  {
   "cell_type": "markdown",
   "metadata": {
    "internals": {
     "frag_helper": "fragment_end",
     "frag_number": 4,
     "slide_type": "subslide"
    },
    "slideshow": {
     "slide_type": "slide"
    }
   },
   "source": [
    "On peut être rapidement confronté à des conflits de noms avec d'autres fonctions similaires pour d'autres classes, et on aimerait que nos nouvelles fonctions ne soient utilisées qu'avec notre nouvelle classe Vecteur. Pour ce faire, nous allons en faire des ** *méthodes* ** en les insérant dans la classe.\n",
    "\n",
    "Une méthode est une fonction \"attachée\" à une classe particulière. La définition des méthodes est faite à l'intérieur de la définition de la classe.\n",
    "\n",
    "Dans la définition d'une méthode, le premier paramètre désigne l'instance courante sur laquelle on veut appliquer la méthode. Pour exécuter une méthode sur une instance particuliere, on utilise l'opérateur \".\", comme pour les données membres, puis des parenthèses pour signifier qu'il s'agit d'une fonction. L'instance à gauche du \".\" est alors passée à la méthode en tant que premier paramètre.  "
   ]
  },
  {
   "cell_type": "code",
   "execution_count": null,
   "metadata": {
    "collapsed": false,
    "internals": {
     "frag_helper": "fragment_end",
     "frag_number": 4
    },
    "slideshow": {
     "slide_type": "-"
    }
   },
   "outputs": [],
   "source": [
    "class Vecteur(object):\n",
    "    def init(self, x=0, y=0):\n",
    "        self.x = x\n",
    "        self.y = y\n",
    "        \n",
    "    def norme(self):\n",
    "        x2 = self.x**2\n",
    "        y2 = self.y**2\n",
    "        return (x2+y2)**(1./2.)\n",
    "    \n",
    "    def scale(self, n):\n",
    "        self.x = self.x * n\n",
    "        self.y = self.y * n\n",
    "        \n",
    "    def affiche(self):\n",
    "        print(self.x, self.y)\n",
    "\n",
    "\n",
    "v = Vecteur()\n",
    "v.init(3,-4)\n",
    "print(v.norme())"
   ]
  },
  {
   "cell_type": "code",
   "execution_count": null,
   "metadata": {
    "collapsed": false,
    "internals": {
     "frag_helper": "fragment_end",
     "frag_number": 4,
     "slide_helper": "subslide_end"
    },
    "slide_helper": "slide_end",
    "slideshow": {
     "slide_type": "-"
    }
   },
   "outputs": [],
   "source": [
    "v.scale(3)\n",
    "v.affiche()"
   ]
  },
  {
   "cell_type": "markdown",
   "metadata": {},
   "source": [
    "<img src=\"img-objets/classes/methodes.png\" width=276px>"
   ]
  },
  {
   "cell_type": "markdown",
   "metadata": {
    "internals": {
     "frag_helper": "fragment_end",
     "frag_number": 4,
     "slide_type": "subslide"
    },
    "slideshow": {
     "slide_type": "slide"
    }
   },
   "source": [
    "## Encapsulation"
   ]
  },
  {
   "cell_type": "markdown",
   "metadata": {
    "internals": {
     "frag_helper": "fragment_end",
     "frag_number": 4
    },
    "slideshow": {
     "slide_type": "-"
    }
   },
   "source": [
    "Données membres et méthodes sont collectivement appelés ** *\"attributs\"* **. On  place généralement les données dans les instances (et elles varient d'une instance à l'autre), et les méthodes dans la classe.\n",
    "\n",
    "En programmation orientée objet orthodoxe, il est préconisé d'interdire un accès direct aux données par les codes clients extérieurs, et de forcer ces clients à passer par l'intermédiaire de méthodes de lecture (qu'on appelle \"getters\") et de méthodes de modification (qu'on appelle \"setters\").\n",
    "\n",
    "Python ne permet pas vraiment d'interdire l'accès aux données, mais seulement de les masquer. Pour ce faire, donnez leur un nom qui commence par \"\\_\\_\". les données sont alors dites \"pseudo-privées\".\n",
    "\n",
    "Dans l'exemple ci-dessous, les attributs `x` et `y` de `Vecteur` ont été rendus pseudo-privés, la méthode `init()` fait office de \"setter\" global (méthode pour changer les valeurs de x et y), et les méthodes `getx()` et `gety()` font office de \"getters\"."
   ]
  },
  {
   "cell_type": "code",
   "execution_count": null,
   "metadata": {
    "collapsed": false,
    "internals": {
     "frag_helper": "fragment_end",
     "frag_number": 4
    },
    "slideshow": {
     "slide_type": "-"
    }
   },
   "outputs": [],
   "source": [
    "class Vecteur(object):\n",
    "    \n",
    "    def init(self, u=0, v=0):\n",
    "        self.__x = u\n",
    "        self.__y = v\n",
    "    \n",
    "    def getx(self):\n",
    "        return self.__x\n",
    "\n",
    "    def gety(self):\n",
    "        return self.__y\n",
    "\n",
    "v = Vecteur()\n",
    "v.init(3, -4)\n",
    "print(v.getx(), v.gety())"
   ]
  },
  {
   "cell_type": "code",
   "execution_count": null,
   "metadata": {
    "collapsed": false,
    "internals": {},
    "slideshow": {
     "slide_type": "-"
    }
   },
   "outputs": [],
   "source": [
    "print(v.x, v.y)"
   ]
  },
  {
   "cell_type": "code",
   "execution_count": null,
   "metadata": {
    "collapsed": false,
    "internals": {
     "slide_helper": "subslide_end"
    },
    "scrolled": true,
    "slide_helper": "slide_end",
    "slideshow": {
     "slide_type": "-"
    }
   },
   "outputs": [],
   "source": [
    "print(v.__x, v.__y)"
   ]
  },
  {
   "cell_type": "markdown",
   "metadata": {
    "collapsed": false,
    "internals": {
     "slide_helper": "subslide_end"
    },
    "scrolled": true,
    "slide_helper": "slide_end",
    "slideshow": {
     "slide_type": "-"
    }
   },
   "source": [
    "Néanmoins il est possible d'y accéder en fouillant dans le dictionnaire interne de l'instance."
   ]
  },
  {
   "cell_type": "markdown",
   "metadata": {
    "internals": {
     "frag_helper": "fragment_end",
     "frag_number": 4,
     "slide_type": "subslide"
    },
    "slideshow": {
     "slide_type": "slide"
    }
   },
   "source": [
    "## Documentation"
   ]
  },
  {
   "cell_type": "markdown",
   "metadata": {
    "internals": {
     "frag_helper": "fragment_end",
     "frag_number": 4
    },
    "slideshow": {
     "slide_type": "-"
    }
   },
   "source": [
    "Les \"docstrings\" habituelles fonctionnent avec les classes."
   ]
  },
  {
   "cell_type": "code",
   "execution_count": null,
   "metadata": {
    "collapsed": false,
    "internals": {
     "frag_helper": "fragment_end",
     "frag_number": 4
    },
    "slideshow": {
     "slide_type": "-"
    }
   },
   "outputs": [],
   "source": [
    "class MaClasse(object):\n",
    "    \"Documentation de MaClasse :-)\"\n",
    "    def ma_methode():\n",
    "        \"documentation de ma_methode()\"\n",
    "        pass\n",
    "    \n",
    "print(MaClasse.__doc__)"
   ]
  },
  {
   "cell_type": "code",
   "execution_count": null,
   "metadata": {
    "collapsed": false,
    "internals": {
     "frag_helper": "fragment_end",
     "frag_number": 4
    },
    "slideshow": {
     "slide_type": "-"
    }
   },
   "outputs": [],
   "source": [
    "print(MaClasse.ma_methode.__doc__)"
   ]
  },
  {
   "cell_type": "code",
   "execution_count": null,
   "metadata": {
    "collapsed": false,
    "internals": {
     "frag_helper": "fragment_end",
     "frag_number": 4,
     "slide_helper": "subslide_end"
    },
    "scrolled": true,
    "slide_helper": "slide_end",
    "slideshow": {
     "slide_type": "-"
    }
   },
   "outputs": [],
   "source": [
    "help(MaClasse)"
   ]
  },
  {
   "cell_type": "markdown",
   "metadata": {},
   "source": [
    "## A propos des auteurs"
   ]
  },
  {
   "cell_type": "markdown",
   "metadata": {},
   "source": [
    "*Travail initié en 2014 dans le cadre d'une série de formations Python organisées par le réseau Devlog. Auteur principal : David Chamont. Contribution à la mise à jour pour Python 3 : Fabrice Mendes. Relecteurs : Nicolas Can, Sekou Diakite, Loic Gouarin et Christophe Halgand.*"
   ]
  },
  {
   "cell_type": "markdown",
   "metadata": {},
   "source": [
    "### Mise en forme"
   ]
  },
  {
   "cell_type": "code",
   "execution_count": null,
   "metadata": {
    "collapsed": false
   },
   "outputs": [],
   "source": [
    "# execute this part to modify the css style\n",
    "from IPython.core.display import HTML\n",
    "def css_styling():\n",
    "    styles = open(\"../../styles/custom.css\", \"r\").read()\n",
    "    return HTML(styles)\n",
    "css_styling()"
   ]
  }
 ],
 "metadata": {
  "kernelspec": {
   "display_name": "Python 3",
   "language": "python",
   "name": "python3"
  },
  "language_info": {
   "codemirror_mode": {
    "name": "ipython",
    "version": 3
   },
   "file_extension": ".py",
   "mimetype": "text/x-python",
   "name": "python",
   "nbconvert_exporter": "python",
   "pygments_lexer": "ipython3",
   "version": "3.5.1"
  }
 },
 "nbformat": 4,
 "nbformat_minor": 0
}
