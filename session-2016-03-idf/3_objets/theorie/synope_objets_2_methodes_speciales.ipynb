{
 "cells": [
  {
   "cell_type": "markdown",
   "metadata": {},
   "source": [
    "*Ce notebook est distribué par Devlog sous licence Creative Commons - Attribution - Pas d’Utilisation Commerciale - Partage dans les Mêmes Conditions. La description complète de la license est disponible à l'adresse web http://creativecommons.org/licenses/by-nc-sa/4.0/.*"
   ]
  },
  {
   "cell_type": "markdown",
   "metadata": {
    "internals": {
     "slide_type": "subslide"
    },
    "slideshow": {
     "slide_type": "slide"
    }
   },
   "source": [
    "# Initiation Python - Objets 2/6 : Les méthodes spéciales"
   ]
  },
  {
   "cell_type": "markdown",
   "metadata": {
    "internals": {},
    "slideshow": {
     "slide_type": "-"
    }
   },
   "source": [
    "## Constructeur et destructeur"
   ]
  },
  {
   "cell_type": "markdown",
   "metadata": {
    "internals": {},
    "slideshow": {
     "slide_type": "-"
    }
   },
   "source": [
    "Le constructeur est une méthode spéciale, appelée **`__init__()`**, qui est appelée lors de la création d'une instance de classe.\n",
    "Le destructeur est une méthode spéciale, appelée **`__del__()`**, qui est appelée lors de la destruction d'une instance.\n",
    "**`ATTENTION`** : on ne contrôle pas vraiment le moment ou le destructeur est appelé. De ce fait, il est rarement utilisé."
   ]
  },
  {
   "cell_type": "code",
   "execution_count": null,
   "metadata": {
    "collapsed": false,
    "internals": {},
    "slideshow": {
     "slide_type": "-"
    }
   },
   "outputs": [],
   "source": [
    "class Vecteur(object):\n",
    "    # Notez la différence avec C++, Java ou PHP sur la déclaration de attributs\n",
    "    def __init__(self, u=0, v=0):\n",
    "        self.__x = u\n",
    "        self.__y = v\n",
    "    \n",
    "    def getx(self):\n",
    "        return self.__x\n",
    "\n",
    "    def gety(self):        \n",
    "        return self.__y\n",
    "\n",
    "    def norm(self):\n",
    "        x2 = self.__x**2\n",
    "        y2 = self.__y**2\n",
    "        return (x2+ y2)**(1/2)\n",
    "\n",
    "v1 = Vecteur(3, 4)\n",
    "print(v1.getx(), v1.gety())"
   ]
  },
  {
   "cell_type": "code",
   "execution_count": null,
   "metadata": {
    "collapsed": false,
    "internals": {},
    "slideshow": {
     "slide_type": "-"
    }
   },
   "outputs": [],
   "source": [
    "v2 = Vecteur(-2, 7)\n",
    "print( v2.getx(), v2.gety() )"
   ]
  },
  {
   "cell_type": "markdown",
   "metadata": {
    "internals": {},
    "slideshow": {
     "slide_type": "-"
    }
   },
   "source": [
    "## Affichage "
   ]
  },
  {
   "cell_type": "markdown",
   "metadata": {
    "internals": {},
    "slideshow": {
     "slide_type": "-"
    }
   },
   "source": [
    "Par défaut, l'affichage d'une instance renvoie son nom de classe et son adresse en mémoire :"
   ]
  },
  {
   "cell_type": "code",
   "execution_count": null,
   "metadata": {
    "collapsed": false,
    "internals": {},
    "slideshow": {
     "slide_type": "-"
    }
   },
   "outputs": [],
   "source": [
    "class Vecteur(object):\n",
    "    def __init__(self,u=0,v=0):\n",
    "        self.__x = u\n",
    "        self.__y = v\n",
    "\n",
    "v = Vecteur(3,4)\n",
    "print(v)"
   ]
  },
  {
   "cell_type": "code",
   "execution_count": null,
   "metadata": {
    "collapsed": false,
    "internals": {},
    "slideshow": {
     "slide_type": "-"
    }
   },
   "outputs": [],
   "source": [
    "v"
   ]
  },
  {
   "cell_type": "markdown",
   "metadata": {
    "internals": {},
    "slideshow": {
     "slide_type": "-"
    }
   },
   "source": [
    "On peut personnaliser cet affichage en s'appuyant sur les méthodes spéciales `__str()__` et `__repr()__`."
   ]
  },
  {
   "cell_type": "code",
   "execution_count": null,
   "metadata": {
    "collapsed": false,
    "internals": {},
    "slideshow": {
     "slide_type": "-"
    }
   },
   "outputs": [],
   "source": [
    "class Vecteur(object):\n",
    "    def __init__(self, u=0, v=0):\n",
    "        self.__x = u\n",
    "        self.__y = v\n",
    "        \n",
    "    def __str__(self):\n",
    "        return \"({:.0f},{:.0f})\".format(self.__x, self.__y)\n",
    "    \n",
    "    def __repr__(self):\n",
    "        return \"Vecteur({:.0f},{:.0f})\".format(self.__x, self.__y)\n",
    "\n",
    "    \n",
    "v = Vecteur(3, 4)\n",
    "print(v)"
   ]
  },
  {
   "cell_type": "code",
   "execution_count": null,
   "metadata": {
    "collapsed": false,
    "internals": {},
    "slideshow": {
     "slide_type": "-"
    }
   },
   "outputs": [],
   "source": [
    "v"
   ]
  },
  {
   "cell_type": "markdown",
   "metadata": {
    "internals": {},
    "slideshow": {
     "slide_type": "-"
    }
   },
   "source": [
    "En cas d'affichage destiné à l'utilisateur, tel qu'un appel à `print`, c'est la méthode `__str__` qui est recherchée en priorité, et seulement en dernier recours la méthode `__repr__`. En principe, cette dernière est supposée retourner un texte qui, si il était exécuté, recréerait l'objet original."
   ]
  },
  {
   "cell_type": "markdown",
   "metadata": {
    "internals": {},
    "slideshow": {
     "slide_type": "-"
    }
   },
   "source": [
    "## Objets-fonctions"
   ]
  },
  {
   "cell_type": "markdown",
   "metadata": {
    "internals": {},
    "slideshow": {
     "slide_type": "-"
    }
   },
   "source": [
    "En dotant une classe de la méthode `__call__`, les instances de cette classe peuvent être utilisées comme des fonctions. On parle d'objets-fonctions. Cela peut-être utile lorsqu'on veut utiliser un programme générique qui attend une fonction en paramètre, et que l'on veut lui donner à la place des objets qui savent se comporter en fonction, tout en ayant des paramètres internes."
   ]
  },
  {
   "cell_type": "code",
   "execution_count": null,
   "metadata": {
    "collapsed": false,
    "internals": {},
    "slideshow": {
     "slide_type": "-"
    }
   },
   "outputs": [],
   "source": [
    "class FonctionLineaire(object):\n",
    "    def __init__(self, a, b=0):\n",
    "        self.a, self.b = a, b    \n",
    "    def __call__(self, x):\n",
    "        return self.a * x + self.b\n",
    "    \n",
    "fois2 = FonctionLineaire(2)\n",
    "print(fois2(6))\n",
    "print(list(map(fois2,[1,2,3,4,5])))"
   ]
  },
  {
   "cell_type": "markdown",
   "metadata": {
    "internals": {},
    "slideshow": {
     "slide_type": "-"
    }
   },
   "source": [
    "Ce mécanisme est souvent le plus sain pour associer des données persistantes à une fonction, plutôt que l'utilisation de variables globales ou de fonctions imbriquées. (Notion de *Closure*)"
   ]
  },
  {
   "cell_type": "markdown",
   "metadata": {},
   "source": [
    "### Exercise: \n",
    "\n",
    "Créez la fonction `fois5plus4` à partir de `FonctionLineaire` définie ci-dessus. L'appliquez à la liste `[1,5,10,20,50]`. Le résultat doit être `[9, 29, 54, 104, 254]`\n",
    "\n"
   ]
  },
  {
   "cell_type": "markdown",
   "metadata": {
    "internals": {},
    "slideshow": {
     "slide_type": "-"
    }
   },
   "source": [
    "## Opérateurs mathématiques"
   ]
  },
  {
   "cell_type": "markdown",
   "metadata": {
    "internals": {},
    "slideshow": {
     "slide_type": "-"
    }
   },
   "source": [
    "Il est possible de permettre l'utilisation des opérateurs habituels avec vos nouvelles classes, en redéfinissant des méthodes spéciales au nom imposé :\n",
    "\n",
    "* `+` : `__add__(self,other)`\n",
    "* `-` : `__sub__(self,other)`\n",
    "* `*` : `__mul__(self,other)`\n",
    "* `/` : `__truediv__(self,other)`\n",
    "* `//` : `__floordiv__(self,other)`\n",
    "* `%` : `__mod__(self,other)`\n",
    "* `**` : `__pow__(self,other)`"
   ]
  },
  {
   "cell_type": "code",
   "execution_count": null,
   "metadata": {
    "collapsed": false,
    "internals": {},
    "slideshow": {
     "slide_type": "-"
    }
   },
   "outputs": [],
   "source": [
    "class Vecteur(object):\n",
    "    def __init__(self,u=0,v=0):\n",
    "        self.__x = u\n",
    "        self.__y = v\n",
    "        \n",
    "    def __add__(self, other):\n",
    "        if isinstance(other, Vecteur):\n",
    "          newx = self.__x + other.__x\n",
    "          newy = self.__y + other.__y\n",
    "          return Vecteur(newx, newy)\n",
    "    \n",
    "    def __str__(self):\n",
    "        return \"({:.0f},{:.0f})\".format(self.__x, self.__y)\n",
    "\n",
    "v1 = Vecteur(2, 3)\n",
    "v2 = Vecteur(-4, 7)\n",
    "v3 = v1 + v2\n",
    "\n",
    "print(v3)"
   ]
  },
  {
   "cell_type": "markdown",
   "metadata": {
    "internals": {},
    "slideshow": {
     "slide_type": "-"
    }
   },
   "source": [
    "## Index de séquence"
   ]
  },
  {
   "cell_type": "markdown",
   "metadata": {
    "internals": {},
    "slideshow": {
     "slide_type": "-"
    }
   },
   "source": [
    "À l'aide de la méthode `__getitem__()`, on peut implémenter l'opérateur `[]` sous toutes ses formes :"
   ]
  },
  {
   "cell_type": "code",
   "execution_count": null,
   "metadata": {
    "collapsed": false,
    "internals": {},
    "slideshow": {
     "slide_type": "-"
    }
   },
   "outputs": [],
   "source": [
    "class MonTexte(object):\n",
    "    def __init__(self,value):\n",
    "        self.data = value\n",
    "        \n",
    "    def __getitem__(self, index):\n",
    "        return self.data[index]\n",
    "\n",
    "    \n",
    "txt = MonTexte(\"Bonjour\")\n",
    "print(txt[2])"
   ]
  },
  {
   "cell_type": "code",
   "execution_count": null,
   "metadata": {
    "collapsed": false
   },
   "outputs": [],
   "source": [
    "print(txt[::-1])"
   ]
  },
  {
   "cell_type": "markdown",
   "metadata": {
    "internals": {},
    "slideshow": {
     "slide_type": "-"
    }
   },
   "source": [
    "En bonus, la présence de `__getitem__` permet d'utiliser un objet au sein d'une boucle `for`. L'interpréteur va invoquer cette méthode avec des valeurs entières croissantes, en commencant par `0`, et ce jusqu'à l'émission d'une exception `IndexError`."
   ]
  },
  {
   "cell_type": "code",
   "execution_count": null,
   "metadata": {
    "collapsed": false,
    "internals": {},
    "slideshow": {
     "slide_type": "-"
    }
   },
   "outputs": [],
   "source": [
    "for c in txt:\n",
    "    print(c)"
   ]
  },
  {
   "cell_type": "markdown",
   "metadata": {
    "internals": {},
    "slideshow": {
     "slide_type": "-"
    }
   },
   "source": [
    "En réalité, la présence de `__getitem__` permet d'utiliser un objet dans de multiples autres \"contextes d'itération\", tels que qu'un test d'appartenance `in`, une \"compréhension de liste\", la fonction prédéfinie `map`, l'assignation de séquences, ..."
   ]
  },
  {
   "cell_type": "code",
   "execution_count": null,
   "metadata": {
    "collapsed": false,
    "internals": {},
    "slideshow": {
     "slide_type": "-"
    }
   },
   "outputs": [],
   "source": [
    "'i' in txt"
   ]
  },
  {
   "cell_type": "code",
   "execution_count": null,
   "metadata": {
    "collapsed": false,
    "internals": {},
    "slideshow": {
     "slide_type": "-"
    }
   },
   "outputs": [],
   "source": [
    "[c for c in txt]"
   ]
  },
  {
   "cell_type": "code",
   "execution_count": null,
   "metadata": {
    "collapsed": false,
    "internals": {},
    "slideshow": {
     "slide_type": "-"
    }
   },
   "outputs": [],
   "source": [
    "list(map(ord, txt))"
   ]
  },
  {
   "cell_type": "code",
   "execution_count": null,
   "metadata": {
    "collapsed": false,
    "internals": {},
    "slideshow": {
     "slide_type": "-"
    }
   },
   "outputs": [],
   "source": [
    "(c1, c2, c3, c4, c5, c6, c7) = txt\n",
    "c3, c2, c1"
   ]
  },
  {
   "cell_type": "code",
   "execution_count": null,
   "metadata": {
    "collapsed": false,
    "internals": {},
    "slideshow": {
     "slide_type": "-"
    }
   },
   "outputs": [],
   "source": [
    "list(txt), tuple(txt), '-'.join(txt)"
   ]
  },
  {
   "cell_type": "markdown",
   "metadata": {},
   "source": [
    "## A propos des auteurs"
   ]
  },
  {
   "cell_type": "markdown",
   "metadata": {},
   "source": [
    "*Travail initié en 2014 dans le cadre d'une série de formations Python organisées par le réseau Devlog. Auteur principal : David Chamont. Contribution à la mise à jour pour Python 3 : Fabrice Mendes. Relecteurs : Nicolas Can, Sekou Diakite, Loic Gouarin et Christophe Halgand.*"
   ]
  },
  {
   "cell_type": "markdown",
   "metadata": {},
   "source": [
    "### Mise en forme"
   ]
  },
  {
   "cell_type": "code",
   "execution_count": null,
   "metadata": {
    "collapsed": false
   },
   "outputs": [],
   "source": [
    "# execute this part to modify the css style\n",
    "from IPython.core.display import HTML\n",
    "def css_styling():\n",
    "    styles = open(\"../../styles/custom.css\", \"r\").read()\n",
    "    return HTML(styles)\n",
    "css_styling()"
   ]
  }
 ],
 "metadata": {
  "kernelspec": {
   "display_name": "Python 3",
   "language": "python",
   "name": "python3"
  },
  "language_info": {
   "codemirror_mode": {
    "name": "ipython",
    "version": 3
   },
   "file_extension": ".py",
   "mimetype": "text/x-python",
   "name": "python",
   "nbconvert_exporter": "python",
   "pygments_lexer": "ipython3",
   "version": "3.5.1"
  }
 },
 "nbformat": 4,
 "nbformat_minor": 0
}
