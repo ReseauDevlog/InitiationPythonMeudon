{
 "cells": [
  {
   "cell_type": "markdown",
   "metadata": {},
   "source": [
    "*Ce notebook est distribué par Devlog sous licence Creative Commons - Attribution - Pas d’Utilisation Commerciale - Partage dans les Mêmes Conditions. La description complète de la license est disponible à l'adresse web http://creativecommons.org/licenses/by-nc-sa/4.0/.*"
   ]
  },
  {
   "cell_type": "markdown",
   "metadata": {
    "internals": {
     "slide_type": "subslide"
    },
    "slideshow": {
     "slide_type": "slide"
    }
   },
   "source": [
    "# Initiation Python - Objets 3/6 : Les objets composés"
   ]
  },
  {
   "cell_type": "markdown",
   "metadata": {
    "internals": {},
    "slideshow": {
     "slide_type": "-"
    }
   },
   "source": [
    "## Généralités"
   ]
  },
  {
   "cell_type": "markdown",
   "metadata": {
    "internals": {},
    "slideshow": {
     "slide_type": "-"
    }
   },
   "source": [
    "Un objet peut contenir des objets, qui peuvent contenir des objets, qui…\n",
    "On peut descendre dans les niveaux successifs en enchaînant les \".\" ."
   ]
  },
  {
   "cell_type": "code",
   "execution_count": null,
   "metadata": {
    "collapsed": false,
    "internals": {},
    "slideshow": {
     "slide_type": "-"
    }
   },
   "outputs": [],
   "source": [
    "class Vecteur(object): pass\n",
    "class Movement(object) : pass\n",
    "\n",
    "imp = Movement()\n",
    "imp.vitesse = Vecteur()\n",
    "imp.vitesse.x = 1.\n",
    "imp.vitesse.y = 0.\n",
    "imp.vitesse.z = 0.\n",
    "imp.masse = 10.\n",
    "\n",
    "print(imp.vitesse.x, imp.vitesse.y, imp.vitesse.z, imp.masse)"
   ]
  },
  {
   "cell_type": "markdown",
   "metadata": {},
   "source": [
    "<img src=\"img-objets/composition/composition.png\" width=307px>"
   ]
  },
  {
   "cell_type": "markdown",
   "metadata": {
    "internals": {},
    "slideshow": {
     "slide_type": "-"
    }
   },
   "source": [
    "## (Non)Chaînage des constructeurs"
   ]
  },
  {
   "cell_type": "markdown",
   "metadata": {
    "internals": {},
    "slideshow": {
     "slide_type": "-"
    }
   },
   "source": [
    "Dans un constructeur, il n'y a **pas d'appel automatique aux constructeurs des sous-parties** de l'objet courant, comme cela existe dans d'autres langages. Un objet n'a pas d'obligation de contenir des données, et donc tout ce qui est ajouté doit l'être explicitement, y compris dans les constructeurs."
   ]
  },
  {
   "cell_type": "code",
   "execution_count": null,
   "metadata": {
    "collapsed": false,
    "internals": {},
    "slideshow": {
     "slide_type": "-"
    }
   },
   "outputs": [],
   "source": [
    "class Vecteur(object):\n",
    "    def __init__(self):\n",
    "        self.x = 0\n",
    "        self.y = 0\n",
    "        self.z = 0\n",
    "    def __str__(self):\n",
    "        return \"{:d}|{:d}|{:d}\".format(self.x, self.y, self.z)\n",
    "        \n",
    "class Movement(object):\n",
    "    def __init__(self):\n",
    "        self.vitesse = Vecteur()\n",
    "        self.masse = 0\n",
    "    def __str__(self):\n",
    "        return \"{}|{:d}\".format(self.vitesse.__str__(), self.masse)\n",
    "\n",
    "i1 = Movement()\n",
    "print(\"({})\".format(i1))"
   ]
  },
  {
   "cell_type": "markdown",
   "metadata": {
    "internals": {},
    "slideshow": {
     "slide_type": "-"
    }
   },
   "source": [
    "Du point de vue de l'affectation, de la copie, de la comparaison, et de beaucoup d'autres opérations, un objet se comporte essentiellement comme un dictionnaire contenant des attributs."
   ]
  },
  {
   "cell_type": "markdown",
   "metadata": {},
   "source": [
    "<img src=\"img-objets/composition/composition-construction.png\" width=355px>"
   ]
  },
  {
   "cell_type": "markdown",
   "metadata": {
    "internals": {},
    "slideshow": {
     "slide_type": "-"
    }
   },
   "source": [
    "## Affectation et copie"
   ]
  },
  {
   "cell_type": "markdown",
   "metadata": {
    "internals": {},
    "slideshow": {
     "slide_type": "-"
    }
   },
   "source": [
    "Lorsqu'on affecte un objet à une variable, il n'y a pas de copie. Comme d'habitude, cela génère une nouvelle variable qui référence le même objet original. Dans l'exemple ci-dessous, on voit que si je modifie un attribut de `i2`, `i1` est également modifié."
   ]
  },
  {
   "cell_type": "code",
   "execution_count": null,
   "metadata": {
    "collapsed": false,
    "internals": {},
    "slideshow": {
     "slide_type": "-"
    }
   },
   "outputs": [],
   "source": [
    "i2 = i1\n",
    "i2.masse = 1\n",
    "print(\"({}), ({})\".format(i2, i1))"
   ]
  },
  {
   "cell_type": "markdown",
   "metadata": {},
   "source": [
    "<img src=\"img-objets/composition/composition-affectation.png\" width=328px>"
   ]
  },
  {
   "cell_type": "markdown",
   "metadata": {
    "internals": {},
    "slideshow": {
     "slide_type": "-"
    }
   },
   "source": [
    "Pour dupliquer un objet, on peut avoir recours au module `copy`, et à sa fonction `copy`. Ainsi, si je modifie maintenant un attribut de `i2`, l'attribut correspondant de `i1` est inchangé."
   ]
  },
  {
   "cell_type": "code",
   "execution_count": null,
   "metadata": {
    "collapsed": false,
    "internals": {},
    "slideshow": {
     "slide_type": "-"
    }
   },
   "outputs": [],
   "source": [
    "import copy\n",
    "i2 = copy.copy(i1)\n",
    "i2.masse = 2\n",
    "print(\"({}), ({})\".format(i2, i1))"
   ]
  },
  {
   "cell_type": "markdown",
   "metadata": {
    "internals": {},
    "slideshow": {
     "slide_type": "-"
    }
   },
   "source": [
    "Mais il s'agit d'une copie de surface. L'équivalent d'une affectation des attributs un à un :"
   ]
  },
  {
   "cell_type": "code",
   "execution_count": null,
   "metadata": {
    "collapsed": false,
    "internals": {},
    "slideshow": {
     "slide_type": "-"
    }
   },
   "outputs": [],
   "source": [
    "i2 = Impulsion()\n",
    "i2.vitesse = i1.vitesse # i2 = copy.copy(i1)\n",
    "i2.masse = i1.masse     # i2 = copy.copy(i1)\n",
    "i2.masse = 2\n",
    "print(\"({}), ({})\".format(i2, i1))"
   ]
  },
  {
   "cell_type": "markdown",
   "metadata": {},
   "source": [
    "<img src=\"img-objets/composition/composition-copie.png\" width=328px>"
   ]
  },
  {
   "cell_type": "markdown",
   "metadata": {
    "internals": {},
    "slideshow": {
     "slide_type": "-"
    }
   },
   "source": [
    "Comme au début, pour `i2 = i1`, l'instruction `i2.vitesse = i1.vitesse` ne duplique pas l'instance de `Vecteur`, mais fait en sorte que `i2.vitesse` et `i1.vitesse` désigne la même instance. Ainsi, si on change un attribut de `i2.vitesse`, on agit également sur `i1.vitesse` :"
   ]
  },
  {
   "cell_type": "code",
   "execution_count": null,
   "metadata": {
    "collapsed": false,
    "internals": {},
    "slideshow": {
     "slide_type": "-"
    }
   },
   "outputs": [],
   "source": [
    "i2.vitesse.z = 2\n",
    "print(\"({}), ({})\".format(i2, i1))"
   ]
  },
  {
   "cell_type": "markdown",
   "metadata": {
    "internals": {},
    "slideshow": {
     "slide_type": "-"
    }
   },
   "source": [
    "Si on souhaite dupliquer intégralement un objet et tous ses attributs à tous les niveaux, on préfèrera la fonction `deepcopy`. Dans l'exemple suivant, on modifie un sous-sous-attribut de `i2`, sans affecter `i1`."
   ]
  },
  {
   "cell_type": "code",
   "execution_count": null,
   "metadata": {
    "collapsed": false,
    "internals": {},
    "slideshow": {
     "slide_type": "-"
    }
   },
   "outputs": [],
   "source": [
    "i2 = copy.deepcopy(i1)\n",
    "i2.vitesse.y = 3\n",
    "print(\"({}), ({})\".format(i2, i1))"
   ]
  },
  {
   "cell_type": "markdown",
   "metadata": {},
   "source": [
    "<img src=\"img-objets/composition/composition-copie-profonde.png\" width=307px>"
   ]
  },
  {
   "cell_type": "markdown",
   "metadata": {
    "internals": {},
    "slideshow": {
     "slide_type": "-"
    }
   },
   "source": [
    "## Égalité et identité"
   ]
  },
  {
   "cell_type": "markdown",
   "metadata": {
    "internals": {},
    "slideshow": {
     "slide_type": "-"
    }
   },
   "source": [
    "Malheureusement, à la différence d'un dictionnaire, l'opérateur de comparaison `==` n'est pas capable de vérifier récursivement l'égalité de tous les données membres de l'objet. À la place, il se contente de vérifier que les deux variables désignent le même objet, à la façon d'un `is`. Pour obtenir le comportement \"logique\", il faut par exemple redéfinir l' opérateurs `__eq__` à tous les niveaux :"
   ]
  },
  {
   "cell_type": "code",
   "execution_count": null,
   "metadata": {
    "collapsed": false,
    "internals": {},
    "slideshow": {
     "slide_type": "-"
    }
   },
   "outputs": [],
   "source": [
    "class Vecteur(object):\n",
    "    def __init__(self, x=0, y=0, z=0):\n",
    "        self.__x, self.__y, self.__z = x, y, z\n",
    "        \n",
    "class Movement(object):\n",
    "    def __init__(self, x=0, y=0, z=0, m=0):\n",
    "        self.__vitesse = Vecteur(x,y,z)\n",
    "        self.__masse = m\n",
    "\n",
    "i1 = Movement(1,2,3,4)\n",
    "\n",
    "import copy\n",
    "i2 = copy.deepcopy(i1)\n",
    "\n",
    "(i1 is i2, i1==i2, i1!=i2)"
   ]
  },
  {
   "cell_type": "code",
   "execution_count": null,
   "metadata": {
    "collapsed": false,
    "internals": {},
    "slideshow": {
     "slide_type": "-"
    }
   },
   "outputs": [],
   "source": [
    "class Vecteur(object):\n",
    "    def __init__(self, x=0, y=0, z=0):\n",
    "        self.__x, self.__y, self.__z = x, y, z\n",
    "    def __eq__(self,other):\n",
    "        return ( self.__x==other.__x ) and ( self.__y==other.__y ) and ( self.__z==other.__z )\n",
    "        \n",
    "class Movement(object):\n",
    "    def __init__(self,x=0,y=0,z=0,m=0):\n",
    "        self.__vitesse = Vecteur(x,y,z)\n",
    "        self.__masse = m\n",
    "    def __eq__(self,other): \n",
    "        return ( self.__vitesse==other.__vitesse ) and ( self.__masse==other.__masse )\n",
    "\n",
    "i1 = Movement(1,2,3,4)\n",
    "\n",
    "import copy\n",
    "i2 = copy.deepcopy(i1)\n",
    "\n",
    "(i1 is i2, i1==i2, i1!=i2)"
   ]
  },
  {
   "cell_type": "markdown",
   "metadata": {},
   "source": [
    "## A propos des auteurs"
   ]
  },
  {
   "cell_type": "markdown",
   "metadata": {},
   "source": [
    "*Travail initié en 2014 dans le cadre d'une série de formations Python organisées par le réseau Devlog. Auteur principal : David Chamont. Contribution à la mise à jour pour Python 3 : Fabrice Mendes. Relecteurs : Nicolas Can, Sekou Diakite, Loic Gouarin et Christophe Halgand.*"
   ]
  },
  {
   "cell_type": "markdown",
   "metadata": {},
   "source": [
    "### Mise en forme"
   ]
  },
  {
   "cell_type": "code",
   "execution_count": null,
   "metadata": {
    "collapsed": false
   },
   "outputs": [],
   "source": [
    "# execute this part to modify the css style\n",
    "from IPython.core.display import HTML\n",
    "def css_styling():\n",
    "    styles = open(\"../../styles/custom.css\", \"r\").read()\n",
    "    return HTML(styles)\n",
    "css_styling()"
   ]
  }
 ],
 "metadata": {
  "kernelspec": {
   "display_name": "Python 3",
   "language": "python",
   "name": "python3"
  },
  "language_info": {
   "codemirror_mode": {
    "name": "ipython",
    "version": 3
   },
   "file_extension": ".py",
   "mimetype": "text/x-python",
   "name": "python",
   "nbconvert_exporter": "python",
   "pygments_lexer": "ipython3",
   "version": "3.5.1"
  }
 },
 "nbformat": 4,
 "nbformat_minor": 0
}
