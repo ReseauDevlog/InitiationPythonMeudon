{
 "cells": [
  {
   "cell_type": "markdown",
   "metadata": {},
   "source": [
    "*Ce notebook est distribué par Devlog sous licence Creative Commons - Attribution - Pas d’Utilisation Commerciale - Partage dans les Mêmes Conditions. La description complète de la license est disponible à l'adresse web http://creativecommons.org/licenses/by-nc-sa/4.0/.*"
   ]
  },
  {
   "cell_type": "markdown",
   "metadata": {
    "internals": {
     "slide_type": "subslide"
    },
    "slideshow": {
     "slide_type": "slide"
    }
   },
   "source": [
    "# Initiation Python - Objets 4/6 : L'héritage entre classes"
   ]
  },
  {
   "cell_type": "markdown",
   "metadata": {
    "internals": {},
    "slideshow": {
     "slide_type": "-"
    }
   },
   "source": [
    "## Généralités "
   ]
  },
  {
   "cell_type": "markdown",
   "metadata": {
    "internals": {},
    "slideshow": {
     "slide_type": "-"
    }
   },
   "source": [
    "Python permet d'exprimer une relation \"est une sorte de\" entre deux classes. Si `B` est une sorte de `A`, on s'attend à ce que les instances de `B` possèdent les attributs (données et méthodes) de cette classe, mais aussi tous ceux de `A`, puisque ces objets sont aussi une sorte de `A`. On dit que `B` hérite de `A`, ou dérive de `A`. On peut aussi qualifier `A` de \"classe mère\", de \"classe de base\", de \"super-classe\", et `B` de \"classe dérivée\", de \"classe fille\", de \"sous-classe\" de `A`.\n",
    "\n",
    "Pour hériter d'une classe mère, il suffit d’indiquer son nom entre parenthèses après le nom de la classe fille. La classe fille a accès à tous les attributs de la classe mère. En d'autres termes, quand on écrit `obj.x`, l'interpréteur cherche `x` dans l'instance, puis dans sa classe, puis dans la classe mère de cette classe, etc."
   ]
  },
  {
   "cell_type": "code",
   "execution_count": null,
   "metadata": {
    "collapsed": false,
    "internals": {},
    "slideshow": {
     "slide_type": "-"
    }
   },
   "outputs": [],
   "source": [
    "class A:\n",
    "    def x(self): return \"A\"\n",
    "    def y(self): return \"A\"\n",
    "    \n",
    "class B(A):\n",
    "    def z(self): return \"B\"\n",
    "    \n",
    "b = B()\n",
    "\n",
    "print(b.x(), b.y(), b.z())"
   ]
  },
  {
   "cell_type": "markdown",
   "metadata": {},
   "source": [
    "<img src=\"img-objets/heritage/heritage-simple.png\" width=167px>"
   ]
  },
  {
   "cell_type": "markdown",
   "metadata": {
    "internals": {},
    "slideshow": {
     "slide_type": "-"
    }
   },
   "source": [
    "## Surcharge"
   ]
  },
  {
   "cell_type": "markdown",
   "metadata": {
    "internals": {},
    "slideshow": {
     "slide_type": "-"
    }
   },
   "source": [
    "Une classe dérivée peut ajouter de nouveaux attributs, qu'il s'agisse de données ou de méthodes. Elle peut aussi redéfinir un des attributs de la classe de base, auquel cas, pour les instances de la classe dérivée, c'est la nouvelle définition qui sera trouvée la première, et utilisée. On parle de \"surcharge\"."
   ]
  },
  {
   "cell_type": "code",
   "execution_count": null,
   "metadata": {
    "collapsed": false,
    "internals": {},
    "slideshow": {
     "slide_type": "-"
    }
   },
   "outputs": [],
   "source": [
    "class A:\n",
    "    def x(self): return \"A\"\n",
    "    def y(self): return \"A\"\n",
    "    def z(self): return \"A\"\n",
    "    \n",
    "class B(A):\n",
    "    def x(self): return \"B\"\n",
    "    def t(self): return \"B\"\n",
    "    \n",
    "b = B()\n",
    "\n",
    "print(b.x(), b.y(), b.z(), b.t())"
   ]
  },
  {
   "cell_type": "markdown",
   "metadata": {},
   "source": [
    "<img src=\"img-objets/heritage/heritage-surcharge.png\" width=192px>"
   ]
  },
  {
   "cell_type": "markdown",
   "metadata": {
    "internals": {},
    "slideshow": {
     "slide_type": "-"
    }
   },
   "source": [
    "## Héritage multiple"
   ]
  },
  {
   "cell_type": "markdown",
   "metadata": {
    "internals": {},
    "slideshow": {
     "slide_type": "-"
    }
   },
   "source": [
    "Une classe peut hériter de plusieurs autres en même temps (on donne alors une liste de noms séparés par des virgules). L'ordre de gauche à droite des classes parentes est respecté lorsque l'interpréteur Python recherche un nom (donnée ou méthode)."
   ]
  },
  {
   "cell_type": "code",
   "execution_count": null,
   "metadata": {
    "collapsed": false,
    "internals": {},
    "slideshow": {
     "slide_type": "-"
    }
   },
   "outputs": [],
   "source": [
    "class A1:\n",
    "    def x(self): return \"A1\"\n",
    "    \n",
    "class A2:\n",
    "    def x(self): return \"A2\"\n",
    "    \n",
    "class B(A1, A2):\n",
    "    pass\n",
    "\n",
    "b = B()\n",
    "print(b.x())"
   ]
  },
  {
   "cell_type": "markdown",
   "metadata": {},
   "source": [
    "<img src=\"img-objets/heritage/heritage-multiple.png\" width=201px>"
   ]
  },
  {
   "cell_type": "markdown",
   "metadata": {
    "internals": {},
    "slideshow": {
     "slide_type": "-"
    }
   },
   "source": [
    "## Arborescence d'héritage"
   ]
  },
  {
   "cell_type": "markdown",
   "metadata": {
    "internals": {},
    "slideshow": {
     "slide_type": "-"
    }
   },
   "source": [
    "En plus de l'héritage multiple, chaque classe de base peut à son tour hériter d'une autre classe, etc. L'ensemble des classes dont hérite une instance forme ainsi une arborescence parfois complexe. Dans cette arborescence, la recherche d'un attribut se fait de bas en haut et de gauche à droite, en profondeur d'abord, mais en faisant en sorte qu'une classe de base ne soit jamais explorée avant que toutes ses dérivées le soient. Ainsi, dans l'exemple ci-dessous, `A` est prioritaire sur `C`, mais pas sur `B2` :"
   ]
  },
  {
   "cell_type": "code",
   "execution_count": null,
   "metadata": {
    "collapsed": false,
    "internals": {},
    "slideshow": {
     "slide_type": "-"
    }
   },
   "outputs": [],
   "source": [
    "class A:\n",
    "    def x(self): return \"A\"\n",
    "    def y(self): return \"A\"\n",
    "    def z(self): return \"A\"\n",
    "    \n",
    "class B1(A):\n",
    "    pass\n",
    "    \n",
    "class B2(A):\n",
    "    def x(self): return \"B2\"\n",
    "    \n",
    "class C:\n",
    "    def y(self): return \"C\"\n",
    "    def z(self): return \"C\"\n",
    "    \n",
    "class D(B1, B2, C):\n",
    "    z = C.z\n",
    "\n",
    "d = D()\n",
    "print(d.x(), d.y(), d.z())"
   ]
  },
  {
   "cell_type": "markdown",
   "metadata": {},
   "source": [
    "<img src=\"img-objets/heritage/heritage-arborescence.png\" width=305px>"
   ]
  },
  {
   "cell_type": "markdown",
   "metadata": {
    "internals": {},
    "slideshow": {
     "slide_type": "-"
    }
   },
   "source": [
    "L'ordre de parcours des classes est appelé le **MRO** (Method Resolution Order).\n",
    "\n",
    "On voit aussi, dans l'exemple ci-dessus, que l'on peut explicitement copier la méthode `z` de `C` dans `D`. Ainsi, tout appel à la méthode `z` pour une instance de `D` se trouve redirigé vers la méthode de `C` (au lieu de `A`)."
   ]
  },
  {
   "cell_type": "markdown",
   "metadata": {
    "internals": {},
    "slideshow": {
     "slide_type": "-"
    }
   },
   "source": [
    "## Chaque recherche d'attribut est indépendante et repart de `self`"
   ]
  },
  {
   "cell_type": "markdown",
   "metadata": {
    "internals": {},
    "slideshow": {
     "slide_type": "-"
    }
   },
   "source": [
    "Lorsque j'appelle une méthode m1 de l'objet obj, cette méthode est recherchée dans l'arborescence de classes de obj. Si, à son tour, m1 appelle une autre méthode m2, la recherche de m2 repart de obj (et pas de la classe de m1). En C++, on dirait que toutes les méthodes sont virtuelles et toutes les variables polymorphiques."
   ]
  },
  {
   "cell_type": "code",
   "execution_count": null,
   "metadata": {
    "collapsed": false,
    "internals": {},
    "slideshow": {
     "slide_type": "-"
    }
   },
   "outputs": [],
   "source": [
    "class A:\n",
    "    def x(self): return \"A\"\n",
    "    def y(self): return \"A\"\n",
    "    def affichex(self): print( self.x() )\n",
    "    \n",
    "class B1(A):\n",
    "    pass\n",
    "    \n",
    "class B2(A):\n",
    "    def x(self): return \"B2\"\n",
    "    \n",
    "class C:\n",
    "    def x(self): return \"C\"\n",
    "    def affichey(self): print(self.y())\n",
    "    \n",
    "class D(B1, B2, C):\n",
    "    pass\n",
    "\n",
    "d = D()\n",
    "d.affichex()\n",
    "d.affichey()"
   ]
  },
  {
   "cell_type": "markdown",
   "metadata": {},
   "source": [
    "<img src=\"img-objets/heritage/heritage-self.png\" width=305px>"
   ]
  },
  {
   "cell_type": "markdown",
   "metadata": {},
   "source": [
    "Si on transforme les méthodes `x()` et `y()` en attributs pseudo-privés, ces attributs ne sont visibles qu'aux méthodes de leurs classes respectives, et ces méthodes utiliseront exclusivement ces attributs."
   ]
  },
  {
   "cell_type": "code",
   "execution_count": null,
   "metadata": {
    "collapsed": false
   },
   "outputs": [],
   "source": [
    "class A:\n",
    "    def __x(self): return \"A\"\n",
    "    def __y(self): return \"A\"\n",
    "    def affichex(self): print(self.__x())\n",
    "    \n",
    "class B1(A):\n",
    "    pass\n",
    "    \n",
    "class B2(A):\n",
    "    def __x(self): return \"B2\"\n",
    "    \n",
    "class C:\n",
    "    def __y(self): return \"C\"\n",
    "    def affichey(self): print(self.__y())\n",
    "    \n",
    "class D(B1, B2, C):\n",
    "    pass\n",
    "\n",
    "d = D()\n",
    "d.affichex()\n",
    "d.affichey()"
   ]
  },
  {
   "cell_type": "markdown",
   "metadata": {},
   "source": [
    "<img src=\"img-objets/heritage/heritage-pseudo-prive.png\" width=316px>"
   ]
  },
  {
   "cell_type": "markdown",
   "metadata": {
    "internals": {},
    "slideshow": {
     "slide_type": "-"
    }
   },
   "source": [
    "## Réutiliser explicitement une méthode de base"
   ]
  },
  {
   "cell_type": "markdown",
   "metadata": {
    "internals": {},
    "slideshow": {
     "slide_type": "-"
    }
   },
   "source": [
    "Lorsqu'une méthode est redéfinie dans une classe dérivée, on dit qu'elle est surchargée. Plutôt que de réécrire toutes les instructions, il peut être utile de commencer par exécuter le code de la méthode de la classe de base. C'est particulièrement vrai pour les méthodes spéciales, telles que les constructeurs. Il est assez facile d'appeler explicitement une méthode de base en passant par le nom de la classe :"
   ]
  },
  {
   "cell_type": "code",
   "execution_count": null,
   "metadata": {
    "collapsed": false,
    "internals": {},
    "slideshow": {
     "slide_type": "-"
    }
   },
   "outputs": [],
   "source": [
    "class Fruit:\n",
    "    def __init__(self, couleur, variete=''):\n",
    "        self.__couleur = couleur\n",
    "        self.__variete = variete\n",
    "        \n",
    "    def __str__(self):\n",
    "        if (self.__variete!=''):\n",
    "            return \"{} {}\".format(self.__variete, self.__couleur)\n",
    "        else:\n",
    "            return \"fruit {}\".format(self.__couleur)\n",
    "\n",
    "class Pomme(Fruit):\n",
    "    def __init__(self, couleur, variete='golden'):\n",
    "        Fruit.__init__(self, couleur, variete)\n",
    "        \n",
    "    def __str__(self):\n",
    "        return (\"pomme \" + Fruit.__str__(self))\n",
    "\n",
    "    \n",
    "p = Pomme('rouge')\n",
    "p2 = Pomme('verte', 'grany')\n",
    "print(p)\n",
    "print(p2)"
   ]
  },
  {
   "cell_type": "markdown",
   "metadata": {},
   "source": [
    "<img src=\"img-objets/heritage/heritage-pomme.png\" width=183px>"
   ]
  },
  {
   "cell_type": "markdown",
   "metadata": {
    "internals": {},
    "slideshow": {
     "slide_type": "-"
    }
   },
   "source": [
    "On peut remplacer l'appel explicite à la classe de base par un appel à la fonction prédéfinie `super()`. Dans le cas d'un héritage simple, cela permet ensuite de revoir les classe de base sans avoir à corriger tous les appels directs aux méthodes de la classe de base."
   ]
  },
  {
   "cell_type": "code",
   "execution_count": null,
   "metadata": {
    "collapsed": false,
    "internals": {},
    "slideshow": {
     "slide_type": "-"
    }
   },
   "outputs": [],
   "source": [
    "class Pomme(Fruit):\n",
    "    def __init__(self, couleur, variete='golden'):\n",
    "        super().__init__(couleur,variete)\n",
    "    def __str__(self):\n",
    "        return (\"pomme \" + super().__str__())\n",
    "\n",
    "p = Pomme('rouge')\n",
    "print(p)"
   ]
  },
  {
   "cell_type": "markdown",
   "metadata": {
    "internals": {},
    "slideshow": {
     "slide_type": "-"
    }
   },
   "source": [
    "En cas d'héritage multiple, `super()` *retourne le parent le plus proche* en suivant le chemin habituellement parcouru pour rechercher un attribut (MRO). Ainsi, si les méthodes de même nom s'appellent en chaîne à travers super(), on parcourt l'ensemble de l'arborescence."
   ]
  },
  {
   "cell_type": "code",
   "execution_count": null,
   "metadata": {
    "collapsed": false,
    "internals": {},
    "slideshow": {
     "slide_type": "-"
    }
   },
   "outputs": [],
   "source": [
    "class A(object):\n",
    "    def x(self):\n",
    "        print(\"<A>\")\n",
    "        print(\"</A>\")\n",
    "    \n",
    "class B1(A):\n",
    "    def x(self):\n",
    "        print(\"<B1>\")\n",
    "        super().x()\n",
    "        print(\"</B1>\")\n",
    "    \n",
    "class B2(A):\n",
    "    def x(self):\n",
    "        print(\"<B2>\")\n",
    "        super().x()\n",
    "        print(\"</B2>\")\n",
    "    \n",
    "class C(B1, B2):\n",
    "    def x(self):\n",
    "        print(\"<C>\")\n",
    "        super().x()\n",
    "        print(\"</C>\")\n",
    "\n",
    "c = C()\n",
    "c.x()"
   ]
  },
  {
   "cell_type": "markdown",
   "metadata": {},
   "source": [
    "<img src=\"img-objets/heritage/heritage-super.png\" width=183px>"
   ]
  },
  {
   "cell_type": "markdown",
   "metadata": {
    "internals": {},
    "slideshow": {
     "slide_type": "-"
    }
   },
   "source": [
    "*PYTHON 2 : avant 2.2, toutes les classes sont dites de style \"ancien\", avec des règles d'héritage légèrement différentes ; à partir de 2.2, pour qu'une classe soit de style \"nouveau\" (style par défaut de Python 3), il faut que la classe hérite de la classe object, directement ou indirectement.*\n"
   ]
  },
  {
   "cell_type": "markdown",
   "metadata": {},
   "source": [
    "*PYTHON 2 : lors de l'apparition de la méthode super(), il fallait lui passer en argument le nom de la classe et de l'objet courants, par exemple dans la fonction x() de la classe C ci-dessus, il fallait appeler super(C,self).x().*"
   ]
  },
  {
   "cell_type": "markdown",
   "metadata": {},
   "source": [
    "## A propos des auteurs"
   ]
  },
  {
   "cell_type": "markdown",
   "metadata": {},
   "source": [
    "*Travail initié en 2014 dans le cadre d'une série de formations Python organisées par le réseau Devlog. Auteur principal : David Chamont. Contribution à la mise à jour pour Python 3 : Fabrice Mendes. Relecteurs : Nicolas Can, Sekou Diakite, Loic Gouarin et Christophe Halgand.*"
   ]
  },
  {
   "cell_type": "markdown",
   "metadata": {},
   "source": [
    "### Mise en forme"
   ]
  },
  {
   "cell_type": "code",
   "execution_count": null,
   "metadata": {
    "collapsed": false
   },
   "outputs": [],
   "source": [
    "# execute this part to modify the css style\n",
    "from IPython.core.display import HTML\n",
    "def css_styling():\n",
    "    styles = open(\"../../styles/custom.css\", \"r\").read()\n",
    "    return HTML(styles)\n",
    "css_styling()"
   ]
  }
 ],
 "metadata": {
  "kernelspec": {
   "display_name": "Python 3",
   "language": "python",
   "name": "python3"
  },
  "language_info": {
   "codemirror_mode": {
    "name": "ipython",
    "version": 3
   },
   "file_extension": ".py",
   "mimetype": "text/x-python",
   "name": "python",
   "nbconvert_exporter": "python",
   "pygments_lexer": "ipython3",
   "version": "3.4.3"
  }
 },
 "nbformat": 4,
 "nbformat_minor": 0
}
