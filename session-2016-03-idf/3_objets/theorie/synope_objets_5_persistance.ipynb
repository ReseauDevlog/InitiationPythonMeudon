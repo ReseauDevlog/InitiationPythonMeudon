{
 "cells": [
  {
   "cell_type": "markdown",
   "metadata": {},
   "source": [
    "*Ce notebook est distribué par Devlog sous licence Creative Commons - Attribution - Pas d’Utilisation Commerciale - Partage dans les Mêmes Conditions. La description complète de la license est disponible à l'adresse web http://creativecommons.org/licenses/by-nc-sa/4.0/.*"
   ]
  },
  {
   "cell_type": "markdown",
   "metadata": {},
   "source": [
    "# Initiation Python - Objets 5/6 : Sauvegarde et reconstruction d'objets"
   ]
  },
  {
   "cell_type": "markdown",
   "metadata": {},
   "source": [
    "## Généralités "
   ]
  },
  {
   "cell_type": "markdown",
   "metadata": {},
   "source": [
    "* Les objets sont dit \"persistants\" lorsqu'ils ne disparaissent pas à la fin du programme Python en cours. Cela consiste en général à les \"sérialiser\", c'est à dire en produire une représentation binaire compacte, et à stocker cette représentation dans un fichier.\n",
    "* En Python, la persistance repose sur des modules de la libraire standard, tels que `pickle` et `shelve`."
   ]
  },
  {
   "cell_type": "markdown",
   "metadata": {},
   "source": [
    "## Pickle / cPickle"
   ]
  },
  {
   "cell_type": "markdown",
   "metadata": {},
   "source": [
    "* Ce module est capable de transformer en flot d'octets n'importe quel objet en mémoire. Ces octets peuvent être écrits dans un fichier, envoyés par réseau, etc.\n",
    "* À l'inverse, le module peut lire et recréer en mémoire les objets d'un fichier, l'un après l'autre.\n",
    "* Quand c'est disponible, préférez cPickle, écrit en C et plus rapide.\n",
    "* **ATTENTION** : pas de garantie de portabilité de vos données entre des plateformes différentes."
   ]
  },
  {
   "cell_type": "code",
   "execution_count": null,
   "metadata": {
    "collapsed": false
   },
   "outputs": [],
   "source": [
    "class Vecteur:\n",
    "    def __init__(self,u=0,v=0):\n",
    "        self.x = u\n",
    "        self.y = v\n",
    "    def __str__(self):\n",
    "        return \"({:.0f},{:.0f})\".format(self.x, self.y)\n",
    "\n",
    "v1 = Vecteur(1, 2)\n",
    "v2 = Vecteur(3, 4)\n",
    "\n",
    "import pickle\n",
    "\n",
    "fw = open('vecteurs.pkl','wb') # fw = open('vecteurs.pkl','w') en Python2\n",
    "pickle.dump(v1, fw)\n",
    "pickle.dump(v2, fw)\n",
    "fw.close()\n",
    "\n",
    "fr = open('vecteurs.pkl','rb')\n",
    "print(pickle.load(fr))\n",
    "print(pickle.load(fr))\n",
    "fr.close()"
   ]
  },
  {
   "cell_type": "markdown",
   "metadata": {},
   "source": [
    "* [documentation python 3](http://docs.python.org/3.3/library/pickle.html) \n",
    "* [documentation python 2](http://docs.python.org/2.7/library/pickle.html)"
   ]
  },
  {
   "cell_type": "markdown",
   "metadata": {},
   "source": [
    "## Shelve "
   ]
  },
  {
   "cell_type": "markdown",
   "metadata": {},
   "source": [
    "* Ce module permet de ranger des objets dans un fichier, non pas séquentiellement, mais en les associant à des noms.\n",
    "* Le fichier est manipulé comme si il s'agissait d'un dictionnaire."
   ]
  },
  {
   "cell_type": "code",
   "execution_count": null,
   "metadata": {
    "collapsed": false
   },
   "outputs": [],
   "source": [
    "class Vecteur:\n",
    "    def __init__(self,u=0,v=0):\n",
    "        self.x = u\n",
    "        self.y = v\n",
    "    def __str__(self):\n",
    "        return \"({:.0f},{:.0f})\".format(self.x, self.y)\n",
    "\n",
    "import shelve\n",
    "\n",
    "s = shelve.open('vecteurs.db')\n",
    "s['v1'] = Vecteur(1,2)\n",
    "s['v2'] = Vecteur(3,4)\n",
    "s.close()\n",
    "\n",
    "#...\n",
    "\n",
    "s = shelve.open('vecteurs.db')\n",
    "print(list(s.keys()))\n",
    "print(s['v1'])\n",
    "print(s['v2'])\n",
    "s.close()"
   ]
  },
  {
   "cell_type": "markdown",
   "metadata": {},
   "source": [
    "* [documentation python 3](http://docs.python.org/3.3/library/shelve.html)\n",
    "* [documentation python 2](http://docs.python.org/2.7/library/shelve.html)"
   ]
  },
  {
   "cell_type": "markdown",
   "metadata": {},
   "source": [
    "## A propos des auteurs"
   ]
  },
  {
   "cell_type": "markdown",
   "metadata": {},
   "source": [
    "*Travail initié en 2014 dans le cadre d'une série de formations Python organisées par le réseau Devlog. Auteur principal : David Chamont. Contribution à la mise à jour pour Python 3 : Fabrice Mendes. Relecteurs : Nicolas Can, Sekou Diakite, Loic Gouarin et Christophe Halgand.*"
   ]
  },
  {
   "cell_type": "markdown",
   "metadata": {},
   "source": [
    "### Mise en forme"
   ]
  },
  {
   "cell_type": "code",
   "execution_count": null,
   "metadata": {
    "collapsed": false
   },
   "outputs": [],
   "source": [
    "# execute this part to modify the css style\n",
    "from IPython.core.display import HTML\n",
    "def css_styling():\n",
    "    styles = open(\"../../styles/custom.css\", \"r\").read()\n",
    "    return HTML(styles)\n",
    "css_styling()"
   ]
  }
 ],
 "metadata": {
  "kernelspec": {
   "display_name": "Python 3",
   "language": "python",
   "name": "python3"
  },
  "language_info": {
   "codemirror_mode": {
    "name": "ipython",
    "version": 3
   },
   "file_extension": ".py",
   "mimetype": "text/x-python",
   "name": "python",
   "nbconvert_exporter": "python",
   "pygments_lexer": "ipython3",
   "version": "3.4.3"
  }
 },
 "nbformat": 4,
 "nbformat_minor": 0
}
