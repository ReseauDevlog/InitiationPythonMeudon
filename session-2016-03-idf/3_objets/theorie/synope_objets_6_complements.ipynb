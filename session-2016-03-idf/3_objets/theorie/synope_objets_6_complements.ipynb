{
 "cells": [
  {
   "cell_type": "markdown",
   "metadata": {},
   "source": [
    "*Ce notebook est distribué par Devlog sous licence Creative Commons - Attribution - Pas d’Utilisation Commerciale - Partage dans les Mêmes Conditions. La description complète de la license est disponible à l'adresse web http://creativecommons.org/licenses/by-nc-sa/4.0/.*"
   ]
  },
  {
   "cell_type": "markdown",
   "metadata": {},
   "source": [
    "# Initiation Python - Objets 6/6 : Compléments"
   ]
  },
  {
   "cell_type": "markdown",
   "metadata": {},
   "source": [
    "## Attributs cachés"
   ]
  },
  {
   "cell_type": "markdown",
   "metadata": {},
   "source": [
    "Dans un objet, les attributs ordinaires sont stockés dans un attribut spécial nommé `__dict__`. Chaque instance possède également un attribut nommé `__class__` qui pointe vers sa classe."
   ]
  },
  {
   "cell_type": "markdown",
   "metadata": {},
   "source": [
    "Dans une classe, on trouve également des attributs spéciaux :\n",
    "* `__doc__`: documentation de la classe,\n",
    "* `__dict__` :  attributs de la classe,\n",
    "* `__name__` : nom de la classe, \n",
    "* `__bases__` : tuple contenant les classes de bases de la classe courante.\n",
    "* `__mro__` : ordre de parcours des ancêtres de la classe.\n",
    "* `__module__` : nom du module où la classe est définie (`__main__` en mode interactif)."
   ]
  },
  {
   "cell_type": "code",
   "execution_count": null,
   "metadata": {
    "collapsed": false
   },
   "outputs": [],
   "source": [
    "class A1 : pass\n",
    "class A2 : pass\n",
    "\n",
    "class B(A1, A2):\n",
    "    def __init__(self, value):\n",
    "        self.data = value\n",
    "    def display(self) : \n",
    "        print(\"data:\", self.data)\n",
    "        \n",
    "b = B(\"abc\")\n",
    "print(b.__dict__)"
   ]
  },
  {
   "cell_type": "code",
   "execution_count": null,
   "metadata": {
    "collapsed": false
   },
   "outputs": [],
   "source": [
    "print(b.__dict__['data'])"
   ]
  },
  {
   "cell_type": "code",
   "execution_count": null,
   "metadata": {
    "collapsed": false
   },
   "outputs": [],
   "source": [
    "print( b.__class__, )"
   ]
  },
  {
   "cell_type": "code",
   "execution_count": null,
   "metadata": {
    "collapsed": false
   },
   "outputs": [],
   "source": [
    "print(b.__class__.__name__)"
   ]
  },
  {
   "cell_type": "code",
   "execution_count": null,
   "metadata": {
    "collapsed": false
   },
   "outputs": [],
   "source": [
    "print(b.__class__.__bases__)"
   ]
  },
  {
   "cell_type": "code",
   "execution_count": null,
   "metadata": {
    "collapsed": false
   },
   "outputs": [],
   "source": [
    "print(b.__class__.__dict__)"
   ]
  },
  {
   "cell_type": "markdown",
   "metadata": {},
   "source": [
    "## Attributs pseudo-privés"
   ]
  },
  {
   "cell_type": "markdown",
   "metadata": {},
   "source": [
    "Au sein d'une instruction composée `class`, tous les noms qui sont préfixés par un double souligné `__` (et non à la fin), sont \"magiquement\" manipulés par l'interpréteur Python qui insère devant le nom un simple souligné `_` et le nom de la classe courante. Ainsi, les attributs recoivent un nom qui devient spécifique à la classe, et qui ne risque plus d'être redéfini par erreur dans les classes dérivées. On parle d'attributs \"pseudo-privés\", non pas parce que l'accès à ces attributs est véritablement interdit, mais parce que l'altération automatique de leurs noms complique leur accès de l'extérieur. "
   ]
  },
  {
   "cell_type": "code",
   "execution_count": null,
   "metadata": {
    "collapsed": false
   },
   "outputs": [],
   "source": [
    "class Demo:\n",
    "    public_data = \"public data\"\n",
    "    __private_data = \"private data\"\n",
    "    def public_method(self): print(\"public method()\")\n",
    "    def __private_method(self): print(\"private method()\")\n",
    "    \n",
    "dir(Demo)"
   ]
  },
  {
   "cell_type": "code",
   "execution_count": null,
   "metadata": {
    "collapsed": false
   },
   "outputs": [],
   "source": [
    "print(Demo.public_data)"
   ]
  },
  {
   "cell_type": "code",
   "execution_count": null,
   "metadata": {
    "collapsed": false
   },
   "outputs": [],
   "source": [
    "print(Demo.__private_data)"
   ]
  },
  {
   "cell_type": "code",
   "execution_count": null,
   "metadata": {
    "collapsed": false
   },
   "outputs": [],
   "source": [
    "print(Demo._Demo__private_data)"
   ]
  },
  {
   "cell_type": "code",
   "execution_count": null,
   "metadata": {
    "collapsed": false
   },
   "outputs": [],
   "source": [
    "d = Demo()\n",
    "d.public_method()"
   ]
  },
  {
   "cell_type": "code",
   "execution_count": null,
   "metadata": {
    "collapsed": false
   },
   "outputs": [],
   "source": [
    "d.__private_method()"
   ]
  },
  {
   "cell_type": "code",
   "execution_count": null,
   "metadata": {
    "collapsed": false
   },
   "outputs": [],
   "source": [
    "d._Demo__private_method()"
   ]
  },
  {
   "cell_type": "markdown",
   "metadata": {},
   "source": [
    "À la différence d'autres langages, toutes les données d'un objet réside dans l'objet lui-même, quelle que soit la classe et la méthode à l'origine de ces données. Cela peut générer des interactions involontaires, en particulier dans le cas d'un héritage multiple venant de classes issues de développeurs indépendants. Les attributs pseudo-privés évitent ces interactions non voulues. "
   ]
  },
  {
   "cell_type": "code",
   "execution_count": null,
   "metadata": {
    "collapsed": false
   },
   "outputs": [],
   "source": [
    "class C1:\n",
    "    def set1(self): self.__X = 1\n",
    "    def get1(self): return self.__X\n",
    "        \n",
    "class C2:\n",
    "    def set2(self): self.__X = 2\n",
    "    def get2(self): return self.__X\n",
    "        \n",
    "class C3(C1, C2):\n",
    "    # Combien de X ?\n",
    "    pass\n",
    "\n",
    "obj = C3()\n",
    "obj.set1()\n",
    "obj.set2()\n",
    "print(obj.get1(), obj.get2())"
   ]
  },
  {
   "cell_type": "markdown",
   "metadata": {},
   "source": [
    "## Propriétés"
   ]
  },
  {
   "cell_type": "markdown",
   "metadata": {},
   "source": [
    "On peut définir dans une classe des attributs particuliers de type \"propriété\" (property). Ces propriétés ressemblent à des variables membres, et s'utilisent comme des variables membres, mais en réalité le fait de lire une propriété déclenche l'utilisation du \"getter\" qui lui est attaché, et le fait d'affecter une nouvelle valeur à cette propriété déclenche l'utilisation du \"setter\" attaché (si et seulement si il est défini). Typiquement, \"getter\" et \"setter\" manipulent une variable interne pseudo-privée."
   ]
  },
  {
   "cell_type": "markdown",
   "metadata": {},
   "source": [
    "Ci-dessous, nous définissons pour la classe `Vector` des propriétés `x` et `y`, dont la lecture déclenche un appel à `getx()` ou `gety()`, qui renvoient les valeurs des variables pseudo-privées `__x` ou `__y` des instances de `Vector`. Seule la propriété `x` a été associée à un \"setter\". `y`, en l'absence de \"setter\", est en lecture seule : on ne peut pas lui affecter de valeur (par contre on peut le faire sur `__y` via `init()`)."
   ]
  },
  {
   "cell_type": "code",
   "execution_count": null,
   "metadata": {
    "collapsed": false
   },
   "outputs": [],
   "source": [
    "class Vector:    \n",
    "    def init(self,u=0,v=0):\n",
    "        self.__x = u\n",
    "        self.__y = v\n",
    "    def getx(self):\n",
    "        return self.__x\n",
    "    def setx(self,u):\n",
    "        self.__x = u    \n",
    "    x = property(getx, setx) #Ugly\n",
    "    def gety(self):\n",
    "        return self.__y\n",
    "    y = property(gety)\n",
    "\n",
    "v = Vector()\n",
    "v.init(3, -4)\n",
    "print(v.x, v.y)\n",
    "v.x = 2\n",
    "print(v.x)"
   ]
  },
  {
   "cell_type": "code",
   "execution_count": null,
   "metadata": {
    "collapsed": false
   },
   "outputs": [],
   "source": [
    "v.y = 5"
   ]
  },
  {
   "cell_type": "markdown",
   "metadata": {},
   "source": [
    "Ce qui est remarquable ici, c'est que Python ne force pas une encapsulation précoce et inutile. On peut très bien développer une première version de classe avec des attributs publics, avoir des clients, puis décider ultérieurement d'en faire des propriétés, si le besoin s'en fait sentir."
   ]
  },
  {
   "cell_type": "markdown",
   "metadata": {},
   "source": [
    "On a vu aussi, dans notre exemple, qu'il est facile de faire des propriétés \"read-only\" en ne déclarant que les \"getters\". Il est cependant plus classique de fournir à la fois la méthode de lecture et d'écriture, notamment pour controler qu'on n'enregistre que des valeurs valides dans une propriété. Par exemple, si nos vecteurs ne peuvent contenir que des valeurs entre -1 et 1 :"
   ]
  },
  {
   "cell_type": "code",
   "execution_count": null,
   "metadata": {
    "collapsed": false
   },
   "outputs": [],
   "source": [
    "class Vector:\n",
    "    def init(self, u=0, v=0):\n",
    "        self.x = u\n",
    "        self.y = v\n",
    "    def getx(self):\n",
    "        return self.__x\n",
    "    def setx(self,x):\n",
    "        if (x<-1): self.__x = -1\n",
    "        elif (x>1): self.__x = 1\n",
    "        else: self.__x = x\n",
    "    x = property(getx,setx)\n",
    "    def gety(self):\n",
    "        return self.__y\n",
    "    def sety(self,y):\n",
    "        if (y<-1): self.__y = -1\n",
    "        elif (y>1): self.__y = 1\n",
    "        else: self.__y = y\n",
    "    y = property(gety,sety)\n",
    "\n",
    "v = Vector()\n",
    "v.init(3, -4)\n",
    "print(v.x, v.y)"
   ]
  },
  {
   "cell_type": "markdown",
   "metadata": {},
   "source": [
    "## Variables de classe"
   ]
  },
  {
   "cell_type": "markdown",
   "metadata": {},
   "source": [
    "On peut ajouter des données à une classe (et pas seulement des méthodes), auquel cas elles sont en quelque sorte partagées et visibles pour toutes les instances de la classe.\n",
    "\n",
    "En effet, quand vous demandez à lire la donnée nommée `x` de l'instance `obj`, ce qui se note `obj.x`, l'interpréteur Python cherche d'abord le nom dans l'instance elle-même, puis à défaut dans la classe, puis dans ses ancêtres, comme pour n'importe quel attribut.\n",
    "\n",
    "Dans l'exemple ci-dessous, on dote la classe `Vecteur` de variable `x` et `y` qui contiennent des valeurs par défaut pour les instances. On peut créer ces variables directement lors de la création de classe, comme nous le faisons pour `x`, ou l'ajouter ultérieurement, comme nous le faisons pour `y`."
   ]
  },
  {
   "cell_type": "code",
   "execution_count": null,
   "metadata": {
    "collapsed": false
   },
   "outputs": [],
   "source": [
    "class Vecteur:\n",
    "    x = 0\n",
    "\n",
    "Vecteur.y = 0\n",
    "\n",
    "v = Vecteur()\n",
    "\n",
    "print(Vecteur.x, Vecteur.y)\n",
    "print(v.x, v.y)"
   ]
  },
  {
   "cell_type": "markdown",
   "metadata": {},
   "source": [
    "Par contre, si vous affectez une nouvelle valeur à `obj.x`, et que ce nom n'existe pas encore dans l'instance, un nouvel attribut est créé à cette occasion, dans l'instance. Formulons le à nouveau : en cas de lecture, l'interpréteur cherche l'attribut dans l'instance concernée, puis dans sa classe et ses ancêtres, mais en cas d'affectation d'une nouvelle valeur, l'attribut est ajouté à l'instance si il n'existe pas déjà."
   ]
  },
  {
   "cell_type": "code",
   "execution_count": null,
   "metadata": {
    "collapsed": false
   },
   "outputs": [],
   "source": [
    "v.x, v.y = 10, 20\n",
    "Vecteur.z = -1\n",
    "v.t = 0.5\n",
    "Vecteur.t = -2\n",
    "\n",
    "print(Vecteur.x, Vecteur.y)\n",
    "print(v.x, v.y)\n",
    "print(v.z, v.t)"
   ]
  },
  {
   "cell_type": "markdown",
   "metadata": {},
   "source": [
    "## Un langage très dynamique"
   ]
  },
  {
   "cell_type": "markdown",
   "metadata": {},
   "source": [
    "Les instructions `class` et les instructions `def`, sont traitées à l'exécution comme n'importe quelles instructions. Elles retournent des objets, certes un peu spéciaux, et leur assigne un nom dans l'espace de nom courant. Avec ces objets, on peut réaliser des manipulations impossibles dans la pluapart des autres langages, comme par exemple créer une méthode d'abord en tant que fonction, à l'extérieur de la classe, puis la rattacher à posteriori."
   ]
  },
  {
   "cell_type": "code",
   "execution_count": null,
   "metadata": {
    "collapsed": false
   },
   "outputs": [],
   "source": [
    "class A:\n",
    "    def __init__(self,value): self.data = value\n",
    "    def display(self) : print(\"data:\", self.data)\n",
    "\n",
    "a = A('bonjour')\n",
    "\n",
    "def my_display_upper(self):\n",
    "    print(\"data:\", self.data.upper())\n",
    "\n",
    "A.display_upper = my_display_upper\n",
    "\n",
    "a.display_upper()"
   ]
  },
  {
   "cell_type": "markdown",
   "metadata": {},
   "source": [
    "Une méthode peut s'invoquer à travers le nom de classe, mais dans ce cas il ne faut pas oublier de redonner le nom de l'objet à traiter comme premier argument (self) :"
   ]
  },
  {
   "cell_type": "code",
   "execution_count": null,
   "metadata": {
    "collapsed": false
   },
   "outputs": [],
   "source": [
    "A.display_upper(a)"
   ]
  },
  {
   "cell_type": "markdown",
   "metadata": {},
   "source": [
    "Je peux toujours aussi appeler directement la fonction à travers son nom original (`my_display_upper`) :"
   ]
  },
  {
   "cell_type": "code",
   "execution_count": null,
   "metadata": {
    "collapsed": false
   },
   "outputs": [],
   "source": [
    "my_display_upper(a)"
   ]
  },
  {
   "cell_type": "markdown",
   "metadata": {},
   "source": [
    "On peut même s'amuser, comme ci-dessous, à décrocher la fonction de la classe (en effacant le nom), et à l'accrocher directement à l'instance. Mais dans ce cas, la définition automatique de `self` n'est pas réalisée (ce mécanisme n'est actif que pour les fonctions attachées dans des classes). On doit alors redonner `a` comme argument à l'appel de fonction."
   ]
  },
  {
   "cell_type": "code",
   "execution_count": null,
   "metadata": {
    "collapsed": false
   },
   "outputs": [],
   "source": [
    "del A.display_upper\n",
    "\n",
    "a.display_upper = my_display_upper\n",
    "\n",
    "a.display_upper(a)"
   ]
  },
  {
   "cell_type": "markdown",
   "metadata": {},
   "source": [
    "## Les encoches"
   ]
  },
  {
   "cell_type": "markdown",
   "metadata": {},
   "source": [
    "La définition dans une classe d'un attribut spécial nommé `__slots__` permet de limiter la liste des attributs autorisés (sans pour autant les créer). Cela permet d'éviter des erreurs de frappe involontaire, de faire certaines optimisations, mais en contre-partie cela peut affecter l'existence de l'attribut spécial `__dict__`, et perturber le fonctionnement d'outils génériques qui s'appuient sur ce dictionnaire interne."
   ]
  },
  {
   "cell_type": "code",
   "execution_count": null,
   "metadata": {
    "collapsed": false
   },
   "outputs": [],
   "source": [
    "class DemoSlots:\n",
    "    __slots__ = ['att1','att2']\n",
    "\n",
    "ds = DemoSlots()\n",
    "print(ds.att1)"
   ]
  },
  {
   "cell_type": "code",
   "execution_count": null,
   "metadata": {
    "collapsed": false
   },
   "outputs": [],
   "source": [
    "ds.att1 = \"this is att1\"\n",
    "print(ds.att1)"
   ]
  },
  {
   "cell_type": "code",
   "execution_count": null,
   "metadata": {
    "collapsed": false
   },
   "outputs": [],
   "source": [
    "ds.att3 = \"this is att3\""
   ]
  },
  {
   "cell_type": "code",
   "execution_count": null,
   "metadata": {
    "collapsed": false
   },
   "outputs": [],
   "source": [
    "class DerivedSlots(DemoSlots): pass\n",
    "ds = DerivedSlots()\n",
    "ds.att3 = \"this is att3\"\n",
    "print(ds.att3)"
   ]
  },
  {
   "cell_type": "markdown",
   "metadata": {},
   "source": [
    "## Méthodes statiques et méthodes de classe"
   ]
  },
  {
   "cell_type": "markdown",
   "metadata": {},
   "source": [
    "Imaginons que l'on veuille compter le nombre d'instances créées par une classe. Pour récupérer le nombre courant d'instances, on peut écrire une méthode qui ne se sert que de l'attribut de classe, et cette méthode devrait pouvoir être appelée via le nom de classe, sans passer par une instance, mais cela ne fonctionne pas à l'aide d'une implémentation \"naïve\" telle que celle-ci :"
   ]
  },
  {
   "cell_type": "code",
   "execution_count": null,
   "metadata": {
    "collapsed": false
   },
   "outputs": [],
   "source": [
    "class DemoComptage:\n",
    "    __nb_objets = 0\n",
    "    def __init__(self):\n",
    "        DemoComptage.__nb_objets = DemoComptage.__nb_objets+1\n",
    "    def nb_objets():\n",
    "        return __nb_objets\n",
    "    \n",
    "a = DemoComptage()    \n",
    "b = DemoComptage()    \n",
    "c = DemoComptage()\n",
    "\n",
    "print(DemoComptage.nb_objets())"
   ]
  },
  {
   "cell_type": "markdown",
   "metadata": {},
   "source": [
    "En effet, même si `self` n'est pas utilisé dans le corps d'une méthode, l'interpréteur Python exige qu'une méthode soit invoquée à travers une instance. L'attribut `nb_objets` de la classe est évidemment accessible à tous, donc il peut êtr lu directement par les clients, mais si on tient à préserver l'encapsulation, une simple fonction extérieure peut faire l'affaire :"
   ]
  },
  {
   "cell_type": "code",
   "execution_count": null,
   "metadata": {
    "collapsed": false
   },
   "outputs": [],
   "source": [
    "class DemoComptage:\n",
    "    nb_objets = 0\n",
    "    def __init__(self):\n",
    "        DemoComptage.nb_objets = DemoComptage.nb_objets+1\n",
    "\n",
    "def nb_objets():\n",
    "    return DemoComptage.nb_objets\n",
    "    \n",
    "a = DemoComptage()    \n",
    "b = DemoComptage()    \n",
    "c = DemoComptage()\n",
    "\n",
    "print(nb_objets())"
   ]
  },
  {
   "cell_type": "markdown",
   "metadata": {},
   "source": [
    "Cependant, pour satisfaire les programmeurs qui tiennent à localiser la fonction au sein de la classe, depuis Python 2.2, on peut définir des méthodes dites \"statiques\", qui peuvent s'invoquer sans passer par une instance :"
   ]
  },
  {
   "cell_type": "code",
   "execution_count": null,
   "metadata": {
    "collapsed": false
   },
   "outputs": [],
   "source": [
    "class DemoComptage:\n",
    "    _nb_objets = 0\n",
    "    def __init__(self):\n",
    "        DemoComptage._nb_objets = DemoComptage._nb_objets+1\n",
    "    def nb_objets():\n",
    "        return DemoComptage._nb_objets\n",
    "    nb_objets = staticmethod(nb_objets)\n",
    "    \n",
    "a = DemoComptage()    \n",
    "b = DemoComptage()    \n",
    "c = DemoComptage()\n",
    "\n",
    "print(DemoComptage.nb_objets())"
   ]
  },
  {
   "cell_type": "markdown",
   "metadata": {},
   "source": [
    "Il existe également des méthodes dites \"de classe\", qui recoivent en premier argument non pas l'instance courante, mais la classe courante."
   ]
  },
  {
   "cell_type": "code",
   "execution_count": null,
   "metadata": {
    "collapsed": false
   },
   "outputs": [],
   "source": [
    "class DemoClassMethod:\n",
    "    def m(cls,data):\n",
    "        print(cls, data)\n",
    "    m = classmethod(m)\n",
    "    \n",
    "DemoClassMethod.m(\"bonjour\")"
   ]
  },
  {
   "cell_type": "markdown",
   "metadata": {},
   "source": [
    "## Décorateurs de fonctions"
   ]
  },
  {
   "cell_type": "markdown",
   "metadata": {},
   "source": [
    "Les méthodes statiques et les méthodes de classes sont des cas particuliers de \"décorateurs\" de fonction.\n",
    "\n",
    "Un décorateur est une fonction qui manipule une fonction. Il peut effectuer une action une fois pour toute, et renvoyer la fonction originale, ou bien renvoyer une nouvelle fonction qui effectuera des manipulations à chaque appel, avant de le répercuter à la fonction originale qui aura été mémorisée en interne.\n",
    "\n",
    "Par exemple, lors de l'instruction `nb_objets = staticmethod(nb_objets)`, on appelle le décorateur `staticmethod`, qui substitue à la fonction `nb_objets` originale une autre fonction, dont le rôle sera, à chaque appel, de mettre de côté le premier argument (`self`) et de transmettre les autres à la fonction `nb_objets` originale.\n",
    "\n",
    "On peut maintenant définir plus facilement une décoration, à l'aide du caractère `@` :"
   ]
  },
  {
   "cell_type": "code",
   "execution_count": null,
   "metadata": {
    "collapsed": false
   },
   "outputs": [],
   "source": [
    "class DemoDeco:\n",
    "    _nb_objets = 0\n",
    "    def __init__(self):\n",
    "        DemoDeco._nb_objets += 1\n",
    "    @staticmethod\n",
    "    def nb_objets():\n",
    "        return DemoDeco._nb_objets\n",
    "    @classmethod\n",
    "    def m(cls,data):\n",
    "        print(cls, data)\n",
    "    \n",
    "a = DemoDeco()    \n",
    "b = DemoDeco()    \n",
    "c = DemoDeco()\n",
    "\n",
    "print(DemoDeco.nb_objets())"
   ]
  },
  {
   "cell_type": "code",
   "execution_count": null,
   "metadata": {
    "collapsed": false
   },
   "outputs": [],
   "source": [
    "DemoDeco.m(\"bonjour\")"
   ]
  },
  {
   "cell_type": "markdown",
   "metadata": {},
   "source": [
    "On peut empiler autant de décorateurs que souhaités. Le code ci-dessous :"
   ]
  },
  {
   "cell_type": "code",
   "execution_count": null,
   "metadata": {
    "collapsed": false
   },
   "outputs": [],
   "source": [
    "@A @B @C\n",
    "def f():\n",
    "    ..."
   ]
  },
  {
   "cell_type": "markdown",
   "metadata": {},
   "source": [
    "est l'équivalent de :"
   ]
  },
  {
   "cell_type": "code",
   "execution_count": null,
   "metadata": {
    "collapsed": false
   },
   "outputs": [],
   "source": [
    "def f():\n",
    "    ...\n",
    "f = A(B(C(f)))"
   ]
  },
  {
   "cell_type": "markdown",
   "metadata": {},
   "source": [
    "On peut bien sûr écrire ses propres décorateurs. On les implémente en général à l'aide d'une classe qui stocke la fonction décorée, et définit l'opérateur d'appel `__call__`. Par exemple, ci-dessous, une classe qui compte les appels à la fonction décorée :"
   ]
  },
  {
   "cell_type": "code",
   "execution_count": null,
   "metadata": {
    "collapsed": false
   },
   "outputs": [],
   "source": [
    "class compteur:\n",
    "    def __init__(self,func):\n",
    "        self.func = func\n",
    "        self.count = 0\n",
    "    def __call__(self,*args):\n",
    "        self.count += 1\n",
    "        print('call %s to %s' % (self.count,self.func.__name__))\n",
    "        self.func(*args)\n",
    "        \n",
    "@compteur\n",
    "def bidon(texte):\n",
    "    print(texte)\n",
    "\n",
    "bidon(\"bonjour\")"
   ]
  },
  {
   "cell_type": "code",
   "execution_count": null,
   "metadata": {
    "collapsed": false
   },
   "outputs": [],
   "source": [
    "bidon(\"bonsoir\")"
   ]
  },
  {
   "cell_type": "markdown",
   "metadata": {},
   "source": [
    "Enfin, notons qu'il existe des décorateurs permettant de simplifier la définition des propriétés d'une classe (attributs dont l'accès en lecture et/ou en écriture est confié à des méthodes). L'exemple de vecteur précédemment vu peut-être réécrit ainsi :"
   ]
  },
  {
   "cell_type": "code",
   "execution_count": null,
   "metadata": {
    "collapsed": false
   },
   "outputs": [],
   "source": [
    "class Vector:\n",
    "    def init(self,u=0,v=0):\n",
    "        self.x = u\n",
    "        self.y = v\n",
    "    @property\n",
    "    def x(self):\n",
    "        return self.__x\n",
    "    @x.setter\n",
    "    def x(self,u):\n",
    "        if (u<-1): self.__x = -1\n",
    "        elif (u>1): self.__x = 1\n",
    "        else: self.__x = u\n",
    "    @property\n",
    "    def y(self):\n",
    "        return self.__y\n",
    "    @y.setter\n",
    "    def y(self,v):\n",
    "        if (v<-1): self.__y = -1\n",
    "        elif (v>1): self.__y = 1\n",
    "        else: self.__y = v\n",
    "\n",
    "v = Vector()\n",
    "v.init(3, -4)\n",
    "print(v.x, v.y)"
   ]
  },
  {
   "cell_type": "markdown",
   "metadata": {},
   "source": [
    "## Hériter d'un type prédéfini"
   ]
  },
  {
   "cell_type": "markdown",
   "metadata": {},
   "source": [
    "On peut hériter des types prédéfinis, comme de n'importe quelle autre classe. **ATTENTION**, dans l'exemple ci-dessous, comme on hérite d'une classe \"non-modifiable\" (\"immutable\"), on ne peut pas redéfinir **`__init__`**, qui intervient après a création de l'instance ; on est obligé de passer par une redéfinition de **`__new__`**."
   ]
  },
  {
   "cell_type": "code",
   "execution_count": null,
   "metadata": {
    "collapsed": false
   },
   "outputs": [],
   "source": [
    "class FloatWithUnit(float):\n",
    "    def __new__(cls, value, unit):\n",
    "        instance = float.__new__(cls, value)\n",
    "        instance.unit = unit\n",
    "        return instance\n",
    "    def __str__(self):\n",
    "        return float.__str__(self)+\" \"+self.unit\n",
    "    def __mul__(self,other):\n",
    "        return FloatWithUnit(float.__mul__(self,other),self.unit+\"*\"+other.unit)\n",
    "    \n",
    "largeur = FloatWithUnit(2,\"cm\")\n",
    "longueur = FloatWithUnit(5,\"cm\")\n",
    "print(largeur*longueur)"
   ]
  },
  {
   "cell_type": "markdown",
   "metadata": {},
   "source": [
    "## Les classes de style ancien"
   ]
  },
  {
   "cell_type": "markdown",
   "metadata": {},
   "source": [
    "Toutes les explications de cette formation concerne les classes de nouveau style, apparue avec 2.2, et qu'il faut utiliser à chaque fois que c'est possible. Comment savoir si une classe est d'ancien ou nouveau style ?\n",
    "* avant 2.2 : toutes les classes sont de stype ancien\n",
    "* de 2.2 à 2.x : les classes qui ont la classe `object` parmi leurs ancêtres sont de nouveau style.\n",
    "* à partir de 3 : toutes les classes sont de nouveau style"
   ]
  },
  {
   "cell_type": "markdown",
   "metadata": {},
   "source": [
    "Un grand nombre de fonctionnalités avancées ne sont disponibles que pour les classes de nouveau style : `super()`, propriétés, encoches, méthodes statiques, décorateurs, héritage d'un type prédéfini..."
   ]
  },
  {
   "cell_type": "markdown",
   "metadata": {},
   "source": [
    "Par ailleurs, en cas d'héritage en losange, les comportements son subtilement différents. Pour les classes de nouveau style, la recherche d'attribut se fait en profondeur d'abord, puis de gauche à droite, à une exception près : les classes dérivées sont toujours explorées avant leurs classes de base. Cette exception n'avait pas cours pour les classes de style ancien : "
   ]
  },
  {
   "cell_type": "code",
   "execution_count": null,
   "metadata": {
    "collapsed": false
   },
   "outputs": [],
   "source": [
    "class A: x = \"A\"\n",
    "class B1(A): pass\n",
    "class B2(A): x = \"B2\"\n",
    "class C(B1,B2): pass\n",
    "\n",
    "print C.x"
   ]
  },
  {
   "cell_type": "markdown",
   "metadata": {},
   "source": [
    "En cas de nouveau style : "
   ]
  },
  {
   "cell_type": "code",
   "execution_count": null,
   "metadata": {
    "collapsed": false
   },
   "outputs": [],
   "source": [
    "class A(object): x = \"A\"\n",
    "class B1(A): pass\n",
    "class B2(A): x = \"B2\"\n",
    "class C(B1,B2): pass\n",
    "\n",
    "print C.x"
   ]
  },
  {
   "cell_type": "markdown",
   "metadata": {},
   "source": [
    "Pour éviter toute ambiguité, quel que soit le style de classe, on peut dire explicitement quelle est la méthode à utiliser :"
   ]
  },
  {
   "cell_type": "code",
   "execution_count": null,
   "metadata": {
    "collapsed": false
   },
   "outputs": [],
   "source": [
    "class A: x = \"A\"\n",
    "class B1(A): pass\n",
    "class B2(A): x = \"B2\"\n",
    "class C(B1,B2): x = B2.x\n",
    "\n",
    "print C.x"
   ]
  },
  {
   "cell_type": "markdown",
   "metadata": {},
   "source": [
    "## Itérateurs"
   ]
  },
  {
   "cell_type": "markdown",
   "metadata": {},
   "source": [
    "Aujourd'hui, avant de rechercher une méthode `__getitem__`, l'interpréteur Python cherche d'abord une méthode `__iter__`, qui peut implémenter des schémas d'itération plus complexes. La méthode `__iter__` est supposée retourné un objet \"itérateur\", sur lequel on va ensuite appeler la méthode `__next__`, qui renvoit un nouvel élément à chaque appel, et lève une exception `StopIteration` lorsqu'il n'y a plus d'éléments."
   ]
  },
  {
   "cell_type": "code",
   "execution_count": null,
   "metadata": {
    "collapsed": false
   },
   "outputs": [],
   "source": [
    "class ReverseIterator:\n",
    "    def __init__(self, seq):\n",
    "        self.seq = seq\n",
    "        self.index = len(seq.data)\n",
    "    def __next__(self):\n",
    "        if self.index == 0:\n",
    "            raise StopIteration\n",
    "        self.index = self.index - 1\n",
    "        return self.seq.data[self.index]\n",
    "\n",
    "class Reverse(object):\n",
    "    def __init__(self, data):\n",
    "        self.data = data\n",
    "    def __iter__(self):\n",
    "        return ReverseIterator(self)\n",
    "\n",
    "for char in Reverse('123'):\n",
    "    print(char)"
   ]
  },
  {
   "cell_type": "markdown",
   "metadata": {},
   "source": [
    "Notre classe peut servir elle aussi dans tous les contextes d'itération."
   ]
  },
  {
   "cell_type": "code",
   "execution_count": null,
   "metadata": {
    "collapsed": false
   },
   "outputs": [],
   "source": [
    "inverse = Reverse('123')\n",
    "[c for c in inverse]"
   ]
  },
  {
   "cell_type": "code",
   "execution_count": null,
   "metadata": {
    "collapsed": false
   },
   "outputs": [],
   "source": [
    "[c for c in inverse]"
   ]
  },
  {
   "cell_type": "code",
   "execution_count": null,
   "metadata": {
    "collapsed": false
   },
   "outputs": [],
   "source": [
    "[c+d for c in inverse for d in inverse]"
   ]
  },
  {
   "cell_type": "markdown",
   "metadata": {},
   "source": [
    "Pour éviter d'avoir à écrire deux classes, on peut être tenté de dire qu'objet est son propre itérateur, et de placer la méthode `__next__()` dans la classe d'origine (exemple ci-dessous). Dans la pratique, c'est peu utile, car l'objet ne peut être itéré qu'une seule fois. On peut alors être tenté d'ajouter une méthode `raz()` qui remettrait l'index à 0, mais avec encore une limite : impossible de lancer deux itérations simultanées. Ne rusez pas : faites deux classes."
   ]
  },
  {
   "cell_type": "code",
   "execution_count": null,
   "metadata": {
    "collapsed": false
   },
   "outputs": [],
   "source": [
    "class Reverse:\n",
    "    def __init__(self, data):\n",
    "        self.__data = data\n",
    "        self.__index = len(data)\n",
    "    def __iter__(self):\n",
    "        return self\n",
    "    def __next__(self):\n",
    "        if self.__index == 0:\n",
    "            raise StopIteration\n",
    "        self.__index = self.__index - 1\n",
    "        return self.__data[self.__index]\n",
    "\n",
    "inverse = Reverse('123')\n",
    "print([c for c in inverse])\n",
    "print([c for c in inverse])"
   ]
  },
  {
   "cell_type": "code",
   "execution_count": null,
   "metadata": {
    "collapsed": false
   },
   "outputs": [],
   "source": [
    "class Reverse:\n",
    "    def __init__(self, data):\n",
    "        self.__data = data\n",
    "        self.__index = len(data)\n",
    "    def __iter__(self):\n",
    "        return self\n",
    "    def __next__(self):\n",
    "        if self.__index == 0:\n",
    "            raise StopIteration\n",
    "        self.__index = self.__index - 1\n",
    "        return self.__data[self.__index]\n",
    "    def raz(self):\n",
    "        self.__index = len(self.__data)\n",
    "\n",
    "inverse = Reverse('123')\n",
    "print([c for c in inverse])\n",
    "inverse.raz()\n",
    "print([c for c in inverse])\n",
    "inverse.raz()\n",
    "print([c+d for c in inverse for d in inverse])\n",
    "# Pas de inverse.raz()\n",
    "print([c for c in inverse])\n"
   ]
  },
  {
   "cell_type": "markdown",
   "metadata": {},
   "source": [
    "## A propos des auteurs"
   ]
  },
  {
   "cell_type": "markdown",
   "metadata": {},
   "source": [
    "*Travail initié en 2014 dans le cadre d'une série de formations Python organisées par le réseau Devlog. Auteur principal : David Chamont. Contribution à la mise à jour pour Python 3 : Fabrice Mendes. Relecteurs : Nicolas Can, Sekou Diakite, Loic Gouarin et Christophe Halgand.*"
   ]
  },
  {
   "cell_type": "markdown",
   "metadata": {},
   "source": [
    "### Mise en forme"
   ]
  },
  {
   "cell_type": "code",
   "execution_count": null,
   "metadata": {
    "collapsed": false
   },
   "outputs": [],
   "source": [
    "# execute this part to modify the css style\n",
    "from IPython.core.display import HTML\n",
    "def css_styling():\n",
    "    styles = open(\"../../styles/custom.css\", \"r\").read()\n",
    "    return HTML(styles)\n",
    "css_styling()"
   ]
  }
 ],
 "metadata": {
  "kernelspec": {
   "display_name": "Python 3",
   "language": "python",
   "name": "python3"
  },
  "language_info": {
   "codemirror_mode": {
    "name": "ipython",
    "version": 3
   },
   "file_extension": ".py",
   "mimetype": "text/x-python",
   "name": "python",
   "nbconvert_exporter": "python",
   "pygments_lexer": "ipython3",
   "version": "3.4.3"
  }
 },
 "nbformat": 4,
 "nbformat_minor": 0
}
