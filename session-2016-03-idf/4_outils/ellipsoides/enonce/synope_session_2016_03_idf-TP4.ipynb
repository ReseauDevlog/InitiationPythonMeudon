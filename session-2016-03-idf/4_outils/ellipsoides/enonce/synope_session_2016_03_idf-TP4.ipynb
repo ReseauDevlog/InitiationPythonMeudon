{
 "cells": [
  {
   "cell_type": "markdown",
   "metadata": {},
   "source": [
    "Ce notebook est distribué par Devlog sous licence Creative Commons - Attribution - Pas d’Utilisation Commerciale - Partage dans les Mêmes Conditions. La description complète de la license est disponible à l'adresse web http://creativecommons.org/licenses/by-nc-sa/4.0/."
   ]
  },
  {
   "cell_type": "markdown",
   "metadata": {},
   "source": [
    "# Initiation Python - TP 4 - outils\n"
   ]
  },
  {
   "cell_type": "markdown",
   "metadata": {},
   "source": [
    "Cette séance de TP est laissée assez libre et vous propose de vous initier aux outils présentés pendant le cours.\n",
    "\n",
    "#### Question 1\n",
    "\n",
    "Utilisez PyLint sur le package *pySynope*. Essayer de faire les modifications pour atteindre une note supérieure à 5/10.\n",
    "\n",
    "Pour comprendre les messages de PyLint, vous pouvez vous reporter à la page suivante\n",
    "\n",
    "http://pylint-messages.wikidot.com/all-codes\n",
    "\n",
    "#### Question 2\n",
    "\n",
    "Ajoutez dans vos docstrings des tests unitaires et testez avec docstring.\n",
    "\n",
    "Vous pourrez par exemple tester que votre fonction *linspace* a le bon comportement ou que le point $(1, 0)$ tourné de $\\frac{pi}{4}$ donne bien le point $(\\frac{\\sqrt{2}}{2}, \\frac{\\sqrt{2}}{2})$. \n",
    "\n",
    "#### Question 3\n",
    "\n",
    "Faites de même avec nosetests en ajoutant un répertoire *tests* à la racine du projet. Vous pouvez réécrire les mêmes tests pour voir la différence d'implémentation.\n",
    "\n",
    "#### Question 4\n",
    "\n",
    "Faites un test de couverture en utilisant l'option *--with-coverage*."
   ]
  },
  {
   "cell_type": "markdown",
   "metadata": {},
   "source": [
    "#### Question 5\n",
    "\n",
    "Créez une fonction ```log``` permettant de configurer le logging de votre programme et retournant un objet ```logger```. Cette configuration permettra de sauver dans un fichier les evénements de niveau supérieur ou égal à **warning** et d'afficher dans la console les éléments à partir du niveau **debug**.\n",
    "Dans votre script remplacez les ```print()``` par une utilisation de la fonctionnalité de logging."
   ]
  },
  {
   "cell_type": "markdown",
   "metadata": {},
   "source": [
    "#### Question 6\n",
    "\n",
    "Utilisez le module ```argparse``` pour founir en argument au lancement de votre scipt le nom du fichier dans lequel les logs vont être écrits et le niveau des logs qui seront enregistré."
   ]
  },
  {
   "cell_type": "code",
   "execution_count": 1,
   "metadata": {
    "collapsed": false
   },
   "outputs": [
    {
     "data": {
      "text/html": [
       "<link href='http://fonts.googleapis.com/css?family=Oswald' rel='stylesheet' type='text/css'>\n",
       "<link href='http://fonts.googleapis.com/css?family=Lora:400,400italic' rel='stylesheet' type='text/css'>\n",
       "<link href='http://fonts.googleapis.com/css?family=Open+Sans:300' rel='stylesheet' type='text/css'>\n",
       "<link href='http://fonts.googleapis.com/css?family=Alegreya+Sans:100,300,400,500,700,800,900,100italic,300italic,400italic,500italic,700italic,800italic,900italic' rel='stylesheet' type='text/css'>\n",
       "\n",
       "<style>\n",
       "\n",
       "h1, h2, h3, h4, h5 {\n",
       "    font-family: 'Alegreya Sans', sans-serif;\n",
       "}\n",
       "\n",
       "div.text_cell_render{\n",
       "    font-family: 'Alegreya Sans',Computer Modern, \"Helvetica Neue\", Arial, Helvetica, Geneva, sans-serif;\n",
       "    line-height: 135%;\n",
       "    font-size: 140%;\n",
       "    width:100%;/*600px;*/\n",
       "    /*margin-left:auto;*/\n",
       "    /*margin-right:auto;*/\n",
       "}\n",
       "/*div.text_cell_render{font-family: \"Open Sans\", sans-serif;font-weight: normal; line-height:normal;}*/\n",
       "\n",
       "/* header colours and fonts */\n",
       ".rendered_html h1 {\n",
       "    color:#9A3334;\n",
       "    /*margin-top: 0.5em;*/\n",
       "    padding: 1em;\n",
       "    display: block;\n",
       "    font-size: 40px;\n",
       "    text-align: center;\n",
       "    border-top: 2px solid #9A3334;\n",
       "    border-bottom: 2px solid #9A3334;\n",
       "}\n",
       "\n",
       "/*.rendered_html h1 { color: #9A3334; font-family: Lora, sans-serif; font-weight: normal; text-align: center; }*/\n",
       ".rendered_html h2 {\n",
       "    color: #9A3334;\n",
       "    /*font-family: Lora, sans-serif;*/\n",
       "    font-style: italic;\n",
       "    font-weight: normal;\n",
       "    font-size: 30px;\n",
       "    /*text-align: center;*/\n",
       "    border-bottom: 1px solid #9A3334;\n",
       "}\n",
       ".rendered_html h3 {\n",
       "    color: #9A3334;\n",
       "    /*font-family: Lora, sans-serif;*/\n",
       "    font-weight: normal;\n",
       "    font-size: 25px;\n",
       "    font-style: italic;\n",
       "}\n",
       "\n",
       ".rendered_html h4 {\n",
       "    border: 2px solid #9A3334;\n",
       "    border-radius: 25px;\n",
       "    font-style: italic;\n",
       "    height:5%;\n",
       "    width:20%;\n",
       "    padding:5px;\n",
       "    text-align: center;\n",
       "}\n",
       "\n",
       "div.prompt {\n",
       "    display: None;\n",
       "}\n",
       "\n",
       "/* center the images */\n",
       ".ui-wrapper {\n",
       "    margin-left: auto !important;\n",
       "    margin-right: auto !important;\n",
       "}\n",
       "\n",
       "/* center the images */\n",
       ".video {\n",
       "    margin-left: auto !important;\n",
       "    margin-right: auto !important;\n",
       "}\n",
       "\n",
       ".rendered_html img {\n",
       "    margin-top: 0em;\n",
       "}\n",
       "\n",
       "div.input_area {\n",
       "    border-radius: 10px;\n",
       "}\n",
       "\n",
       ".reveal h1 {\n",
       "    font-size: 70px;\n",
       "    text-shadow: 10px 10px 10px rgba(0, 0, 0, 0.5);\n",
       "}\n",
       "\n",
       ".reveal h2 {\n",
       "    font-size: 50px;\n",
       "    text-shadow: 10px 10px 10px rgba(0, 0, 0, 0.5);\n",
       "}\n",
       "\n",
       ".reveal h3 {\n",
       "    font-size: 50px;\n",
       "    \n",
       "}\n",
       "\n",
       "</style>"
      ],
      "text/plain": [
       "<IPython.core.display.HTML object>"
      ]
     },
     "execution_count": 1,
     "metadata": {},
     "output_type": "execute_result"
    }
   ],
   "source": [
    "# execute this part to modify the css style\n",
    "from IPython.core.display import HTML\n",
    "def css_styling():\n",
    "    styles = open(\"../../../styles/custom.css\", \"r\").read()\n",
    "    return HTML(styles)\n",
    "css_styling()"
   ]
  }
 ],
 "metadata": {
  "kernelspec": {
   "display_name": "Python 3",
   "language": "python",
   "name": "python3"
  },
  "language_info": {
   "codemirror_mode": {
    "name": "ipython",
    "version": 3
   },
   "file_extension": ".py",
   "mimetype": "text/x-python",
   "name": "python",
   "nbconvert_exporter": "python",
   "pygments_lexer": "ipython3",
   "version": "3.5.1"
  }
 },
 "nbformat": 4,
 "nbformat_minor": 0
}
