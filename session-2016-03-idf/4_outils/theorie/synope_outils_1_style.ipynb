{
 "cells": [
  {
   "cell_type": "markdown",
   "metadata": {
    "slideshow": {
     "slide_type": "skip"
    }
   },
   "source": [
    "*Ce notebook est distribué par Devlog sous licence Creative Commons - Attribution - Pas d’Utilisation Commerciale - Partage dans les Mêmes Conditions. La description complète de la license est disponible à l'adresse web http://creativecommons.org/licenses/by-nc-sa/4.0/.*"
   ]
  },
  {
   "cell_type": "markdown",
   "metadata": {
    "slideshow": {
     "slide_type": "slide"
    }
   },
   "source": [
    "# Initiation python - Outils 1/6 : Conventions de style"
   ]
  },
  {
   "cell_type": "markdown",
   "metadata": {
    "slideshow": {
     "slide_type": "slide"
    }
   },
   "source": [
    "## Introduction\n",
    "\n",
    "- Les bonnes pratiques et les conventions de style de python sont définies dans plusieurs documents:\n",
    "    \n",
    "    * [PEP 20](https://www.python.org/dev/peps/pep-0020/) : la philosophie du langage\n",
    "    * [PEP 8](https://www.python.org/dev/peps/pep-0008) : les conventions de lisibilité (de style)\n",
    "    * [PEP 257](https://www.python.org/dev/peps/pep-0257/) : les conventions de docstring (les commentaires)"
   ]
  },
  {
   "cell_type": "markdown",
   "metadata": {
    "slideshow": {
     "slide_type": "slide"
    }
   },
   "source": [
    "## Intérêt du PEP 8\n",
    "\n",
    "- Un code est lu beaucoup plus souvent qu'il n'est écrit (Guido Van Rossum)\n",
    "- Maximiser la lisibilité du code facilite le travail à plusieurs"
   ]
  },
  {
   "cell_type": "markdown",
   "metadata": {
    "slideshow": {
     "slide_type": "subslide"
    }
   },
   "source": [
    "### PEP 8 : Fichiers\n",
    "\n",
    "- indentation **4** espaces\n",
    "- pas de tabulation"
   ]
  },
  {
   "cell_type": "markdown",
   "metadata": {
    "slideshow": {
     "slide_type": "subslide"
    }
   },
   "source": [
    "### PEP 8 : Lignes (1/2)\n",
    "    \n",
    "- **79** caractères par ligne (largeur par défaut d'un terminal)\n",
    "    + 119 en django (largeur de l'affichage sur github)\n",
    "- si une ligne est plus longue il existe plusieurs méthodes"
   ]
  },
  {
   "cell_type": "markdown",
   "metadata": {
    "slideshow": {
     "slide_type": "fragment"
    }
   },
   "source": [
    "On peut décaler l'indentation, par exemple pour une liste\n",
    "    \n",
    "```python\n",
    "alphabet = [\n",
    "    'a',\n",
    "    'b',\n",
    "    'c'\n",
    "]\n",
    "```"
   ]
  },
  {
   "cell_type": "markdown",
   "metadata": {
    "slideshow": {
     "slide_type": "fragment"
    }
   },
   "source": [
    "ou pour un dictionnaire\n",
    "```python\n",
    "d = {\n",
    "    'cle_1': valeur,\n",
    "    'cle_2': {\n",
    "        'sous_cle_1': valeur,\n",
    "        'sous_cle_2': valeur,\n",
    "    }\n",
    "}\n",
    "```"
   ]
  },
  {
   "cell_type": "markdown",
   "metadata": {
    "slideshow": {
     "slide_type": "subslide"
    }
   },
   "source": [
    "### PEP 8 : Lignes (2/2)\n",
    "\n",
    "Pour les fonctions, \n",
    "```python\n",
    "valeur = nom_de_fonction(argument_1,\n",
    "                         'argument_2',\n",
    "                         option=None)\n",
    "```"
   ]
  },
  {
   "cell_type": "markdown",
   "metadata": {
    "slideshow": {
     "slide_type": "subslide"
    }
   },
   "source": [
    "### PEP 8 : Noms de variables (1/2)\n",
    "\n",
    "- Pour les modules, variables, fonctions et méthodes :\n",
    "    + snake_case : lettres minuscules + underscores\n",
    "\n",
    "```python\n",
    "ma_variable_entiere = 10\n",
    "\n",
    "def ma_fonction_de_traitement(argument_1, argument_2):\n",
    "    pass\n",
    "```"
   ]
  },
  {
   "cell_type": "markdown",
   "metadata": {
    "slideshow": {
     "slide_type": "fragment"
    }
   },
   "source": [
    "- Pour les classes\n",
    "    + CamelCase: majuscule pour la première lettre de chaque mot\n",
    "    + si le nom contient un acronyme toutes les lettres de ce mot sont en majuscules\n",
    "    \n",
    "```python\n",
    "class MaPremiereClasse:\n",
    "    \n",
    "    def ma_methode(self):\n",
    "        pass\n",
    "        \n",
    "class MaClasseHTTP:\n",
    "\n",
    "    def ma_methode(self):\n",
    "```"
   ]
  },
  {
   "cell_type": "markdown",
   "metadata": {
    "slideshow": {
     "slide_type": "subslide"
    }
   },
   "source": [
    "### PEP 8 : Noms de variables (2/2)\n",
    "\n",
    "- Pour les constantes\n",
    "    + SCREAMING_SNAKE_CASE: majuscules et underscores\n",
    "    \n",
    "```python\n",
    "MA_CONSTANTE_PI = 3.14\n",
    "```"
   ]
  },
  {
   "cell_type": "markdown",
   "metadata": {
    "collapsed": true,
    "slideshow": {
     "slide_type": "subslide"
    }
   },
   "source": [
    "### PEP 8 : Les espaces\n",
    "\n",
    "- on met des espaces autour des opérateurs (=, ==, <, >, +, ...)\n",
    "    - sauf pour les passages de paramètres\n",
    "\n",
    "```python\n",
    "var = 1 + 2\n",
    "\n",
    "if var_1 > 10:\n",
    "    print(var_1)\n",
    "```\n",
    "\n",
    "mais \n",
    "\n",
    "```python\n",
    "def ma_fonction(arg_1, arg_2, option=None):\n",
    "    pass\n",
    "    \n",
    "var = ma_fonction(a_1, a_2, option=3)\n",
    "```"
   ]
  },
  {
   "cell_type": "markdown",
   "metadata": {
    "slideshow": {
     "slide_type": "subslide"
    }
   },
   "source": [
    "### PEP 8: Les imports\n",
    "\n",
    "- on ne doit faire qu'un import par ligne\n",
    "- on ordonne les imports et on sépare les groupes d'une ligne\n",
    "    - import des modules de la bibliothèque standard\n",
    "    - import des modules hors bibliothèque standard\n",
    "    - import des modules de notre projet\n",
    "    \n",
    "```python\n",
    "import os\n",
    "import sys\n",
    "\n",
    "import numpy as np\n",
    "import matplotlib as mpl\n",
    "\n",
    "import mon_module\n",
    "```"
   ]
  },
  {
   "cell_type": "markdown",
   "metadata": {
    "slideshow": {
     "slide_type": "slide"
    }
   },
   "source": [
    " ## Vérifier le respect de PEP 8 : [pylint](https://www.pylint.org/)\n",
    "\n",
    "- pylint est un outil qui permet de vérifier qu'un code respecte la convention du PEP 8\n",
    "    + il est intégré dans de nombreuses IDE qui montrent les erreurs en temps réel\n",
    "        - [spyder](https://pythonhosted.org/spyder/)\n",
    "        - [PyCharm](https://www.jetbrains.com/pycharm/)\n",
    "        - [eclipse+pydev](http://www.pydev.org/)\n",
    "        - [sublimetext+anaconda](https://damnwidget.github.io/anaconda/)\n",
    "    + il détecte aussi des erreurs dans le code\n",
    "        - import inutiles\n",
    "        - variables non utilées\n",
    "        - code dupliqué\n",
    "        - ...\n",
    "    + il est configurable \n",
    "        - par exemple nombre de caractères par lignes\n",
    "        "
   ]
  },
  {
   "cell_type": "markdown",
   "metadata": {
    "slideshow": {
     "slide_type": "subslide"
    }
   },
   "source": [
    "### utiliser pylint\n",
    "\n",
    "```python\n",
    "pylint mon_programme.py\n",
    "```\n",
    "\n",
    "- Pylint en général n'affichera pas le problème mais un code d'erreur qui peut être vérifié à cette [adresse](http://pylint-messages.wikidot.com/all-codes)"
   ]
  },
  {
   "cell_type": "markdown",
   "metadata": {
    "slideshow": {
     "slide_type": "subslide"
    }
   },
   "source": [
    "\n",
    "\n",
    "### Exercice 4.1\n",
    "\n",
    "Utilisez PyLint sur la solution de l'exercice \"Energie\" de la partie \"Objets\". Essayer de faire les modifications pour atteindre une note supérieure à 5/10. \n",
    "\n",
    "Vous pouvez utiliser soit la fonctionnalité *Analyse du code statique* de **spyder** (la touche F8), soit `pylint` en ligne de commande.\n",
    "\n",
    "Pour comprendre les messages de PyLint, vous pouvez vous reporter à la page suivante\n",
    "\n",
    "http://pylint-messages.wikidot.com/all-codes\n",
    "\n"
   ]
  },
  {
   "cell_type": "code",
   "execution_count": 1,
   "metadata": {
    "collapsed": false
   },
   "outputs": [
    {
     "data": {
      "text/html": [
       "<link href='http://fonts.googleapis.com/css?family=Oswald' rel='stylesheet' type='text/css'>\n",
       "<link href='http://fonts.googleapis.com/css?family=Lora:400,400italic' rel='stylesheet' type='text/css'>\n",
       "<link href='http://fonts.googleapis.com/css?family=Open+Sans:300' rel='stylesheet' type='text/css'>\n",
       "<link href='http://fonts.googleapis.com/css?family=Alegreya+Sans:100,300,400,500,700,800,900,100italic,300italic,400italic,500italic,700italic,800italic,900italic' rel='stylesheet' type='text/css'>\n",
       "\n",
       "<style>\n",
       "\n",
       "h1, h2, h3, h4, h5 {\n",
       "    font-family: 'Alegreya Sans', sans-serif;\n",
       "}\n",
       "\n",
       "div.text_cell_render{\n",
       "    font-family: 'Alegreya Sans',Computer Modern, \"Helvetica Neue\", Arial, Helvetica, Geneva, sans-serif;\n",
       "    line-height: 135%;\n",
       "    font-size: 120%;\n",
       "    width:100%;/*600px;*/\n",
       "    /*margin-left:auto;*/\n",
       "    /*margin-right:auto;*/\n",
       "}\n",
       "/*div.text_cell_render{font-family: \"Open Sans\", sans-serif;font-weight: normal; line-height:normal;}*/\n",
       "\n",
       "/* header colours and fonts */\n",
       ".rendered_html h1 {\n",
       "    color:#9A3334;\n",
       "    /*margin-top: 0.5em;*/\n",
       "    padding: 1em;\n",
       "    display: block;\n",
       "    font-size: 40px;\n",
       "    text-align: center;\n",
       "    border-top: 2px solid #9A3334;\n",
       "    border-bottom: 2px solid #9A3334;\n",
       "}\n",
       "\n",
       "/*.rendered_html h1 { color: #9A3334; font-family: Lora, sans-serif; font-weight: normal; text-align: center; }*/\n",
       ".rendered_html h2 {\n",
       "    color: #9A3334;\n",
       "    /*font-family: Lora, sans-serif;*/\n",
       "    font-style: italic;\n",
       "    font-weight: normal;\n",
       "    font-size: 30px;\n",
       "    /*text-align: center;*/\n",
       "    border-bottom: 1px solid #9A3334;\n",
       "}\n",
       ".rendered_html h3 {\n",
       "    color: #9A3334;\n",
       "    /*font-family: Lora, sans-serif;*/\n",
       "    font-weight: normal;\n",
       "    font-size: 25px;\n",
       "    font-style: italic;\n",
       "}\n",
       "\n",
       ".rendered_html h4 {\n",
       "    border: 2px solid #9A3334;\n",
       "    border-radius: 25px;\n",
       "    font-style: italic;\n",
       "    height:5%;\n",
       "    width:15%;\n",
       "    padding:5px;\n",
       "    text-align: center;\n",
       "}\n",
       "\n",
       "div.prompt {\n",
       "    display: None;\n",
       "}\n",
       "\n",
       "/* center the images */\n",
       ".ui-wrapper {\n",
       "    margin-left: auto !important;\n",
       "    margin-right: auto !important;\n",
       "}\n",
       "\n",
       "/* center the images */\n",
       ".video {\n",
       "    margin-left: auto !important;\n",
       "    margin-right: auto !important;\n",
       "}\n",
       "\n",
       ".rendered_html img {\n",
       "    margin-top: 0em;\n",
       "}\n",
       "\n",
       "div.input_area {\n",
       "    border-radius: 10px;\n",
       "}\n",
       "\n",
       "/*.reveal h1 {\n",
       "    text-shadow: 10px 10px 10px rgba(0, 0, 0, 0.5);\n",
       "}*/\n",
       "</style>"
      ],
      "text/plain": [
       "<IPython.core.display.HTML object>"
      ]
     },
     "execution_count": 1,
     "metadata": {},
     "output_type": "execute_result"
    }
   ],
   "source": [
    "# execute this part to modify the css style\n",
    "from IPython.core.display import HTML\n",
    "def css_styling():\n",
    "    styles = open(\"../../styles/custom.css\", \"r\").read()\n",
    "    return HTML(styles)\n",
    "css_styling()"
   ]
  }
 ],
 "metadata": {
  "celltoolbar": "Slideshow",
  "kernelspec": {
   "display_name": "Python 3",
   "language": "python",
   "name": "python3"
  },
  "language_info": {
   "codemirror_mode": {
    "name": "ipython",
    "version": 3
   },
   "file_extension": ".py",
   "mimetype": "text/x-python",
   "name": "python",
   "nbconvert_exporter": "python",
   "pygments_lexer": "ipython3",
   "version": "3.5.1"
  }
 },
 "nbformat": 4,
 "nbformat_minor": 0
}
