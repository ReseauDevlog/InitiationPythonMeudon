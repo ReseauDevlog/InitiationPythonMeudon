{
 "cells": [
  {
   "cell_type": "markdown",
   "metadata": {
    "slideshow": {
     "slide_type": "skip"
    }
   },
   "source": [
    "*Ce notebook est distribué par Devlog sous licence Creative Commons - Attribution - Pas d’Utilisation Commerciale - Partage dans les Mêmes Conditions. La description complète de la license est disponible à l'adresse web http://creativecommons.org/licenses/by-nc-sa/4.0/.*"
   ]
  },
  {
   "cell_type": "markdown",
   "metadata": {
    "internals": {
     "slide_helper": "subslide_end",
     "slide_type": "subslide"
    },
    "slide_helper": "slide_end",
    "slideshow": {
     "slide_type": "slide"
    }
   },
   "source": [
    "# Initiation python - Outils 2/6 : les tests"
   ]
  },
  {
   "cell_type": "markdown",
   "metadata": {
    "slideshow": {
     "slide_type": "slide"
    }
   },
   "source": [
    "## Pourquoi écrire des tests ?"
   ]
  },
  {
   "cell_type": "markdown",
   "metadata": {},
   "source": [
    "Lorsque l'on écrit un programme, il est généralement constitué de plusieurs fonctions que l'on assemble afin de décrire notre algorithme permettant de nous donner la réponse à notre problème. Un programme n'est pas forcément un développement sur un temps court. \n",
    "\n",
    "On voit beaucoup de librairies scientifiques qui ont plus de dix ans. Les fonctions peuvent donc être écrites à différents moments avec des échelles de temps bien différentes. On peut par exemple ajouter une fonctionnalité à un bout de code plusieurs années après en avoir écrit le cœur. \n",
    "\n",
    "S'il est primordial d'écrire de la documentation pour comprendre ce qui est fait, il est également judicieux d'écrire des tests pour s'assurer du bon fonctionnement de notre programme.\n",
    "\n",
    "Il faut noter que certains types de développement logiciel s'appuient sur les tests ([Test Driven Development](http://fr.wikipedia.org/wiki/Test_Driven_Development))."
   ]
  },
  {
   "cell_type": "markdown",
   "metadata": {
    "slideshow": {
     "slide_type": "slide"
    }
   },
   "source": [
    "## Les types de tests"
   ]
  },
  {
   "cell_type": "markdown",
   "metadata": {},
   "source": [
    "On peut citer trois types de tests primordiaux permettant de s'assurer au mieux de l'absence de bugs dans notre programme. Un programme n'est jamais à 100% sûr.\n",
    "\n",
    "- les **tests unitaires**, \n",
    "\n",
    "- les **tests d'intégration**,\n",
    "\n",
    "- les **tests du système complet**.\n"
   ]
  },
  {
   "cell_type": "markdown",
   "metadata": {
    "slideshow": {
     "slide_type": "slide"
    }
   },
   "source": [
    "### Tests unitaires : niveau 0\n",
    "\n",
    "Le but est de tester chaque petit bout de code : fonctions, méthodes, ...\n",
    "   \n",
    "\n",
    "Ces tests permettent d'être sûr que chaque brique de votre programme fonctionne correctement indépendamment des autres.\n",
    "    \n",
    "\n",
    "Néanmoins, ils ne permettent pas d'assurer le bon fonctionnement du programme dans sa globalité.\n"
   ]
  },
  {
   "cell_type": "markdown",
   "metadata": {
    "slideshow": {
     "slide_type": "slide"
    }
   },
   "source": [
    "### Tests d'intégration : niveau 1\n",
    "\n",
    "Le but est de commencer à tester de petites interactions entre les différentes unités du programme.\n",
    "\n",
    "\n",
    "Ces tests peuvent être réalisés avec les mêmes outils que ceux utilisés dans les tests unitaires.\n",
    "\n",
    "\n",
    "Mais il y a une différence importante: on suppose que les unités prises une à une sont valides."
   ]
  },
  {
   "cell_type": "markdown",
   "metadata": {
    "slideshow": {
     "slide_type": "slide"
    }
   },
   "source": [
    "### Tests du système : niveau 2\n",
    "\n",
    "Le but est de tester le programme dans sa globalité.\n",
    "\n",
    "On assemble à présent toutes les briques pour un problème concret.\n",
    "\n",
    "Là encore, si les 2 premiers niveaux sont négligés, les tests du système complet ne servent à rien."
   ]
  },
  {
   "cell_type": "markdown",
   "metadata": {
    "slideshow": {
     "slide_type": "slide"
    }
   },
   "source": [
    "Les tests sont donc écrits à des stades différents du développement mais ont chacun leur importance. Un seul de ces trois types de tests ne suffit pas pour tester l'intégrité du programme. \n",
    "\n",
    "Les tests unitaires et les tests d'intégration sont généralement testés avec les mêmes outils. \n",
    "\n",
    "Pour le dernier type de tests, on prendra des exemples concrets d'exécution et on testera la sortie avec une solution certifiée."
   ]
  },
  {
   "cell_type": "markdown",
   "metadata": {
    "slideshow": {
     "slide_type": "slide"
    }
   },
   "source": [
    "## Notre cas d'étude"
   ]
  },
  {
   "cell_type": "markdown",
   "metadata": {},
   "source": [
    "Nous allons calculer les coefficients de la suite de Fibonacci en utilisant les coefficients binomiaux. Les coefficients binomiaux se calculent à partir de la formule suivante :\n",
    "\n",
    "$$\n",
    "\\left(\n",
    "\\begin{array}{c}\n",
    "n \\\\\n",
    "k\n",
    "\\end{array}\n",
    "\\right)=C_n^k=\\frac{n!}{k!(n-k)!} \\; \\text{pour} \\; k=0,\\cdots,n.\n",
    "$$\n",
    "\n",
    "On en déduit alors le calcul des coefficients de la suite de Fibonacci par la formule suivante :\n",
    "\n",
    "$$\n",
    "\\sum_{k=0}^n\n",
    "\\left(\n",
    "\\begin{array}{c}\n",
    "n-k \\\\\n",
    "k\n",
    "\\end{array} \n",
    "\\right)\n",
    "= F(n+1).\n",
    "$$\n",
    "\n",
    "Voici un exemple de code Python implantant cette formule :"
   ]
  },
  {
   "cell_type": "code",
   "execution_count": null,
   "metadata": {
    "collapsed": false,
    "slideshow": {
     "slide_type": "slide"
    }
   },
   "outputs": [],
   "source": [
    "%%file ./05_tests/fibonacci.py\n",
    "import numpy as np\n",
    "import doctest\n",
    "\n",
    "def factorielle(n):\n",
    "    \"\"\"\n",
    "    calcul de n!\n",
    "    \n",
    "    >>> factorielle(0)\n",
    "    1\n",
    "    >>> factorielle(5)\n",
    "    120\n",
    "    \n",
    "    \"\"\"\n",
    "    if n==1 or n==0:\n",
    "        return 1\n",
    "    else:\n",
    "        return (n*factorielle(n-1))\n",
    "\n",
    "def somme(deb, fin, f, fargs=()):\n",
    "    \"\"\"\n",
    "    calcul de \n",
    "    \n",
    "    $$\n",
    "    \\sum_{k=deb}^fin f(k, *fargs)\n",
    "    $$\n",
    "    \n",
    "    test d'une suite arithmetique\n",
    "    >>> somme(0, 10, lambda k:k)\n",
    "    55.0\n",
    "    \n",
    "    test d'une suite geometrique\n",
    "    >>> somme(1, 8, lambda k: 2**k)\n",
    "    510.0\n",
    "\n",
    "    \"\"\"\n",
    "    \n",
    "    som = 0.\n",
    "    for k in range(deb, fin + 1):\n",
    "        som += f(k, *fargs)\n",
    "    return som\n",
    "    \n",
    "def coef_binomial(n, k):\n",
    "    \"\"\"\n",
    "    calcul de $C_n^k$\n",
    "    \n",
    "    >>> coef_binomial(4, 2)\n",
    "    6.0\n",
    "    \n",
    "    \"\"\"\n",
    "    if k > n or k < 0:\n",
    "        return 0.\n",
    "    return (factorielle(n)/(factorielle(k)*factorielle(n-k)))\n",
    "\n",
    "def fibonacci(n):\n",
    "    \"\"\"\n",
    "    Renvoie la liste des n premiers termes de la suite de Fibonacci\n",
    "    \n",
    "    >>> fibonacci(10)\n",
    "    [1, 1, 2, 3, 5, 8, 13, 21, 34, 55]\n",
    "    \n",
    "    \"\"\"\n",
    "    def g(k, n):\n",
    "        return (coef_binomial(n - k, k))\n",
    "    \n",
    "    fibo = []\n",
    "    for i in range(n):\n",
    "        fibo.append(int(somme(0, i, g, fargs=(i,))))\n",
    "    \n",
    "    return fibo\n",
    "\n",
    "if __name__ == '__main__':\n",
    "    doctest.testmod(verbose=True)"
   ]
  },
  {
   "cell_type": "markdown",
   "metadata": {
    "slideshow": {
     "slide_type": "slide"
    }
   },
   "source": [
    "On souhaite faire les tests suivants :\n",
    "\n",
    "* **tests unitaires** : tester si les fonctions *factorielle* et *somme* fonctionnent correctement.\n",
    "* **tests d'intégration** : tester si les fonctions *factorielle* et *somme* fonctionnent correctement ensemble, tester si la fonction *coef_binomial* fonctionne correctement.\n",
    "* **tests du système complet** : tester si la fonction *fibonacci* donne le bon résultat."
   ]
  },
  {
   "cell_type": "markdown",
   "metadata": {
    "slideshow": {
     "slide_type": "slide"
    }
   },
   "source": [
    "## Les outils de tests en Python"
   ]
  },
  {
   "cell_type": "markdown",
   "metadata": {},
   "source": [
    "Il existe différents outils en Python permettant de réaliser des tests ([https://wiki.python.org/moin/PythonTestingToolsTaxonomy](https://wiki.python.org/moin/PythonTestingToolsTaxonomy)). Nous nous intéresserons ici à trois d'entre eux :\n",
    "\n",
    "- doctest\n",
    "- unittest\n",
    "- nosetests"
   ]
  },
  {
   "cell_type": "markdown",
   "metadata": {
    "slideshow": {
     "slide_type": "slide"
    }
   },
   "source": [
    "## doctest"
   ]
  },
  {
   "cell_type": "markdown",
   "metadata": {
    "slideshow": {
     "slide_type": "slide"
    }
   },
   "source": [
    "**doctest** permet de faire des tests basiques en s'appuyant par exemple sur les docstrings. \n",
    "\n",
    "\n",
    "*Rappel* : les docstrings permettent d'écrire de la documentation très facilement de nos fonctions ou de nos classes Python. Elles se placent tout de suite après une méthode, une fonction, une classe. On rappelle ici brièvement le principe en écrivant une documentation pour une fonction."
   ]
  },
  {
   "cell_type": "code",
   "execution_count": null,
   "metadata": {
    "collapsed": false,
    "slideshow": {
     "slide_type": "slide"
    }
   },
   "outputs": [],
   "source": [
    "def add(a, b):\n",
    "    \"\"\"\n",
    "    addition de 2 nombres a et b\n",
    "    \"\"\"\n",
    "    return a + b\n"
   ]
  },
  {
   "cell_type": "code",
   "execution_count": null,
   "metadata": {
    "collapsed": false
   },
   "outputs": [],
   "source": [
    "print (help(add))"
   ]
  },
  {
   "cell_type": "markdown",
   "metadata": {
    "slideshow": {
     "slide_type": "slide"
    }
   },
   "source": [
    "**doctest** effectue :\n",
    "\n",
    "* une recherche dans les sources des bouts de texte qui ressemblent à une session interactive Python,\n",
    "* une recherche dans des fichiers texte des bouts de texte qui ressemblent à une session interactive Python,\n",
    "* une exécution de ces bouts de session pour voir si le résultat est conforme.\n",
    "\n",
    "Les sessions interactives sont représentées par le symbole **>>>**.\n",
    "\n",
    "Pour l'utiliser, il suffit d'importer le module *doctest* et d'appeler *testmod* si on veut tester l'ensemble d'un module comme dans notre exemple *fibonacci.py*.\n",
    "\n",
    "Voici un exemple de la sortie :"
   ]
  },
  {
   "cell_type": "code",
   "execution_count": null,
   "metadata": {
    "collapsed": false,
    "slideshow": {
     "slide_type": "slide"
    }
   },
   "outputs": [],
   "source": [
    "!python ./05_tests/fibonacci.py"
   ]
  },
  {
   "cell_type": "markdown",
   "metadata": {
    "slideshow": {
     "slide_type": "slide"
    }
   },
   "source": [
    "### Les directives\n",
    "\n",
    "Il est possible d'ajouter des directives dans le texte permettant de ne pas faire le test, d'indiquer juste une partie de la sortie, ...\n",
    "\n"
   ]
  },
  {
   "cell_type": "code",
   "execution_count": null,
   "metadata": {
    "collapsed": false
   },
   "outputs": [],
   "source": [
    "%%file ./05_tests/fibo.txt\n",
    "Voici un exemple permettant de tester le module de fibonacci :\n",
    "\n",
    ">>> import fibonacci as f\n",
    ">>> n = 30\n",
    ">>> for i in range(n):\n",
    "...    print (f.coef_binomial(n, i)) \n",
    "... # doctest: +ELLIPSIS +NORMALIZE_WHITESPACE\n",
    "1...\n",
    "145422675\n",
    "155117520\n",
    "145422675\n",
    "...\n"
   ]
  },
  {
   "cell_type": "markdown",
   "metadata": {
    "slideshow": {
     "slide_type": "slide"
    }
   },
   "source": [
    "Si **doctest** est très simple d'utilisation, on se rend bien compte qu'il est assez limité et qu'il ne permet pas de faire des tests très élaborés."
   ]
  },
  {
   "cell_type": "markdown",
   "metadata": {
    "slideshow": {
     "slide_type": "slide"
    }
   },
   "source": [
    "## unittest"
   ]
  },
  {
   "cell_type": "markdown",
   "metadata": {
    "slideshow": {
     "slide_type": "slide"
    }
   },
   "source": [
    "Ce module est également appelé PyUnit et reprend l'esprit de JUnit qui permet de faire des tests en java. Il supporte :\n",
    "\n",
    "* les tests automatiques,\n",
    "* les fonctions d'initialisation et de finalisation pour chaque test,\n",
    "* l'aggrégation des tests,\n",
    "* l'indépendance des tests dans le rapport final."
   ]
  },
  {
   "cell_type": "markdown",
   "metadata": {
    "slideshow": {
     "slide_type": "slide"
    }
   },
   "source": [
    "Pour écrire des tests, il faut respecter certaines règles.\n",
    "\n",
    "* Les tests doivent faire partie d'une classe héritée de la classe `unittest.TestCase`.\n",
    "* Les noms des méthodes de cette classe doivent avoir le prefixe test pour être considérés comme tests.\n",
    "* Les tests sont exécutés par ordre alphabétique.\n",
    "* La fonction exécutée avant chaque test doit avoir le nom `setUp`.\n",
    "* La fonction exécutée après chaque test doit avoir le nom `tearDown`.\n",
    "\n",
    "Voici un exemple de son utilisation avec notre module *fibonacci* :"
   ]
  },
  {
   "cell_type": "code",
   "execution_count": null,
   "metadata": {
    "collapsed": false,
    "slideshow": {
     "slide_type": "slide"
    }
   },
   "outputs": [],
   "source": [
    "%%file ./05_tests/test_fibo.py\n",
    "import unittest\n",
    "from fibonacci import *\n",
    "\n",
    "class TestFibo(unittest.TestCase):\n",
    "    def test_factorielle_0(self):\n",
    "        self.assertEqual(factorielle(0), 1)\n",
    "\n",
    "    def test_factorielle_5(self):\n",
    "        self.assertEqual(factorielle(5), 120)\n",
    "        \n",
    "    def test_somme(self):\n",
    "        self.assertEqual(somme(0, 10, lambda k:k), 55)\n",
    "\n",
    "    def test_coef_binomial(self):\n",
    "        self.assertEqual(coef_binomial(4, 2), 6)\n",
    "        \n",
    "    def test_fibo(self):\n",
    "        self.assertEqual(fibonacci(10), [1, 1, 2, 3, 5, 8, 13, 21, 34, 55])\n",
    "        \n",
    "if __name__ == '__main__':\n",
    "    unittest.main(verbosity=2) # par defaut verbosity=1"
   ]
  },
  {
   "cell_type": "code",
   "execution_count": null,
   "metadata": {
    "collapsed": false,
    "slideshow": {
     "slide_type": "slide"
    }
   },
   "outputs": [],
   "source": [
    "!python ./05_tests/test_fibo.py"
   ]
  },
  {
   "cell_type": "markdown",
   "metadata": {
    "slideshow": {
     "slide_type": "slide"
    }
   },
   "source": [
    "### Les assertions\n",
    "\n",
    "Ils permettent de dire à **unittest** ce que l'on attend comme résultat du test.\n",
    "\n",
    "- `assertEqual`: les 2 valeurs doivent être égales.\n",
    "- `assertAlmostEqual`: les 2 valeurs doivent être à peu près égales.\n",
    "- `assertTrue`: l'expression doit être vraie.\n",
    "- `assertFalse`: l'expression doit être fausse.\n",
    "- ...\n"
   ]
  },
  {
   "cell_type": "code",
   "execution_count": null,
   "metadata": {
    "collapsed": false,
    "slideshow": {
     "slide_type": "slide"
    }
   },
   "outputs": [],
   "source": [
    "%%file ./05_tests/test_assert.py\n",
    "import unittest\n",
    "\n",
    "class TestAssert(unittest.TestCase):\n",
    "    def test_equal(self):\n",
    "        self.assertEqual(2, 1 + 1)\n",
    "\n",
    "    def test_false(self):\n",
    "        self.assertFalse(1 == 1 + 1)\n",
    "        \n",
    "    def test_almostEqual(self):\n",
    "        self.assertAlmostEqual(0.000011, 0.000012, places=5)\n",
    "        \n",
    "if __name__ == '__main__':\n",
    "    unittest.main(verbosity=2) # par defaut verbosity=1"
   ]
  },
  {
   "cell_type": "code",
   "execution_count": null,
   "metadata": {
    "collapsed": false,
    "slideshow": {
     "slide_type": "slide"
    }
   },
   "outputs": [],
   "source": [
    "!python ./05_tests/test_assert.py"
   ]
  },
  {
   "cell_type": "markdown",
   "metadata": {},
   "source": [
    "### Rassembler les tests"
   ]
  },
  {
   "cell_type": "code",
   "execution_count": null,
   "metadata": {
    "collapsed": false,
    "slideshow": {
     "slide_type": "-"
    }
   },
   "outputs": [],
   "source": [
    "%%file ./05_tests/alltests.py\n",
    "import unittest\n",
    "\n",
    "def allTests():\n",
    "    from test_assert import TestAssert\n",
    "    from test_fibo import TestFibo\n",
    "\n",
    "    suite = unittest.TestSuite()\n",
    "    suite.addTest(unittest.makeSuite(TestAssert))\n",
    "    suite.addTest(unittest.makeSuite(TestFibo))\n",
    "\n",
    "    return suite\n",
    "\n",
    "if __name__ == '__main__':\n",
    "    unittest.TextTestRunner(verbosity=2).run(allTests())"
   ]
  },
  {
   "cell_type": "code",
   "execution_count": null,
   "metadata": {
    "collapsed": false
   },
   "outputs": [],
   "source": [
    "!python ./05_tests/alltests.py"
   ]
  },
  {
   "cell_type": "markdown",
   "metadata": {
    "slideshow": {
     "slide_type": "slide"
    }
   },
   "source": [
    "## nosetests"
   ]
  },
  {
   "cell_type": "markdown",
   "metadata": {
    "slideshow": {
     "slide_type": "slide"
    }
   },
   "source": [
    "Ce module reconnaît automatiquement les tests réalisés à partir de **unittest** ou de **doctest**. Il a en plus d'autres fonctionalités intéressantes :\n",
    "\n",
    "* tests de couverture,\n",
    "* tests de profiling,\n",
    "* possibilité d'ajouter des plugins,\n",
    "* ..."
   ]
  },
  {
   "cell_type": "markdown",
   "metadata": {
    "slideshow": {
     "slide_type": "slide"
    }
   },
   "source": [
    "### *Exemple d'utilisation avec doctest*"
   ]
  },
  {
   "cell_type": "code",
   "execution_count": null,
   "metadata": {
    "collapsed": false
   },
   "outputs": [],
   "source": [
    "!nosetests -v --with-doctest ./05_tests/fibonacci.py"
   ]
  },
  {
   "cell_type": "markdown",
   "metadata": {
    "slideshow": {
     "slide_type": "slide"
    }
   },
   "source": [
    "### *Exemple d'utilisation avec unittest*"
   ]
  },
  {
   "cell_type": "code",
   "execution_count": null,
   "metadata": {
    "collapsed": false
   },
   "outputs": [],
   "source": [
    "!nosetests -v ./05_tests/test_fibo.py"
   ]
  },
  {
   "cell_type": "markdown",
   "metadata": {
    "slideshow": {
     "slide_type": "slide"
    }
   },
   "source": [
    "### Ecriture de tests avec nosetests\n",
    "\n",
    "**nosetests** considère qu'un fichier, un répertoire contient des tests si celui-ci satisfait l'expression régulière que l'on appellera dans la suite *matchTest*\n",
    "\n",
    "```\n",
    "((?:^|[\\\\b_\\\\.-])[Tt]est\n",
    "```\n",
    "\n",
    "En d'autres termes, il faut que les noms test ou Test soient au début du nom ou qu'ils soient précédés de - ou _.\n",
    "\n",
    "La règle s'applique également aux fonctions, classes, ... qui se trouvent dans le fichier à tester."
   ]
  },
  {
   "cell_type": "markdown",
   "metadata": {
    "slideshow": {
     "slide_type": "slide"
    }
   },
   "source": [
    "### Exemples"
   ]
  },
  {
   "cell_type": "code",
   "execution_count": null,
   "metadata": {
    "collapsed": false
   },
   "outputs": [],
   "source": [
    "%%file ./05_tests/test_nose.py\n",
    "\n",
    "class test_une_classe:\n",
    "    def pasuntestvalide(self):\n",
    "        pass\n",
    "\n",
    "    def testvalide(self):\n",
    "        pass\n",
    "\n",
    "    def encore_un_test_valide(self):\n",
    "        pass\n",
    "\n",
    "def ouUneFonction_Test():\n",
    "    pass"
   ]
  },
  {
   "cell_type": "code",
   "execution_count": null,
   "metadata": {
    "collapsed": false
   },
   "outputs": [],
   "source": [
    "!nosetests -v ./05_tests/test_nose.py"
   ]
  },
  {
   "cell_type": "markdown",
   "metadata": {
    "slideshow": {
     "slide_type": "slide"
    }
   },
   "source": [
    "### Les assertions\n",
    "\n",
    "Tout comme **unittest**, **nosetests** comprend tout un tas d'outils pour faire des assertions. Ils se trouvent dans `nose.tools`. \n",
    "\n",
    "Attention: contrairement à **unittest**, **nosetests** satisfait les règles de la [PEP 8](https://www.python.org/dev/peps/pep-0008#function-names). Par conséquent, `assertEqual` devient `assert_equal`."
   ]
  },
  {
   "cell_type": "markdown",
   "metadata": {
    "slideshow": {
     "slide_type": "slide"
    }
   },
   "source": [
    "### Initialisation et finalisation des tests\n",
    "\n",
    "Il est possible d'exécuter du code en début et en fin de tests comme avec les fonctions `setUp` et `tearDown` de **unittest**."
   ]
  },
  {
   "cell_type": "markdown",
   "metadata": {
    "slideshow": {
     "slide_type": "slide"
    }
   },
   "source": [
    "### Pour les packages de tests\n",
    "\n",
    "On peut ajouter les fonctions d'initialisation et de finalisation dans le fichier `__init__.py`. \n",
    "\n",
    "Les fonctions d'initialisation doivent se nommer `setup`, `setup_package`, `setUp` ou `setUpPackage`.\n",
    "\n",
    "Les fonctions de finalisation doivent se nommer `teardown`, `teardown_package`, `tearDown` ou `tearDownPackage`."
   ]
  },
  {
   "cell_type": "markdown",
   "metadata": {
    "slideshow": {
     "slide_type": "slide"
    }
   },
   "source": [
    "### Pour les modules de tests\n",
    "\n",
    "Un module de tests est un module dont le nom satisfait *matchTest*. \n",
    "\n",
    "De la même manière que pour les packages, les fonctions d'initialisation et de finalisation doivent avoir les noms `setup`, `setup_module`, `setUp` ou `setUpModule` et `teardown`, `teardown_module`, `tearDown` ou `tearDownModule`\n"
   ]
  },
  {
   "cell_type": "markdown",
   "metadata": {
    "slideshow": {
     "slide_type": "slide"
    }
   },
   "source": [
    "### Pour les classes de tests\n",
    "\n",
    "Une classe de tests est une classe dont le nom satisfait *matchTest*. Elle doit se trouver dans un module de tests.\n",
    "\n",
    "Soit elle dérive de la classe `unittest.TestCase`, soit elle comporte des méthodes qui satisfont le *matchTest*.\n",
    "\n",
    "Les fonctions d'initialisation sont `setup_class`, `setupClass`, `setUpClass`, `setupAll` ou `setUpAll`.\n",
    "\n",
    "Les fonctions de finalisation sont `teardown_class`, `teardownClass`, `tearDownClass`, `teardownAll` ou `tearDownAll`."
   ]
  },
  {
   "cell_type": "markdown",
   "metadata": {
    "slideshow": {
     "slide_type": "slide"
    }
   },
   "source": [
    "### Pour les fonctions de tests\n",
    "\n",
    "Une fonction de test est une fonction dont le nom satisfait *matchTest*. Elle doit se trouver dans un module de tests.\n",
    "\n",
    "Contrairement aux précédents cas, il n'y a pas de format particulier pour les phases d'initialisation et de finalisation.\n",
    "\n",
    "Il faut utiliser le décorateur `with_setup` qui se trouve dans le module `nose`."
   ]
  },
  {
   "cell_type": "code",
   "execution_count": null,
   "metadata": {
    "collapsed": false,
    "slideshow": {
     "slide_type": "slide"
    }
   },
   "outputs": [],
   "source": [
    "%%file ./05_tests/test_nose2.py\n",
    "from nose import with_setup\n",
    "\n",
    "def init_func():\n",
    "    print (\"j'inialise !!\")\n",
    "\n",
    "def end_func():\n",
    "    print (\"je finalise !!\")\n",
    "    \n",
    "@with_setup(init_func, end_func)    \n",
    "def test1():\n",
    "    print (\"test 1\")\n"
   ]
  },
  {
   "cell_type": "code",
   "execution_count": null,
   "metadata": {
    "collapsed": false
   },
   "outputs": [],
   "source": [
    "!nosetests -s ./05_tests/test_nose2.py"
   ]
  },
  {
   "cell_type": "markdown",
   "metadata": {
    "slideshow": {
     "slide_type": "slide"
    }
   },
   "source": [
    "### Les attributs\n",
    "\n",
    "Dans **nosetests**, il est possible de sélectionner une partie des tests en utilisant des attributs.\n",
    "\n",
    "On peut par exemple exécuter que les tests qui ne sont pas lents."
   ]
  },
  {
   "cell_type": "code",
   "execution_count": null,
   "metadata": {
    "collapsed": false
   },
   "outputs": [],
   "source": [
    "%%file ./05_tests/test_nose_attr.py\n",
    "from nose.plugins.attrib import attr\n",
    "\n",
    "@attr('lent')\n",
    "def test_lent():\n",
    "    print ('test lent')\n",
    "\n",
    "def test_rapide():\n",
    "    print ('test rapide')"
   ]
  },
  {
   "cell_type": "code",
   "execution_count": null,
   "metadata": {
    "collapsed": false
   },
   "outputs": [],
   "source": [
    "!nosetests -s ./05_tests/test_nose_attr.py"
   ]
  },
  {
   "cell_type": "code",
   "execution_count": null,
   "metadata": {
    "collapsed": false
   },
   "outputs": [],
   "source": [
    "!nosetests -s -a '!lent' ./05_tests/test_nose_attr.py"
   ]
  },
  {
   "cell_type": "code",
   "execution_count": null,
   "metadata": {
    "collapsed": false,
    "slideshow": {
     "slide_type": "slide"
    }
   },
   "outputs": [],
   "source": [
    "%%file ./05_tests/test_nose_attr.py\n",
    "from nose.plugins.attrib import attr\n",
    "\n",
    "@attr(vitesse='lent')\n",
    "def test_lent():\n",
    "    print ('test lent')\n",
    "\n",
    "@attr(vitesse='rapide')\n",
    "def test_rapide():\n",
    "    print ('test rapide')"
   ]
  },
  {
   "cell_type": "code",
   "execution_count": null,
   "metadata": {
    "collapsed": false
   },
   "outputs": [],
   "source": [
    "!nosetests -s -a vitesse='lent' ./05_tests/test_nose_attr.py"
   ]
  },
  {
   "cell_type": "markdown",
   "metadata": {
    "slideshow": {
     "slide_type": "slide"
    }
   },
   "source": [
    "### Les tests de couverture\n",
    "\n",
    "Il est également possible avec **nosetests** de voir si nos tests passent bien sur l'ensemble de notre code.\n"
   ]
  },
  {
   "cell_type": "code",
   "execution_count": null,
   "metadata": {
    "collapsed": false
   },
   "outputs": [],
   "source": [
    "!nosetests --with-coverage --cover-package=fibonacci ./05_tests/test_fibo.py"
   ]
  },
  {
   "cell_type": "markdown",
   "metadata": {
    "slideshow": {
     "slide_type": "slide"
    }
   },
   "source": [
    "On voit qu'on a oublié de tester 2 lignes de notre module. Si on creuse un peu ces 2 lignes correspondent aux lignes du *main* ce qui n'est donc pas très important.\n",
    "\n",
    "Continuons par des exercices pratiques, avec le [notebook 05_tests_TPs](05_tests_TPs.ipynb)"
   ]
  },
  {
   "cell_type": "code",
   "execution_count": 1,
   "metadata": {
    "collapsed": false
   },
   "outputs": [
    {
     "data": {
      "text/html": [
       "<link href='http://fonts.googleapis.com/css?family=Oswald' rel='stylesheet' type='text/css'>\n",
       "<link href='http://fonts.googleapis.com/css?family=Lora:400,400italic' rel='stylesheet' type='text/css'>\n",
       "<link href='http://fonts.googleapis.com/css?family=Open+Sans:300' rel='stylesheet' type='text/css'>\n",
       "<link href='http://fonts.googleapis.com/css?family=Alegreya+Sans:100,300,400,500,700,800,900,100italic,300italic,400italic,500italic,700italic,800italic,900italic' rel='stylesheet' type='text/css'>\n",
       "\n",
       "<style>\n",
       "\n",
       "h1, h2, h3, h4, h5 {\n",
       "    font-family: 'Alegreya Sans', sans-serif;\n",
       "}\n",
       "\n",
       "div.text_cell_render{\n",
       "    font-family: 'Alegreya Sans',Computer Modern, \"Helvetica Neue\", Arial, Helvetica, Geneva, sans-serif;\n",
       "    line-height: 135%;\n",
       "    font-size: 120%;\n",
       "    width:100%;/*600px;*/\n",
       "    /*margin-left:auto;*/\n",
       "    /*margin-right:auto;*/\n",
       "}\n",
       "/*div.text_cell_render{font-family: \"Open Sans\", sans-serif;font-weight: normal; line-height:normal;}*/\n",
       "\n",
       "/* header colours and fonts */\n",
       ".rendered_html h1 {\n",
       "    color:#9A3334;\n",
       "    /*margin-top: 0.5em;*/\n",
       "    padding: 1em;\n",
       "    display: block;\n",
       "    font-size: 40px;\n",
       "    text-align: center;\n",
       "    border-top: 2px solid #9A3334;\n",
       "    border-bottom: 2px solid #9A3334;\n",
       "}\n",
       "\n",
       "/*.rendered_html h1 { color: #9A3334; font-family: Lora, sans-serif; font-weight: normal; text-align: center; }*/\n",
       ".rendered_html h2 {\n",
       "    color: #9A3334;\n",
       "    /*font-family: Lora, sans-serif;*/\n",
       "    font-style: italic;\n",
       "    font-weight: normal;\n",
       "    font-size: 30px;\n",
       "    /*text-align: center;*/\n",
       "    border-bottom: 1px solid #9A3334;\n",
       "}\n",
       ".rendered_html h3 {\n",
       "    color: #9A3334;\n",
       "    /*font-family: Lora, sans-serif;*/\n",
       "    font-weight: normal;\n",
       "    font-size: 25px;\n",
       "    font-style: italic;\n",
       "}\n",
       "\n",
       ".rendered_html h4 {\n",
       "    border: 2px solid #9A3334;\n",
       "    border-radius: 25px;\n",
       "    font-style: italic;\n",
       "    height:5%;\n",
       "    width:15%;\n",
       "    padding:5px;\n",
       "    text-align: center;\n",
       "}\n",
       "\n",
       "div.prompt {\n",
       "    display: None;\n",
       "}\n",
       "\n",
       "/* center the images */\n",
       ".ui-wrapper {\n",
       "    margin-left: auto !important;\n",
       "    margin-right: auto !important;\n",
       "}\n",
       "\n",
       "/* center the images */\n",
       ".video {\n",
       "    margin-left: auto !important;\n",
       "    margin-right: auto !important;\n",
       "}\n",
       "\n",
       ".rendered_html img {\n",
       "    margin-top: 0em;\n",
       "}\n",
       "\n",
       "div.input_area {\n",
       "    border-radius: 10px;\n",
       "}\n",
       "\n",
       "/*.reveal h1 {\n",
       "    text-shadow: 10px 10px 10px rgba(0, 0, 0, 0.5);\n",
       "}*/\n",
       "</style>"
      ],
      "text/plain": [
       "<IPython.core.display.HTML object>"
      ]
     },
     "execution_count": 1,
     "metadata": {},
     "output_type": "execute_result"
    }
   ],
   "source": [
    "# execute this part to modify the css style\n",
    "from IPython.core.display import HTML\n",
    "def css_styling():\n",
    "    styles = open(\"../../styles/custom.css\", \"r\").read()\n",
    "    return HTML(styles)\n",
    "css_styling()"
   ]
  }
 ],
 "metadata": {
  "celltoolbar": "Slideshow",
  "kernelspec": {
   "display_name": "Python 3",
   "language": "python",
   "name": "python3"
  },
  "language_info": {
   "codemirror_mode": {
    "name": "ipython",
    "version": 3
   },
   "file_extension": ".py",
   "mimetype": "text/x-python",
   "name": "python",
   "nbconvert_exporter": "python",
   "pygments_lexer": "ipython3",
   "version": "3.3.5"
  }
 },
 "nbformat": 4,
 "nbformat_minor": 0
}
