{
 "cells": [
  {
   "cell_type": "markdown",
   "metadata": {
    "slideshow": {
     "slide_type": "skip"
    }
   },
   "source": [
    "*Ce notebook est distribué par Devlog sous licence Creative Commons - Attribution - Pas d’Utilisation Commerciale - Partage dans les Mêmes Conditions. La description complète de la license est disponible à l'adresse web http://creativecommons.org/licenses/by-nc-sa/4.0/.*"
   ]
  },
  {
   "cell_type": "markdown",
   "metadata": {
    "slideshow": {
     "slide_type": "slide"
    }
   },
   "source": [
    "# Initiation python - Outils 3/6 : Le module logging"
   ]
  },
  {
   "cell_type": "markdown",
   "metadata": {
    "slideshow": {
     "slide_type": "slide"
    }
   },
   "source": [
    "## Pourquoi utiliser les logs ?\n",
    "\n",
    "- suivre le bon fonctionnement d'un programme\n",
    "    + trouver plus facilement la source d'une erreur,\n",
    "    + si vous diffusez un de vos codes et qu'il ne se comporte pas correctement, l'utilisateur peut vous envoyer les fichiers de logs pour comprendre la source de l'erreur.\n",
    "- normaliser le format de sortie\n",
    "- séparer les erreurs selon leurs niveaux de criticité\n",
    "- éviter d'écrire lors du développement de nombreux ```print()``` pour le débuggage qui devront être supprimés pour le passage en production"
   ]
  },
  {
   "cell_type": "markdown",
   "metadata": {
    "slideshow": {
     "slide_type": "slide"
    }
   },
   "source": [
    "## Le module logging de python (1/2)\n",
    "\n",
    "- fait parti de la bibliothèque standard de python\n",
    "- les logs peuvent être envoyés :\n",
    "    + sur la console\n",
    "    + dans des fichiers\n",
    "    + par email\n",
    "    + vers syslog\n",
    "    + ...\n",
    "- 5 niveaux de logs disponibles :\n",
    "    + **DEBUG** : informations nécessaires pour le débuggage (ex : contenu d'un dictionnaire).\n",
    "    + **INFO** : informations sur les étapes de traitement (ex : lecture du fichier de données data.txt).\n",
    "    + **WARNING** : détection d'une situation rare.\n",
    "    + **ERROR** : un traitement s'est mal passé mais n'a pas conduit à l'arrêt du programme.\n",
    "    + **CRITICAL** : une erreur s'est produite conduisant à l'arrêt du programme."
   ]
  },
  {
   "cell_type": "markdown",
   "metadata": {
    "slideshow": {
     "slide_type": "subslide"
    }
   },
   "source": [
    "## Le module logging de python (2/2)\n",
    "\n",
    "La configuration du module peut-être faite de plusieurs manières\n",
    "+ en utilisant les méthodes de l'objet ```logging``` directement dans le code\n",
    "+ en utilisant un dictionnaire\n",
    "+ avec des fichiers INI ou yaml"
   ]
  },
  {
   "cell_type": "markdown",
   "metadata": {
    "slideshow": {
     "slide_type": "subslide"
    }
   },
   "source": [
    "## Configuration du module logging\n",
    "\n",
    "- la configuration de ce module n'est pas toujours facile car la documentation est compliquée\n",
    "- un modèle de configuration type a été défini par la communauté django\n",
    "    - on crée un dictionnaire contenant la configuration du looger\n",
    "    - à partir de cette configuration, on défini un object logger\n",
    "    \n",
    "- Nous allons voir ci-dessous un exemple de configuration qui sauve les logs : \n",
    "    + à partir du niveau __DEBUG__ dans la console\n",
    "    + à partir du niveau __WARNING__ dans un fichier"
   ]
  },
  {
   "cell_type": "markdown",
   "metadata": {
    "slideshow": {
     "slide_type": "subslide"
    }
   },
   "source": [
    "```python\n",
    "import logging\n",
    "from logging.config import dictConfig\n",
    "\n",
    "logging_config = {\n",
    "    'version': 1,\n",
    "    'formatters': {\n",
    "        'simple': {\n",
    "            'format': '%(asctime)s - %(name) - %(levelname) - %(message)s'\n",
    "        }\n",
    "    },\n",
    "    'handlers': {\n",
    "        'console_handler': {\n",
    "            'class': 'logging.StreamHandler',\n",
    "            'formatter': 'simple',\n",
    "            'level': logging.DEBUG\n",
    "        },\n",
    "        'file_handler': {\n",
    "            'class': 'logging.FileHandler',\n",
    "            'formatter': 'simple',\n",
    "            'level': logging.WARNING,\n",
    "            'filename': 'my_app.log',\n",
    "        }\n",
    "    },\n",
    "    'loggers': {\n",
    "        'root': {\n",
    "            'handlers': ['console_handler', 'file_handler'],\n",
    "            'level': logging.DEBUG\n",
    "        }\n",
    "    }\n",
    "}\n",
    "\n",
    "dictConfig(logging_config)\n",
    "\n",
    "logger = logging.getLogger()\n",
    "```"
   ]
  },
  {
   "cell_type": "markdown",
   "metadata": {
    "slideshow": {
     "slide_type": "subslide"
    }
   },
   "source": [
    "- la clé __formatters__ permet de configurer le format que vont avoir nos logs\n",
    "    + asctime : le format d'affichage de la date\n",
    "    + name : le nom du programme\n",
    "    + levelname : le niveau du log\n",
    "    + message : le message qui va être affiché\n",
    "- la clé __handlers__ permet de définir les différentes sorties dans lesquelles les logs vont être écrits\n",
    "    + pour la console, on utilise la classe ```logging.streamHandler```\n",
    "    + pour le fichier, on utilise la classe ```logging.FileHandler```\n",
    "        * on définit aussi le nom du fichier de log avec la clé __'filename'__\n",
    "        * on pourrait aussi utiliser la classe ```logging.handlers.RotatingFileHandler``` pour faire de la rotation de fichiers\n",
    "- la clé __loggers __ pour notre utilisation aura toujours ce format\n",
    "    + on définit seulement le nom des __handlers__ qui vont être utilisés\n",
    "    + on place toujours le niveau de ce root logger au niveau debug"
   ]
  },
  {
   "cell_type": "markdown",
   "metadata": {
    "slideshow": {
     "slide_type": "subslide"
    }
   },
   "source": [
    "## Utilisation de l'objet logger\n",
    "\n",
    "Dans les fonctions, on peut ensuite utiliser cet objet pour sauvegarder les logs\n",
    "\n",
    "```python\n",
    "logger.debug(\"message de niveau debug\")\n",
    "logger.info(\"message de niveau info\")\n",
    "logger.warning(\"message de niveau warning\")\n",
    "logger.error(\"message de niveau error\")\n",
    "logger.critical(\"message de niveau critical\")\n",
    "```\n",
    "\n",
    "Il est aussi possible de formatter les messages\n",
    "\n",
    "```python\n",
    "entier = 10\n",
    "logger.debug(\"valeur de l'entier %d\", entier)\n",
    "```"
   ]
  },
  {
   "cell_type": "code",
   "execution_count": 1,
   "metadata": {
    "collapsed": false
   },
   "outputs": [
    {
     "data": {
      "text/html": [
       "<link href='http://fonts.googleapis.com/css?family=Oswald' rel='stylesheet' type='text/css'>\n",
       "<link href='http://fonts.googleapis.com/css?family=Lora:400,400italic' rel='stylesheet' type='text/css'>\n",
       "<link href='http://fonts.googleapis.com/css?family=Open+Sans:300' rel='stylesheet' type='text/css'>\n",
       "<link href='http://fonts.googleapis.com/css?family=Alegreya+Sans:100,300,400,500,700,800,900,100italic,300italic,400italic,500italic,700italic,800italic,900italic' rel='stylesheet' type='text/css'>\n",
       "\n",
       "<style>\n",
       "\n",
       "h1, h2, h3, h4, h5 {\n",
       "    font-family: 'Alegreya Sans', sans-serif;\n",
       "}\n",
       "\n",
       "div.text_cell_render{\n",
       "    font-family: 'Alegreya Sans',Computer Modern, \"Helvetica Neue\", Arial, Helvetica, Geneva, sans-serif;\n",
       "    line-height: 135%;\n",
       "    font-size: 120%;\n",
       "    width:100%;/*600px;*/\n",
       "    /*margin-left:auto;*/\n",
       "    /*margin-right:auto;*/\n",
       "}\n",
       "/*div.text_cell_render{font-family: \"Open Sans\", sans-serif;font-weight: normal; line-height:normal;}*/\n",
       "\n",
       "/* header colours and fonts */\n",
       ".rendered_html h1 {\n",
       "    color:#9A3334;\n",
       "    /*margin-top: 0.5em;*/\n",
       "    padding: 1em;\n",
       "    display: block;\n",
       "    font-size: 40px;\n",
       "    text-align: center;\n",
       "    border-top: 2px solid #9A3334;\n",
       "    border-bottom: 2px solid #9A3334;\n",
       "}\n",
       "\n",
       "/*.rendered_html h1 { color: #9A3334; font-family: Lora, sans-serif; font-weight: normal; text-align: center; }*/\n",
       ".rendered_html h2 {\n",
       "    color: #9A3334;\n",
       "    /*font-family: Lora, sans-serif;*/\n",
       "    font-style: italic;\n",
       "    font-weight: normal;\n",
       "    font-size: 30px;\n",
       "    /*text-align: center;*/\n",
       "    border-bottom: 1px solid #9A3334;\n",
       "}\n",
       ".rendered_html h3 {\n",
       "    color: #9A3334;\n",
       "    /*font-family: Lora, sans-serif;*/\n",
       "    font-weight: normal;\n",
       "    font-size: 25px;\n",
       "    font-style: italic;\n",
       "}\n",
       "\n",
       ".rendered_html h4 {\n",
       "    border: 2px solid #9A3334;\n",
       "    border-radius: 25px;\n",
       "    font-style: italic;\n",
       "    height:5%;\n",
       "    width:15%;\n",
       "    padding:5px;\n",
       "    text-align: center;\n",
       "}\n",
       "\n",
       "div.prompt {\n",
       "    display: None;\n",
       "}\n",
       "\n",
       "/* center the images */\n",
       ".ui-wrapper {\n",
       "    margin-left: auto !important;\n",
       "    margin-right: auto !important;\n",
       "}\n",
       "\n",
       "/* center the images */\n",
       ".video {\n",
       "    margin-left: auto !important;\n",
       "    margin-right: auto !important;\n",
       "}\n",
       "\n",
       ".rendered_html img {\n",
       "    margin-top: 0em;\n",
       "}\n",
       "\n",
       "div.input_area {\n",
       "    border-radius: 10px;\n",
       "}\n",
       "\n",
       "/*.reveal h1 {\n",
       "    text-shadow: 10px 10px 10px rgba(0, 0, 0, 0.5);\n",
       "}*/\n",
       "</style>"
      ],
      "text/plain": [
       "<IPython.core.display.HTML object>"
      ]
     },
     "execution_count": 1,
     "metadata": {},
     "output_type": "execute_result"
    }
   ],
   "source": [
    "# execute this part to modify the css style\n",
    "from IPython.core.display import HTML\n",
    "def css_styling():\n",
    "    styles = open(\"../../styles/custom.css\", \"r\").read()\n",
    "    return HTML(styles)\n",
    "css_styling()"
   ]
  }
 ],
 "metadata": {
  "celltoolbar": "Slideshow",
  "kernelspec": {
   "display_name": "Python 2",
   "language": "python",
   "name": "python2"
  },
  "language_info": {
   "codemirror_mode": {
    "name": "ipython",
    "version": 2
   },
   "file_extension": ".py",
   "mimetype": "text/x-python",
   "name": "python",
   "nbconvert_exporter": "python",
   "pygments_lexer": "ipython2",
   "version": "2.7.11"
  }
 },
 "nbformat": 4,
 "nbformat_minor": 0
}
