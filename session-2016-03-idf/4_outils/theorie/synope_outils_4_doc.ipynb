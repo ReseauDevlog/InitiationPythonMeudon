{
 "cells": [
  {
   "cell_type": "markdown",
   "metadata": {
    "slideshow": {
     "slide_type": "skip"
    }
   },
   "source": [
    "*Ce notebook est distribué par Devlog sous licence Creative Commons - Attribution - Pas d’Utilisation Commerciale - Partage dans les Mêmes Conditions. La description complète de la license est disponible à l'adresse web http://creativecommons.org/licenses/by-nc-sa/4.0/.*"
   ]
  },
  {
   "cell_type": "markdown",
   "metadata": {
    "slideshow": {
     "slide_type": "slide"
    }
   },
   "source": [
    "# Initiation python - Outils 4/6 : La documentation"
   ]
  },
  {
   "cell_type": "markdown",
   "metadata": {
    "collapsed": true,
    "slideshow": {
     "slide_type": "slide"
    }
   },
   "source": [
    "## Pourquoi documenter ?\n",
    "\n",
    "- comprendre ce que l'on a fait,\n",
    "- expliquer aux utilisateurs comment utiliser notre code,\n",
    "- faciliter la maintenance du code,\n",
    "- faciliter la réutilisation du code,\n",
    "- ..."
   ]
  },
  {
   "cell_type": "markdown",
   "metadata": {
    "slideshow": {
     "slide_type": "slide"
    }
   },
   "source": [
    "## La documentation en Python\n",
    "\n",
    "- La convention de documentation est définie dans le [PEP 257](https://www.python.org/dev/peps/pep-0257/).\n",
    "- Les commentaires sont appelés __docstring__.\n",
    "- L'outil pylint vu dans la première partie peut afficher des alertes si les fonctions et les classes ne contiennent pas de docstring.\n",
    "- Les docstring sont placées entre des ```\"\"\"``` après la définition de la fonction.\n",
    "\n",
    "```python\n",
    "def ma_fonction(argument_1, argument_2):\n",
    "    \"\"\"multiplie deux nombres et retourne le résultat\"\"\"\n",
    "    \n",
    "    return argument_1 * argument_2\n",
    "\n",
    "```"
   ]
  },
  {
   "cell_type": "markdown",
   "metadata": {
    "slideshow": {
     "slide_type": "slide"
    }
   },
   "source": [
    "## Les avantages des docstrings\n",
    "\n",
    "- On peut afficher les docstrings avec la fonction ```help()```.\n",
    "- Les IDEs savent afficher cette documentation.\n",
    "- Comme vu dans la partie 2, on peut intégrer des tests dans la docstring.\n",
    "- La fonction pydoc permet d'afficher la documentation comme la commande ```man``` du shell."
   ]
  },
  {
   "cell_type": "code",
   "execution_count": 1,
   "metadata": {
    "collapsed": false,
    "slideshow": {
     "slide_type": "slide"
    }
   },
   "outputs": [
    {
     "name": "stdout",
     "output_type": "stream",
     "text": [
      "The \"print\" statement\r\n",
      "*********************\r\n",
      "\r\n",
      "   print_stmt ::= \"print\" ([expression (\",\" expression)* [\",\"]]\r\n",
      "                  | \">>\" expression [(\",\" expression)+ [\",\"]])\r\n",
      "\r\n",
      "\"print\" evaluates each expression in turn and writes the resulting\r\n",
      "object to standard output (see below).  If an object is not a string,\r\n",
      "it is first converted to a string using the rules for string\r\n",
      "conversions.  The (resulting or original) string is then written.  A\r\n",
      "space is written before each object is (converted and) written, unless\r\n",
      "the output system believes it is positioned at the beginning of a\r\n",
      "line.  This is the case (1) when no characters have yet been written\r\n",
      "to standard output, (2) when the last character written to standard\r\n",
      "output is a whitespace character except \"' '\", or (3) when the last\r\n",
      "write operation on standard output was not a \"print\" statement. (In\r\n",
      "some cases it may be functional to write an empty string to standard\r\n",
      "output for this reason.)\r\n",
      "\r\n",
      "Note: Objects which act like file objects but which are not the\r\n",
      "  built-in file objects often do not properly emulate this aspect of\r\n",
      "  the file object's behavior, so it is best not to rely on this.\r\n",
      "\r\n",
      "A \"'\\n'\" character is written at the end, unless the \"print\" statement\r\n",
      "ends with a comma.  This is the only action if the statement contains\r\n",
      "just the keyword \"print\".\r\n",
      "\r\n",
      "Standard output is defined as the file object named \"stdout\" in the\r\n",
      "built-in module \"sys\".  If no such object exists, or if it does not\r\n",
      "have a \"write()\" method, a \"RuntimeError\" exception is raised.\r\n",
      "\r\n",
      "\"print\" also has an extended form, defined by the second portion of\r\n",
      "the syntax described above. This form is sometimes referred to as\r\n",
      "\"\"print\" chevron.\" In this form, the first expression after the \">>\"\r\n",
      "must evaluate to a \"file-like\" object, specifically an object that has\r\n",
      "a \"write()\" method as described above.  With this extended form, the\r\n",
      "subsequent expressions are printed to this file object.  If the first\r\n",
      "expression evaluates to \"None\", then \"sys.stdout\" is used as the file\r\n",
      "for output.\r\n",
      "\r\n"
     ]
    }
   ],
   "source": [
    "!pydoc print"
   ]
  },
  {
   "cell_type": "markdown",
   "metadata": {
    "slideshow": {
     "slide_type": "slide"
    }
   },
   "source": [
    "## Les bonnes pratiques\n",
    "\n",
    "- documentation sur une ligne\n",
    "\n",
    "```python\n",
    "def ma_fonction():\n",
    "    \"\"\"documentation sur une ligne\"\"\"\n",
    "    pass\n",
    "```\n",
    "\n",
    "- documentation sur plusieurs lignes\n",
    "\n",
    "```python\n",
    "def ma_fonction_plus_complique(arg_1, arg_2):\n",
    "    \"\"\"description de ma fonction\n",
    "    \n",
    "    arg_1 : description de l'argument 1\n",
    "    arg_2 : description de l'argument 2\n",
    "    \n",
    "    \"\"\"\n",
    "    return arg_1 * arg_2\n",
    "```\n",
    "\n",
    "- Les docstrings ne devraient pas dépasser 80 caratères.\n",
    "- Si vous comptez diffuser votre code, il est conseillé d'utiliser l'anglais."
   ]
  },
  {
   "cell_type": "markdown",
   "metadata": {
    "slideshow": {
     "slide_type": "slide"
    }
   },
   "source": [
    "## Usage avancé\n",
    "\n",
    "- Les docstrings acceptent le format __ReStructureText__ ([RST](https://pythonhosted.org/an_example_pypi_project/sphinx.html)) \n",
    "    + permet d'uiliser des balises\n",
    "    + permet de générer du HTML ou des fichiers PDF\n",
    "\n",
    "```python\n",
    "def multiplication(arg_1, arg_2):\n",
    "    \"\"\"multiplie deux nombres et retourne le résulat\n",
    "    \n",
    "    :param arg_1: le premier nombre\n",
    "    :param arg_2: le deuxième nombre\n",
    "    :type arg_1: float\n",
    "    :type arg_2: float\n",
    "    :return: resultat de la multiplication\n",
    "    :rtype: float\n",
    "    \n",
    "    :Exemple:\n",
    "    \n",
    "    >>> mulitplication(2., 5.0)\n",
    "    10.\n",
    "    \"\"\"\n",
    "    return arg_1 * arg_2\n",
    "```\n",
    "\n",
    "- d'autres balises sont disponibles pour afficher des notes, des liens, des warnings, ...\n"
   ]
  },
  {
   "cell_type": "markdown",
   "metadata": {
    "slideshow": {
     "slide_type": "slide"
    }
   },
   "source": [
    "## Le module [SPHINX](http://www.sphinx-doc.org/en/stable/)\n",
    "\n",
    "- permet \n",
    "    + de créer la documentation d'un code en utilisant le format RST,\n",
    "    + de convertir la documentation au format PDF, HTML, epub,\n",
    "    + de mettre des formules mathématiques, des images, ...\n",
    "    + ...\n",
    "\n",
    "C'est l'outil à utiliser pour partager sa documentation sur le site [readthedocs](https://readthedocs.org/).\n"
   ]
  },
  {
   "cell_type": "code",
   "execution_count": 1,
   "metadata": {
    "collapsed": false
   },
   "outputs": [
    {
     "data": {
      "text/html": [
       "<link href='http://fonts.googleapis.com/css?family=Oswald' rel='stylesheet' type='text/css'>\n",
       "<link href='http://fonts.googleapis.com/css?family=Lora:400,400italic' rel='stylesheet' type='text/css'>\n",
       "<link href='http://fonts.googleapis.com/css?family=Open+Sans:300' rel='stylesheet' type='text/css'>\n",
       "<link href='http://fonts.googleapis.com/css?family=Alegreya+Sans:100,300,400,500,700,800,900,100italic,300italic,400italic,500italic,700italic,800italic,900italic' rel='stylesheet' type='text/css'>\n",
       "\n",
       "<style>\n",
       "\n",
       "h1, h2, h3, h4, h5 {\n",
       "    font-family: 'Alegreya Sans', sans-serif;\n",
       "}\n",
       "\n",
       "div.text_cell_render{\n",
       "    font-family: 'Alegreya Sans',Computer Modern, \"Helvetica Neue\", Arial, Helvetica, Geneva, sans-serif;\n",
       "    line-height: 135%;\n",
       "    font-size: 120%;\n",
       "    width:100%;/*600px;*/\n",
       "    /*margin-left:auto;*/\n",
       "    /*margin-right:auto;*/\n",
       "}\n",
       "/*div.text_cell_render{font-family: \"Open Sans\", sans-serif;font-weight: normal; line-height:normal;}*/\n",
       "\n",
       "/* header colours and fonts */\n",
       ".rendered_html h1 {\n",
       "    color:#9A3334;\n",
       "    /*margin-top: 0.5em;*/\n",
       "    padding: 1em;\n",
       "    display: block;\n",
       "    font-size: 40px;\n",
       "    text-align: center;\n",
       "    border-top: 2px solid #9A3334;\n",
       "    border-bottom: 2px solid #9A3334;\n",
       "}\n",
       "\n",
       "/*.rendered_html h1 { color: #9A3334; font-family: Lora, sans-serif; font-weight: normal; text-align: center; }*/\n",
       ".rendered_html h2 {\n",
       "    color: #9A3334;\n",
       "    /*font-family: Lora, sans-serif;*/\n",
       "    font-style: italic;\n",
       "    font-weight: normal;\n",
       "    font-size: 30px;\n",
       "    /*text-align: center;*/\n",
       "    border-bottom: 1px solid #9A3334;\n",
       "}\n",
       ".rendered_html h3 {\n",
       "    color: #9A3334;\n",
       "    /*font-family: Lora, sans-serif;*/\n",
       "    font-weight: normal;\n",
       "    font-size: 25px;\n",
       "    font-style: italic;\n",
       "}\n",
       "\n",
       ".rendered_html h4 {\n",
       "    border: 2px solid #9A3334;\n",
       "    border-radius: 25px;\n",
       "    font-style: italic;\n",
       "    height:5%;\n",
       "    width:15%;\n",
       "    padding:5px;\n",
       "    text-align: center;\n",
       "}\n",
       "\n",
       "div.prompt {\n",
       "    display: None;\n",
       "}\n",
       "\n",
       "/* center the images */\n",
       ".ui-wrapper {\n",
       "    margin-left: auto !important;\n",
       "    margin-right: auto !important;\n",
       "}\n",
       "\n",
       "/* center the images */\n",
       ".video {\n",
       "    margin-left: auto !important;\n",
       "    margin-right: auto !important;\n",
       "}\n",
       "\n",
       ".rendered_html img {\n",
       "    margin-top: 0em;\n",
       "}\n",
       "\n",
       "div.input_area {\n",
       "    border-radius: 10px;\n",
       "}\n",
       "\n",
       "/*.reveal h1 {\n",
       "    text-shadow: 10px 10px 10px rgba(0, 0, 0, 0.5);\n",
       "}*/\n",
       "</style>"
      ],
      "text/plain": [
       "<IPython.core.display.HTML object>"
      ]
     },
     "execution_count": 1,
     "metadata": {},
     "output_type": "execute_result"
    }
   ],
   "source": [
    "# execute this part to modify the css style\n",
    "from IPython.core.display import HTML\n",
    "def css_styling():\n",
    "    styles = open(\"../../styles/custom.css\", \"r\").read()\n",
    "    return HTML(styles)\n",
    "css_styling()"
   ]
  }
 ],
 "metadata": {
  "celltoolbar": "Slideshow",
  "kernelspec": {
   "display_name": "Python 2",
   "language": "python",
   "name": "python2"
  },
  "language_info": {
   "codemirror_mode": {
    "name": "ipython",
    "version": 2
   },
   "file_extension": ".py",
   "mimetype": "text/x-python",
   "name": "python",
   "nbconvert_exporter": "python",
   "pygments_lexer": "ipython2",
   "version": "2.7.11"
  }
 },
 "nbformat": 4,
 "nbformat_minor": 0
}
