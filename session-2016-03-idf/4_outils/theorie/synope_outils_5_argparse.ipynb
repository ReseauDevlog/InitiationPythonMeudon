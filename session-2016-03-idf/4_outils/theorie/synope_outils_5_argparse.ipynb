{
 "cells": [
  {
   "cell_type": "markdown",
   "metadata": {
    "slideshow": {
     "slide_type": "skip"
    }
   },
   "source": [
    "*Ce notebook est distribué par Devlog sous licence Creative Commons - Attribution - Pas d’Utilisation Commerciale - Partage dans les Mêmes Conditions. La description complète de la license est disponible à l'adresse web http://creativecommons.org/licenses/by-nc-sa/4.0/.*"
   ]
  },
  {
   "cell_type": "markdown",
   "metadata": {
    "slideshow": {
     "slide_type": "slide"
    }
   },
   "source": [
    "# Initiation python - Outils 5/6 : Le module argparse"
   ]
  },
  {
   "cell_type": "markdown",
   "metadata": {
    "collapsed": true,
    "slideshow": {
     "slide_type": "slide"
    }
   },
   "source": [
    "## Intérêt du module [argparse](https://docs.python.org/3/library/argparse.html)\n",
    "\n",
    "Le module __argparse__ permet de simplifier la gestion des arguments d'entrée lors de l'utilisation des codes en ligne de commande.\n",
    "\n",
    "- il appartient à la bibliothèque standard de python\n",
    "- il permet de :\n",
    "    + définir les argument obligatoires,\n",
    "    + définir les arguments optionnels,\n",
    "    + vérifier le type des arguments,\n",
    "    + vérifier l'existence des fichiers fournis en entrée,\n",
    "    + générer automatiquement l'aide, \n",
    "    + ..."
   ]
  },
  {
   "cell_type": "markdown",
   "metadata": {
    "slideshow": {
     "slide_type": "slide"
    }
   },
   "source": [
    "## Utilisation de argparse"
   ]
  },
  {
   "cell_type": "code",
   "execution_count": 10,
   "metadata": {
    "collapsed": false,
    "slideshow": {
     "slide_type": "-"
    }
   },
   "outputs": [
    {
     "name": "stdout",
     "output_type": "stream",
     "text": [
      "Overwriting ./exemples/parser.py\n"
     ]
    }
   ],
   "source": [
    "%%file ./exemples/parser.py\n",
    "\n",
    "# coding: utf8\n",
    "import sys\n",
    "import argparse\n",
    "\n",
    "def main(argv):\n",
    "    \n",
    "    # creation de l'objet parser\n",
    "    parser = argparse.ArgumentParser(\n",
    "        description='programme qui affiche sur 2 entiers'\n",
    "    )\n",
    "    \n",
    "    # ajout d'un argument obligatoire\n",
    "    parser.add_argument(\n",
    "        'entier_1',  # nom par lequel nous allons pouvoir accéder à la variable\n",
    "        type=int,    # type de la variable\n",
    "        help='un entier'  # affichage de l'aide\n",
    "    )\n",
    "    parser.add_argument(\n",
    "        'entier_2',\n",
    "        type=int,\n",
    "        help='un deuxième entier'\n",
    "    )\n",
    "    # ajout d'un argument obligatoire avec choix\n",
    "    parser.add_argument(\n",
    "        'operateur',\n",
    "        type=str,\n",
    "        choices=['-', '+', '/', '*']  # valeur possible de la variable\n",
    "    )\n",
    "    \n",
    "    # ajout d'un argument optionnel\n",
    "    parser.add_argument(\n",
    "        '--message',  # option à utiliser dans la ligne de commande pour founir la valeur de l'option\n",
    "        type=str,\n",
    "        required=False,\n",
    "        default=None,  # valeur par défaut de l'option pour savoir si elle a été activée\n",
    "        help='affiche la chaîne de caractère'\n",
    "    )\n",
    "    \n",
    "    # parser les argument d'entrée\n",
    "    arg_entree = parser.parse_args(argv)\n",
    "    \n",
    "    # accéder aux valeurs\n",
    "    int_1 = arg_entree.entier_1\n",
    "    int_2 = arg_entree.entier_2\n",
    "    op = arg_entree.operateur\n",
    "    message = arg_entree.message\n",
    "    \n",
    "    print(\"opération à faire :\")\n",
    "    print(\"{} {} {}\".format(int_1, op, int_2))\n",
    "    if message is not None:\n",
    "        print(message)\n",
    "\n",
    "if __name__ == '__main__':\n",
    "    main(sys.argv[1:])\n",
    "    "
   ]
  },
  {
   "cell_type": "markdown",
   "metadata": {
    "slideshow": {
     "slide_type": "subslide"
    }
   },
   "source": [
    "Si on ne fournit pas les options obligatoires, argparse affiche automatiquement une erreur avec une aide."
   ]
  },
  {
   "cell_type": "code",
   "execution_count": 11,
   "metadata": {
    "collapsed": false,
    "slideshow": {
     "slide_type": "fragment"
    }
   },
   "outputs": [
    {
     "name": "stdout",
     "output_type": "stream",
     "text": [
      "usage: parser.py [-h] [--message MESSAGE] entier_1 entier_2 {-,+,/,*}\r\n",
      "parser.py: error: too few arguments\r\n"
     ]
    }
   ],
   "source": [
    "!python exemples/parser.py"
   ]
  },
  {
   "cell_type": "markdown",
   "metadata": {
    "slideshow": {
     "slide_type": "subslide"
    }
   },
   "source": [
    "On peut afficher l'aide avec l'option \"-h\"."
   ]
  },
  {
   "cell_type": "code",
   "execution_count": 12,
   "metadata": {
    "collapsed": false,
    "slideshow": {
     "slide_type": "fragment"
    }
   },
   "outputs": [
    {
     "name": "stdout",
     "output_type": "stream",
     "text": [
      "usage: parser.py [-h] [--message MESSAGE] entier_1 entier_2 {-,+,/,*}\r\n",
      "\r\n",
      "programme qui affiche sur 2 entiers\r\n",
      "\r\n",
      "positional arguments:\r\n",
      "  entier_1           un entier\r\n",
      "  entier_2           un deuxième entier\r\n",
      "  {-,+,/,*}\r\n",
      "\r\n",
      "optional arguments:\r\n",
      "  -h, --help         show this help message and exit\r\n",
      "  --message MESSAGE  affiche la chaîne de caractère\r\n"
     ]
    }
   ],
   "source": [
    "!python exemples/parser.py -h"
   ]
  },
  {
   "cell_type": "markdown",
   "metadata": {
    "slideshow": {
     "slide_type": "subslide"
    }
   },
   "source": [
    "Si on fournit les arguments nécessaires :"
   ]
  },
  {
   "cell_type": "code",
   "execution_count": 13,
   "metadata": {
    "collapsed": false,
    "slideshow": {
     "slide_type": "fragment"
    }
   },
   "outputs": [
    {
     "name": "stdout",
     "output_type": "stream",
     "text": [
      "opération à faire :\r\n",
      "24 * 8\r\n",
      "multiplication\r\n"
     ]
    }
   ],
   "source": [
    "!python exemples/parser.py 24 8 '*' --message multiplication"
   ]
  },
  {
   "cell_type": "markdown",
   "metadata": {},
   "source": [
    "Si on fournit un flottant à la place des entiers, l'erreur va être détectée."
   ]
  },
  {
   "cell_type": "code",
   "execution_count": 14,
   "metadata": {
    "collapsed": false
   },
   "outputs": [
    {
     "name": "stdout",
     "output_type": "stream",
     "text": [
      "usage: parser.py [-h] [--message MESSAGE] entier_1 entier_2 {-,+,/,*}\r\n",
      "parser.py: error: argument entier_1: invalid int value: '24.5'\r\n"
     ]
    }
   ],
   "source": [
    "!python exemples/parser.py 24.5 8.5 '*' --message multiplication"
   ]
  },
  {
   "cell_type": "markdown",
   "metadata": {
    "slideshow": {
     "slide_type": "subslide"
    }
   },
   "source": [
    "## Options avancées\n",
    "\n",
    "Le module argparse dispose aussi d'options plus avancées (que nous ne verrons pas ici)\n",
    "\n",
    "- définition de nos propres vérificateurs d'arguments (par exemple vérifier le format d'une date),\n",
    "- avoir des arguments d'entrée multiples qu'il accumule dans une liste,\n",
    "- gérer les drapeaux,\n",
    "- associer des actions à des arguments,\n",
    "- ..."
   ]
  },
  {
   "cell_type": "code",
   "execution_count": 1,
   "metadata": {
    "collapsed": false
   },
   "outputs": [
    {
     "data": {
      "text/html": [
       "<link href='http://fonts.googleapis.com/css?family=Oswald' rel='stylesheet' type='text/css'>\n",
       "<link href='http://fonts.googleapis.com/css?family=Lora:400,400italic' rel='stylesheet' type='text/css'>\n",
       "<link href='http://fonts.googleapis.com/css?family=Open+Sans:300' rel='stylesheet' type='text/css'>\n",
       "<link href='http://fonts.googleapis.com/css?family=Alegreya+Sans:100,300,400,500,700,800,900,100italic,300italic,400italic,500italic,700italic,800italic,900italic' rel='stylesheet' type='text/css'>\n",
       "\n",
       "<style>\n",
       "\n",
       "h1, h2, h3, h4, h5 {\n",
       "    font-family: 'Alegreya Sans', sans-serif;\n",
       "}\n",
       "\n",
       "div.text_cell_render{\n",
       "    font-family: 'Alegreya Sans',Computer Modern, \"Helvetica Neue\", Arial, Helvetica, Geneva, sans-serif;\n",
       "    line-height: 135%;\n",
       "    font-size: 120%;\n",
       "    width:100%;/*600px;*/\n",
       "    /*margin-left:auto;*/\n",
       "    /*margin-right:auto;*/\n",
       "}\n",
       "/*div.text_cell_render{font-family: \"Open Sans\", sans-serif;font-weight: normal; line-height:normal;}*/\n",
       "\n",
       "/* header colours and fonts */\n",
       ".rendered_html h1 {\n",
       "    color:#9A3334;\n",
       "    /*margin-top: 0.5em;*/\n",
       "    padding: 1em;\n",
       "    display: block;\n",
       "    font-size: 40px;\n",
       "    text-align: center;\n",
       "    border-top: 2px solid #9A3334;\n",
       "    border-bottom: 2px solid #9A3334;\n",
       "}\n",
       "\n",
       "/*.rendered_html h1 { color: #9A3334; font-family: Lora, sans-serif; font-weight: normal; text-align: center; }*/\n",
       ".rendered_html h2 {\n",
       "    color: #9A3334;\n",
       "    /*font-family: Lora, sans-serif;*/\n",
       "    font-style: italic;\n",
       "    font-weight: normal;\n",
       "    font-size: 30px;\n",
       "    /*text-align: center;*/\n",
       "    border-bottom: 1px solid #9A3334;\n",
       "}\n",
       ".rendered_html h3 {\n",
       "    color: #9A3334;\n",
       "    /*font-family: Lora, sans-serif;*/\n",
       "    font-weight: normal;\n",
       "    font-size: 25px;\n",
       "    font-style: italic;\n",
       "}\n",
       "\n",
       ".rendered_html h4 {\n",
       "    border: 2px solid #9A3334;\n",
       "    border-radius: 25px;\n",
       "    font-style: italic;\n",
       "    height:5%;\n",
       "    width:15%;\n",
       "    padding:5px;\n",
       "    text-align: center;\n",
       "}\n",
       "\n",
       "div.prompt {\n",
       "    display: None;\n",
       "}\n",
       "\n",
       "/* center the images */\n",
       ".ui-wrapper {\n",
       "    margin-left: auto !important;\n",
       "    margin-right: auto !important;\n",
       "}\n",
       "\n",
       "/* center the images */\n",
       ".video {\n",
       "    margin-left: auto !important;\n",
       "    margin-right: auto !important;\n",
       "}\n",
       "\n",
       ".rendered_html img {\n",
       "    margin-top: 0em;\n",
       "}\n",
       "\n",
       "div.input_area {\n",
       "    border-radius: 10px;\n",
       "}\n",
       "\n",
       "/*.reveal h1 {\n",
       "    text-shadow: 10px 10px 10px rgba(0, 0, 0, 0.5);\n",
       "}*/\n",
       "</style>"
      ],
      "text/plain": [
       "<IPython.core.display.HTML object>"
      ]
     },
     "execution_count": 1,
     "metadata": {},
     "output_type": "execute_result"
    }
   ],
   "source": [
    "# execute this part to modify the css style\n",
    "from IPython.core.display import HTML\n",
    "def css_styling():\n",
    "    styles = open(\"../../styles/custom.css\", \"r\").read()\n",
    "    return HTML(styles)\n",
    "css_styling()"
   ]
  }
 ],
 "metadata": {
  "celltoolbar": "Slideshow",
  "kernelspec": {
   "display_name": "Python 2",
   "language": "python",
   "name": "python2"
  },
  "language_info": {
   "codemirror_mode": {
    "name": "ipython",
    "version": 2
   },
   "file_extension": ".py",
   "mimetype": "text/x-python",
   "name": "python",
   "nbconvert_exporter": "python",
   "pygments_lexer": "ipython2",
   "version": "2.7.11"
  }
 },
 "nbformat": 4,
 "nbformat_minor": 0
}
