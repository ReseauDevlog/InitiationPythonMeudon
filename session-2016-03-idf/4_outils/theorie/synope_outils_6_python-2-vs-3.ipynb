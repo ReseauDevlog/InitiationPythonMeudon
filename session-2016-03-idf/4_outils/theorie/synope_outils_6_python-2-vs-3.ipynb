{
 "cells": [
  {
   "cell_type": "markdown",
   "metadata": {
    "slideshow": {
     "slide_type": "skip"
    }
   },
   "source": [
    "*Ce notebook est distribué par Devlog sous licence Creative Commons - Attribution - Pas d’Utilisation Commerciale - Partage dans les Mêmes Conditions. La description complète de la license est disponible à l'adresse web http://creativecommons.org/licenses/by-nc-sa/4.0/.*"
   ]
  },
  {
   "cell_type": "markdown",
   "metadata": {
    "slideshow": {
     "slide_type": "slide"
    }
   },
   "source": [
    "# Initiation python - Outils 6/6 : python 2 VS 3"
   ]
  },
  {
   "cell_type": "markdown",
   "metadata": {
    "slideshow": {
     "slide_type": "slide"
    }
   },
   "source": [
    "- python 3.0 \n",
    "    + a été publié en 2008\n",
    "    + actuellement en version 3.5\n",
    "    + il devient la version officielle de python à partir de la version 3.3\n",
    "- python 2.7\n",
    "    + est la dernière version majeure de python 2\n",
    "    + le support se terminera en 2020"
   ]
  },
  {
   "cell_type": "markdown",
   "metadata": {
    "slideshow": {
     "slide_type": "slide"
    }
   },
   "source": [
    "## Les principales différences"
   ]
  },
  {
   "cell_type": "markdown",
   "metadata": {
    "slideshow": {
     "slide_type": "subslide"
    }
   },
   "source": [
    "### print\n",
    "\n",
    "- print devient une fonction\n",
    "\n",
    "**python 2**\n",
    "```python\n",
    "print \"ma chaine de caractère\"\n",
    "```\n",
    "\n",
    "**python 3**\n",
    "```python\n",
    "print(\"ma chaîne de caractère\")\n",
    "```"
   ]
  },
  {
   "cell_type": "markdown",
   "metadata": {
    "slideshow": {
     "slide_type": "subslide"
    }
   },
   "source": [
    "### division d'entiers\n",
    "\n",
    "**python 2**\n",
    "```python\n",
    "5/2\n",
    ">>> 2\n",
    "```\n",
    "\n",
    "**python 3**\n",
    "```python\n",
    "5/2\n",
    ">>> 2.5\n",
    "\n",
    "5//2\n",
    ">>> 2\n",
    "```"
   ]
  },
  {
   "cell_type": "markdown",
   "metadata": {
    "slideshow": {
     "slide_type": "subslide"
    }
   },
   "source": [
    "### encodage de caractères\n",
    "\n",
    "C'est une des différences les plus importantes et sûrement la plus compliqué.\n",
    "\n",
    "- en python 2, l'encodage des caracères est en ASCII\n",
    "- en python 3, l'encodage des caractère est en utf-8\n",
    "\n",
    "Nous ne détaillerons pas plus cette partie mais vous pourvez trouvez plus d'informations avec ce [lien](http://sametmax.com/lencoding-en-python-une-bonne-fois-pour-toute/)"
   ]
  },
  {
   "cell_type": "markdown",
   "metadata": {
    "slideshow": {
     "slide_type": "slide"
    }
   },
   "source": [
    "## Les autres changements"
   ]
  },
  {
   "cell_type": "markdown",
   "metadata": {
    "slideshow": {
     "slide_type": "subslide"
    }
   },
   "source": [
    "### Exceptions\n",
    "\n",
    "**python 2**\n",
    "```python\n",
    "raise IOError, \"file error\"\n",
    "raise \"Erreur 404\"\n",
    "raise TypeError, msg, tb \n",
    "```\n",
    "\n",
    "** python 3**\n",
    "```python\n",
    "raise IOError(\"file error\")\n",
    "raise Exception(\"Erreur 404!\")\n",
    "raise TypeError.with_traceback(tb)\n",
    "```"
   ]
  },
  {
   "cell_type": "markdown",
   "metadata": {
    "slideshow": {
     "slide_type": "subslide"
    }
   },
   "source": [
    "### Changements de nom de modules\n",
    "\n",
    "| python 2 | python 3|\n",
    "| --- | --- |\n",
    "|\\_\\_builtin\\_\\_ |builtins\n",
    "|ConfigParser |configparser|\n",
    "|copy_reg |copyreg|\n",
    "|cPickle |pickle|\n",
    "|Queue |queue|\n",
    "|repr |reprlib|\n",
    "|SocketServer |socketserver|\n",
    "|Tkinter |tkinter|\n",
    "|\\_winreg |winreg|\n",
    "|thread |\\_thread|\n",
    "|dummy_thread |\\_dummy_thread|\n",
    "|markupbase |\\_markupbase|"
   ]
  },
  {
   "cell_type": "markdown",
   "metadata": {
    "slideshow": {
     "slide_type": "subslide"
    }
   },
   "source": [
    "### Réorganisation\n",
    "\n",
    "|Python 2 | Python 3 |\n",
    "| --- | --- |\n",
    "|xrange()| range()|\n",
    "|reduce()| functools.reduce()|\n",
    "|intern()| sys.intern()|\n",
    "|unichr()| chr()|\n",
    "|basestring()| str()|\n",
    "|long()| int()|\n",
    "|itertools.izip()| zip()|\n",
    "|itertools.imap()| map()|\n",
    "|itertools.ifilter()| filter()|\n",
    "|itertools.ifilterfalse()| itertools.filterfalse()|\n",
    "|cookielib| http.cookiejar|\n",
    "|Cookie| http.cookies|\n",
    "|htmlentitydefs| html.entities|\n",
    "|HTMLParser|  html.parser|\n",
    "|httplib|  http.client|\n",
    "|Dialog|  tkinter.dialog|\n",
    "|FileDialog| tkinter.FileDialog|\n",
    "|ScrolledText| tkinter.scolledtext|\n",
    "|SimpleDialog|tkinter.simpledialog|\n",
    "|Tix|  tkinter.tix|\n",
    "|Tkconstants| tkinter.constants|\n",
    "|Tkdnd| tkinter.dnd|\n",
    "|tkColorChooser| tkinter.colorchooser|\n",
    "|tkCommonDialog| tkinter.commondialog|\n",
    "|tkFileDialog| tkinter.filedialog|\n",
    "|tkFont| tkinter.font|\n",
    "|tkMessageBox|  tkinter.messagebox|\n",
    "|tkSimpleDialog|  tkinter.simpledialog|\n",
    "|robotparser|  urllib.robotparser|\n",
    "|urlparse|  urllib.parse|\n",
    "|cStringIO.StringIO()| io.StringIO|\n",
    "|UserString|  collections.UserString|\n",
    "|UserList|  collections.UserList|"
   ]
  },
  {
   "cell_type": "markdown",
   "metadata": {
    "slideshow": {
     "slide_type": "slide"
    }
   },
   "source": [
    "## code python 2 compatible python 3\n",
    "\n",
    "Quelques bonnes pratiques permettent d'avoir un code python 2 qui pourra être plus facilement compatible avec python 3"
   ]
  },
  {
   "cell_type": "markdown",
   "metadata": {
    "slideshow": {
     "slide_type": "subslide"
    }
   },
   "source": [
    "- mettre au début de son fichier l'instruction :\n",
    "\n",
    "```python\n",
    "#!/usr/bin/env python\n",
    "# -*- coding: utf-8 -*-\n",
    "```"
   ]
  },
  {
   "cell_type": "markdown",
   "metadata": {
    "slideshow": {
     "slide_type": "subslide"
    }
   },
   "source": [
    "- utiliser le module `\\_\\_future\\_\\_` qui fait partie de la bibliothèque standard et qui permet simuler le comportement de python 3\n",
    "\n",
    "```python\n",
    "from __future__ import print_function, division, absolute_import\n",
    "```\n",
    "\n",
    "- on peut aussi importer `unicode_litterals` mais les effets de bords sont plus difficiles à gérer"
   ]
  },
  {
   "cell_type": "markdown",
   "metadata": {
    "slideshow": {
     "slide_type": "subslide"
    }
   },
   "source": [
    "- le site http://python-future.org décrit un ensemble de bonnes pratiques et d'outils pour créer un code compatible avec python 2 et python 3. Il utilise pour cela les modules **future** et **past** qui permettent de simuler le comportement de python 2 ou de python 3 selon le besoin\n",
    "- ils mettent aussi à dispositions les modules :\n",
    "    + **futurize** pour convertir un code python 2 vers la version 3\n",
    "    + **pasteurize** pour convertir un code python 3 vers python 2"
   ]
  },
  {
   "cell_type": "markdown",
   "metadata": {
    "slideshow": {
     "slide_type": "slide"
    }
   },
   "source": [
    "- il existe aussi le module [```2to3```](https://docs.python.org/2/library/2to3.html) qui permet de convertir automatiquement un programme python 2 en python 3."
   ]
  },
  {
   "cell_type": "code",
   "execution_count": 3,
   "metadata": {
    "collapsed": false
   },
   "outputs": [
    {
     "data": {
      "text/html": [
       "<link href='http://fonts.googleapis.com/css?family=Oswald' rel='stylesheet' type='text/css'>\n",
       "<link href='http://fonts.googleapis.com/css?family=Lora:400,400italic' rel='stylesheet' type='text/css'>\n",
       "<link href='http://fonts.googleapis.com/css?family=Open+Sans:300' rel='stylesheet' type='text/css'>\n",
       "<link href='http://fonts.googleapis.com/css?family=Alegreya+Sans:100,300,400,500,700,800,900,100italic,300italic,400italic,500italic,700italic,800italic,900italic' rel='stylesheet' type='text/css'>\n",
       "\n",
       "<style>\n",
       "\n",
       "h1, h2, h3, h4, h5 {\n",
       "    font-family: 'Alegreya Sans', sans-serif;\n",
       "}\n",
       "\n",
       "div.text_cell_render{\n",
       "    font-family: 'Alegreya Sans',Computer Modern, \"Helvetica Neue\", Arial, Helvetica, Geneva, sans-serif;\n",
       "    line-height: 135%;\n",
       "    font-size: 140%;\n",
       "    width:100%;/*600px;*/\n",
       "    /*margin-left:auto;*/\n",
       "    /*margin-right:auto;*/\n",
       "}\n",
       "/*div.text_cell_render{font-family: \"Open Sans\", sans-serif;font-weight: normal; line-height:normal;}*/\n",
       "\n",
       "/* header colours and fonts */\n",
       ".rendered_html h1 {\n",
       "    color:#9A3334;\n",
       "    /*margin-top: 0.5em;*/\n",
       "    padding: 1em;\n",
       "    display: block;\n",
       "    font-size: 40px;\n",
       "    text-align: center;\n",
       "    border-top: 2px solid #9A3334;\n",
       "    border-bottom: 2px solid #9A3334;\n",
       "}\n",
       "\n",
       "/*.rendered_html h1 { color: #9A3334; font-family: Lora, sans-serif; font-weight: normal; text-align: center; }*/\n",
       ".rendered_html h2 {\n",
       "    color: #9A3334;\n",
       "    /*font-family: Lora, sans-serif;*/\n",
       "    font-style: italic;\n",
       "    font-weight: normal;\n",
       "    font-size: 30px;\n",
       "    /*text-align: center;*/\n",
       "    border-bottom: 1px solid #9A3334;\n",
       "}\n",
       ".rendered_html h3 {\n",
       "    color: #9A3334;\n",
       "    /*font-family: Lora, sans-serif;*/\n",
       "    font-weight: normal;\n",
       "    font-size: 25px;\n",
       "    font-style: italic;\n",
       "}\n",
       "\n",
       ".rendered_html h4 {\n",
       "    border: 2px solid #9A3334;\n",
       "    border-radius: 25px;\n",
       "    font-style: italic;\n",
       "    height:5%;\n",
       "    width:20%;\n",
       "    padding:5px;\n",
       "    text-align: center;\n",
       "}\n",
       "\n",
       "div.prompt {\n",
       "    display: None;\n",
       "}\n",
       "\n",
       "/* center the images */\n",
       ".ui-wrapper {\n",
       "    margin-left: auto !important;\n",
       "    margin-right: auto !important;\n",
       "}\n",
       "\n",
       "/* center the images */\n",
       ".video {\n",
       "    margin-left: auto !important;\n",
       "    margin-right: auto !important;\n",
       "}\n",
       "\n",
       ".rendered_html img {\n",
       "    margin-top: 0em;\n",
       "}\n",
       "\n",
       "div.input_area {\n",
       "    border-radius: 10px;\n",
       "}\n",
       "\n",
       ".reveal h1 {\n",
       "    font-size: 70px;\n",
       "    text-shadow: 10px 10px 10px rgba(0, 0, 0, 0.5);\n",
       "}\n",
       "\n",
       ".reveal h2 {\n",
       "    font-size: 50px;\n",
       "    text-shadow: 10px 10px 10px rgba(0, 0, 0, 0.5);\n",
       "}\n",
       "\n",
       ".reveal h3 {\n",
       "    font-size: 50px;\n",
       "    \n",
       "}\n",
       "\n",
       "</style>"
      ],
      "text/plain": [
       "<IPython.core.display.HTML object>"
      ]
     },
     "execution_count": 3,
     "metadata": {},
     "output_type": "execute_result"
    }
   ],
   "source": [
    "# execute this part to modify the css style\n",
    "from IPython.core.display import HTML\n",
    "def css_styling():\n",
    "    styles = open(\"../../styles/custom.css\", \"r\").read()\n",
    "    return HTML(styles)\n",
    "css_styling()"
   ]
  },
  {
   "cell_type": "code",
   "execution_count": null,
   "metadata": {
    "collapsed": true
   },
   "outputs": [],
   "source": []
  }
 ],
 "metadata": {
  "kernelspec": {
   "display_name": "Python 3",
   "language": "python",
   "name": "python3"
  },
  "language_info": {
   "codemirror_mode": {
    "name": "ipython",
    "version": 3
   },
   "file_extension": ".py",
   "mimetype": "text/x-python",
   "name": "python",
   "nbconvert_exporter": "python",
   "pygments_lexer": "ipython3",
   "version": "3.5.1"
  }
 },
 "nbformat": 4,
 "nbformat_minor": 0
}
