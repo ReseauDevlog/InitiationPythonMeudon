{
 "cells": [
  {
   "cell_type": "markdown",
   "metadata": {},
   "source": [
    "*Ce notebook est distribué par Devlog sous licence Creative Commons - Attribution - Pas d’Utilisation Commerciale - Partage dans les Mêmes Conditions. La description complète de la license est disponible à l'adresse web http://creativecommons.org/licenses/by-nc-sa/4.0/.*"
   ]
  },
  {
   "cell_type": "markdown",
   "metadata": {},
   "source": [
    "# Initiation Python - TP 5 - numpy et matplotlib"
   ]
  },
  {
   "cell_type": "markdown",
   "metadata": {},
   "source": [
    "Maintenant que vous avez quelques connaissances sur les tableaux NumPy, nous allons modifier nos classes pour qu'elles utilisent ce package et non plus des listes."
   ]
  },
  {
   "cell_type": "markdown",
   "metadata": {},
   "source": [
    "#### Question 1\n",
    "\n",
    "Modifier *spe_cos* et *spe_sin* pour qu'ils puissent prendre des tableaux en entrée. Remplacez également votre fonction *linspace* par celle de NumPy.\n",
    "\n",
    "#### Question 2\n",
    "\n",
    "Modifier les méthodes *surface* des classes *Superellipse* et *Superellipsoid* pour qu'elles fonctionnent avec des tableaux. Vérifiez que vous obtenez toujours les mêmes résultats\n",
    "\n",
    "#### Question 3\n",
    "\n",
    "Ecrivez dans le répertoire *demos* deux scripts Python vous permettant de représenter à l'aide de *matplolib* une superellipse et une superellipsoïde.\n",
    "\n",
    "Pour la dimension 3, vous utiliserez les commandes suivantes"
   ]
  },
  {
   "cell_type": "code",
   "execution_count": null,
   "metadata": {
    "collapsed": true
   },
   "outputs": [],
   "source": [
    "import matplotlib.pyplot as plt\n",
    "from mpl_toolkits.mplot3d import axes3d\n",
    "\n",
    "fig = plt.figure()\n",
    "ax = fig.add_subplot(111, projection='3d')"
   ]
  },
  {
   "cell_type": "markdown",
   "metadata": {},
   "source": [
    "vous permettant d'initialiser une figure \"3d\".\n",
    "\n",
    "#### Question 4\n",
    "\n",
    "Essayer de représenter la superellipse ayant les caractéristiques suivantes\n",
    "\n",
    "- 100 points de discrétisation,\n",
    "- $r_x=r_y=1$,\n",
    "- $m$ = 100.\n",
    "\n",
    "Vous devriez voir la forme d'un carré. Comme vous pouvez le constater, les points sont confinés aux angles. \n",
    "\n",
    "#### Question 5\n",
    "\n",
    "Pour avoir une plus jolie discrétisation de nos ellipsoïdes, nous allons projeter les points d'un carré $[0,1]\\times[0,1]$ sur celle-ci en utilisant les formules suivantes\n",
    "\n",
    "$$\n",
    "\\begin{array}{l}\n",
    "x = r_x x_c\\left(1 - \\frac{|y_c|^m}{2}\\right)^{\\frac{1}{m}} \\\\\n",
    "y = r_y y_c\\left(1 - \\frac{|x_c|^m}{2}\\right)^{\\frac{1}{m}} \n",
    "\\end{array}\n",
    "$$\n",
    "\n",
    "où $x_c$ et $y_c$ sont les coordonnées du carré unité.\n",
    "\n",
    "A l'aide de *concatenate* et de *linspace*, construisez les coordonnées du carré unité (vous vous donnerez un entier $n$ qui correspondra au nombre de points de discrétisation sur un côté).\n",
    "\n",
    "Ecrire une méthode *surface_with_square* dans la classe *Superellipse* permettant de calculer les coordonnées de la superellipse en projetant le carré unité.\n",
    "\n",
    "Visualisez à nouveau la superellipse et regardez le changement.\n",
    "\n",
    "#### Question 6\n",
    "\n",
    "Nous allons maintenant faire de même pour les superellipsoïdes en s'aidant de ce que l'on a fait précédemment. En effet, une superellipsoïde peut-être construite à l'aide de deux superellipses et un produit sphérique. Soient deux superellipses dont tous les rayons sont égaux à 1 dont les coordonnées sont notées rescpectivement $(g_x, g_y)$ pour la puissance $m_1$ et $(h_x, h_y)$ pour la puissance $m_2$, alors les coordonnées de la superellipsoide s'écrivent\n",
    "\n",
    "$$\n",
    "\\begin{array}{l}\n",
    "x = r_x g_x h_x \\\\\n",
    "y = r_y g_y h_x \\\\\n",
    "z = r_z h_y\n",
    "\\end{array}\n",
    "$$\n",
    "\n",
    "Ecrivez une méthode *surface_with_square* dans la classe *Superellipsoid* et testez.\n",
    "\n",
    "#### Question 7\n",
    "\n",
    "Reprendre la méthode *rotate* de quaternion pour qu'elle puisse fonctionner avec un tableau NumPy pour les positions données en entrée.\n",
    "\n",
    "#### Question 8\n",
    "\n",
    "Pour finir ce TP, nous allons faire fonctionner ensemble les quaternions et les superellipsoïdes. L'idée est de créer une superellipsoïde puis de générer aléatoirement un axe de rotation pour le quaternion permettant de faire tourner dans tous les sens la superellipsoïde. Et tout ça visualisé avec matplotlib.\n",
    "\n",
    "Créez une superellipsoïde de votre choix et un quaternion ayant un angle de $\\pi/10$ et un axe aléatoire (regarder du côté du package *numpy.random*).\n",
    "\n",
    "Créez une fonction "
   ]
  },
  {
   "cell_type": "code",
   "execution_count": null,
   "metadata": {
    "collapsed": true
   },
   "outputs": [],
   "source": [
    "def animate(i):\n",
    "    ..."
   ]
  },
  {
   "cell_type": "markdown",
   "metadata": {},
   "source": [
    "qui efface la fiqure (*ax.clear()), qui affiche la superellipsoïde et qui génère un nouvel axe de rotation lorsque $i est un multiple de 10.\n",
    "\n",
    "Utilisez ensuite la fonction *FuncAnimation* qui se trouve dans *matplotlib.animation* pour animer votre figure."
   ]
  },
  {
   "cell_type": "markdown",
   "metadata": {
    "collapsed": false
   },
   "source": [
    "*Auteurs : Loic Gouarin et David Chamont. Document réalisé en 2016 dans le cadre d'une série de formations Python organisées par les réseaux LoOPS et PiCo en collaboration avec le pôle formation du SMUT CNRS.*"
   ]
  },
  {
   "cell_type": "code",
   "execution_count": 1,
   "metadata": {
    "collapsed": false
   },
   "outputs": [
    {
     "data": {
      "text/html": [
       "<link href='http://fonts.googleapis.com/css?family=Oswald' rel='stylesheet' type='text/css'>\n",
       "<link href='http://fonts.googleapis.com/css?family=Lora:400,400italic' rel='stylesheet' type='text/css'>\n",
       "<link href='http://fonts.googleapis.com/css?family=Open+Sans:300' rel='stylesheet' type='text/css'>\n",
       "<link href='http://fonts.googleapis.com/css?family=Alegreya+Sans:100,300,400,500,700,800,900,100italic,300italic,400italic,500italic,700italic,800italic,900italic' rel='stylesheet' type='text/css'>\n",
       "\n",
       "<style>\n",
       "\n",
       "h1, h2, h3, h4, h5 {\n",
       "    font-family: 'Alegreya Sans', sans-serif;\n",
       "}\n",
       "\n",
       "div.text_cell_render{\n",
       "    font-family: 'Alegreya Sans',Computer Modern, \"Helvetica Neue\", Arial, Helvetica, Geneva, sans-serif;\n",
       "    line-height: 135%;\n",
       "    font-size: 120%;\n",
       "    width:100%;/*600px;*/\n",
       "    /*margin-left:auto;*/\n",
       "    /*margin-right:auto;*/\n",
       "}\n",
       "/*div.text_cell_render{font-family: \"Open Sans\", sans-serif;font-weight: normal; line-height:normal;}*/\n",
       "\n",
       "/* header colours and fonts */\n",
       ".rendered_html h1 {\n",
       "    color:#9A3334;\n",
       "    /*margin-top: 0.5em;*/\n",
       "    padding: 1em;\n",
       "    display: block;\n",
       "    font-size: 40px;\n",
       "    text-align: center;\n",
       "    border-top: 2px solid #9A3334;\n",
       "    border-bottom: 2px solid #9A3334;\n",
       "}\n",
       "\n",
       "/*.rendered_html h1 { color: #9A3334; font-family: Lora, sans-serif; font-weight: normal; text-align: center; }*/\n",
       ".rendered_html h2 {\n",
       "    color: #9A3334;\n",
       "    /*font-family: Lora, sans-serif;*/\n",
       "    font-style: italic;\n",
       "    font-weight: normal;\n",
       "    font-size: 30px;\n",
       "    /*text-align: center;*/\n",
       "    border-bottom: 1px solid #9A3334;\n",
       "}\n",
       ".rendered_html h3 {\n",
       "    color: #9A3334;\n",
       "    /*font-family: Lora, sans-serif;*/\n",
       "    font-weight: normal;\n",
       "    font-size: 25px;\n",
       "    font-style: italic;\n",
       "}\n",
       "\n",
       ".rendered_html h4 {\n",
       "    border: 2px solid #9A3334;\n",
       "    border-radius: 25px;\n",
       "    font-style: italic;\n",
       "    height:5%;\n",
       "    width:15%;\n",
       "    padding:5px;\n",
       "    text-align: center;\n",
       "}\n",
       "\n",
       "div.prompt {\n",
       "    display: None;\n",
       "}\n",
       "\n",
       "/* center the images */\n",
       ".ui-wrapper {\n",
       "    margin-left: auto !important;\n",
       "    margin-right: auto !important;\n",
       "}\n",
       "\n",
       "/* center the images */\n",
       ".video {\n",
       "    margin-left: auto !important;\n",
       "    margin-right: auto !important;\n",
       "}\n",
       "\n",
       ".rendered_html img {\n",
       "    margin-top: 0em;\n",
       "}\n",
       "\n",
       "div.input_area {\n",
       "    border-radius: 10px;\n",
       "}\n",
       "\n",
       "/*.reveal h1 {\n",
       "    text-shadow: 10px 10px 10px rgba(0, 0, 0, 0.5);\n",
       "}*/\n",
       "</style>"
      ],
      "text/plain": [
       "<IPython.core.display.HTML object>"
      ]
     },
     "execution_count": 1,
     "metadata": {},
     "output_type": "execute_result"
    }
   ],
   "source": [
    "# execute this part to modify the css style\n",
    "from IPython.core.display import HTML\n",
    "def css_styling():\n",
    "    styles = open(\"../../../styles/custom.css\", \"r\").read()\n",
    "    return HTML(styles)\n",
    "css_styling()"
   ]
  }
 ],
 "metadata": {
  "kernelspec": {
   "display_name": "Python 3",
   "language": "python",
   "name": "python3"
  },
  "language_info": {
   "codemirror_mode": {
    "name": "ipython",
    "version": 3
   },
   "file_extension": ".py",
   "mimetype": "text/x-python",
   "name": "python",
   "nbconvert_exporter": "python",
   "pygments_lexer": "ipython3",
   "version": "3.3.5"
  }
 },
 "nbformat": 4,
 "nbformat_minor": 0
}
