{
 "cells": [
  {
   "cell_type": "markdown",
   "metadata": {
    "internals": {
     "slide_type": "subslide"
    },
    "slideshow": {
     "slide_type": "slide"
    }
   },
   "source": [
    "# Formation Python - *Représentation graphique avec Matplotlib*"
   ]
  },
  {
   "cell_type": "markdown",
   "metadata": {
    "internals": {},
    "slideshow": {
     "slide_type": "slide"
    }
   },
   "source": [
    "Ce cours est fortement inspiré par \n",
    "\n",
    "- le cours Matplotlib réalisé par Sylvain Faure lors d'une formation au laboratoire de mathématiques d'Orsay\n",
    "- le tutoriel réalisé par Mike Müller lors d'une scipy lecture notes"
   ]
  },
  {
   "cell_type": "markdown",
   "metadata": {
    "internals": {},
    "slideshow": {
     "slide_type": "slide"
    }
   },
   "source": [
    "matplotlib permet\n",
    "\n",
    "- de réaliser des graphes 1D et 2D à la Matlab,\n",
    "- d'interagir avec les graphes,\n",
    "- de sauvegarder les figures sous différents formats (*pdf*, *ps*, *png*, ...),\n",
    "- d'intégrer facilement ces graphes dans des interfaces graphiques utilisateur."
   ]
  },
  {
   "cell_type": "markdown",
   "metadata": {
    "internals": {},
    "slideshow": {
     "slide_type": "subslide"
    }
   },
   "source": [
    "## Utilisation de matplotlib dans un notebook"
   ]
  },
  {
   "cell_type": "code",
   "execution_count": null,
   "metadata": {
    "collapsed": false,
    "internals": {},
    "slideshow": {
     "slide_type": "-"
    }
   },
   "outputs": [],
   "source": [
    "%matplotlib inline"
   ]
  },
  {
   "cell_type": "markdown",
   "metadata": {
    "internals": {},
    "slideshow": {
     "slide_type": "subslide"
    }
   },
   "source": [
    "## pyplot et pylab\n",
    "\n",
    "pyplot est le module de matplotlib qui contient toutes les fonctionnalités permettant de faire des graphes"
   ]
  },
  {
   "cell_type": "code",
   "execution_count": null,
   "metadata": {
    "collapsed": false,
    "internals": {},
    "slideshow": {
     "slide_type": "-"
    }
   },
   "outputs": [],
   "source": [
    "import matplotlib.pyplot as plt\n",
    "import numpy as np\n",
    "\n",
    "n = 100\n",
    "x = np.linspace(-3*np.pi, 3*np.pi, n)\n",
    "y = np.linspace(-3*np.pi, 3*np.pi, n)\n",
    "\n",
    "x = x[np.newaxis, :]\n",
    "y = y[:, np.newaxis]\n",
    "\n",
    "plt.imshow(np.sin(np.sqrt(x**2 + y**2))**2)\n",
    "plt.show()"
   ]
  },
  {
   "cell_type": "markdown",
   "metadata": {
    "internals": {},
    "slideshow": {
     "slide_type": "subslide"
    }
   },
   "source": [
    "pylab est un module matplotlib qui a pour but de recréer un environnement de type Matlab. Il contient donc de quoi faire des graphes et d'utiliser NumPy."
   ]
  },
  {
   "cell_type": "code",
   "execution_count": null,
   "metadata": {
    "collapsed": false,
    "internals": {},
    "slideshow": {
     "slide_type": "-"
    }
   },
   "outputs": [],
   "source": [
    "from pylab import *\n",
    "\n",
    "n = 100\n",
    "x = linspace(-3*pi, 3*pi, n)\n",
    "y = linspace(-3*pi, 3*pi, n)\n",
    "\n",
    "x = x[newaxis, :]\n",
    "y = y[:, newaxis]\n",
    "\n",
    "imshow(sin(sqrt(x**2 + y**2))**2)\n",
    "plt.show()"
   ]
  },
  {
   "cell_type": "markdown",
   "metadata": {
    "internals": {},
    "slideshow": {
     "slide_type": "subslide"
    }
   },
   "source": [
    "## Notre modèle\n",
    "\n",
    "Dans la suite, nous allons nous appuyer sur l'équation écrite en coordonnées polaires suivante\n",
    "\n",
    "$$\n",
    "r = e^{cos(a\\theta)}-Acos(b\\theta)+sin^B\\left(\\frac{\\theta}{c}\\right)\n",
    "$$\n",
    "\n",
    "où $\\theta \\in [0, 2R\\pi]$ avec $R$ le nombre de révolutions.\n",
    "\n",
    "La fonction Python s'écrit"
   ]
  },
  {
   "cell_type": "code",
   "execution_count": null,
   "metadata": {
    "collapsed": false
   },
   "outputs": [],
   "source": [
    "def butterfly(theta, A, B, a, b, c):\n",
    "    return np.exp(np.cos(a*theta)) - A*np.cos(b*theta) + np.sin(theta/c)**B"
   ]
  },
  {
   "cell_type": "markdown",
   "metadata": {
    "slideshow": {
     "slide_type": "subslide"
    }
   },
   "source": [
    "Nous prendrons les paramètres suivants"
   ]
  },
  {
   "cell_type": "code",
   "execution_count": null,
   "metadata": {
    "collapsed": false
   },
   "outputs": [],
   "source": [
    "A = 2\n",
    "B = 5\n",
    "a = 1\n",
    "b = 4\n",
    "c = 30\n",
    "R = 10\n",
    "n = 10000\n",
    "rotation = -np.pi/2"
   ]
  },
  {
   "cell_type": "code",
   "execution_count": null,
   "metadata": {
    "collapsed": false,
    "slideshow": {
     "slide_type": "subslide"
    }
   },
   "outputs": [],
   "source": [
    "theta = np.linspace(0, R*2*np.pi, n)\n",
    "r = butterfly(theta + rotation, A, B, a, b, c)"
   ]
  },
  {
   "cell_type": "code",
   "execution_count": null,
   "metadata": {
    "collapsed": false
   },
   "outputs": [],
   "source": [
    "plt.plot(r*np.cos(theta), r*np.sin(theta), 'k')\n",
    "plt.show()"
   ]
  },
  {
   "cell_type": "markdown",
   "metadata": {
    "slideshow": {
     "slide_type": "subslide"
    }
   },
   "source": [
    "On peut augmenter la taille de notre figure"
   ]
  },
  {
   "cell_type": "code",
   "execution_count": null,
   "metadata": {
    "collapsed": false
   },
   "outputs": [],
   "source": [
    "figsize = (10, 10)\n",
    "fig = plt.figure(figsize=figsize)\n",
    "plt.plot(r*np.cos(theta), r*np.sin(theta), 'k')\n",
    "plt.show()"
   ]
  },
  {
   "cell_type": "markdown",
   "metadata": {
    "slideshow": {
     "slide_type": "subslide"
    }
   },
   "source": [
    "`figure` comporte d'autres arguments\n",
    "\n",
    "- `num`: numéro de la figure\n",
    "- `figsize`: taille de la figure\n",
    "- `dpi`: résolution de la figure\n",
    "- `facecolor`: la couleur de fond de la figure\n",
    "- `edgecolor`: la couleur du bord de la figure"
   ]
  },
  {
   "cell_type": "markdown",
   "metadata": {
    "slideshow": {
     "slide_type": "subslide"
    }
   },
   "source": [
    "## Ajouter un titre et des labels\n",
    "\n",
    "Il est possible de mettre du texte et des formules latex."
   ]
  },
  {
   "cell_type": "code",
   "execution_count": null,
   "metadata": {
    "collapsed": false
   },
   "outputs": [],
   "source": [
    "plt.figure(figsize=figsize)\n",
    "plt.plot(r*np.cos(theta), r*np.sin(theta), 'k')\n",
    "\n",
    "plt.title(\"My butterfly\", fontsize = 22)\n",
    "\n",
    "plt.xlabel(\"$r\\cos(\\\\theta )$\", fontsize = 22)\n",
    "plt.ylabel(\"$r\\sin(\\\\theta)$\", fontsize = 22)\n",
    "plt.show()"
   ]
  },
  {
   "cell_type": "markdown",
   "metadata": {
    "slideshow": {
     "slide_type": "subslide"
    }
   },
   "source": [
    "## Jouer avec les axes\n",
    "\n",
    "Il est possible de définir les valeurs devant figurer sur l'axe ainsi que leur format en utilisant `xticks` ou `yticks`."
   ]
  },
  {
   "cell_type": "code",
   "execution_count": null,
   "metadata": {
    "collapsed": false,
    "slideshow": {
     "slide_type": "subslide"
    }
   },
   "outputs": [],
   "source": [
    "plt.figure(figsize=figsize)\n",
    "plt.plot(r*np.cos(theta), r*np.sin(theta), 'k')\n",
    "\n",
    "plt.title(\"My butterfly\", fontsize = 22)\n",
    "\n",
    "plt.xlabel(\"$r\\cos(\\\\theta )$\", fontsize = 22)\n",
    "plt.ylabel(\"$r\\sin(\\\\theta)$\", fontsize = 22)\n",
    "\n",
    "plt.xticks([-np.pi, -np.pi/2, 0, np.pi/2, np.pi],\n",
    "          [r'$-\\pi$', r'$-\\pi/2$', r'$0$', r'$+\\pi/2$', r'$+\\pi$'], fontsize=22)\n",
    "plt.yticks([-2.5, 0, 2.5],\n",
    "          [r'$-\\frac{5}{2}$', r'$0$', r'$\\frac{5}{2}$'], fontsize=22)\n",
    "plt.show()"
   ]
  },
  {
   "cell_type": "markdown",
   "metadata": {
    "slideshow": {
     "slide_type": "subslide"
    }
   },
   "source": [
    "Il est possible de modifier également les marqueurs des axes en spécifiant leur nombre, leur taille, leur couleur, ...\n",
    "\n",
    "Il existe deux types de marqueurs\n",
    "\n",
    "- `minor`: marqueurs sans label\n",
    "- `major`: marqueurs avec label"
   ]
  },
  {
   "cell_type": "code",
   "execution_count": null,
   "metadata": {
    "collapsed": false,
    "slideshow": {
     "slide_type": "subslide"
    }
   },
   "outputs": [],
   "source": [
    "plt.figure(figsize=figsize)\n",
    "plt.plot(r*np.cos(theta), r*np.sin(theta), 'k')\n",
    "\n",
    "plt.title(\"My butterfly\", fontsize = 22)\n",
    "\n",
    "plt.xlabel(\"$r\\cos(\\\\theta )$\", fontsize = 22)\n",
    "plt.ylabel(\"$r\\sin(\\\\theta)$\", fontsize = 22)\n",
    "\n",
    "\n",
    "# on récupère l'axe\n",
    "ax = plt.gca()\n",
    "ax.xaxis.set_minor_locator(plt.MultipleLocator(np.pi/10))\n",
    "\n",
    "for tick in ax.xaxis.get_minor_ticks():\n",
    "    tick.tick1line.set_markersize(10)    \n",
    "    tick.tick2line.set_markersize(0)\n",
    "    \n",
    "for tick in ax.xaxis.get_major_ticks():\n",
    "    tick.tick1line.set_markersize(20)\n",
    "    tick.tick1line.set_markeredgewidth(5)\n",
    "    tick.tick1line.set_markeredgecolor('b')\n",
    "    tick.tick2line.set_markersize(0)\n",
    "\n",
    "\n",
    "plt.xticks([-np.pi, -np.pi/2, 0, np.pi/2, np.pi],\n",
    "          [r'$-\\pi$', r'$-\\pi/2$', r'$0$', r'$+\\pi/2$', r'$+\\pi$'], fontsize=22)\n",
    "plt.yticks([-2.5, 0, 2.5],\n",
    "          [r'$-\\frac{5}{2}$', r'$0$', r'$\\frac{5}{2}$'], fontsize=22)\n",
    "plt.show()"
   ]
  },
  {
   "cell_type": "markdown",
   "metadata": {
    "slideshow": {
     "slide_type": "subslide"
    }
   },
   "source": [
    "On a différentes fonctions nous permettant de spécifier l'emplacement des marqueurs\n",
    "\n",
    "<img src=\"files/figures/plot_ticks_1.png\" style=\"width:80%;\" />"
   ]
  },
  {
   "cell_type": "markdown",
   "metadata": {
    "slideshow": {
     "slide_type": "subslide"
    }
   },
   "source": [
    "On peut également avoir besoin de déplacer les axes."
   ]
  },
  {
   "cell_type": "code",
   "execution_count": null,
   "metadata": {
    "collapsed": false,
    "slideshow": {
     "slide_type": "subslide"
    }
   },
   "outputs": [],
   "source": [
    "plt.figure(figsize=figsize)\n",
    "plt.plot(r*np.cos(theta), r*np.sin(theta), 'k')\n",
    "\n",
    "plt.title(\"My butterfly\", fontsize = 22)\n",
    "\n",
    "plt.xlabel(\"$r\\cos(\\\\theta )$\", fontsize = 22)\n",
    "plt.ylabel(\"$r\\sin(\\\\theta)$\", fontsize = 22)\n",
    "\n",
    "\n",
    "# on récupère l'axe\n",
    "ax = plt.gca()\n",
    "# on enlève les axes de droite et du haut\n",
    "ax.spines['right'].set_color('none')\n",
    "ax.spines['top'].set_color('none')\n",
    "\n",
    "# on met nos marqueurs sur l'axe du bas et celui de gauche\n",
    "ax.xaxis.set_ticks_position('bottom')\n",
    "ax.yaxis.set_ticks_position('left')\n",
    "\n",
    "# on définit leur position par rapport aux données\n",
    "ax.spines['bottom'].set_position(('data',0))\n",
    "ax.spines['left'].set_position(('data', 0))\n",
    "\n",
    "ax.yaxis.set_minor_locator(plt.MultipleLocator(.1))\n",
    "ax.yaxis.set_major_locator(plt.MultipleLocator(1.))\n",
    "\n",
    "for axis in [ax.xaxis, ax.yaxis]:\n",
    "    axis.set_minor_locator(plt.MultipleLocator(.1))\n",
    "    axis.set_major_locator(plt.MultipleLocator(1.))\n",
    "    for tick in axis.get_minor_ticks():\n",
    "        tick.tick1line.set_markersize(7)    \n",
    "    \n",
    "    for tick in axis.get_major_ticks():\n",
    "        tick.tick1line.set_markersize(10)\n",
    "        tick.tick1line.set_markeredgewidth(3)\n",
    "        tick.label1.set_fontsize(20)\n",
    "\n",
    "plt.show()"
   ]
  },
  {
   "cell_type": "markdown",
   "metadata": {
    "slideshow": {
     "slide_type": "subslide"
    }
   },
   "source": [
    "## Colorier une partie de la figure"
   ]
  },
  {
   "cell_type": "code",
   "execution_count": null,
   "metadata": {
    "collapsed": false
   },
   "outputs": [],
   "source": [
    "plt.figure(figsize=figsize)\n",
    "plt.plot(r*np.cos(theta), r*np.sin(theta), 'k')\n",
    "\n",
    "plt.title(\"My butterfly\", fontsize = 22)\n",
    "\n",
    "plt.xlabel(\"$r\\cos(\\\\theta )$\", fontsize = 22)\n",
    "plt.ylabel(\"$r\\sin(\\\\theta)$\", fontsize = 22)\n",
    "\n",
    "ind = np.where(r>0)\n",
    "plt.fill_between(r[ind]*np.cos(theta[ind]), r[ind]*np.sin(theta[ind]), color='b', alpha=.25)\n",
    "ind = np.where(r<0)\n",
    "plt.fill_between(r[ind]*np.cos(theta[ind]), r[ind]*np.sin(theta[ind]), color='g', alpha=.5)\n",
    "\n",
    "# on récupère l'axe\n",
    "ax = plt.gca()\n",
    "ax.spines['right'].set_color('none')\n",
    "ax.spines['top'].set_color('none')\n",
    "ax.xaxis.set_ticks_position('bottom')\n",
    "ax.spines['bottom'].set_position(('data',0))\n",
    "ax.yaxis.set_ticks_position('left')\n",
    "ax.spines['left'].set_position(('data', 0))\n",
    "\n",
    "ax.xaxis.set_minor_locator(plt.MultipleLocator(.1))\n",
    "ax.xaxis.set_major_locator(plt.MultipleLocator(1.))\n",
    "ax.yaxis.set_minor_locator(plt.MultipleLocator(.1))\n",
    "ax.yaxis.set_major_locator(plt.MultipleLocator(1.))\n",
    "\n",
    "for axis in [ax.xaxis, ax.yaxis]:\n",
    "    for tick in axis.get_minor_ticks():\n",
    "        tick.tick1line.set_markersize(10)    \n",
    "        tick.tick2line.set_markersize(0)\n",
    "    \n",
    "    for tick in axis.get_major_ticks():\n",
    "        tick.tick1line.set_markersize(20)\n",
    "        tick.tick1line.set_markeredgewidth(5)\n",
    "        tick.tick2line.set_markersize(0)\n",
    "        tick.label1.set_fontsize(20)\n",
    "\n",
    "plt.show()"
   ]
  },
  {
   "cell_type": "markdown",
   "metadata": {
    "slideshow": {
     "slide_type": "subslide"
    }
   },
   "source": [
    "## Annotations"
   ]
  },
  {
   "cell_type": "code",
   "execution_count": null,
   "metadata": {
    "collapsed": false
   },
   "outputs": [],
   "source": [
    "plt.figure(figsize=figsize)\n",
    "plt.plot(r*np.cos(theta), r*np.sin(theta), 'k')\n",
    "\n",
    "plt.xlabel(\"$r\\cos(\\\\theta )$\", fontsize = 22)\n",
    "plt.ylabel(\"$r\\sin(\\\\theta)$\", fontsize = 22)\n",
    "\n",
    "ind = np.where(r>0)\n",
    "plt.fill_between(r[ind]*np.cos(theta[ind]), r[ind]*np.sin(theta[ind]), color='b', alpha=.25)\n",
    "ind = np.where(r<0)\n",
    "plt.fill_between(r[ind]*np.cos(theta[ind]), r[ind]*np.sin(theta[ind]), color='g', alpha=.5)\n",
    "\n",
    "plt.text(-2, 2., '$r>0$', fontsize=30)\n",
    "\n",
    "plt.annotate('$r<0$', xy = (1, 0), xytext = (3, 1), arrowprops=\n",
    "             dict(facecolor = 'black', shrink = 0.05), fontsize=30)\n",
    "\n",
    "# on récupère l'axe\n",
    "ax = plt.gca()\n",
    "ax.spines['right'].set_color('none')\n",
    "ax.spines['top'].set_color('none')\n",
    "ax.xaxis.set_ticks_position('bottom')\n",
    "ax.spines['bottom'].set_position(('data',0))\n",
    "ax.yaxis.set_ticks_position('left')\n",
    "ax.spines['left'].set_position(('data', 0))\n",
    "\n",
    "ax.xaxis.set_minor_locator(plt.MultipleLocator(.1))\n",
    "ax.xaxis.set_major_locator(plt.MultipleLocator(1.))\n",
    "ax.yaxis.set_minor_locator(plt.MultipleLocator(.1))\n",
    "ax.yaxis.set_major_locator(plt.MultipleLocator(1.))\n",
    "\n",
    "for axis in [ax.xaxis, ax.yaxis]:\n",
    "    for tick in axis.get_minor_ticks():\n",
    "        tick.tick1line.set_markersize(10)    \n",
    "        tick.tick2line.set_markersize(0)\n",
    "    \n",
    "    for tick in axis.get_major_ticks():\n",
    "        tick.tick1line.set_markersize(20)\n",
    "        tick.tick1line.set_markeredgewidth(5)\n",
    "        tick.tick2line.set_markersize(0)\n",
    "        tick.label1.set_fontsize(20)\n",
    "        \n",
    "plt.show()"
   ]
  },
  {
   "cell_type": "markdown",
   "metadata": {
    "slideshow": {
     "slide_type": "subslide"
    }
   },
   "source": [
    "## subplot et axes\n",
    "\n",
    "Il n'est pas rare d'avoir besoin d'afficher plusieurs figures indépendantes sur une même figure.\n",
    "`matplotlib` offre deux façons de faire: `subplot` ou `axes`."
   ]
  },
  {
   "cell_type": "code",
   "execution_count": null,
   "metadata": {
    "collapsed": false,
    "scrolled": true,
    "slideshow": {
     "slide_type": "subslide"
    }
   },
   "outputs": [],
   "source": [
    "plt.figure(figsize=(10, 10))\n",
    "plt.subplot(1,2,1)\n",
    "plt.plot(r*np.cos(theta), r*np.sin(theta), 'k')\n",
    "\n",
    "plt.subplot(2,2,2)\n",
    "ind = np.where(r>0)\n",
    "plt.plot(r[ind]*np.cos(theta[ind]), r[ind]*np.sin(theta[ind]), color='b')\n",
    "\n",
    "plt.subplot(2,2,4)\n",
    "ind = np.where(r<0)\n",
    "plt.plot(r[ind]*np.cos(theta[ind]), r[ind]*np.sin(theta[ind]), color='g')\n",
    "plt.show()"
   ]
  },
  {
   "cell_type": "code",
   "execution_count": null,
   "metadata": {
    "collapsed": false,
    "slideshow": {
     "slide_type": "subslide"
    }
   },
   "outputs": [],
   "source": [
    "import matplotlib.gridspec as gridspec\n",
    "\n",
    "plt.figure(figsize=(15, 10))\n",
    "G = gridspec.GridSpec(2, 3)\n",
    "\n",
    "plt.subplot(G[:, :2])\n",
    "plt.plot(r*np.cos(theta), r*np.sin(theta), 'k')\n",
    "\n",
    "plt.subplot(G[0, 2])\n",
    "ind = np.where(r>0)\n",
    "plt.plot(r[ind]*np.cos(theta[ind]), r[ind]*np.sin(theta[ind]), color='b')\n",
    "\n",
    "plt.subplot(G[1, 2])\n",
    "ind = np.where(r<0)\n",
    "plt.plot(r[ind]*np.cos(theta[ind]), r[ind]*np.sin(theta[ind]), color='g')\n",
    "plt.show()"
   ]
  },
  {
   "cell_type": "code",
   "execution_count": null,
   "metadata": {
    "collapsed": false,
    "slideshow": {
     "slide_type": "subslide"
    }
   },
   "outputs": [],
   "source": [
    "plt.figure(figsize=figsize)\n",
    "\n",
    "plt.plot(r*np.cos(theta), r*np.sin(theta), 'k')\n",
    "\n",
    "plt.axes([.2, .4, .2, .2])\n",
    "ind = np.where(r>0)\n",
    "plt.plot(r[ind]*np.cos(theta[ind]), r[ind]*np.sin(theta[ind]), color='b')\n",
    "\n",
    "plt.axes([.65, .4, .2, .2])\n",
    "ind = np.where(r<0)\n",
    "plt.plot(r[ind]*np.cos(theta[ind]), r[ind]*np.sin(theta[ind]), color='g')\n",
    "plt.show()"
   ]
  },
  {
   "cell_type": "markdown",
   "metadata": {
    "internals": {},
    "slideshow": {
     "slide_type": "subslide"
    }
   },
   "source": [
    "## Ajouter une légende"
   ]
  },
  {
   "cell_type": "code",
   "execution_count": null,
   "metadata": {
    "collapsed": false,
    "internals": {},
    "slideshow": {
     "slide_type": "-"
    }
   },
   "outputs": [],
   "source": [
    "x = np.linspace(-4., 4., 50)\n",
    "\n",
    "plt.figure(figsize=figsize)\n",
    "plt.hold(True)\n",
    "plt.plot(x, -x**4 + x**3 + x**2 + 1, 'o-')\n",
    "plt.plot(x, -4*x**3 + 3*x**2 + 2*x, '-')\n",
    "plt.plot(x, -12*x**2 + 6*x + 2, '--')\n",
    "plt.plot(x, -24*x + 6, ':')\n",
    "plt.fill_between(x, -x**4 + x**3 + x**2 + 1, -4*x**3 + 3*x**2 + 2*x, color='g', alpha=.25)\n",
    "plt.hold(False)\n",
    "plt.legend(['$f$', '$f^{(1)}$', '$f^{(2)}$'\n",
    "           , '$f^{(3)}$'], loc='lower center', fontsize=22)\n",
    "plt.savefig('1D_legende.pdf')\n",
    "plt.show()"
   ]
  },
  {
   "cell_type": "markdown",
   "metadata": {
    "slideshow": {
     "slide_type": "subslide"
    }
   },
   "source": [
    "## Autres figures"
   ]
  },
  {
   "cell_type": "code",
   "execution_count": null,
   "metadata": {
    "collapsed": false
   },
   "outputs": [],
   "source": [
    "from matplotlib import cm\n",
    "from mpl_toolkits.mplot3d import Axes3D\n",
    "\n",
    "def f(x,y):\n",
    "    return (1- x/2 + x**5 + y**3)*np.exp(-x**2-y**2)\n",
    "\n",
    "dx, dy = 0.05, 0.05\n",
    "x = np.arange(-3.0, 3.0, dx)\n",
    "y = np.arange(-3.0, 3.0, dy)\n",
    "X, Y = np.meshgrid(x, y)\n",
    "Z = f(X, Y)\n",
    "\n",
    "fig = plt.figure(figsize=figsize)\n",
    "ax = fig.gca(projection='3d')\n",
    "surf = ax.plot_surface(X, Y, Z, cmap=cm.coolwarm)\n",
    "ax.set_xlabel('x', fontsize=30)\n",
    "ax.set_ylabel('y', fontsize=30)\n",
    "plt.show()"
   ]
  },
  {
   "cell_type": "code",
   "execution_count": null,
   "metadata": {
    "collapsed": false,
    "slideshow": {
     "slide_type": "subslide"
    }
   },
   "outputs": [],
   "source": [
    "fig = plt.figure(figsize=figsize)\n",
    "plt.hold(True)\n",
    "c = plt.contour(X, Y, Z, 10)\n",
    "im = plt.imshow(Z, extent=(-3,3,-3,3))\n",
    "im.set_alpha(0.7)\n",
    "plt.hold(False)\n",
    "plt.colorbar()\n",
    "plt.savefig('2D_contour.pdf')"
   ]
  },
  {
   "cell_type": "code",
   "execution_count": null,
   "metadata": {
    "collapsed": false,
    "slideshow": {
     "slide_type": "subslide"
    }
   },
   "outputs": [],
   "source": [
    "X,Y = np.meshgrid( np.arange(0,2*np.pi,.2),\n",
    "                   np.arange(0,2*np.pi,.2) )\n",
    "U = np.cos(X)\n",
    "V = np.sin(Y)\n",
    "plt.figure(figsize=(20, 10))\n",
    "\n",
    "plt.subplot(1, 2, 1)\n",
    "plt.quiver( X, Y, U, V)\n",
    "plt.axis([-1, 7, -1, 7])\n",
    "\n",
    "plt.subplot(1, 2, 2)\n",
    "C = np.sqrt(U**2 + V**2)\n",
    "N=2\n",
    "plt.quiver( X[::N, ::N], Y[::N, ::N], U[::N, ::N], \n",
    "            V[::N, ::N], C[::N, ::N])\n",
    "plt.axis([-1, 7, -1, 7])\n",
    "plt.show()"
   ]
  },
  {
   "cell_type": "markdown",
   "metadata": {
    "slideshow": {
     "slide_type": "subslide"
    }
   },
   "source": [
    "## Animations\n",
    "\n",
    "Il est également possible de faire des films rapidement en donnant la fonction qui fait la mise à jour, en spécifiant le nombre de frames par seconde, ..."
   ]
  },
  {
   "cell_type": "code",
   "execution_count": null,
   "metadata": {
    "collapsed": false
   },
   "outputs": [],
   "source": [
    "%matplotlib nbagg\n",
    "import numpy as np\n",
    "import matplotlib.pyplot as plt\n",
    "import matplotlib.animation as animation\n",
    "\n",
    "fig = plt.figure()\n",
    "ax = fig.add_subplot(111, autoscale_on=False, xlim=(0, 2.*np.pi), ylim=(-1.1, 1.1))\n",
    "\n",
    "theta = np.linspace(0, 2*np.pi, 100)\n",
    "\n",
    "# Creation des différents elements constituants la figure\n",
    "sinplot = plt.Line2D([], [], lw=2)\n",
    "ax.add_line(sinplot)\n",
    "\n",
    "time_template = 'time = %.1fs'\n",
    "time_text = ax.text(0.05, 0.1, '', transform=ax.transAxes)\n",
    "\n",
    "def init():\n",
    "    sinplot.set_data([], [])    \n",
    "    time_text.set_text('')\n",
    "    return sinplot, time_text\n",
    "\n",
    "def animate(i):\n",
    "    sinplot.set_data(theta, np.sin(theta+i/(2*np.pi)))\n",
    "    time_text.set_text(time_template%(i))\n",
    "    return sinplot, #time_text\n",
    "\n",
    "anim = animation.FuncAnimation(fig, animate, np.arange(1, 100),\n",
    "    interval=25, blit=True, init_func=init)\n",
    "\n",
    "plt.show()"
   ]
  },
  {
   "cell_type": "markdown",
   "metadata": {
    "slideshow": {
     "slide_type": "slide"
    }
   },
   "source": [
    "## Pour aller plus loin\n",
    "\n",
    "N'hésitez pas à aller voir la galerie sur le site de matplotlib donnant un bon nombre d'exemples\n",
    "\n",
    "http://matplotlib.org/gallery.html"
   ]
  },
  {
   "cell_type": "code",
   "execution_count": null,
   "metadata": {
    "collapsed": false,
    "slideshow": {
     "slide_type": "skip"
    }
   },
   "outputs": [],
   "source": [
    "# execute this part to modify the css style\n",
    "from IPython.core.display import HTML\n",
    "def css_styling():\n",
    "    styles = open(\"../../styles/custom.css\", \"r\").read()\n",
    "    return HTML(styles)\n",
    "css_styling()"
   ]
  }
 ],
 "metadata": {
  "celltoolbar": "Slideshow",
  "kernelspec": {
   "display_name": "Python 3",
   "language": "python",
   "name": "python3"
  },
  "language_info": {
   "codemirror_mode": {
    "name": "ipython",
    "version": 3
   },
   "file_extension": ".py",
   "mimetype": "text/x-python",
   "name": "python",
   "nbconvert_exporter": "python",
   "pygments_lexer": "ipython3",
   "version": "3.5.1"
  }
 },
 "nbformat": 4,
 "nbformat_minor": 0
}
