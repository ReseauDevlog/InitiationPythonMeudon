{
 "cells": [
  {
   "cell_type": "markdown",
   "metadata": {},
   "source": [
    "*Ce notebook est distribué par Devlog sous licence Creative Commons - Attribution - Pas d’Utilisation Commerciale - Partage dans les Mêmes Conditions. La description complète de la license est disponible à l'adresse web http://creativecommons.org/licenses/by-nc-sa/4.0/.*"
   ]
  },
  {
   "cell_type": "markdown",
   "metadata": {
    "internals": {
     "slide_helper": "subslide_end",
     "slide_type": "subslide"
    },
    "nbpresent": {
     "id": "41d10b80-9377-4107-a3b3-1e97f8374165"
    },
    "slide_helper": "slide_end",
    "slideshow": {
     "slide_type": "slide"
    }
   },
   "source": [
    "# Initiation Python - *NumPy*"
   ]
  },
  {
   "cell_type": "markdown",
   "metadata": {
    "internals": {
     "slide_helper": "subslide_end",
     "slide_type": "subslide"
    },
    "nbpresent": {
     "id": "5b7b7dcb-d90b-4966-a9a0-8e22bb4e38e5"
    },
    "slide_helper": "slide_end",
    "slideshow": {
     "slide_type": "slide"
    }
   },
   "source": [
    "Le module **NumPy** offre\n",
    "\n",
    "- des outils performants pour la manipulation de tableaux à $N$ dimensions,\n",
    "- des fonctions basiques en algèbre linéaire,\n",
    "- des fonctions basiques pour les transformées de Fourier,\n",
    "- des outils pour intégrer du code Fortran,\n",
    "- des outils pour intégrer du code C/C++,\n",
    "- des outils d'installation avec support tests unitaires."
   ]
  },
  {
   "cell_type": "markdown",
   "metadata": {
    "internals": {
     "slide_type": "subslide"
    },
    "nbpresent": {
     "id": "4df4322f-933d-4792-8b51-3458d2709abd"
    },
    "slideshow": {
     "slide_type": "slide"
    }
   },
   "source": [
    "## Petite comparaison syntaxique entre Python et Matlab\n",
    "\n",
    "on veut calculer $u=100\\exp\\left(-100(x-0.5)^2\\right)$ avec $x \\in [0,1]$.\n",
    "\n",
    "**Avec NumPy**"
   ]
  },
  {
   "cell_type": "code",
   "execution_count": 2,
   "metadata": {
    "collapsed": false,
    "internals": {},
    "nbpresent": {
     "id": "0d0e1c5d-06a6-464b-af74-894e4472bb60"
    },
    "slideshow": {
     "slide_type": "-"
    }
   },
   "outputs": [],
   "source": [
    "from numpy import *\n",
    "x = linspace(0., 1., 100)\n",
    "u = 100.*exp(-100.*(x - .5)**2)"
   ]
  },
  {
   "cell_type": "markdown",
   "metadata": {
    "internals": {
     "slide_helper": "subslide_end"
    },
    "nbpresent": {
     "id": "13c7cdcf-647a-42ab-a36e-40102aa2ac89"
    },
    "slide_helper": "slide_end",
    "slideshow": {
     "slide_type": "-"
    }
   },
   "source": [
    "**Avec Matlab**\n",
    "\n",
    "```\n",
    "x = linspace(0.,1.,100)\n",
    "u = 100.*exp(-100.*(x-.5).^2)\n",
    "```"
   ]
  },
  {
   "cell_type": "markdown",
   "metadata": {
    "internals": {
     "slide_helper": "subslide_end",
     "slide_type": "subslide"
    },
    "nbpresent": {
     "id": "60ef98df-cecf-4b31-93e3-ed1cc255e521"
    },
    "slide_helper": "subslide_end",
    "slideshow": {
     "slide_type": "slide"
    }
   },
   "source": [
    "## Initialisation de tableaux\n",
    "\n",
    "Il existe différentes façons de créer un tableau en NumPy."
   ]
  },
  {
   "cell_type": "markdown",
   "metadata": {
    "internals": {
     "slide_type": "subslide"
    },
    "nbpresent": {
     "id": "49eb821c-695f-49fd-b31f-97b35816e5de"
    },
    "slideshow": {
     "slide_type": "subslide"
    }
   },
   "source": [
    "### A partir de sa taille"
   ]
  },
  {
   "cell_type": "code",
   "execution_count": 3,
   "metadata": {
    "collapsed": false,
    "internals": {},
    "nbpresent": {
     "id": "c28ce9bb-daf8-4585-b433-dec37d2c8510"
    },
    "slideshow": {
     "slide_type": "-"
    }
   },
   "outputs": [
    {
     "data": {
      "text/plain": [
       "array([ 0.,  0.,  0.,  0.])"
      ]
     },
     "execution_count": 3,
     "metadata": {},
     "output_type": "execute_result"
    }
   ],
   "source": [
    "import numpy as np\n",
    "np.zeros(4)"
   ]
  },
  {
   "cell_type": "code",
   "execution_count": 4,
   "metadata": {
    "collapsed": false,
    "internals": {},
    "nbpresent": {
     "id": "bb64929e-518c-441f-a94a-b38847066ced"
    },
    "slideshow": {
     "slide_type": "-"
    }
   },
   "outputs": [
    {
     "data": {
      "text/plain": [
       "array([[[ 0.,  0.],\n",
       "        [ 0.,  0.]],\n",
       "\n",
       "       [[ 0.,  0.],\n",
       "        [ 0.,  0.]]])"
      ]
     },
     "execution_count": 4,
     "metadata": {},
     "output_type": "execute_result"
    }
   ],
   "source": [
    "nx, ny = 2, 2\n",
    "np.zeros((nx, ny, 2))"
   ]
  },
  {
   "cell_type": "markdown",
   "metadata": {
    "internals": {
     "slide_helper": "subslide_end"
    },
    "nbpresent": {
     "id": "8d0a0d28-b311-4320-a5d5-3548ad6b1177"
    },
    "slide_helper": "subslide_end",
    "slideshow": {
     "slide_type": "-"
    }
   },
   "source": [
    "Il existe également d'autres fonctions: np.ones, np.eye, np.identity, np.empty, ..."
   ]
  },
  {
   "cell_type": "markdown",
   "metadata": {
    "internals": {
     "slide_helper": "subslide_end",
     "slide_type": "subslide"
    },
    "nbpresent": {
     "id": "fe2b103f-aa82-40bf-9ffa-8d90ee4aab86"
    },
    "slide_helper": "subslide_end",
    "slideshow": {
     "slide_type": "subslide"
    }
   },
   "source": [
    "Quelques remarques\n",
    "\n",
    "- Par défaut les éléments créés sont des *float* (équivalent de *double* en C).\n",
    "- On peut donner un deuxième argument qui précise le type (int, complex, bool, ...).\n",
    "- Voir également les méthodes dans random."
   ]
  },
  {
   "cell_type": "markdown",
   "metadata": {
    "internals": {
     "slide_type": "subslide"
    },
    "nbpresent": {
     "id": "7d246075-3909-431a-967b-0fdab3a83abe"
    },
    "slideshow": {
     "slide_type": "subslide"
    }
   },
   "source": [
    "### Avec une séquence de nombres"
   ]
  },
  {
   "cell_type": "code",
   "execution_count": 5,
   "metadata": {
    "collapsed": false,
    "internals": {},
    "nbpresent": {
     "id": "a725c359-7ea3-4253-bf10-162aded4e2dc"
    },
    "slideshow": {
     "slide_type": "-"
    }
   },
   "outputs": [
    {
     "data": {
      "text/plain": [
       "array([-4., -3., -2., -1.,  0.,  1.,  2.,  3.,  4.])"
      ]
     },
     "execution_count": 5,
     "metadata": {},
     "output_type": "execute_result"
    }
   ],
   "source": [
    "np.linspace(-4, 4, 9)"
   ]
  },
  {
   "cell_type": "code",
   "execution_count": 6,
   "metadata": {
    "collapsed": false,
    "internals": {},
    "nbpresent": {
     "id": "8257dc88-8bff-49c7-8902-ba851d669b9e"
    },
    "slideshow": {
     "slide_type": "-"
    }
   },
   "outputs": [
    {
     "data": {
      "text/plain": [
       "array([-4, -3, -2, -1,  0,  1,  2,  3])"
      ]
     },
     "execution_count": 6,
     "metadata": {},
     "output_type": "execute_result"
    }
   ],
   "source": [
    "np.arange(-4, 4, 1)"
   ]
  },
  {
   "cell_type": "code",
   "execution_count": 7,
   "metadata": {
    "collapsed": false,
    "internals": {},
    "nbpresent": {
     "id": "a62d532f-86b7-4a62-b65c-803ae7286736"
    },
    "slideshow": {
     "slide_type": "-"
    }
   },
   "outputs": [
    {
     "data": {
      "text/plain": [
       "array([1, 2, 3])"
      ]
     },
     "execution_count": 7,
     "metadata": {},
     "output_type": "execute_result"
    }
   ],
   "source": [
    "np.array([1, 2, 3])"
   ]
  },
  {
   "cell_type": "code",
   "execution_count": 8,
   "metadata": {
    "collapsed": false,
    "internals": {},
    "nbpresent": {
     "id": "74c0c329-207c-4da5-8d51-d9dbefa1b20a"
    },
    "slideshow": {
     "slide_type": "-"
    }
   },
   "outputs": [
    {
     "data": {
      "text/plain": [
       "array([0, 1, 2, 3, 4, 5, 6, 7, 8, 9])"
      ]
     },
     "execution_count": 8,
     "metadata": {},
     "output_type": "execute_result"
    }
   ],
   "source": [
    "np.array(range(10))"
   ]
  },
  {
   "cell_type": "code",
   "execution_count": 9,
   "metadata": {
    "collapsed": false,
    "internals": {
     "slide_helper": "subslide_end"
    },
    "nbpresent": {
     "id": "9f4a1b11-000f-4c72-ba7e-8079040bdf4c"
    },
    "slide_helper": "subslide_end",
    "slideshow": {
     "slide_type": "-"
    }
   },
   "outputs": [
    {
     "data": {
      "text/plain": [
       "array([[1, 2, 3],\n",
       "       [4, 5, 6]])"
      ]
     },
     "execution_count": 9,
     "metadata": {},
     "output_type": "execute_result"
    }
   ],
   "source": [
    "L1, L2 = [1, 2, 3], [4, 5, 6]\n",
    "np.array([L1, L2])"
   ]
  },
  {
   "cell_type": "markdown",
   "metadata": {
    "internals": {
     "slide_type": "subslide"
    },
    "nbpresent": {
     "id": "613c7524-0beb-4d00-a143-b5ef382903d5"
    },
    "slideshow": {
     "slide_type": "subslide"
    }
   },
   "source": [
    "### A partir d'une fonction"
   ]
  },
  {
   "cell_type": "code",
   "execution_count": 10,
   "metadata": {
    "collapsed": false,
    "internals": {
     "slide_helper": "subslide_end"
    },
    "nbpresent": {
     "id": "09479912-6b3f-40ac-8b65-2875339e23af"
    },
    "slide_helper": "subslide_end",
    "slideshow": {
     "slide_type": "-"
    }
   },
   "outputs": [
    {
     "data": {
      "text/plain": [
       "array([[ 0.        ,  0.84147098,  0.90929743],\n",
       "       [ 1.        ,  1.84147098,  1.90929743]])"
      ]
     },
     "execution_count": 10,
     "metadata": {},
     "output_type": "execute_result"
    }
   ],
   "source": [
    "def f(x, y):\n",
    "    return x**2 + np.sin(y)\n",
    "\n",
    "np.fromfunction(f, (2, 3))"
   ]
  },
  {
   "cell_type": "markdown",
   "metadata": {
    "internals": {
     "slide_type": "subslide"
    },
    "nbpresent": {
     "id": "11b13710-acbb-45d2-b272-3a78079920d3"
    },
    "slideshow": {
     "slide_type": "subslide"
    }
   },
   "source": [
    "### Avec des objets"
   ]
  },
  {
   "cell_type": "code",
   "execution_count": 11,
   "metadata": {
    "collapsed": false,
    "internals": {
     "slide_helper": "subslide_end"
    },
    "nbpresent": {
     "id": "1554640f-e415-4cb4-8d4f-d6acda169c0f"
    },
    "slide_helper": "subslide_end",
    "slideshow": {
     "slide_type": "-"
    }
   },
   "outputs": [
    {
     "data": {
      "text/plain": [
       "array([<__main__.vecteur object at 0x7f75480fb290>,\n",
       "       <__main__.vecteur object at 0x7f75480fb2d0>], dtype=object)"
      ]
     },
     "execution_count": 11,
     "metadata": {},
     "output_type": "execute_result"
    }
   ],
   "source": [
    "class vecteur:\n",
    "     def __init__(self, x, y, z):\n",
    "         self.x, self.y, self.z = x, y, z\n",
    "            \n",
    "np.array([vecteur(1,1,1), vecteur(2,1,1)])"
   ]
  },
  {
   "cell_type": "markdown",
   "metadata": {
    "internals": {
     "slide_type": "subslide"
    },
    "nbpresent": {
     "id": "1403fc60-8a37-4cc5-9738-d36351106bda"
    },
    "slideshow": {
     "slide_type": "subslide"
    }
   },
   "source": [
    "### Avec des records\n",
    "\n",
    "On crée une image contenant $2\\times 2$ pixels *rgb*."
   ]
  },
  {
   "cell_type": "code",
   "execution_count": 12,
   "metadata": {
    "collapsed": false,
    "internals": {
     "slide_helper": "subslide_end"
    },
    "nbpresent": {
     "id": "e5ddb44d-eb71-4b9f-9cd6-c521b304140f"
    },
    "slide_helper": "subslide_end",
    "slideshow": {
     "slide_type": "-"
    }
   },
   "outputs": [
    {
     "data": {
      "text/plain": [
       "array([[[ 0.,  1.],\n",
       "        [ 0.,  0.]],\n",
       "\n",
       "       [[ 0.,  0.],\n",
       "        [ 1.,  0.]],\n",
       "\n",
       "       [[ 0.,  0.],\n",
       "        [ 0.,  1.]]], dtype=float32)"
      ]
     },
     "execution_count": 12,
     "metadata": {},
     "output_type": "execute_result"
    }
   ],
   "source": [
    "img = np.array([[[0, 1], [0, 0]], \n",
    "                [[0, 0], [1, 0]],\n",
    "                [[0, 0], [0, 1]]], dtype=np.float32)\n",
    "img"
   ]
  },
  {
   "cell_type": "markdown",
   "metadata": {
    "internals": {
     "slide_type": "subslide"
    },
    "nbpresent": {
     "id": "ebbcd306-cf62-400d-935e-a199d3cc862a"
    },
    "slideshow": {
     "slide_type": "subslide"
    }
   },
   "source": [
    "On accède au pixel rouge en faisant"
   ]
  },
  {
   "cell_type": "code",
   "execution_count": 13,
   "metadata": {
    "collapsed": false,
    "internals": {},
    "nbpresent": {
     "id": "acc042aa-8019-4d97-b147-ce7ffbd7c9d4"
    },
    "slideshow": {
     "slide_type": "-"
    }
   },
   "outputs": [
    {
     "data": {
      "text/plain": [
       "array([[ 0.,  1.],\n",
       "       [ 0.,  0.]], dtype=float32)"
      ]
     },
     "execution_count": 13,
     "metadata": {},
     "output_type": "execute_result"
    }
   ],
   "source": [
    "img[0]"
   ]
  },
  {
   "cell_type": "markdown",
   "metadata": {
    "internals": {},
    "nbpresent": {
     "id": "659f1cca-e762-4a40-aaf0-d251872b0c1c"
    },
    "slideshow": {
     "slide_type": "-"
    }
   },
   "source": [
    "On accède au pixel en haut à droite en faisant"
   ]
  },
  {
   "cell_type": "code",
   "execution_count": 14,
   "metadata": {
    "collapsed": false,
    "internals": {
     "slide_helper": "subslide_end"
    },
    "nbpresent": {
     "id": "854ffd9f-2145-45c4-af3a-485207dfd779"
    },
    "slide_helper": "subslide_end",
    "slideshow": {
     "slide_type": "-"
    }
   },
   "outputs": [
    {
     "data": {
      "text/plain": [
       "array([ 1.,  0.,  0.], dtype=float32)"
      ]
     },
     "execution_count": 14,
     "metadata": {},
     "output_type": "execute_result"
    }
   ],
   "source": [
    "img[:, 0, 1]"
   ]
  },
  {
   "cell_type": "markdown",
   "metadata": {
    "internals": {
     "slide_type": "subslide"
    },
    "nbpresent": {
     "id": "2c10866a-8198-4364-ba2c-3befdb9f76e2"
    },
    "slideshow": {
     "slide_type": "subslide"
    }
   },
   "source": [
    "On constate que la syntaxe n'est pas très claire et qu'on ne sait pas trop ce qu'on manipule. On va donc mettre des records dans notre tableau pour y voir plus clair."
   ]
  },
  {
   "cell_type": "code",
   "execution_count": 15,
   "metadata": {
    "collapsed": false,
    "internals": {},
    "nbpresent": {
     "id": "7d591158-0ac2-4133-a1c1-8fc00a4bcc68"
    },
    "slideshow": {
     "slide_type": "-"
    }
   },
   "outputs": [],
   "source": [
    "img = np.array([[(0, 0, 0), (1, 0, 0)], \n",
    "                [(0, 1, 0), (0, 0, 1)]], \n",
    "                [('r', np.float32), \n",
    "                 ('g', np.float32), \n",
    "                 ('b', np.float32)])"
   ]
  },
  {
   "cell_type": "markdown",
   "metadata": {
    "internals": {},
    "nbpresent": {
     "id": "9e78dca0-f868-4ea6-8d14-5c39575bb4ee"
    },
    "slideshow": {
     "slide_type": "-"
    }
   },
   "source": [
    "On peut maintenant accéder à notre pixel rouge en faisant simplement"
   ]
  },
  {
   "cell_type": "code",
   "execution_count": 16,
   "metadata": {
    "collapsed": false,
    "internals": {},
    "nbpresent": {
     "id": "7cb24ee6-d1dc-48db-bb5c-7c275600e892"
    },
    "slideshow": {
     "slide_type": "-"
    }
   },
   "outputs": [
    {
     "data": {
      "text/plain": [
       "array([[ 0.,  1.],\n",
       "       [ 0.,  0.]], dtype=float32)"
      ]
     },
     "execution_count": 16,
     "metadata": {},
     "output_type": "execute_result"
    }
   ],
   "source": [
    "img['r']"
   ]
  },
  {
   "cell_type": "markdown",
   "metadata": {
    "internals": {},
    "nbpresent": {
     "id": "00d715eb-86cc-4645-8110-23faac401048"
    },
    "slideshow": {
     "slide_type": "-"
    }
   },
   "source": [
    "et le pixel en haut à droite s'écrit"
   ]
  },
  {
   "cell_type": "code",
   "execution_count": 17,
   "metadata": {
    "collapsed": false,
    "internals": {
     "slide_helper": "subslide_end"
    },
    "nbpresent": {
     "id": "dd2a2e43-6d9a-4141-b40a-b6c20fa75a32"
    },
    "slide_helper": "slide_end",
    "slideshow": {
     "slide_type": "-"
    }
   },
   "outputs": [
    {
     "data": {
      "text/plain": [
       "(1.0, 0.0, 0.0)"
      ]
     },
     "execution_count": 17,
     "metadata": {},
     "output_type": "execute_result"
    }
   ],
   "source": [
    "img[0, 1]"
   ]
  },
  {
   "cell_type": "markdown",
   "metadata": {
    "internals": {
     "slide_type": "subslide"
    },
    "nbpresent": {
     "id": "c787f04c-a4fe-4c62-8c45-9b459b329304"
    },
    "slideshow": {
     "slide_type": "slide"
    }
   },
   "source": [
    "## Manipulation de tableaux\n",
    "\n",
    "Les caractéristiques d'un tableau NumPy $a$ sont les suivantes\n",
    "\n",
    "- **a.shape**: retourne les dimensions du tableau\n",
    "- **a.dtype**: retourne le type des éléments du tableau\n",
    "- **a.size**: retourne le nombre total d'éléments du tableau\n",
    "- **a.ndim**: retourne la dimension du tableau"
   ]
  },
  {
   "cell_type": "code",
   "execution_count": 18,
   "metadata": {
    "collapsed": false,
    "internals": {
     "slide_helper": "subslide_end"
    },
    "nbpresent": {
     "id": "d54af2e9-ed99-497b-9fda-75c4a03d91c8"
    },
    "slide_helper": "subslide_end",
    "slideshow": {
     "slide_type": "-"
    }
   },
   "outputs": [
    {
     "name": "stdout",
     "output_type": "stream",
     "text": [
      "(3, 4, 2) float64 24 3\n"
     ]
    }
   ],
   "source": [
    "a = np.ones((3, 4, 2))\n",
    "print(a.shape, a.dtype, a.size, a.ndim)"
   ]
  },
  {
   "cell_type": "markdown",
   "metadata": {
    "internals": {
     "slide_helper": "subslide_end",
     "slide_type": "subslide"
    },
    "nbpresent": {
     "id": "e0ccb0cb-14e3-4a53-b416-7eec102a9c36"
    },
    "slide_helper": "subslide_end",
    "slideshow": {
     "slide_type": "subslide"
    }
   },
   "source": [
    "On peut accéder aux éléments d'un tableau de différentes manières.\n",
    "\n",
    "\n",
    "\n",
    "<center>\n",
    "<img src=\"files/figures/accesElem.png\" style=\"width: 30%;\" />\n",
    "</center>\n",
    "\n"
   ]
  },
  {
   "cell_type": "code",
   "execution_count": 19,
   "metadata": {
    "collapsed": false,
    "internals": {
     "slide_type": "subslide"
    },
    "nbpresent": {
     "id": "2d5e5ae1-ad8f-44b0-90ac-2f9089e0beae"
    },
    "slideshow": {
     "slide_type": "subslide"
    }
   },
   "outputs": [],
   "source": [
    "L1, L2 = [1, -2, 3], [-4, 5, 6]\n",
    "a = np.array([L1, L2])"
   ]
  },
  {
   "cell_type": "code",
   "execution_count": 20,
   "metadata": {
    "collapsed": false,
    "internals": {},
    "nbpresent": {
     "id": "f4b61255-61c3-45a4-91df-0b06129f7bd2"
    },
    "slideshow": {
     "slide_type": "-"
    }
   },
   "outputs": [
    {
     "data": {
      "text/plain": [
       "6"
      ]
     },
     "execution_count": 20,
     "metadata": {},
     "output_type": "execute_result"
    }
   ],
   "source": [
    "a[1, 2]"
   ]
  },
  {
   "cell_type": "code",
   "execution_count": 21,
   "metadata": {
    "collapsed": false,
    "internals": {},
    "nbpresent": {
     "id": "a5f5f454-adce-4ed9-9b14-fb68d0446d04"
    },
    "slideshow": {
     "slide_type": "-"
    }
   },
   "outputs": [
    {
     "data": {
      "text/plain": [
       "array([-2,  5])"
      ]
     },
     "execution_count": 21,
     "metadata": {},
     "output_type": "execute_result"
    }
   ],
   "source": [
    "a[:, 1]"
   ]
  },
  {
   "cell_type": "code",
   "execution_count": 22,
   "metadata": {
    "collapsed": false,
    "internals": {},
    "nbpresent": {
     "id": "bcdf74b2-da73-4237-a9fa-d0834cbf75e9"
    },
    "slideshow": {
     "slide_type": "-"
    }
   },
   "outputs": [
    {
     "data": {
      "text/plain": [
       "array([[ 3, -2],\n",
       "       [ 6,  5]])"
      ]
     },
     "execution_count": 22,
     "metadata": {},
     "output_type": "execute_result"
    }
   ],
   "source": [
    "a[:, -1:0:-1]"
   ]
  },
  {
   "cell_type": "code",
   "execution_count": 23,
   "metadata": {
    "collapsed": false,
    "internals": {
     "slide_helper": "subslide_end"
    },
    "nbpresent": {
     "id": "703d9142-ab2c-489a-8463-2e51ef2c1651"
    },
    "slide_helper": "subslide_end",
    "slideshow": {
     "slide_type": "-"
    }
   },
   "outputs": [
    {
     "data": {
      "text/plain": [
       "array([-2, -4])"
      ]
     },
     "execution_count": 23,
     "metadata": {},
     "output_type": "execute_result"
    }
   ],
   "source": [
    "a[a < 0]"
   ]
  },
  {
   "cell_type": "markdown",
   "metadata": {
    "internals": {
     "slide_type": "subslide"
    },
    "nbpresent": {
     "id": "f978c736-11ab-46b1-929b-e2dcc0e66ca5"
    },
    "slideshow": {
     "slide_type": "subslide"
    }
   },
   "source": [
    "### Redimensionnement d'un tableau"
   ]
  },
  {
   "cell_type": "code",
   "execution_count": 24,
   "metadata": {
    "collapsed": false,
    "internals": {},
    "nbpresent": {
     "id": "aff55d2d-118a-47d8-ba84-c69b3c8cffa0"
    },
    "slideshow": {
     "slide_type": "-"
    }
   },
   "outputs": [],
   "source": [
    "a = np.linspace(1, 10, 10)\n",
    "a.shape = (2, 5) "
   ]
  },
  {
   "cell_type": "code",
   "execution_count": 25,
   "metadata": {
    "collapsed": false,
    "internals": {},
    "nbpresent": {
     "id": "1cfe637e-def6-491d-b4da-3af1a658a185"
    },
    "slideshow": {
     "slide_type": "-"
    }
   },
   "outputs": [
    {
     "data": {
      "text/plain": [
       "array([[  1.,   2.,   3.,   4.,   5.],\n",
       "       [  6.,   7.,   8.,   9.,  10.]])"
      ]
     },
     "execution_count": 25,
     "metadata": {},
     "output_type": "execute_result"
    }
   ],
   "source": [
    "a"
   ]
  },
  {
   "cell_type": "code",
   "execution_count": 26,
   "metadata": {
    "collapsed": false,
    "internals": {},
    "nbpresent": {
     "id": "b8fa677f-ea2e-4551-a967-e5c88b685d4a"
    },
    "slideshow": {
     "slide_type": "-"
    }
   },
   "outputs": [
    {
     "name": "stdout",
     "output_type": "stream",
     "text": [
      "[  1.   2.   3.   4.   5.   6.   7.   8.   9.  10.]\n"
     ]
    },
    {
     "data": {
      "text/plain": [
       "array([[  1.,   2.,   3.,   4.,   5.],\n",
       "       [  6.,   7.,   8.,   9.,  10.]])"
      ]
     },
     "execution_count": 26,
     "metadata": {},
     "output_type": "execute_result"
    }
   ],
   "source": [
    "a.shape = (a.size,)\n",
    "print(a)\n",
    "a.reshape((2, 5))   "
   ]
  },
  {
   "cell_type": "markdown",
   "metadata": {
    "internals": {
     "slide_helper": "subslide_end"
    },
    "nbpresent": {
     "id": "e09f0001-b68a-412f-ab4f-2e9918b73ad5"
    },
    "slide_helper": "subslide_end",
    "slideshow": {
     "slide_type": "-"
    }
   },
   "source": [
    "**Attention**: *reshape* ne fait pas une copie du tableau mais crée une nouvelle vue."
   ]
  },
  {
   "cell_type": "markdown",
   "metadata": {
    "internals": {
     "slide_helper": "subslide_end",
     "slide_type": "subslide"
    },
    "nbpresent": {
     "id": "f2488baa-9371-4dbd-aab2-f34e682c6738"
    },
    "slide_helper": "subslide_end",
    "slideshow": {
     "slide_type": "subslide"
    }
   },
   "source": [
    "### Les vues\n",
    "\n",
    "NumPy crée des tableaux alloués en mémoire selon l'alignement C ou Fortran (nous y reviendrons par la suite). \n",
    "\n",
    "On peut ensuite y accéder selon différentes vues.  "
   ]
  },
  {
   "cell_type": "code",
   "execution_count": 27,
   "metadata": {
    "collapsed": false,
    "internals": {
     "slide_type": "subslide"
    },
    "nbpresent": {
     "id": "a8f9831a-4832-4465-a5f7-39a27a1a273e"
    },
    "slideshow": {
     "slide_type": "subslide"
    }
   },
   "outputs": [],
   "source": [
    "a = np.linspace(1, 10, 10)"
   ]
  },
  {
   "cell_type": "markdown",
   "metadata": {
    "internals": {
     "slide_helper": "subslide_end"
    },
    "nbpresent": {
     "id": "d56cea27-ec67-484f-80b9-d4cc2147f5fe"
    },
    "slide_helper": "subslide_end",
    "slideshow": {
     "slide_type": "-"
    }
   },
   "source": [
    "<center>\n",
    "<img src=\"files/figures/aView.png\" style=\"width: 40%;\" \\>\n",
    "</center>"
   ]
  },
  {
   "cell_type": "code",
   "execution_count": 28,
   "metadata": {
    "collapsed": false,
    "internals": {
     "slide_type": "subslide"
    },
    "nbpresent": {
     "id": "f7f568e9-b642-4a05-8374-346e6e2e8b7a"
    },
    "slideshow": {
     "slide_type": "subslide"
    }
   },
   "outputs": [],
   "source": [
    "b = a.reshape((5, 2))"
   ]
  },
  {
   "cell_type": "markdown",
   "metadata": {
    "internals": {
     "slide_helper": "subslide_end"
    },
    "nbpresent": {
     "id": "08eadf7a-6dd3-485c-9300-a843c2dd5e81"
    },
    "slide_helper": "subslide_end",
    "slideshow": {
     "slide_type": "-"
    }
   },
   "source": [
    "<center>\n",
    "<img src=\"files/figures/abView.png\" style=\"width: 40%;\" \\>\n",
    "</center>"
   ]
  },
  {
   "cell_type": "code",
   "execution_count": 29,
   "metadata": {
    "collapsed": false,
    "internals": {
     "slide_type": "subslide"
    },
    "nbpresent": {
     "id": "19b272f9-198a-4cc9-92b4-744cabf3c013"
    },
    "slideshow": {
     "slide_type": "subslide"
    }
   },
   "outputs": [],
   "source": [
    "c = b[:, 0]"
   ]
  },
  {
   "cell_type": "markdown",
   "metadata": {
    "internals": {
     "slide_helper": "subslide_end"
    },
    "nbpresent": {
     "id": "0e73c32c-27f8-4329-8834-c7cdeac50e0e"
    },
    "slide_helper": "subslide_end",
    "slideshow": {
     "slide_type": "-"
    }
   },
   "source": [
    "<center>\n",
    "<img src=\"files/figures/abcView.png\" style=\"width: 40%;\" \\>\n",
    "</center>"
   ]
  },
  {
   "cell_type": "code",
   "execution_count": 30,
   "metadata": {
    "collapsed": false,
    "internals": {
     "slide_type": "subslide"
    },
    "nbpresent": {
     "id": "4f0e5729-14a5-4c6f-860a-65fb88055209"
    },
    "slideshow": {
     "slide_type": "subslide"
    }
   },
   "outputs": [],
   "source": [
    "a[0] = 100"
   ]
  },
  {
   "cell_type": "markdown",
   "metadata": {
    "internals": {
     "slide_helper": "subslide_end"
    },
    "nbpresent": {
     "id": "5a60a2b0-ad01-4b55-a9e8-9f58ca9ebc62"
    },
    "slide_helper": "subslide_end",
    "slideshow": {
     "slide_type": "-"
    }
   },
   "source": [
    "<center>\n",
    "<img src=\"files/figures/abcView1.png\" style=\"width: 40%;\" \\>\n",
    "</center>"
   ]
  },
  {
   "cell_type": "code",
   "execution_count": 31,
   "metadata": {
    "collapsed": false,
    "internals": {
     "slide_helper": "subslide_end",
     "slide_type": "subslide"
    },
    "nbpresent": {
     "id": "0384c835-80ee-43a4-9c9a-e246d85ae9fd"
    },
    "slide_helper": "subslide_end",
    "slideshow": {
     "slide_type": "subslide"
    }
   },
   "outputs": [
    {
     "name": "stdout",
     "output_type": "stream",
     "text": [
      "-----a-----\n",
      "[ 100.    2.    3.    4.    5.    6.    7.    8.    9.   10.]\n",
      "-----b-----\n",
      "[[ 100.    2.]\n",
      " [   3.    4.]\n",
      " [   5.    6.]\n",
      " [   7.    8.]\n",
      " [   9.   10.]]\n",
      "-----c-----\n",
      "[ 100.    3.    5.    7.    9.]\n"
     ]
    }
   ],
   "source": [
    "print('-'*5 + 'a' + '-'*5)\n",
    "print(a)\n",
    "print('-'*5 + 'b' + '-'*5)\n",
    "print(b)\n",
    "print('-'*5 + 'c' + '-'*5)\n",
    "print(c)"
   ]
  },
  {
   "cell_type": "markdown",
   "metadata": {
    "internals": {
     "slide_type": "subslide"
    },
    "nbpresent": {
     "id": "910450fd-fc6b-42d7-b93d-9578465bf2b8"
    },
    "slideshow": {
     "slide_type": "subslide"
    }
   },
   "source": [
    "### Copie d'un tableau"
   ]
  },
  {
   "cell_type": "code",
   "execution_count": 32,
   "metadata": {
    "collapsed": false,
    "internals": {
     "slide_helper": "subslide_end"
    },
    "nbpresent": {
     "id": "0291bb39-d992-4ece-b3f8-cbdca6f8811b"
    },
    "slide_helper": "subslide_end",
    "slideshow": {
     "slide_type": "-"
    }
   },
   "outputs": [
    {
     "name": "stdout",
     "output_type": "stream",
     "text": [
      "a [ 1.  9.  3.  4.  5.] \n",
      "b [ 1.  9.  3.  4.  5.] \n",
      "c [ 1.  2.  3.  4.  5.] \n",
      "d [ 1.  2.  3.  4.  5.]\n"
     ]
    }
   ],
   "source": [
    "a = np.linspace(1, 5, 5)\n",
    "b = a\n",
    "c = a.copy()\n",
    "d = np.zeros(a.shape, a.dtype)\n",
    "d[:] = a \n",
    "b[1] = 9\n",
    "print('a', a, '\\nb', b, '\\nc', c, '\\nd', d)"
   ]
  },
  {
   "cell_type": "markdown",
   "metadata": {
    "internals": {
     "slide_type": "subslide"
    },
    "nbpresent": {
     "id": "4ff68d90-49ac-4d98-8366-6b4c5d1b3f04"
    },
    "slideshow": {
     "slide_type": "subslide"
    }
   },
   "source": [
    "### Rangement mémoire des tableaux\n",
    "\n",
    "Il est possible avec NumPy d'avoir un stockage de type C ou de type Fortran.\n",
    "\n",
    "<center>\n",
    "<img src=\"files/figures/storage.png\" style=\"width: 40%;\" />\n",
    "</center>"
   ]
  },
  {
   "cell_type": "code",
   "execution_count": 33,
   "metadata": {
    "collapsed": false,
    "internals": {
     "slide_helper": "subslide_end"
    },
    "nbpresent": {
     "id": "4e675bc6-58cd-4705-80b0-61e4f3455462"
    },
    "slide_helper": "subslide_end",
    "slideshow": {
     "slide_type": "-"
    }
   },
   "outputs": [
    {
     "name": "stdout",
     "output_type": "stream",
     "text": [
      "True\n",
      "False\n"
     ]
    }
   ],
   "source": [
    "a = np.array([[1, 2], [3, 4]], order = 'f')\n",
    "b = np.array([[1, 2], [3, 4]])\n",
    "print(np.isfortran(a))\n",
    "print(np.isfortran(b))"
   ]
  },
  {
   "cell_type": "markdown",
   "metadata": {
    "internals": {
     "slide_type": "subslide"
    },
    "nbpresent": {
     "id": "ac5a4b76-b07c-4821-8995-d3c48b8d17fb"
    },
    "slideshow": {
     "slide_type": "subslide"
    }
   },
   "source": [
    "### Boucles sur les tableaux"
   ]
  },
  {
   "cell_type": "code",
   "execution_count": 34,
   "metadata": {
    "collapsed": false,
    "internals": {
     "slide_helper": "subslide_end"
    },
    "nbpresent": {
     "id": "c7a0a12e-ae8d-4585-bb50-a6894b8db194"
    },
    "slide_helper": "subslide_end",
    "slideshow": {
     "slide_type": "-"
    }
   },
   "outputs": [
    {
     "name": "stdout",
     "output_type": "stream",
     "text": [
      "[[ 1.  2.  3.]\n",
      " [ 2.  4.  6.]]\n",
      "--------------------\n",
      "[ 1.  2.  3.]\n",
      "[ 2.  4.  6.]\n"
     ]
    }
   ],
   "source": [
    "a = np.zeros((2, 3)) \n",
    "for i in range(a.shape[0]):\n",
    "    for j in range(a.shape[1]):\n",
    "        a[i, j] = (i + 1)*(j + 1)\n",
    "print(a)\n",
    "\n",
    "print('-'*20)\n",
    "\n",
    "for e in a:\n",
    "    print(e)"
   ]
  },
  {
   "cell_type": "code",
   "execution_count": 35,
   "metadata": {
    "collapsed": false,
    "internals": {
     "slide_helper": "subslide_end",
     "slide_type": "subslide"
    },
    "nbpresent": {
     "id": "d13fda6e-3598-4723-8dbe-a59c14fef850"
    },
    "slide_helper": "slide_end",
    "slideshow": {
     "slide_type": "subslide"
    }
   },
   "outputs": [
    {
     "name": "stdout",
     "output_type": "stream",
     "text": [
      "1.0\n",
      "2.0\n",
      "3.0\n",
      "2.0\n",
      "4.0\n",
      "6.0\n",
      "--------------------\n",
      "(0, 0) 1.0\n",
      "(0, 1) 2.0\n",
      "(0, 2) 3.0\n",
      "(1, 0) 2.0\n",
      "(1, 1) 4.0\n",
      "(1, 2) 6.0\n"
     ]
    }
   ],
   "source": [
    "for e in a.flat:\n",
    "     print(e)\n",
    "\n",
    "print('-'*20)\n",
    "        \n",
    "for index, value in np.ndenumerate(a):\n",
    "     print(index, value)"
   ]
  },
  {
   "cell_type": "markdown",
   "metadata": {
    "nbpresent": {
     "id": "767e2ad3-f530-4056-bc48-777f30c333cf"
    },
    "slideshow": {
     "slide_type": "slide"
    }
   },
   "source": [
    "### Opérations sur les tableaux\n",
    "\n",
    "- Il n'est pas nécessaire de faire des boucles.\n",
    "- Python sait faire la différence entre un tableau NumPy et un scalaire.\n",
    "- Le calcul sur les tableaux se fait via des fonctions C."
   ]
  },
  {
   "cell_type": "markdown",
   "metadata": {
    "internals": {
     "slide_type": "subslide"
    },
    "nbpresent": {
     "id": "c8141670-3e51-407a-bd9a-7d8078e52813"
    },
    "slideshow": {
     "slide_type": "subslide"
    }
   },
   "source": [
    "Il faut écrire sous forme vectorisée pour avoir les meilleures performances. Pour s'en convaincre, prenons l'exemple suivant:\n",
    "\n",
    "On veut calculer $b = 3a -1$."
   ]
  },
  {
   "cell_type": "code",
   "execution_count": 36,
   "metadata": {
    "collapsed": false,
    "internals": {},
    "nbpresent": {
     "id": "c7b170ad-5d5a-48a1-8858-9be76be8344e"
    },
    "slideshow": {
     "slide_type": "-"
    }
   },
   "outputs": [
    {
     "name": "stderr",
     "output_type": "stream",
     "text": [
      "/home/gouarin/anaconda/envs/py3k/lib/python3.3/site-packages/ipykernel/__main__.py:2: DeprecationWarning: using a non-integer number instead of an integer will result in an error in the future\n",
      "  from ipykernel import kernelapp as app\n"
     ]
    }
   ],
   "source": [
    "a = np.linspace(0, 1, 1E+06)\n",
    "b = np.zeros(1E+06)"
   ]
  },
  {
   "cell_type": "code",
   "execution_count": 37,
   "metadata": {
    "collapsed": false,
    "internals": {},
    "nbpresent": {
     "id": "5d667bff-3fe6-4b0d-9b3b-edf23a31f518"
    },
    "slideshow": {
     "slide_type": "-"
    }
   },
   "outputs": [
    {
     "name": "stdout",
     "output_type": "stream",
     "text": [
      "10 loops, best of 3: 72.5 ms per loop\n"
     ]
    }
   ],
   "source": [
    "%timeit  b[:] = 3*a - 1"
   ]
  },
  {
   "cell_type": "code",
   "execution_count": 38,
   "metadata": {
    "collapsed": false,
    "internals": {},
    "nbpresent": {
     "id": "2d25fe0c-2af7-4104-9c46-45f4e0b67801"
    },
    "slideshow": {
     "slide_type": "-"
    }
   },
   "outputs": [
    {
     "name": "stdout",
     "output_type": "stream",
     "text": [
      "1 loop, best of 3: 634 ms per loop\n"
     ]
    }
   ],
   "source": [
    "%timeit for i in range(a.size): b[i] = 3*a[i] - 1"
   ]
  },
  {
   "cell_type": "markdown",
   "metadata": {
    "internals": {
     "slide_type": "subslide"
    },
    "nbpresent": {
     "id": "3a3cb8de-521e-4bf6-9749-0807e558fbc7"
    },
    "slideshow": {
     "slide_type": "subslide"
    }
   },
   "source": [
    "NumPy fournit un ensemble de fonctions comme $\\exp$, $\\sin$, ... directement applicable sur des tableaux."
   ]
  },
  {
   "cell_type": "code",
   "execution_count": 39,
   "metadata": {
    "collapsed": false,
    "internals": {
     "slide_helper": "subslide_end"
    },
    "nbpresent": {
     "id": "251d0043-0833-4134-be55-6e3de32524d3"
    },
    "slide_helper": "slide_end",
    "slideshow": {
     "slide_type": "-"
    }
   },
   "outputs": [
    {
     "name": "stdout",
     "output_type": "stream",
     "text": [
      "10 loops, best of 3: 105 ms per loop\n"
     ]
    }
   ],
   "source": [
    "def f(x):\n",
    "    return np.exp(-x*x)*np.log(1 + x*np.sin(x))\n",
    "\n",
    "x = np.linspace(0, 1, 1e6)\n",
    "%timeit a = f(x)"
   ]
  },
  {
   "cell_type": "markdown",
   "metadata": {
    "nbpresent": {
     "id": "beb3f9cb-bd11-4617-9250-e369c738b02f"
    },
    "slideshow": {
     "slide_type": "slide"
    }
   },
   "source": [
    "### Broadcasting\n",
    "\n",
    "<center>\n",
    "<img src=\"files/figures/broadcasting.png\" style=\"width: 50%;\" />\n",
    "</center>"
   ]
  },
  {
   "cell_type": "code",
   "execution_count": 40,
   "metadata": {
    "collapsed": false,
    "nbpresent": {
     "id": "a125d6c4-9cb1-4d7a-aa2b-f7ee496411da"
    },
    "slideshow": {
     "slide_type": "subslide"
    }
   },
   "outputs": [
    {
     "name": "stdout",
     "output_type": "stream",
     "text": [
      "[[ 0  0  0]\n",
      " [10 10 10]\n",
      " [20 20 20]\n",
      " [30 30 30]]\n",
      "[[ 0  1  2]\n",
      " [10 11 12]\n",
      " [20 21 22]\n",
      " [30 31 32]]\n"
     ]
    }
   ],
   "source": [
    "a = np.tile(np.arange(0, 40, 10), (3, 1)).T\n",
    "print(a)\n",
    "b = np.array([0, 1, 2])\n",
    "print(a+b)"
   ]
  },
  {
   "cell_type": "code",
   "execution_count": 41,
   "metadata": {
    "collapsed": false,
    "nbpresent": {
     "id": "a6944a1c-521c-4e77-992f-3dd754afb52d"
    },
    "slideshow": {
     "slide_type": "subslide"
    }
   },
   "outputs": [
    {
     "name": "stdout",
     "output_type": "stream",
     "text": [
      "[[ 0]\n",
      " [10]\n",
      " [20]\n",
      " [30]]\n",
      "[[ 0  1  2]\n",
      " [10 11 12]\n",
      " [20 21 22]\n",
      " [30 31 32]]\n"
     ]
    }
   ],
   "source": [
    "a = np.arange(0, 40, 10)[:, np.newaxis]\n",
    "print(a)\n",
    "print(a+b)"
   ]
  },
  {
   "cell_type": "code",
   "execution_count": 42,
   "metadata": {
    "collapsed": false,
    "nbpresent": {
     "id": "37b659a4-fe85-4f8d-b981-d6d9e89fed6c"
    },
    "scrolled": true
   },
   "outputs": [
    {
     "name": "stdout",
     "output_type": "stream",
     "text": [
      "[[ 0.5   0.41  0.34  0.29  0.26  0.25  0.26  0.29  0.34  0.41  0.5 ]\n",
      " [ 0.41  0.32  0.25  0.2   0.17  0.16  0.17  0.2   0.25  0.32  0.41]\n",
      " [ 0.34  0.25  0.18  0.13  0.1   0.09  0.1   0.13  0.18  0.25  0.34]\n",
      " [ 0.29  0.2   0.13  0.08  0.05  0.04  0.05  0.08  0.13  0.2   0.29]\n",
      " [ 0.26  0.17  0.1   0.05  0.02  0.01  0.02  0.05  0.1   0.17  0.26]\n",
      " [ 0.25  0.16  0.09  0.04  0.01  0.    0.01  0.04  0.09  0.16  0.25]\n",
      " [ 0.26  0.17  0.1   0.05  0.02  0.01  0.02  0.05  0.1   0.17  0.26]\n",
      " [ 0.29  0.2   0.13  0.08  0.05  0.04  0.05  0.08  0.13  0.2   0.29]\n",
      " [ 0.34  0.25  0.18  0.13  0.1   0.09  0.1   0.13  0.18  0.25  0.34]\n",
      " [ 0.41  0.32  0.25  0.2   0.17  0.16  0.17  0.2   0.25  0.32  0.41]\n",
      " [ 0.5   0.41  0.34  0.29  0.26  0.25  0.26  0.29  0.34  0.41  0.5 ]]\n"
     ]
    }
   ],
   "source": [
    "x, y = np.linspace(0, 1, 11), np.linspace(0, 1, 11)[:, np.newaxis]\n",
    "print((x-.5)**2 + (y-.5)**2)"
   ]
  },
  {
   "cell_type": "markdown",
   "metadata": {
    "internals": {
     "slide_type": "subslide"
    },
    "nbpresent": {
     "id": "1e96c7ae-1182-4e2f-94ae-517350514c9a"
    },
    "slideshow": {
     "slide_type": "slide"
    }
   },
   "source": [
    "## Quelques fonctions utiles"
   ]
  },
  {
   "cell_type": "code",
   "execution_count": 43,
   "metadata": {
    "collapsed": false,
    "internals": {
     "slide_helper": "subslide_end"
    },
    "nbpresent": {
     "id": "2b0f0b75-a203-4b88-9993-24907127113e"
    },
    "slide_helper": "subslide_end",
    "slideshow": {
     "slide_type": "-"
    }
   },
   "outputs": [
    {
     "name": "stdout",
     "output_type": "stream",
     "text": [
      "[[1 2 4]\n",
      " [5 6 9]]\n",
      "[1 2 4 5 6 9]\n"
     ]
    }
   ],
   "source": [
    "a = np.array([[1, 2, 4], [5, 6, 9]])\n",
    "print(a)\n",
    "print(a.flatten())"
   ]
  },
  {
   "cell_type": "code",
   "execution_count": 44,
   "metadata": {
    "collapsed": false,
    "internals": {
     "slide_helper": "subslide_end",
     "slide_type": "subslide"
    },
    "nbpresent": {
     "id": "b39339bd-3399-4080-83ae-e17cc0b2033c"
    },
    "slide_helper": "subslide_end",
    "slideshow": {
     "slide_type": "subslide"
    }
   },
   "outputs": [
    {
     "name": "stdout",
     "output_type": "stream",
     "text": [
      "[[2 4]\n",
      " [6 8]]\n",
      "----------\n",
      "[ 6 14]\n",
      "----------\n",
      "[[[2 2]\n",
      "  [4 4]]\n",
      "\n",
      " [[6 6]\n",
      "  [8 8]]]\n"
     ]
    }
   ],
   "source": [
    "a, b = np.array([[1, 2], [3, 4]]), array([2, 2])\n",
    "print(a*b)\n",
    "print('-'*10)\n",
    "print(np.dot(a, b))\n",
    "print('-'*10)\n",
    "print(np.tensordot(a, b, axes=0))"
   ]
  },
  {
   "cell_type": "code",
   "execution_count": 45,
   "metadata": {
    "collapsed": false,
    "internals": {
     "slide_helper": "subslide_end",
     "slide_type": "subslide"
    },
    "nbpresent": {
     "id": "90ce83ab-74f0-44c5-8dec-474774290c0c"
    },
    "slide_helper": "subslide_end",
    "slideshow": {
     "slide_type": "subslide"
    }
   },
   "outputs": [
    {
     "name": "stdout",
     "output_type": "stream",
     "text": [
      "[[[0 0]\n",
      "  [1 1]]\n",
      "\n",
      " [[0 1]\n",
      "  [0 1]]]\n",
      "----------\n",
      "[array([[0],\n",
      "       [1]]), array([[0, 1]])]\n"
     ]
    }
   ],
   "source": [
    "print(np.mgrid[0:2, 0:2])\n",
    "print('-'*10)\n",
    "print(np.ogrid[0:2, 0:2])"
   ]
  },
  {
   "cell_type": "code",
   "execution_count": 46,
   "metadata": {
    "collapsed": false,
    "internals": {
     "slide_helper": "subslide_end",
     "slide_type": "subslide"
    },
    "nbpresent": {
     "id": "931ea6be-01d9-4009-9201-8bc8c6c0dad6"
    },
    "slide_helper": "subslide_end",
    "slideshow": {
     "slide_type": "subslide"
    }
   },
   "outputs": [
    {
     "name": "stdout",
     "output_type": "stream",
     "text": [
      "[[ 0.  1.  2.]\n",
      " [ 0.  1.  2.]\n",
      " [ 0.  1.  2.]]\n",
      "----------\n",
      "[[ 3.  3.  3.]\n",
      " [ 4.  4.  4.]\n",
      " [ 5.  5.  5.]]\n"
     ]
    }
   ],
   "source": [
    "x, y = np.meshgrid(np.linspace(0, 2, 3), \n",
    "                   np.linspace(3, 5, 3))\n",
    "print(x)\n",
    "print('-'*10)\n",
    "print(y)"
   ]
  },
  {
   "cell_type": "code",
   "execution_count": 47,
   "metadata": {
    "collapsed": false,
    "internals": {
     "slide_helper": "subslide_end",
     "slide_type": "subslide"
    },
    "nbpresent": {
     "id": "46bdf8a4-be6d-4289-82c5-6461ea4ec369"
    },
    "slide_helper": "slide_end",
    "slideshow": {
     "slide_type": "subslide"
    }
   },
   "outputs": [
    {
     "name": "stdout",
     "output_type": "stream",
     "text": [
      "any True\n",
      "all False\n",
      "where 1 (array([0]), array([0]))\n",
      "where 2 (array([0, 0, 1, 1, 1]), array([1, 2, 0, 1, 2]))\n"
     ]
    }
   ],
   "source": [
    "a = np.array([[1, 2, 4], [5, 6, 9]])\n",
    "print('any', np.any(a > 2))\n",
    "print('all', np.all(a > 2))\n",
    "print( 'where 1', np.where(a <= 1))\n",
    "print( 'where 2', np.where(a > 1))"
   ]
  },
  {
   "cell_type": "markdown",
   "metadata": {
    "internals": {
     "slide_helper": "subslide_end",
     "slide_type": "subslide"
    },
    "nbpresent": {
     "id": "bc4973af-1734-4f3b-9134-4dc723452571"
    },
    "slide_helper": "slide_end",
    "slideshow": {
     "slide_type": "slide"
    }
   },
   "source": [
    "## Autres opérations sur un tableau\n",
    "\n",
    "- ```a.argmax```: renvoie un tableau d'indices des valeurs maximales selon un axe\n",
    "- ```a.max```: renvoie le maximum\n",
    "- ```a.astype```: renvoie un tableau de a convertit sous un certain type\n",
    "- ```a.conj```: renvoie le conjugué de a\n",
    "- ```a.sum```: renvoie la somme des éléments de a\n",
    "- ```a.prod```: renvoie le produit des éléments de a\n",
    "- ```a.transpose```: renvoie la transposé de a"
   ]
  },
  {
   "cell_type": "markdown",
   "metadata": {},
   "source": [
    "#### Question 1\n",
    "\n",
    "Soit une matrice et un vecteur numpy définis de la manière suivante"
   ]
  },
  {
   "cell_type": "code",
   "execution_count": 1,
   "metadata": {
    "collapsed": true
   },
   "outputs": [],
   "source": [
    "import numpy as np\n",
    "A = np.array([[1, 2, 3], [4, 5, 6], [7, 8, 9]])\n",
    "b = np.array([-3, -2, -1])"
   ]
  },
  {
   "cell_type": "markdown",
   "metadata": {},
   "source": [
    "Faire le produit matrice-vecteur et a\u001e",
    "fficher le résultat."
   ]
  },
  {
   "cell_type": "markdown",
   "metadata": {},
   "source": [
    "#### Question 2\n",
    "\n",
    "Extraire la matrice 2 × 2 qui se situe dans le coin en bas à droite de la matrice A de l'exercice\n",
    "précédent. Ajouter à cette matrice une autre matrice 2 × 2 et multiplier le résultat par une\n",
    "autre matrice 2 × 2 . Insérer le résultat \u001c",
    "final dans le coin en haut à gauche de la matrice A ."
   ]
  },
  {
   "cell_type": "markdown",
   "metadata": {},
   "source": [
    "#### Question 3\n",
    "\n",
    "Soit le code suivant"
   ]
  },
  {
   "cell_type": "code",
   "execution_count": 3,
   "metadata": {
    "collapsed": false
   },
   "outputs": [
    {
     "name": "stdout",
     "output_type": "stream",
     "text": [
      "[ 1.  2.  3.] [ 1.  2.  3.]\n"
     ]
    }
   ],
   "source": [
    "from numpy import linspace\n",
    "x = linspace(0, 1, 3)\n",
    "# y = 2*x + 1\n",
    "y = x; y *= 2; y += 1\n",
    "print(x, y)"
   ]
  },
  {
   "cell_type": "markdown",
   "metadata": {},
   "source": [
    "Expliquer pourquoi x et y ont les mêmes valeurs. Comment modifi\u001c",
    "er ce script pour avoir le comportement souhaité?"
   ]
  },
  {
   "cell_type": "markdown",
   "metadata": {},
   "source": [
    "#### Question 4"
   ]
  },
  {
   "cell_type": "code",
   "execution_count": 5,
   "metadata": {
    "collapsed": false,
    "scrolled": true
   },
   "outputs": [
    {
     "name": "stdout",
     "output_type": "stream",
     "text": [
      "[-5 -4 -3 -2 -1  0  1  2  3  4]\n",
      "None\n"
     ]
    }
   ],
   "source": [
    "def positive_elements(x):\n",
    "    \"\"\"\n",
    "    prend un tableau 1D et renvoie la partie strictement positive\n",
    "    \"\"\"\n",
    "    pass\n",
    "\n",
    "x = np.arange(10) - 5\n",
    "print(x)\n",
    "pos_x = positive_elements(x)\n",
    "print(pos_x)"
   ]
  },
  {
   "cell_type": "markdown",
   "metadata": {},
   "source": [
    "Ecrivez la fonction *positive_elements* qui permettra d'avoir l'affichage final \n",
    "\n",
    "```\n",
    "[1  2  3  4]\n",
    "```"
   ]
  },
  {
   "cell_type": "markdown",
   "metadata": {},
   "source": [
    "#### Question 5"
   ]
  },
  {
   "cell_type": "code",
   "execution_count": 6,
   "metadata": {
    "collapsed": false
   },
   "outputs": [
    {
     "name": "stdout",
     "output_type": "stream",
     "text": [
      "None\n"
     ]
    }
   ],
   "source": [
    "def multiplication_table(a, b):\n",
    "    \"\"\"\n",
    "    a et b deux tableau 1D\n",
    "    \n",
    "    renvoie un tableau 2D contenant la multiplication\n",
    "    de chaque élément de a avec chaque élément de b\n",
    "    \"\"\"\n",
    "    pass\n",
    "\n",
    "a = np.arange(3)\n",
    "b = np.array([-1., 1., 2.])\n",
    "print(multiplication_table(a, b))"
   ]
  },
  {
   "cell_type": "markdown",
   "metadata": {},
   "source": [
    "Ecrivez la fonction *multiplication_table* qui permettra d'avoir l'affichage final \n",
    "\n",
    "```\n",
    "[[-0. 0. 0.]\n",
    " [-1. 1. 2.]\n",
    " [-2. 2. 4.]]\n",
    "```"
   ]
  },
  {
   "cell_type": "markdown",
   "metadata": {},
   "source": [
    "#### Question 6"
   ]
  },
  {
   "cell_type": "code",
   "execution_count": null,
   "metadata": {
    "collapsed": true
   },
   "outputs": [],
   "source": [
    "def differences(x):\n",
    "    \"\"\"\n",
    "    prend un tableau 1D et renvoie la différence entre\n",
    "    chaque voisin\n",
    "    \"\"\"\n",
    "    pass\n",
    "\n",
    "x = np.array([1., 2., -3., 0.])\n",
    "print(differences(x))"
   ]
  },
  {
   "cell_type": "markdown",
   "metadata": {},
   "source": [
    "Ecrivez la fonction *difference* qui permettra d'avoir l'affichage final \n",
    "\n",
    "```\n",
    "[1. -5. 3.]\n",
    "```"
   ]
  },
  {
   "cell_type": "markdown",
   "metadata": {
    "internals": {
     "slide_helper": "subslide_end",
     "slide_type": "subslide"
    },
    "nbpresent": {
     "id": "4fe1afd0-1a8f-4e30-9365-10ebd9d2e200"
    },
    "slide_helper": "subslide_end",
    "slideshow": {
     "slide_type": "slide"
    }
   },
   "source": [
    "## Les entrées-sorties\n",
    "\n",
    "Il existe différentes manières de sauvegarder ses données \n",
    "\n",
    "- formats NumPy\n",
    "- pickle\n",
    "- HDF5, NetCDF, VTK, ...\n",
    "\n",
    "On s'intéressera ici uniquement aux formats fournis par NumPy."
   ]
  },
  {
   "cell_type": "markdown",
   "metadata": {
    "internals": {
     "slide_type": "subslide"
    },
    "nbpresent": {
     "id": "14af9254-e554-480e-9f96-e9b070d25a50"
    },
    "slideshow": {
     "slide_type": "subslide"
    }
   },
   "source": [
    "### load et save"
   ]
  },
  {
   "cell_type": "code",
   "execution_count": 48,
   "metadata": {
    "collapsed": false,
    "internals": {
     "slide_helper": "subslide_end"
    },
    "nbpresent": {
     "id": "4d8af4a0-e0ac-4600-bcdd-4d81af35354b"
    },
    "slide_helper": "subslide_end",
    "slideshow": {
     "slide_type": "-"
    }
   },
   "outputs": [
    {
     "data": {
      "text/plain": [
       "array([[1, 2, 3],\n",
       "       [4, 5, 6]])"
      ]
     },
     "execution_count": 48,
     "metadata": {},
     "output_type": "execute_result"
    }
   ],
   "source": [
    "np.save('/tmp/123', np.array([[1, 2, 3], [4, 5, 6]]))\n",
    "np.load('/tmp/123.npy')"
   ]
  },
  {
   "cell_type": "markdown",
   "metadata": {
    "internals": {
     "slide_type": "subslide"
    },
    "nbpresent": {
     "id": "504ef532-e341-4d6b-abe6-352f8e3e8358"
    },
    "slideshow": {
     "slide_type": "subslide"
    }
   },
   "source": [
    "### load et savez"
   ]
  },
  {
   "cell_type": "code",
   "execution_count": 49,
   "metadata": {
    "collapsed": false,
    "internals": {
     "slide_helper": "subslide_end"
    },
    "nbpresent": {
     "id": "1a6efb07-2da4-42cd-b41e-c1c438f1d04c"
    },
    "slide_helper": "subslide_end",
    "slideshow": {
     "slide_type": "-"
    }
   },
   "outputs": [
    {
     "name": "stdout",
     "output_type": "stream",
     "text": [
      "['y1', 'x1']\n",
      "[ 0.          0.6981317   1.3962634   2.0943951   2.7925268   3.4906585\n",
      "  4.1887902   4.88692191  5.58505361  6.28318531]\n"
     ]
    }
   ],
   "source": [
    "x = np.linspace(0, 2*np.pi, 10)\n",
    "y = np.sin(x)   \n",
    "np.savez('/tmp/sin', x1=x, y1=y)\n",
    "t = np.load('/tmp/sin.npz')\n",
    "print(t.files)\n",
    "print(t['x1'])"
   ]
  },
  {
   "cell_type": "markdown",
   "metadata": {
    "internals": {
     "slide_type": "subslide"
    },
    "nbpresent": {
     "id": "a9301b83-06e3-43dd-9843-5ce9957a4525"
    },
    "slideshow": {
     "slide_type": "subslide"
    }
   },
   "source": [
    "### loadtxt"
   ]
  },
  {
   "cell_type": "code",
   "execution_count": 50,
   "metadata": {
    "collapsed": false,
    "internals": {
     "slide_helper": "subslide_end"
    },
    "nbpresent": {
     "id": "2fb70058-4d84-4cbe-ae45-08d9c686721b"
    },
    "slide_helper": "subslide_end",
    "slideshow": {
     "slide_type": "-"
    }
   },
   "outputs": [
    {
     "name": "stdout",
     "output_type": "stream",
     "text": [
      "[[ 0.  1.]\n",
      " [ 2.  3.]]\n",
      "[ 1.  3.]\n"
     ]
    }
   ],
   "source": [
    "from io import StringIO\n",
    "c = StringIO(\"0 1\\n2 3\")\n",
    "print(np.loadtxt(c))\n",
    "\n",
    "c = StringIO(\"1,0,2\\n3,0,4\")\n",
    "x, y = np.loadtxt(c, delimiter=',', usecols=(0, 2),\n",
    "                  unpack=True)\n",
    "print(x)"
   ]
  },
  {
   "cell_type": "markdown",
   "metadata": {},
   "source": [
    "Vous pouvez également regarder la fonction *genfromtxt*."
   ]
  },
  {
   "cell_type": "markdown",
   "metadata": {
    "internals": {
     "slide_type": "subslide"
    },
    "nbpresent": {
     "id": "9dfc87d9-f3f6-45cd-9697-e9d7f2c7cc37"
    },
    "slideshow": {
     "slide_type": "subslide"
    }
   },
   "source": [
    "### savetxt"
   ]
  },
  {
   "cell_type": "code",
   "execution_count": 51,
   "metadata": {
    "collapsed": false,
    "internals": {},
    "nbpresent": {
     "id": "83b7cf08-f615-4f8d-a83a-c1a7d80d4973"
    },
    "slideshow": {
     "slide_type": "-"
    }
   },
   "outputs": [
    {
     "name": "stdout",
     "output_type": "stream",
     "text": [
      "0.000000000000000000e+00\n",
      "1.000000000000000000e+00\n",
      "2.000000000000000000e+00\n",
      "3.000000000000000000e+00\n",
      "4.000000000000000000e+00\n",
      "----------\n",
      "0.000000000000000000e+00 1.000000000000000000e+00 2.000000000000000000e+00 3.000000000000000000e+00 4.000000000000000000e+00\n",
      "0.000000000000000000e+00 1.000000000000000000e+00 2.000000000000000000e+00 3.000000000000000000e+00 4.000000000000000000e+00\n",
      "0.000000000000000000e+00 1.000000000000000000e+00 2.000000000000000000e+00 3.000000000000000000e+00 4.000000000000000000e+00\n",
      "----------\n",
      "0.0000e+00\n",
      "1.0000e+00\n",
      "2.0000e+00\n",
      "3.0000e+00\n",
      "4.0000e+00\n"
     ]
    }
   ],
   "source": [
    "x = y = z = np.arange(0.0, 5.0, 1.0)\n",
    "\n",
    "np.savetxt('test.out', x, delimiter=',')\n",
    "!cat 'test.out'\n",
    "print('-'*10)\n",
    "\n",
    "np.savetxt('test.out', (x, y, z)) \n",
    "!cat 'test.out'\n",
    "print('-'*10)\n",
    "\n",
    "np.savetxt('test.out', x, fmt='%1.4e')\n",
    "!cat 'test.out'"
   ]
  },
  {
   "cell_type": "markdown",
   "metadata": {
    "internals": {
     "slide_helper": "subslide_end"
    },
    "nbpresent": {
     "id": "0a0e8f64-5fdd-4b3d-995c-ae561eed7d2b"
    },
    "slide_helper": "slide_end",
    "slideshow": {
     "slide_type": "-"
    }
   },
   "source": [
    "*Remarque*: tous les exemples d'entrées-sorties ont été pris dans le guide de référence de numpy (voir [ici](http://docs.scipy.org/doc/numpy/reference/routines.io.html))."
   ]
  },
  {
   "cell_type": "markdown",
   "metadata": {
    "internals": {
     "slide_type": "subslide"
    },
    "nbpresent": {
     "id": "e2310c56-cce4-425f-b24e-9c933d0a8954"
    },
    "slideshow": {
     "slide_type": "slide"
    }
   },
   "source": [
    "### Options pour l'affichage des tableaux"
   ]
  },
  {
   "cell_type": "code",
   "execution_count": 52,
   "metadata": {
    "collapsed": false,
    "internals": {},
    "nbpresent": {
     "id": "aa06475f-c502-469c-8d98-3c5b01e7983b"
    },
    "slideshow": {
     "slide_type": "-"
    }
   },
   "outputs": [
    {
     "name": "stdout",
     "output_type": "stream",
     "text": [
      "[ 0.          0.84147098  0.90929743]\n"
     ]
    }
   ],
   "source": [
    "a  = np.sin(np.arange(3))\n",
    "print(a)"
   ]
  },
  {
   "cell_type": "code",
   "execution_count": 53,
   "metadata": {
    "collapsed": false,
    "internals": {
     "slide_helper": "subslide_end"
    },
    "nbpresent": {
     "id": "a822c485-c551-442a-b1ce-1a61c0ce1db0"
    },
    "slide_helper": "slide_end",
    "slideshow": {
     "slide_type": "-"
    }
   },
   "outputs": [
    {
     "name": "stdout",
     "output_type": "stream",
     "text": [
      "[ 0.    0.84  0.91]\n"
     ]
    }
   ],
   "source": [
    "import sys\n",
    "np.set_printoptions(precision=2, threshold=sys.maxsize)\n",
    "print(a)"
   ]
  },
  {
   "cell_type": "code",
   "execution_count": 60,
   "metadata": {
    "collapsed": false
   },
   "outputs": [
    {
     "data": {
      "text/html": [
       "<link href='http://fonts.googleapis.com/css?family=Oswald' rel='stylesheet' type='text/css'>\n",
       "<link href='http://fonts.googleapis.com/css?family=Lora:400,400italic' rel='stylesheet' type='text/css'>\n",
       "<link href='http://fonts.googleapis.com/css?family=Open+Sans:300' rel='stylesheet' type='text/css'>\n",
       "<link href='http://fonts.googleapis.com/css?family=Alegreya+Sans:100,300,400,500,700,800,900,100italic,300italic,400italic,500italic,700italic,800italic,900italic' rel='stylesheet' type='text/css'>\n",
       "\n",
       "<style>\n",
       "\n",
       "h1, h2, h3, h4, h5 {\n",
       "    font-family: 'Alegreya Sans', sans-serif;\n",
       "}\n",
       "\n",
       "div.text_cell_render{\n",
       "    font-family: 'Alegreya Sans',Computer Modern, \"Helvetica Neue\", Arial, Helvetica, Geneva, sans-serif;\n",
       "    line-height: 135%;\n",
       "    font-size: 140%;\n",
       "    width:100%;/*600px;*/\n",
       "    /*margin-left:auto;*/\n",
       "    /*margin-right:auto;*/\n",
       "}\n",
       "/*div.text_cell_render{font-family: \"Open Sans\", sans-serif;font-weight: normal; line-height:normal;}*/\n",
       "\n",
       "/* header colours and fonts */\n",
       ".rendered_html h1 {\n",
       "    color:#9A3334;\n",
       "    /*margin-top: 0.5em;*/\n",
       "    padding: 1em;\n",
       "    display: block;\n",
       "    font-size: 40px;\n",
       "    text-align: center;\n",
       "    border-top: 2px solid #9A3334;\n",
       "    border-bottom: 2px solid #9A3334;\n",
       "}\n",
       "\n",
       "/*.rendered_html h1 { color: #9A3334; font-family: Lora, sans-serif; font-weight: normal; text-align: center; }*/\n",
       ".rendered_html h2 {\n",
       "    color: #9A3334;\n",
       "    /*font-family: Lora, sans-serif;*/\n",
       "    font-style: italic;\n",
       "    font-weight: normal;\n",
       "    font-size: 30px;\n",
       "    /*text-align: center;*/\n",
       "    border-bottom: 1px solid #9A3334;\n",
       "}\n",
       ".rendered_html h3 {\n",
       "    color: #9A3334;\n",
       "    /*font-family: Lora, sans-serif;*/\n",
       "    font-weight: normal;\n",
       "    font-size: 25px;\n",
       "    font-style: italic;\n",
       "}\n",
       "\n",
       ".rendered_html h4 {\n",
       "    border: 2px solid #9A3334;\n",
       "    border-radius: 25px;\n",
       "    font-style: italic;\n",
       "    height:5%;\n",
       "    width:20%;\n",
       "    padding:5px;\n",
       "    text-align: center;\n",
       "}\n",
       "\n",
       "div.prompt {\n",
       "    display: None;\n",
       "}\n",
       "\n",
       "/* center the images */\n",
       ".ui-wrapper {\n",
       "    margin-left: auto !important;\n",
       "    margin-right: auto !important;\n",
       "}\n",
       "\n",
       "/* center the images */\n",
       ".video {\n",
       "    margin-left: auto !important;\n",
       "    margin-right: auto !important;\n",
       "}\n",
       "\n",
       ".rendered_html img {\n",
       "    margin-top: 0em;\n",
       "}\n",
       "\n",
       "div.input_area {\n",
       "    border-radius: 10px;\n",
       "}\n",
       "\n",
       ".reveal h1 {\n",
       "    font-size: 70px;\n",
       "    text-shadow: 10px 10px 10px rgba(0, 0, 0, 0.5);\n",
       "}\n",
       "\n",
       ".reveal h2 {\n",
       "    font-size: 50px;\n",
       "    text-shadow: 10px 10px 10px rgba(0, 0, 0, 0.5);\n",
       "}\n",
       "\n",
       ".reveal h3 {\n",
       "    font-size: 50px;\n",
       "    \n",
       "}\n",
       "\n",
       "</style>"
      ],
      "text/plain": [
       "<IPython.core.display.HTML object>"
      ]
     },
     "execution_count": 60,
     "metadata": {},
     "output_type": "execute_result"
    }
   ],
   "source": [
    "# execute this part to modify the css style\n",
    "from IPython.core.display import HTML\n",
    "def css_styling():\n",
    "    styles = open(\"../../styles/custom.css\", \"r\").read()\n",
    "    return HTML(styles)\n",
    "css_styling()"
   ]
  }
 ],
 "metadata": {
  "kernelspec": {
   "display_name": "Python 3",
   "language": "python",
   "name": "python3"
  },
  "language_info": {
   "codemirror_mode": {
    "name": "ipython",
    "version": 3
   },
   "file_extension": ".py",
   "mimetype": "text/x-python",
   "name": "python",
   "nbconvert_exporter": "python",
   "pygments_lexer": "ipython3",
   "version": "3.3.5"
  },
  "nbpresent": {
   "slides": {
    "00115030-acc2-4ce0-b687-c297dc33003e": {
     "id": "00115030-acc2-4ce0-b687-c297dc33003e",
     "prev": null,
     "regions": {
      "2d6dd9b4-f1bb-426a-a34b-04d8635695ae": {
       "attrs": {
        "height": 0.8,
        "width": 0.8,
        "x": 0.09357142857142858,
        "y": 0.11
       },
       "content": {
        "cell": "41d10b80-9377-4107-a3b3-1e97f8374165",
        "part": "whole"
       },
       "id": "2d6dd9b4-f1bb-426a-a34b-04d8635695ae"
      }
     }
    },
    "07256719-cec1-426a-b919-6f5314c3b7d9": {
     "id": "07256719-cec1-426a-b919-6f5314c3b7d9",
     "prev": "ac510ef8-d7c5-433f-a3f3-354dded372b5",
     "regions": {
      "2bfa3bd4-45e7-473b-afbf-b0606a83f9a9": {
       "attrs": {
        "height": 0.8,
        "width": 0.8,
        "x": 0.1,
        "y": 0.1
       },
       "content": {
        "cell": "46bdf8a4-be6d-4289-82c5-6461ea4ec369",
        "part": "whole"
       },
       "id": "2bfa3bd4-45e7-473b-afbf-b0606a83f9a9"
      }
     }
    },
    "09211644-03af-4c76-baef-71e06ae4343a": {
     "id": "09211644-03af-4c76-baef-71e06ae4343a",
     "prev": "6b719719-d1e9-4244-b7a9-1d88ed3ae8e2",
     "regions": {
      "8cd4947a-ea3b-458b-b338-ff498967dad7": {
       "attrs": {
        "height": 0.8,
        "width": 0.8,
        "x": 0.1,
        "y": 0.1
       },
       "content": {
        "cell": "beb3f9cb-bd11-4617-9250-e369c738b02f",
        "part": "whole"
       },
       "id": "8cd4947a-ea3b-458b-b338-ff498967dad7"
      }
     }
    },
    "0921f710-7e43-4772-80e6-f0515ae3539d": {
     "id": "0921f710-7e43-4772-80e6-f0515ae3539d",
     "prev": "3e0447fe-0607-4ec0-b720-19a58e6f2e24",
     "regions": {
      "013e4de3-4401-4bc1-9fb9-a9fa46cb008c": {
       "attrs": {
        "height": 0.8,
        "width": 0.8,
        "x": 0.1,
        "y": 0.1
       },
       "content": {
        "cell": "c787f04c-a4fe-4c62-8c45-9b459b329304",
        "part": "whole"
       },
       "id": "013e4de3-4401-4bc1-9fb9-a9fa46cb008c"
      },
      "4fb062be-de21-4506-b54a-de93be2ec1db": {
       "attrs": {
        "height": 0.4,
        "width": 0.8,
        "x": 0.1,
        "y": 0.5
       },
       "content": {
        "cell": "d54af2e9-ed99-497b-9fda-75c4a03d91c8",
        "part": "whole"
       },
       "id": "4fb062be-de21-4506-b54a-de93be2ec1db"
      }
     }
    },
    "10013fb7-2dd5-4d8e-a308-221918b12c18": {
     "id": "10013fb7-2dd5-4d8e-a308-221918b12c18",
     "prev": "876f135e-cf71-4573-9c9c-b0b602fe3969",
     "regions": {
      "867ef369-b8dd-4577-a111-bfc7755d8790": {
       "attrs": {
        "height": 0.4,
        "width": 0.8,
        "x": 0.1,
        "y": 0.5
       },
       "content": {
        "cell": "bcdf74b2-da73-4237-a9fa-d0834cbf75e9",
        "part": "whole"
       },
       "id": "867ef369-b8dd-4577-a111-bfc7755d8790"
      },
      "c64cfdcf-749c-4a73-a76e-bb33e7ed056e": {
       "attrs": {
        "height": 0.8,
        "width": 0.8,
        "x": 0.1,
        "y": 0.1
       },
       "content": {
        "cell": "2d5e5ae1-ad8f-44b0-90ac-2f9089e0beae",
        "part": "whole"
       },
       "id": "c64cfdcf-749c-4a73-a76e-bb33e7ed056e"
      },
      "d63f63a4-0b00-4e7f-bd4a-6df8b12d5b82": {
       "attrs": {
        "height": 0.4,
        "width": 0.8,
        "x": 0.1,
        "y": 0.5
       },
       "content": {
        "cell": "a5f5f454-adce-4ed9-9b14-fb68d0446d04",
        "part": "whole"
       },
       "id": "d63f63a4-0b00-4e7f-bd4a-6df8b12d5b82"
      },
      "da796a51-c169-405f-91d3-d6952d00fea5": {
       "attrs": {
        "height": 0.4,
        "width": 0.8,
        "x": 0.1,
        "y": 0.5
       },
       "content": {
        "cell": "703d9142-ab2c-489a-8463-2e51ef2c1651",
        "part": "whole"
       },
       "id": "da796a51-c169-405f-91d3-d6952d00fea5"
      },
      "e6ce494b-0cde-4f6d-b1f9-1f4fef81104e": {
       "attrs": {
        "height": 0.4,
        "width": 0.8,
        "x": 0.1,
        "y": 0.5
       },
       "content": {
        "cell": "f4b61255-61c3-45a4-91df-0b06129f7bd2",
        "part": "whole"
       },
       "id": "e6ce494b-0cde-4f6d-b1f9-1f4fef81104e"
      }
     }
    },
    "103bde4e-124f-49ab-a447-83f0ae2f1328": {
     "id": "103bde4e-124f-49ab-a447-83f0ae2f1328",
     "prev": "b0ad59a4-eab4-466c-812b-a660af81daed",
     "regions": {
      "67612585-7c8c-4224-8be2-b33af54aa5be": {
       "attrs": {
        "height": 0.8,
        "width": 0.8,
        "x": 0.1,
        "y": 0.1
       },
       "content": {
        "cell": "f2488baa-9371-4dbd-aab2-f34e682c6738",
        "part": "whole"
       },
       "id": "67612585-7c8c-4224-8be2-b33af54aa5be"
      }
     }
    },
    "1e4848bd-a3b8-4262-8a7f-2e5a3d9d9262": {
     "id": "1e4848bd-a3b8-4262-8a7f-2e5a3d9d9262",
     "prev": "c6090a02-e1ae-418b-8076-c6a3fb704ec3",
     "regions": {
      "0baec772-7e83-407b-9443-0143d52b2fae": {
       "attrs": {
        "height": 0.4,
        "width": 0.8,
        "x": 0.1,
        "y": 0.5
       },
       "content": {
        "cell": "09479912-6b3f-40ac-8b65-2875339e23af",
        "part": "whole"
       },
       "id": "0baec772-7e83-407b-9443-0143d52b2fae"
      },
      "95db5d5a-0d39-4e76-b3e1-37166ccd1b0f": {
       "attrs": {
        "height": 0.8,
        "width": 0.8,
        "x": 0.1,
        "y": 0.1
       },
       "content": {
        "cell": "613c7524-0beb-4d00-a143-b5ef382903d5",
        "part": "whole"
       },
       "id": "95db5d5a-0d39-4e76-b3e1-37166ccd1b0f"
      }
     }
    },
    "20cf76df-c29e-441a-9a34-a29ad21f7bc4": {
     "id": "20cf76df-c29e-441a-9a34-a29ad21f7bc4",
     "prev": "8d58aae4-0d90-40b8-8f1b-7d4dcf605e59",
     "regions": {
      "aad14545-0a1e-4a27-bc41-72ee2a828f4a": {
       "attrs": {
        "height": 0.8,
        "width": 0.8,
        "x": 0.1,
        "y": 0.1
       },
       "content": {
        "cell": "b39339bd-3399-4080-83ae-e17cc0b2033c",
        "part": "whole"
       },
       "id": "aad14545-0a1e-4a27-bc41-72ee2a828f4a"
      }
     }
    },
    "297b6d4e-d972-4b61-a7cd-9a18bf870ee7": {
     "id": "297b6d4e-d972-4b61-a7cd-9a18bf870ee7",
     "prev": "f6bd5d51-cfa7-4b0c-96d3-b5c0815fa56f",
     "regions": {
      "5554351e-d7e1-42b4-a370-9ce4eb95bf3c": {
       "attrs": {
        "height": 0.4,
        "width": 0.8,
        "x": 0.1,
        "y": 0.5
       },
       "content": {
        "cell": "4d8af4a0-e0ac-4600-bcdd-4d81af35354b",
        "part": "whole"
       },
       "id": "5554351e-d7e1-42b4-a370-9ce4eb95bf3c"
      },
      "df5ca306-692d-4586-a39d-a4cbcbf5a2c3": {
       "attrs": {
        "height": 0.8,
        "width": 0.8,
        "x": 0.1,
        "y": 0.1
       },
       "content": {
        "cell": "14af9254-e554-480e-9f96-e9b070d25a50",
        "part": "whole"
       },
       "id": "df5ca306-692d-4586-a39d-a4cbcbf5a2c3"
      }
     }
    },
    "321a695d-4b60-4f6f-92ce-fd34505a0105": {
     "id": "321a695d-4b60-4f6f-92ce-fd34505a0105",
     "layout": "grid",
     "prev": "00115030-acc2-4ce0-b687-c297dc33003e",
     "regions": {
      "be317c45-7a82-4ba2-b3de-ce1bd23f6a70": {
       "attrs": {
        "height": 0.8333333333333334,
        "pad": 0.01,
        "width": 0.8333333333333334,
        "x": 0.08333333333333333,
        "y": 0.08333333333333333
       },
       "content": {
        "cell": "5b7b7dcb-d90b-4966-a9a0-8e22bb4e38e5",
        "part": "whole"
       },
       "id": "be317c45-7a82-4ba2-b3de-ce1bd23f6a70"
      }
     }
    },
    "367c32ec-ccde-4082-8d2a-6639677fd72c": {
     "id": "367c32ec-ccde-4082-8d2a-6639677fd72c",
     "prev": "e08b416a-82b9-4be9-bedf-dd44a7149cc4",
     "regions": {
      "101381fe-4039-4fcf-92b0-8af7b37405cb": {
       "attrs": {
        "height": 0.4,
        "width": 0.8,
        "x": 0.1,
        "y": 0.5
       },
       "content": {
        "cell": "2d25fe0c-2af7-4104-9c46-45f4e0b67801",
        "part": "whole"
       },
       "id": "101381fe-4039-4fcf-92b0-8af7b37405cb"
      },
      "3252b1df-0fd9-42b7-8cd3-b593f20f2a5a": {
       "attrs": {
        "height": 0.8,
        "width": 0.8,
        "x": 0.1,
        "y": 0.1
       },
       "content": {
        "cell": "c8141670-3e51-407a-bd9a-7d8078e52813",
        "part": "whole"
       },
       "id": "3252b1df-0fd9-42b7-8cd3-b593f20f2a5a"
      },
      "7b32a14c-926a-411b-b14b-50e9f91430ff": {
       "attrs": {
        "height": 0.4,
        "width": 0.8,
        "x": 0.1,
        "y": 0.5
       },
       "content": {
        "cell": "c7b170ad-5d5a-48a1-8858-9be76be8344e",
        "part": "whole"
       },
       "id": "7b32a14c-926a-411b-b14b-50e9f91430ff"
      },
      "a1115d40-873c-4f62-860d-ffb3db128080": {
       "attrs": {
        "height": 0.4,
        "width": 0.8,
        "x": 0.1,
        "y": 0.5
       },
       "content": {
        "cell": "5d667bff-3fe6-4b0d-9b3b-edf23a31f518",
        "part": "whole"
       },
       "id": "a1115d40-873c-4f62-860d-ffb3db128080"
      }
     }
    },
    "3e0447fe-0607-4ec0-b720-19a58e6f2e24": {
     "id": "3e0447fe-0607-4ec0-b720-19a58e6f2e24",
     "prev": "b6b7238c-9473-4e0c-be7c-e755e23c96b0",
     "regions": {
      "1dbf2983-e004-401e-83d8-015765502041": {
       "attrs": {
        "height": 0.4,
        "width": 0.8,
        "x": 0.1,
        "y": 0.5
       },
       "content": {
        "cell": "9e78dca0-f868-4ea6-8d14-5c39575bb4ee",
        "part": "whole"
       },
       "id": "1dbf2983-e004-401e-83d8-015765502041"
      },
      "257cf505-4218-4d31-a77d-0b0a31d29add": {
       "attrs": {
        "height": 0.4,
        "width": 0.8,
        "x": 0.1,
        "y": 0.5
       },
       "content": {
        "cell": "7cb24ee6-d1dc-48db-bb5c-7c275600e892",
        "part": "whole"
       },
       "id": "257cf505-4218-4d31-a77d-0b0a31d29add"
      },
      "3de92333-7b21-45e2-a004-f86560cad177": {
       "attrs": {
        "height": 0.4,
        "width": 0.8,
        "x": 0.1,
        "y": 0.5
       },
       "content": {
        "cell": "7d591158-0ac2-4133-a1c1-8fc00a4bcc68",
        "part": "whole"
       },
       "id": "3de92333-7b21-45e2-a004-f86560cad177"
      },
      "972f8639-f1a4-4649-938c-36f18e21ba0c": {
       "attrs": {
        "height": 0.4,
        "width": 0.8,
        "x": 0.1,
        "y": 0.5
       },
       "content": {
        "cell": "dd2a2e43-6d9a-4141-b40a-b6c20fa75a32",
        "part": "whole"
       },
       "id": "972f8639-f1a4-4649-938c-36f18e21ba0c"
      },
      "b57ceb7f-c09d-41a2-bae3-426675931e51": {
       "attrs": {
        "height": 0.8,
        "width": 0.8,
        "x": 0.1,
        "y": 0.1
       },
       "content": {
        "cell": "2c10866a-8198-4364-ba2c-3befdb9f76e2",
        "part": "whole"
       },
       "id": "b57ceb7f-c09d-41a2-bae3-426675931e51"
      },
      "ca328822-8a3e-458c-bff5-a7fcd932ddf9": {
       "attrs": {
        "height": 0.4,
        "width": 0.8,
        "x": 0.1,
        "y": 0.5
       },
       "content": {
        "cell": "00d715eb-86cc-4645-8110-23faac401048",
        "part": "whole"
       },
       "id": "ca328822-8a3e-458c-bff5-a7fcd932ddf9"
      }
     }
    },
    "4bb83d5e-9b82-4d70-b62d-c0c0ea6a7096": {
     "id": "4bb83d5e-9b82-4d70-b62d-c0c0ea6a7096",
     "prev": "321a695d-4b60-4f6f-92ce-fd34505a0105",
     "regions": {
      "9a5292e4-7275-4428-9dea-4f595cea0d32": {
       "attrs": {
        "height": 0.8,
        "width": 0.8,
        "x": 0.1,
        "y": 0.1
       },
       "content": {
        "cell": "4df4322f-933d-4792-8b51-3458d2709abd",
        "part": "whole"
       },
       "id": "9a5292e4-7275-4428-9dea-4f595cea0d32"
      },
      "bbca789a-5aae-4e26-b073-9ee04ab60cc9": {
       "attrs": {
        "height": 0.4,
        "width": 0.8,
        "x": 0.1,
        "y": 0.5
       },
       "content": {
        "cell": "0d0e1c5d-06a6-464b-af74-894e4472bb60",
        "part": "whole"
       },
       "id": "bbca789a-5aae-4e26-b073-9ee04ab60cc9"
      },
      "be7bf170-06c2-4aa3-ba3c-7886c734ce6f": {
       "attrs": {
        "height": 0.4,
        "width": 0.8,
        "x": 0.1,
        "y": 0.5
       },
       "content": {
        "cell": "13c7cdcf-647a-42ab-a36e-40102aa2ac89",
        "part": "whole"
       },
       "id": "be7bf170-06c2-4aa3-ba3c-7886c734ce6f"
      }
     }
    },
    "545abe78-c4e7-4613-92b9-546540d0f137": {
     "id": "545abe78-c4e7-4613-92b9-546540d0f137",
     "prev": "b216cfea-67e2-4c50-bea1-1734320851f9",
     "regions": {
      "372b2cee-6b40-4494-bb4e-70b4aa6c2bde": {
       "attrs": {
        "height": 0.8,
        "width": 0.8,
        "x": 0.1,
        "y": 0.1
       },
       "content": {
        "cell": "910450fd-fc6b-42d7-b93d-9578465bf2b8",
        "part": "whole"
       },
       "id": "372b2cee-6b40-4494-bb4e-70b4aa6c2bde"
      },
      "9b702821-582c-4768-a2f0-4c7c790a5c5d": {
       "attrs": {
        "height": 0.4,
        "width": 0.8,
        "x": 0.1,
        "y": 0.5
       },
       "content": {
        "cell": "0291bb39-d992-4ece-b3f8-cbdca6f8811b",
        "part": "whole"
       },
       "id": "9b702821-582c-4768-a2f0-4c7c790a5c5d"
      }
     }
    },
    "54d212ca-fa03-43f6-a2bc-d83cc59ebabc": {
     "id": "54d212ca-fa03-43f6-a2bc-d83cc59ebabc",
     "prev": "7c90deae-9f21-464f-a78a-d898e20f6b33",
     "regions": {
      "5627fc84-a455-4c84-a0c0-839e5bfa9472": {
       "attrs": {
        "height": 0.4,
        "width": 0.8,
        "x": 0.1,
        "y": 0.5
       },
       "content": {
        "cell": "aa06475f-c502-469c-8d98-3c5b01e7983b",
        "part": "whole"
       },
       "id": "5627fc84-a455-4c84-a0c0-839e5bfa9472"
      },
      "ab0afd4a-66d3-49ac-8d40-ad25e7dd4621": {
       "attrs": {
        "height": 0.8,
        "width": 0.8,
        "x": 0.1,
        "y": 0.1
       },
       "content": {
        "cell": "e2310c56-cce4-425f-b24e-9c933d0a8954",
        "part": "whole"
       },
       "id": "ab0afd4a-66d3-49ac-8d40-ad25e7dd4621"
      },
      "b0942819-1935-49e8-ba8d-e728885dbeb1": {
       "attrs": {
        "height": 0.4,
        "width": 0.8,
        "x": 0.1,
        "y": 0.5
       },
       "content": {
        "cell": "a822c485-c551-442a-b1ce-1a61c0ce1db0",
        "part": "whole"
       },
       "id": "b0942819-1935-49e8-ba8d-e728885dbeb1"
      }
     }
    },
    "6a6d5d94-e09c-434f-9985-ec49e3beea18": {
     "id": "6a6d5d94-e09c-434f-9985-ec49e3beea18",
     "prev": "4bb83d5e-9b82-4d70-b62d-c0c0ea6a7096",
     "regions": {
      "9d76fa18-a614-4dd7-9f6c-8bde33acba13": {
       "attrs": {
        "height": 0.8,
        "width": 0.8,
        "x": 0.1,
        "y": 0.1
       },
       "content": {
        "cell": "60ef98df-cecf-4b31-93e3-ed1cc255e521",
        "part": "whole"
       },
       "id": "9d76fa18-a614-4dd7-9f6c-8bde33acba13"
      }
     }
    },
    "6b719719-d1e9-4244-b7a9-1d88ed3ae8e2": {
     "id": "6b719719-d1e9-4244-b7a9-1d88ed3ae8e2",
     "prev": "367c32ec-ccde-4082-8d2a-6639677fd72c",
     "regions": {
      "5e56c762-f781-46ce-919f-126e990004b9": {
       "attrs": {
        "height": 0.4,
        "width": 0.8,
        "x": 0.1,
        "y": 0.5
       },
       "content": {
        "cell": "251d0043-0833-4134-be55-6e3de32524d3",
        "part": "whole"
       },
       "id": "5e56c762-f781-46ce-919f-126e990004b9"
      },
      "f4807ea8-95d8-4d19-8ee2-fa7aef3d1616": {
       "attrs": {
        "height": 0.8,
        "width": 0.8,
        "x": 0.1,
        "y": 0.1
       },
       "content": {
        "cell": "3a3cb8de-521e-4bf6-9749-0807e558fbc7",
        "part": "whole"
       },
       "id": "f4807ea8-95d8-4d19-8ee2-fa7aef3d1616"
      }
     }
    },
    "73f09ceb-8b82-4f7a-b7eb-c6ea2fd2f109": {
     "id": "73f09ceb-8b82-4f7a-b7eb-c6ea2fd2f109",
     "prev": "aad2a1a0-8c75-4e5f-bc57-4b9536429781",
     "regions": {
      "0b62fbbe-5c56-4dad-9b14-a286cf7bda13": {
       "attrs": {
        "height": 0.8,
        "width": 0.8,
        "x": 0.1,
        "y": 0.1
       },
       "content": {
        "cell": "d13fda6e-3598-4723-8dbe-a59c14fef850",
        "part": "whole"
       },
       "id": "0b62fbbe-5c56-4dad-9b14-a286cf7bda13"
      }
     }
    },
    "7c90deae-9f21-464f-a78a-d898e20f6b33": {
     "id": "7c90deae-9f21-464f-a78a-d898e20f6b33",
     "prev": "84021d99-37ae-442b-9530-5d53d49c9ef2",
     "regions": {
      "507a8195-8e21-4a22-98d1-5f1651946e95": {
       "attrs": {
        "height": 0.8,
        "width": 0.8,
        "x": 0.1,
        "y": 0.1
       },
       "content": {
        "cell": "9dfc87d9-f3f6-45cd-9697-e9d7f2c7cc37",
        "part": "whole"
       },
       "id": "507a8195-8e21-4a22-98d1-5f1651946e95"
      },
      "669ab04c-dd65-4f88-b995-c9cc43ac595e": {
       "attrs": {
        "height": 0.4,
        "width": 0.8,
        "x": 0.1,
        "y": 0.5
       },
       "content": {
        "cell": "0a0e8f64-5fdd-4b3d-995c-ae561eed7d2b",
        "part": "whole"
       },
       "id": "669ab04c-dd65-4f88-b995-c9cc43ac595e"
      },
      "9a0d1679-a40e-4d56-9da8-e73e7e8f3c86": {
       "attrs": {
        "height": 0.4,
        "width": 0.8,
        "x": 0.1,
        "y": 0.5
       },
       "content": {
        "cell": "83b7cf08-f615-4f8d-a83a-c1a7d80d4973",
        "part": "whole"
       },
       "id": "9a0d1679-a40e-4d56-9da8-e73e7e8f3c86"
      }
     }
    },
    "7eff986e-ccc5-414b-a1ef-55f4d3d97d27": {
     "id": "7eff986e-ccc5-414b-a1ef-55f4d3d97d27",
     "prev": "09211644-03af-4c76-baef-71e06ae4343a",
     "regions": {
      "656056a1-ed53-4c37-921b-3e3f7efa0404": {
       "attrs": {
        "height": 0.8,
        "width": 0.8,
        "x": 0.1,
        "y": 0.1
       },
       "content": {
        "cell": "a125d6c4-9cb1-4d7a-aa2b-f7ee496411da",
        "part": "whole"
       },
       "id": "656056a1-ed53-4c37-921b-3e3f7efa0404"
      }
     }
    },
    "816631eb-d625-4f8e-99c0-28dca868123b": {
     "id": "816631eb-d625-4f8e-99c0-28dca868123b",
     "prev": "ba4ceea3-88b0-4caf-a557-fb52687eb87b",
     "regions": {
      "9fc75093-311c-4936-9448-3f97ca89e12b": {
       "attrs": {
        "height": 0.4,
        "width": 0.8,
        "x": 0.1,
        "y": 0.5
       },
       "content": {
        "cell": "08eadf7a-6dd3-485c-9300-a843c2dd5e81",
        "part": "whole"
       },
       "id": "9fc75093-311c-4936-9448-3f97ca89e12b"
      },
      "ffa7cd35-92a4-4f42-835e-753b035f4b69": {
       "attrs": {
        "height": 0.8,
        "width": 0.8,
        "x": 0.1,
        "y": 0.1
       },
       "content": {
        "cell": "f7f568e9-b642-4a05-8374-346e6e2e8b7a",
        "part": "whole"
       },
       "id": "ffa7cd35-92a4-4f42-835e-753b035f4b69"
      }
     }
    },
    "8375bc40-f862-4592-8a5d-f127881407eb": {
     "id": "8375bc40-f862-4592-8a5d-f127881407eb",
     "prev": "f27c73c7-8fed-4fce-a2ab-9c59fba63584",
     "regions": {
      "96ba6a44-003b-481a-aff3-4fb911887a10": {
       "attrs": {
        "height": 0.8,
        "width": 0.8,
        "x": 0.1,
        "y": 0.1
       },
       "content": {
        "cell": "4f0e5729-14a5-4c6f-860a-65fb88055209",
        "part": "whole"
       },
       "id": "96ba6a44-003b-481a-aff3-4fb911887a10"
      },
      "bda23f69-c61f-468c-98f7-b18c4da27ed8": {
       "attrs": {
        "height": 0.4,
        "width": 0.8,
        "x": 0.1,
        "y": 0.5
       },
       "content": {
        "cell": "5a60a2b0-ad01-4b55-a9e8-9f58ca9ebc62",
        "part": "whole"
       },
       "id": "bda23f69-c61f-468c-98f7-b18c4da27ed8"
      }
     }
    },
    "84021d99-37ae-442b-9530-5d53d49c9ef2": {
     "id": "84021d99-37ae-442b-9530-5d53d49c9ef2",
     "prev": "e3f97b4f-37b7-4176-a4ce-e7492b25dcfb",
     "regions": {
      "40ee7206-925a-4a9e-8e33-600d452c4bb1": {
       "attrs": {
        "height": 0.4,
        "width": 0.8,
        "x": 0.1,
        "y": 0.5
       },
       "content": {
        "cell": "2fb70058-4d84-4cbe-ae45-08d9c686721b",
        "part": "whole"
       },
       "id": "40ee7206-925a-4a9e-8e33-600d452c4bb1"
      },
      "967374c9-da22-48fe-8292-565e4df1b75a": {
       "attrs": {
        "height": 0.8,
        "width": 0.8,
        "x": 0.1,
        "y": 0.1
       },
       "content": {
        "cell": "a9301b83-06e3-43dd-9843-5ce9957a4525",
        "part": "whole"
       },
       "id": "967374c9-da22-48fe-8292-565e4df1b75a"
      }
     }
    },
    "876f135e-cf71-4573-9c9c-b0b602fe3969": {
     "id": "876f135e-cf71-4573-9c9c-b0b602fe3969",
     "prev": "0921f710-7e43-4772-80e6-f0515ae3539d",
     "regions": {
      "9bad803b-75f5-4ff5-9da1-a97614658bad": {
       "attrs": {
        "height": 0.8,
        "width": 0.8,
        "x": 0.1,
        "y": 0.1
       },
       "content": {
        "cell": "e0ccb0cb-14e3-4a53-b416-7eec102a9c36",
        "part": "whole"
       },
       "id": "9bad803b-75f5-4ff5-9da1-a97614658bad"
      }
     }
    },
    "87fbf85f-b8d2-44a3-bc37-9b4c08225d90": {
     "id": "87fbf85f-b8d2-44a3-bc37-9b4c08225d90",
     "prev": "7eff986e-ccc5-414b-a1ef-55f4d3d97d27",
     "regions": {
      "8df3e3f7-cbb1-45a9-8d39-f5e2c6cbb2cf": {
       "attrs": {
        "height": 0.4,
        "width": 0.8,
        "x": 0.1,
        "y": 0.5
       },
       "content": {
        "cell": "37b659a4-fe85-4f8d-b981-d6d9e89fed6c",
        "part": "whole"
       },
       "id": "8df3e3f7-cbb1-45a9-8d39-f5e2c6cbb2cf"
      },
      "a91a2ea1-d471-4a0c-b4d4-520319cdd451": {
       "attrs": {
        "height": 0.8,
        "width": 0.8,
        "x": 0.1,
        "y": 0.1
       },
       "content": {
        "cell": "a6944a1c-521c-4e77-992f-3dd754afb52d",
        "part": "whole"
       },
       "id": "a91a2ea1-d471-4a0c-b4d4-520319cdd451"
      }
     }
    },
    "8d58aae4-0d90-40b8-8f1b-7d4dcf605e59": {
     "id": "8d58aae4-0d90-40b8-8f1b-7d4dcf605e59",
     "prev": "87fbf85f-b8d2-44a3-bc37-9b4c08225d90",
     "regions": {
      "917bffa5-483a-4907-bf85-ee3e8448cfa7": {
       "attrs": {
        "height": 0.8,
        "width": 0.8,
        "x": 0.1,
        "y": 0.1
       },
       "content": {
        "cell": "1e96c7ae-1182-4e2f-94ae-517350514c9a",
        "part": "whole"
       },
       "id": "917bffa5-483a-4907-bf85-ee3e8448cfa7"
      },
      "b25c22d5-6fc5-4cc3-a376-8d07d418e6cb": {
       "attrs": {
        "height": 0.4,
        "width": 0.8,
        "x": 0.1,
        "y": 0.5
       },
       "content": {
        "cell": "2b0f0b75-a203-4b88-9993-24907127113e",
        "part": "whole"
       },
       "id": "b25c22d5-6fc5-4cc3-a376-8d07d418e6cb"
      }
     }
    },
    "9d18b2da-e1e4-4809-a078-8e2d0f370a60": {
     "id": "9d18b2da-e1e4-4809-a078-8e2d0f370a60",
     "prev": "20cf76df-c29e-441a-9a34-a29ad21f7bc4",
     "regions": {
      "71c2b227-cadc-41ff-ad3c-5c2c549b23b9": {
       "attrs": {
        "height": 0.8,
        "width": 0.8,
        "x": 0.1,
        "y": 0.1
       },
       "content": {
        "cell": "90ce83ab-74f0-44c5-8dec-474774290c0c",
        "part": "whole"
       },
       "id": "71c2b227-cadc-41ff-ad3c-5c2c549b23b9"
      }
     }
    },
    "9dcf6e32-e060-4216-acb0-4f5ef132af5c": {
     "id": "9dcf6e32-e060-4216-acb0-4f5ef132af5c",
     "prev": "545abe78-c4e7-4613-92b9-546540d0f137",
     "regions": {
      "7a8c6847-fddf-43e2-b95d-d3d007f284c8": {
       "attrs": {
        "height": 0.4,
        "width": 0.8,
        "x": 0.1,
        "y": 0.5
       },
       "content": {
        "cell": "4e675bc6-58cd-4705-80b0-61e4f3455462",
        "part": "whole"
       },
       "id": "7a8c6847-fddf-43e2-b95d-d3d007f284c8"
      },
      "ba667e2f-f000-41c5-8bb7-d97add815143": {
       "attrs": {
        "height": 0.8,
        "width": 0.8,
        "x": 0.1,
        "y": 0.1
       },
       "content": {
        "cell": "4ff68d90-49ac-4d98-8366-6b4c5d1b3f04",
        "part": "whole"
       },
       "id": "ba667e2f-f000-41c5-8bb7-d97add815143"
      }
     }
    },
    "a59d7019-ee89-424b-9906-b413cfad7e8e": {
     "id": "a59d7019-ee89-424b-9906-b413cfad7e8e",
     "prev": "e388be12-3aad-4d23-823c-b9fbda4f0a58",
     "regions": {
      "55545a13-5da2-4f3f-9a7e-33aa685ce4fb": {
       "attrs": {
        "height": 0.8,
        "width": 0.8,
        "x": 0.1,
        "y": 0.1
       },
       "content": {
        "cell": "fe2b103f-aa82-40bf-9ffa-8d90ee4aab86",
        "part": "whole"
       },
       "id": "55545a13-5da2-4f3f-9a7e-33aa685ce4fb"
      }
     }
    },
    "aad2a1a0-8c75-4e5f-bc57-4b9536429781": {
     "id": "aad2a1a0-8c75-4e5f-bc57-4b9536429781",
     "prev": "9dcf6e32-e060-4216-acb0-4f5ef132af5c",
     "regions": {
      "9de36e0d-640c-4dcb-8f6c-f8f535aad0ee": {
       "attrs": {
        "height": 0.8,
        "width": 0.8,
        "x": 0.1,
        "y": 0.1
       },
       "content": {
        "cell": "ac5a4b76-b07c-4821-8995-d3c48b8d17fb",
        "part": "whole"
       },
       "id": "9de36e0d-640c-4dcb-8f6c-f8f535aad0ee"
      },
      "b08a4e8f-8b96-4c22-a881-780082de7a50": {
       "attrs": {
        "height": 0.4,
        "width": 0.8,
        "x": 0.1,
        "y": 0.5
       },
       "content": {
        "cell": "c7a0a12e-ae8d-4585-bb50-a6894b8db194",
        "part": "whole"
       },
       "id": "b08a4e8f-8b96-4c22-a881-780082de7a50"
      }
     }
    },
    "ac510ef8-d7c5-433f-a3f3-354dded372b5": {
     "id": "ac510ef8-d7c5-433f-a3f3-354dded372b5",
     "prev": "9d18b2da-e1e4-4809-a078-8e2d0f370a60",
     "regions": {
      "05b906ff-e184-4070-ade8-4e216bf350bf": {
       "attrs": {
        "height": 0.8,
        "width": 0.8,
        "x": 0.1,
        "y": 0.1
       },
       "content": {
        "cell": "931ea6be-01d9-4009-9201-8bc8c6c0dad6",
        "part": "whole"
       },
       "id": "05b906ff-e184-4070-ade8-4e216bf350bf"
      }
     }
    },
    "b0ad59a4-eab4-466c-812b-a660af81daed": {
     "id": "b0ad59a4-eab4-466c-812b-a660af81daed",
     "prev": "10013fb7-2dd5-4d8e-a308-221918b12c18",
     "regions": {
      "1440cec4-c9ad-4e21-851c-4c463de8b14e": {
       "attrs": {
        "height": 0.4,
        "width": 0.8,
        "x": 0.1,
        "y": 0.5
       },
       "content": {
        "cell": "b8fa677f-ea2e-4551-a967-e5c88b685d4a",
        "part": "whole"
       },
       "id": "1440cec4-c9ad-4e21-851c-4c463de8b14e"
      },
      "37e21a83-856b-4a5b-b568-ae98dd55ef85": {
       "attrs": {
        "height": 0.4,
        "width": 0.8,
        "x": 0.1,
        "y": 0.5
       },
       "content": {
        "cell": "1cfe637e-def6-491d-b4da-3af1a658a185",
        "part": "whole"
       },
       "id": "37e21a83-856b-4a5b-b568-ae98dd55ef85"
      },
      "60db53b3-a145-49a0-8246-c3e56ba904c6": {
       "attrs": {
        "height": 0.4,
        "width": 0.8,
        "x": 0.1,
        "y": 0.5
       },
       "content": {
        "cell": "e09f0001-b68a-412f-ab4f-2e9918b73ad5",
        "part": "whole"
       },
       "id": "60db53b3-a145-49a0-8246-c3e56ba904c6"
      },
      "a8b068a6-3879-4405-9edf-db98b52012a0": {
       "attrs": {
        "height": 0.4,
        "width": 0.8,
        "x": 0.1,
        "y": 0.5
       },
       "content": {
        "cell": "aff55d2d-118a-47d8-ba84-c69b3c8cffa0",
        "part": "whole"
       },
       "id": "a8b068a6-3879-4405-9edf-db98b52012a0"
      },
      "cf3cac2a-bee9-4a82-8330-062557356abf": {
       "attrs": {
        "height": 0.8,
        "width": 0.8,
        "x": 0.1,
        "y": 0.1
       },
       "content": {
        "cell": "f978c736-11ab-46b1-929b-e2dcc0e66ca5",
        "part": "whole"
       },
       "id": "cf3cac2a-bee9-4a82-8330-062557356abf"
      }
     }
    },
    "b216cfea-67e2-4c50-bea1-1734320851f9": {
     "id": "b216cfea-67e2-4c50-bea1-1734320851f9",
     "prev": "8375bc40-f862-4592-8a5d-f127881407eb",
     "regions": {
      "cd4c90f6-a80f-478f-a436-7a2a33054aa5": {
       "attrs": {
        "height": 0.8,
        "width": 0.8,
        "x": 0.1,
        "y": 0.1
       },
       "content": {
        "cell": "0384c835-80ee-43a4-9c9a-e246d85ae9fd",
        "part": "whole"
       },
       "id": "cd4c90f6-a80f-478f-a436-7a2a33054aa5"
      }
     }
    },
    "b6b7238c-9473-4e0c-be7c-e755e23c96b0": {
     "id": "b6b7238c-9473-4e0c-be7c-e755e23c96b0",
     "prev": "f5497bd1-bb39-4077-968a-3da5816d8835",
     "regions": {
      "159d17e7-c17a-4fb8-a4e7-dafaafb336bc": {
       "attrs": {
        "height": 0.4,
        "width": 0.8,
        "x": 0.1,
        "y": 0.5
       },
       "content": {
        "cell": "659f1cca-e762-4a40-aaf0-d251872b0c1c",
        "part": "whole"
       },
       "id": "159d17e7-c17a-4fb8-a4e7-dafaafb336bc"
      },
      "2430ff90-351b-4729-827c-911ab53aae35": {
       "attrs": {
        "height": 0.4,
        "width": 0.8,
        "x": 0.1,
        "y": 0.5
       },
       "content": {
        "cell": "854ffd9f-2145-45c4-af3a-485207dfd779",
        "part": "whole"
       },
       "id": "2430ff90-351b-4729-827c-911ab53aae35"
      },
      "7b4f491e-1069-4794-90ac-02455f5793cd": {
       "attrs": {
        "height": 0.4,
        "width": 0.8,
        "x": 0.1,
        "y": 0.5
       },
       "content": {
        "cell": "acc042aa-8019-4d97-b147-ce7ffbd7c9d4",
        "part": "whole"
       },
       "id": "7b4f491e-1069-4794-90ac-02455f5793cd"
      },
      "fef36bb0-f457-47a8-8267-a3b82026e396": {
       "attrs": {
        "height": 0.8,
        "width": 0.8,
        "x": 0.1,
        "y": 0.1
       },
       "content": {
        "cell": "ebbcd306-cf62-400d-935e-a199d3cc862a",
        "part": "whole"
       },
       "id": "fef36bb0-f457-47a8-8267-a3b82026e396"
      }
     }
    },
    "ba4ceea3-88b0-4caf-a557-fb52687eb87b": {
     "id": "ba4ceea3-88b0-4caf-a557-fb52687eb87b",
     "prev": "103bde4e-124f-49ab-a447-83f0ae2f1328",
     "regions": {
      "16c39ba9-75b2-4e55-96de-9996680a5fe5": {
       "attrs": {
        "height": 0.8,
        "width": 0.8,
        "x": 0.1,
        "y": 0.1
       },
       "content": {
        "cell": "a8f9831a-4832-4465-a5f7-39a27a1a273e",
        "part": "whole"
       },
       "id": "16c39ba9-75b2-4e55-96de-9996680a5fe5"
      },
      "3b928591-4a83-4891-8152-f71bd02b9ff1": {
       "attrs": {
        "height": 0.4,
        "width": 0.8,
        "x": 0.1,
        "y": 0.5
       },
       "content": {
        "cell": "d56cea27-ec67-484f-80b9-d4cc2147f5fe",
        "part": "whole"
       },
       "id": "3b928591-4a83-4891-8152-f71bd02b9ff1"
      }
     }
    },
    "c6090a02-e1ae-418b-8076-c6a3fb704ec3": {
     "id": "c6090a02-e1ae-418b-8076-c6a3fb704ec3",
     "prev": "a59d7019-ee89-424b-9906-b413cfad7e8e",
     "regions": {
      "0266ced2-d216-4110-a390-7383f7717fc3": {
       "attrs": {
        "height": 0.4,
        "width": 0.8,
        "x": 0.1,
        "y": 0.5
       },
       "content": {
        "cell": "a62d532f-86b7-4a62-b65c-803ae7286736",
        "part": "whole"
       },
       "id": "0266ced2-d216-4110-a390-7383f7717fc3"
      },
      "47a94ad9-650b-45cf-bae2-9fe54eaa236f": {
       "attrs": {
        "height": 0.8,
        "width": 0.8,
        "x": 0.1,
        "y": 0.1
       },
       "content": {
        "cell": "7d246075-3909-431a-967b-0fdab3a83abe",
        "part": "whole"
       },
       "id": "47a94ad9-650b-45cf-bae2-9fe54eaa236f"
      },
      "6dcb1a88-97f9-484b-a787-e1fab08f8f1a": {
       "attrs": {
        "height": 0.4,
        "width": 0.8,
        "x": 0.1,
        "y": 0.5
       },
       "content": {
        "cell": "8257dc88-8bff-49c7-8902-ba851d669b9e",
        "part": "whole"
       },
       "id": "6dcb1a88-97f9-484b-a787-e1fab08f8f1a"
      },
      "8d27ce48-13a0-4eac-9046-39418145ac44": {
       "attrs": {
        "height": 0.4,
        "width": 0.8,
        "x": 0.1,
        "y": 0.5
       },
       "content": {
        "cell": "a725c359-7ea3-4253-bf10-162aded4e2dc",
        "part": "whole"
       },
       "id": "8d27ce48-13a0-4eac-9046-39418145ac44"
      },
      "bedf5310-722f-41cc-9fc6-360dd43a52f2": {
       "attrs": {
        "height": 0.4,
        "width": 0.8,
        "x": 0.1,
        "y": 0.5
       },
       "content": {
        "cell": "9f4a1b11-000f-4c72-ba7e-8079040bdf4c",
        "part": "whole"
       },
       "id": "bedf5310-722f-41cc-9fc6-360dd43a52f2"
      },
      "c4c40517-86a2-4ffb-aa5d-21f83bba8604": {
       "attrs": {
        "height": 0.4,
        "width": 0.8,
        "x": 0.1,
        "y": 0.5
       },
       "content": {
        "cell": "74c0c329-207c-4da5-8d51-d9dbefa1b20a",
        "part": "whole"
       },
       "id": "c4c40517-86a2-4ffb-aa5d-21f83bba8604"
      }
     }
    },
    "ca5adac6-362a-46b3-9d8d-8ed1c2eb3a31": {
     "id": "ca5adac6-362a-46b3-9d8d-8ed1c2eb3a31",
     "prev": "1e4848bd-a3b8-4262-8a7f-2e5a3d9d9262",
     "regions": {
      "1222bca4-d7e1-4aa7-8c7e-bf78d7a7207b": {
       "attrs": {
        "height": 0.8,
        "width": 0.8,
        "x": 0.1,
        "y": 0.1
       },
       "content": {
        "cell": "11b13710-acbb-45d2-b272-3a78079920d3",
        "part": "whole"
       },
       "id": "1222bca4-d7e1-4aa7-8c7e-bf78d7a7207b"
      },
      "a5b6ab27-19ed-4bed-831a-9d0463937006": {
       "attrs": {
        "height": 0.4,
        "width": 0.8,
        "x": 0.1,
        "y": 0.5
       },
       "content": {
        "cell": "1554640f-e415-4cb4-8d4f-d6acda169c0f",
        "part": "whole"
       },
       "id": "a5b6ab27-19ed-4bed-831a-9d0463937006"
      }
     }
    },
    "e08b416a-82b9-4be9-bedf-dd44a7149cc4": {
     "id": "e08b416a-82b9-4be9-bedf-dd44a7149cc4",
     "prev": "73f09ceb-8b82-4f7a-b7eb-c6ea2fd2f109",
     "regions": {
      "337a0142-a9e0-4c14-b609-c550c4726ac4": {
       "attrs": {
        "height": 0.8,
        "width": 0.8,
        "x": 0.1,
        "y": 0.1
       },
       "content": {
        "cell": "767e2ad3-f530-4056-bc48-777f30c333cf",
        "part": "whole"
       },
       "id": "337a0142-a9e0-4c14-b609-c550c4726ac4"
      }
     }
    },
    "e388be12-3aad-4d23-823c-b9fbda4f0a58": {
     "id": "e388be12-3aad-4d23-823c-b9fbda4f0a58",
     "prev": "6a6d5d94-e09c-434f-9985-ec49e3beea18",
     "regions": {
      "2e57d1ae-943d-469b-a6d7-794a58c77c7b": {
       "attrs": {
        "height": 0.4,
        "width": 0.8,
        "x": 0.1,
        "y": 0.5
       },
       "content": {
        "cell": "8d0a0d28-b311-4320-a5d5-3548ad6b1177",
        "part": "whole"
       },
       "id": "2e57d1ae-943d-469b-a6d7-794a58c77c7b"
      },
      "2f5dcadc-d48f-4aaa-b4ec-ce504aeff957": {
       "attrs": {
        "height": 0.8,
        "width": 0.8,
        "x": 0.1,
        "y": 0.1
       },
       "content": {
        "cell": "49eb821c-695f-49fd-b31f-97b35816e5de",
        "part": "whole"
       },
       "id": "2f5dcadc-d48f-4aaa-b4ec-ce504aeff957"
      },
      "e61b5310-996b-4b72-a588-c65e58c82ff2": {
       "attrs": {
        "height": 0.4,
        "width": 0.8,
        "x": 0.1,
        "y": 0.5
       },
       "content": {
        "cell": "bb64929e-518c-441f-a94a-b38847066ced",
        "part": "whole"
       },
       "id": "e61b5310-996b-4b72-a588-c65e58c82ff2"
      },
      "e6559d87-b8c4-4532-9ed9-3a779647586f": {
       "attrs": {
        "height": 0.4,
        "width": 0.8,
        "x": 0.1,
        "y": 0.5
       },
       "content": {
        "cell": "c28ce9bb-daf8-4585-b433-dec37d2c8510",
        "part": "whole"
       },
       "id": "e6559d87-b8c4-4532-9ed9-3a779647586f"
      }
     }
    },
    "e3f97b4f-37b7-4176-a4ce-e7492b25dcfb": {
     "id": "e3f97b4f-37b7-4176-a4ce-e7492b25dcfb",
     "prev": "297b6d4e-d972-4b61-a7cd-9a18bf870ee7",
     "regions": {
      "60fc9fe5-6250-4ac6-b220-694b7890a90f": {
       "attrs": {
        "height": 0.4,
        "width": 0.8,
        "x": 0.1,
        "y": 0.5
       },
       "content": {
        "cell": "1a6efb07-2da4-42cd-b41e-c1c438f1d04c",
        "part": "whole"
       },
       "id": "60fc9fe5-6250-4ac6-b220-694b7890a90f"
      },
      "c9774e53-efe6-4d37-8e2a-56e230d7376b": {
       "attrs": {
        "height": 0.8,
        "width": 0.8,
        "x": 0.1,
        "y": 0.1
       },
       "content": {
        "cell": "504ef532-e341-4d6b-abe6-352f8e3e8358",
        "part": "whole"
       },
       "id": "c9774e53-efe6-4d37-8e2a-56e230d7376b"
      }
     }
    },
    "ebb05903-2037-4016-b872-8ab82fc51cbb": {
     "id": "ebb05903-2037-4016-b872-8ab82fc51cbb",
     "prev": "07256719-cec1-426a-b919-6f5314c3b7d9",
     "regions": {
      "9420e957-20e2-4bf3-9931-c42c78808833": {
       "attrs": {
        "height": 0.8,
        "width": 0.8,
        "x": 0.1,
        "y": 0.1
       },
       "content": {
        "cell": "bc4973af-1734-4f3b-9134-4dc723452571",
        "part": "whole"
       },
       "id": "9420e957-20e2-4bf3-9931-c42c78808833"
      }
     }
    },
    "f27c73c7-8fed-4fce-a2ab-9c59fba63584": {
     "id": "f27c73c7-8fed-4fce-a2ab-9c59fba63584",
     "prev": "816631eb-d625-4f8e-99c0-28dca868123b",
     "regions": {
      "ae323c65-b656-41be-a60c-04728de22098": {
       "attrs": {
        "height": 0.8,
        "width": 0.8,
        "x": 0.1,
        "y": 0.1
       },
       "content": {
        "cell": "19b272f9-198a-4cc9-92b4-744cabf3c013",
        "part": "whole"
       },
       "id": "ae323c65-b656-41be-a60c-04728de22098"
      },
      "e9ac77e0-aae3-41fd-ab4b-b9955ed78278": {
       "attrs": {
        "height": 0.4,
        "width": 0.8,
        "x": 0.1,
        "y": 0.5
       },
       "content": {
        "cell": "0e73c32c-27f8-4329-8834-c7cdeac50e0e",
        "part": "whole"
       },
       "id": "e9ac77e0-aae3-41fd-ab4b-b9955ed78278"
      }
     }
    },
    "f5497bd1-bb39-4077-968a-3da5816d8835": {
     "id": "f5497bd1-bb39-4077-968a-3da5816d8835",
     "prev": "ca5adac6-362a-46b3-9d8d-8ed1c2eb3a31",
     "regions": {
      "536b29be-d94d-430d-b11e-c9d815561b1f": {
       "attrs": {
        "height": 0.4,
        "width": 0.8,
        "x": 0.1,
        "y": 0.5
       },
       "content": {
        "cell": "e5ddb44d-eb71-4b9f-9cd6-c521b304140f",
        "part": "whole"
       },
       "id": "536b29be-d94d-430d-b11e-c9d815561b1f"
      },
      "7a34c505-fda0-456f-b123-3441e2c2b6f2": {
       "attrs": {
        "height": 0.8,
        "width": 0.8,
        "x": 0.1,
        "y": 0.1
       },
       "content": {
        "cell": "1403fc60-8a37-4cc5-9738-d36351106bda",
        "part": "whole"
       },
       "id": "7a34c505-fda0-456f-b123-3441e2c2b6f2"
      }
     }
    },
    "f6bd5d51-cfa7-4b0c-96d3-b5c0815fa56f": {
     "id": "f6bd5d51-cfa7-4b0c-96d3-b5c0815fa56f",
     "prev": "ebb05903-2037-4016-b872-8ab82fc51cbb",
     "regions": {
      "540056f7-6f46-412d-b1c5-4722b6f34fe1": {
       "attrs": {
        "height": 0.8,
        "width": 0.8,
        "x": 0.1,
        "y": 0.1
       },
       "content": {
        "cell": "4fe1afd0-1a8f-4e30-9365-10ebd9d2e200",
        "part": "whole"
       },
       "id": "540056f7-6f46-412d-b1c5-4722b6f34fe1"
      }
     }
    }
   },
   "themes": {
    "default": "c6675f22-d8eb-4eea-b156-64eb456c32d2",
    "theme": {
     "bcf8cb67-6401-4d2a-afd1-418c73a43239": {
      "id": "bcf8cb67-6401-4d2a-afd1-418c73a43239",
      "palette": {
       "19cc588f-0593-49c9-9f4b-e4d7cc113b1c": {
        "id": "19cc588f-0593-49c9-9f4b-e4d7cc113b1c",
        "rgb": [
         252,
         252,
         252
        ]
       },
       "31af15d2-7e15-44c5-ab5e-e04b16a89eff": {
        "id": "31af15d2-7e15-44c5-ab5e-e04b16a89eff",
        "rgb": [
         68,
         68,
         68
        ]
       },
       "50f92c45-a630-455b-aec3-788680ec7410": {
        "id": "50f92c45-a630-455b-aec3-788680ec7410",
        "rgb": [
         155,
         177,
         192
        ]
       },
       "c5cc3653-2ee1-402a-aba2-7caae1da4f6c": {
        "id": "c5cc3653-2ee1-402a-aba2-7caae1da4f6c",
        "rgb": [
         43,
         126,
         184
        ]
       },
       "efa7f048-9acb-414c-8b04-a26811511a21": {
        "id": "efa7f048-9acb-414c-8b04-a26811511a21",
        "rgb": [
         25.118061674008803,
         73.60176211453744,
         107.4819383259912
        ]
       }
      },
      "rules": {
       "blockquote": {
        "color": "50f92c45-a630-455b-aec3-788680ec7410"
       },
       "code": {
        "font-family": "Anonymous Pro"
       },
       "h1": {
        "color": "c5cc3653-2ee1-402a-aba2-7caae1da4f6c",
        "font-family": "Lato",
        "font-size": 8
       },
       "h2": {
        "color": "c5cc3653-2ee1-402a-aba2-7caae1da4f6c",
        "font-family": "Lato",
        "font-size": 6
       },
       "h3": {
        "color": "50f92c45-a630-455b-aec3-788680ec7410",
        "font-family": "Lato",
        "font-size": 5.5
       },
       "h4": {
        "color": "c5cc3653-2ee1-402a-aba2-7caae1da4f6c",
        "font-family": "Lato",
        "font-size": 5
       },
       "h5": {
        "font-family": "Lato"
       },
       "h6": {
        "font-family": "Lato"
       },
       "h7": {
        "font-family": "Lato"
       },
       "pre": {
        "font-family": "Anonymous Pro",
        "font-size": 4
       }
      },
      "text-base": {
       "font-family": "Merriweather",
       "font-size": 4
      }
     },
     "c6675f22-d8eb-4eea-b156-64eb456c32d2": {
      "backgrounds": {
       "dc7afa04-bf90-40b1-82a5-726e3cff5267": {
        "background-color": "31af15d2-7e15-44c5-ab5e-e04b16a89eff",
        "id": "dc7afa04-bf90-40b1-82a5-726e3cff5267"
       }
      },
      "id": "c6675f22-d8eb-4eea-b156-64eb456c32d2",
      "palette": {
       "19cc588f-0593-49c9-9f4b-e4d7cc113b1c": {
        "id": "19cc588f-0593-49c9-9f4b-e4d7cc113b1c",
        "rgb": [
         252,
         252,
         252
        ]
       },
       "31af15d2-7e15-44c5-ab5e-e04b16a89eff": {
        "id": "31af15d2-7e15-44c5-ab5e-e04b16a89eff",
        "rgb": [
         68,
         68,
         68
        ]
       },
       "50f92c45-a630-455b-aec3-788680ec7410": {
        "id": "50f92c45-a630-455b-aec3-788680ec7410",
        "rgb": [
         197,
         226,
         245
        ]
       },
       "c5cc3653-2ee1-402a-aba2-7caae1da4f6c": {
        "id": "c5cc3653-2ee1-402a-aba2-7caae1da4f6c",
        "rgb": [
         43,
         126,
         184
        ]
       },
       "efa7f048-9acb-414c-8b04-a26811511a21": {
        "id": "efa7f048-9acb-414c-8b04-a26811511a21",
        "rgb": [
         25.118061674008803,
         73.60176211453744,
         107.4819383259912
        ]
       }
      },
      "rules": {
       "a": {
        "color": "19cc588f-0593-49c9-9f4b-e4d7cc113b1c"
       },
       "blockquote": {
        "color": "50f92c45-a630-455b-aec3-788680ec7410",
        "font-size": 3
       },
       "code": {
        "font-family": "Anonymous Pro"
       },
       "h1": {
        "color": "19cc588f-0593-49c9-9f4b-e4d7cc113b1c",
        "font-family": "Merriweather",
        "font-size": 8
       },
       "h2": {
        "color": "19cc588f-0593-49c9-9f4b-e4d7cc113b1c",
        "font-family": "Merriweather",
        "font-size": 6
       },
       "h3": {
        "color": "50f92c45-a630-455b-aec3-788680ec7410",
        "font-family": "Lato",
        "font-size": 5.5
       },
       "h4": {
        "color": "c5cc3653-2ee1-402a-aba2-7caae1da4f6c",
        "font-family": "Lato",
        "font-size": 5
       },
       "h5": {
        "font-family": "Lato"
       },
       "h6": {
        "font-family": "Lato"
       },
       "h7": {
        "font-family": "Lato"
       },
       "li": {
        "color": "50f92c45-a630-455b-aec3-788680ec7410",
        "font-size": 3.25
       },
       "pre": {
        "font-family": "Anonymous Pro",
        "font-size": 4
       }
      },
      "text-base": {
       "color": "19cc588f-0593-49c9-9f4b-e4d7cc113b1c",
       "font-family": "Lato",
       "font-size": 4
      }
     }
    }
   }
  }
 },
 "nbformat": 4,
 "nbformat_minor": 0
}
