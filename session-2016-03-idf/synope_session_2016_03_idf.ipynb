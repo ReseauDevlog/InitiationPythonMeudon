{
 "cells": [
  {
   "cell_type": "markdown",
   "metadata": {
    "slideshow": {
     "slide_type": "-"
    }
   },
   "source": [
    "*Ce notebook est distribué par Devlog sous licence Creative Commons - Attribution - Pas d’Utilisation Commerciale - Partage dans les Mêmes Conditions. La description complète de la license est disponible à l'adresse web http://creativecommons.org/licenses/by-nc-sa/4.0/.*"
   ]
  },
  {
   "cell_type": "markdown",
   "metadata": {
    "slideshow": {
     "slide_type": "slide"
    }
   },
   "source": [
    "# Initiation à Python, printemps 2016, Ile-de-France\n",
    "\n",
    "Ensemble de formations organisées en coopération avec les réseaux LoOPS, PICo-DevLog,  \n",
    "et le pôle formation du Service Mutualisé d’Ile-de-France du CNRS.\n",
    "\n",
    "<img src=\"img/python-logo-TM.png\" />"
   ]
  },
  {
   "cell_type": "markdown",
   "metadata": {
    "slideshow": {
     "slide_type": "slide"
    }
   },
   "source": [
    "## Formateurs\n",
    "\n",
    "| Où |  Quand | Qui |\n",
    "|----|--------|-----|\n",
    "| Gif | 29-30-31 mars | David Chamont & Loic Gouarin  |\n",
    "| Meudon | 6-7-8 avril | Dmitry Khvorostyanov & Marc-Antoine Drouin |\n",
    "| Villejiuf | 11-12-13 mai | Dmitry Khvorostyanov & Christophe Gengembre |"
   ]
  },
  {
   "cell_type": "markdown",
   "metadata": {
    "slideshow": {
     "slide_type": "slide"
    }
   },
   "source": [
    "## Auteurs\n",
    "\n",
    "Vous trouverez à la fin de chaque notebook des informations sur les auteurs\n",
    "historiques des modules, et les contributeurs ultérieurs. L'ensemble a été\n",
    "initié dans le cadre du projet \"Notebooks Python\" du réseau Devlog, et\n",
    "poursuivi dans le cadre du projet \"Synopé\", qui marque le passage de\n",
    "IPython à Jupyter, et la volonté d'essayer d'autres langages (C++).\n",
    "\n",
    "* auteurs originaux : Nicolas Can (Min2Rien - DR18), Sékou Diakité (DevelopR6 - DR6),\n",
    "Loïc Gouarin (LOOPs - DR4), Christophe Halgand (CEPAge - DR15), David Chamont (LOOPs - DR4).\n",
    "* ajouts pour cette session : Loic Gouarin (calcul & ellipsoides), David Chamont (fonctions), Marc-Antoine Drouin (outils et bonnes pratiques), Christophe Gengembre (modules), Dmitry Khvorostyanov (ellipsoides).\n",
    "\n",
    "Les quizz ont été réalisés par Guillaume Harry, et inspirés par les quiz du MOOC Python porté par Arnaud Legout & Thierry Parmentelat (Inria)."
   ]
  },
  {
   "cell_type": "markdown",
   "metadata": {
    "slideshow": {
     "slide_type": "slide"
    }
   },
   "source": [
    "## Plan par demi-journées\n",
    "\n",
    "1. Les bases : intro, variables, types, fonctions.\n",
    "2. Côté système d'exploitation : modules, paquets et distribution.\n",
    "3. La programmation orientée objet.\n",
    "4. Outillage et bonnes pratiques : style, tests, journalisation, , documentation, argparse, Python 2 vs 3.\n",
    "5. Calcul : numpy et matplotlib.\n",
    "6. Mini-projet autour du billard."
   ]
  },
  {
   "cell_type": "markdown",
   "metadata": {},
   "source": [
    "## Environnement technique : notebooks\n",
    "\n",
    "Les présentations théoriques reposent sur l'utilisation de notebooks tels que celui-ci. A condition de lancer ces notebooks de façon appropriée (commande 'jupyter notebook' dans le répertoire racine), vous pouvez exécuter les exemples de façon interactive, les modifier, éditer le notebook pour ajouter vos propres commentaires et sauvegarder votre version modifiée.\n",
    "\n",
    "Toutes les commandes se partagent la même session sur le même \"kernel\" python. Parfois il faut redémarrer le kernel (rare)."
   ]
  },
  {
   "cell_type": "markdown",
   "metadata": {},
   "source": [
    "## Environnement technique : Binder\n",
    "\n",
    "Pour éviter d'avoir à lancer un kernel Python sur votre machibe locale, et d'affronter d'éventuels problèmes d'installation, vous êtes invités à exécuter les notebooks à travers le site \"Binder\", qui va le faire pour vous au sein de machines virtuelles distantes :\n",
    "\n",
    "1. rendez-vous sur \"https://github.com/ReseauDevlog/SynopePython\"\n",
    "2. cliquez sur le bouton \"launch binder\"."
   ]
  },
  {
   "cell_type": "markdown",
   "metadata": {
    "slideshow": {
     "slide_type": "-"
    }
   },
   "source": [
    "## Environnement technique : Anaconda\n",
    "\n",
    "Pour les besoins des travaux pratiques, nous avons installé pour vous l'environnement Anaconda, un bundle de Python actuellement très utilisé dans le monde scientifique. Développé par la [société Continuum Analytics](http://www.continuum.io/about-continuum), non \"libre\" mais gratuit dans sa version de base, il a l'avantage d'être multiplateforme (Windows, MacOSX et GNU/Linux) et d'intégrer une grande quantité d'outils et paquets Python, notamment : IPython, Spyder (environnement de développement intégré), NumPy, SciPy, MatplotLib, Pandas, Sympy, PIP...\n",
    "\n",
    "<img src=\"img/Distribution_Anaconda.png\" />\n",
    "\n",
    "Pour l'édition, nous utiliserons par défaut \"Spyder\". Un autre éditeur particulièrement populaire à l'heure actuelle est \"PyCharm\".\n",
    "\n",
    "*A noter : la mise à jour d'une installation anaconda se fait simplement via les deux commandes en ligne `conda update conda` puis `conda update anaconda`.*"
   ]
  },
  {
   "cell_type": "markdown",
   "metadata": {},
   "source": [
    "## Les différentes versions de Python\n",
    "\n",
    "Les responsables des évolutions de Python ont autorisé des ruptures de fonctionnalités entre les versions 2 et les versions 3. Passer de l'un à l'autre demande donc un travail plus ou moins important de mise à jour, selon que les auteurs du code source ont anticipé ou non cette transition. Les dernières versions 2 fournissent un ensemble de mécanismes permettant d'anticiper les changements de syntaxe de la version 3.\n",
    "\n",
    "Tous les nouveaux projets Python étant en version 3, nous avons choisi de vous initier au Python \"moderne\" (plus précisemment, la version 3.5). Cependant, comme il y a beaucoup de code existant en version 2, nous vous présenterons ultérieurement les grandes différences."
   ]
  },
  {
   "cell_type": "markdown",
   "metadata": {},
   "source": [
    "## A propos des auteurs"
   ]
  },
  {
   "cell_type": "markdown",
   "metadata": {},
   "source": [
    "*Travail initié en 2014 dans le cadre d'une série de formations Python organisées par le réseau Devlog.  \n",
    "Auteurs principaux : Loic Gouarin & David Chamont. Relecteurs : Nicolas Can, Sekou Diakite, Christophe Halgand, Christophe Gengembre.*"
   ]
  },
  {
   "cell_type": "markdown",
   "metadata": {
    "collapsed": true
   },
   "source": [
    "### Mise en forme"
   ]
  },
  {
   "cell_type": "code",
   "execution_count": null,
   "metadata": {
    "collapsed": false
   },
   "outputs": [],
   "source": [
    "# execute this part to modify the css style\n",
    "from IPython.core.display import HTML\n",
    "def css_styling():\n",
    "    styles = open(\"../../styles/custom.css\", \"r\").read()\n",
    "    return HTML(styles)\n",
    "css_styling()"
   ]
  }
 ],
 "metadata": {
  "kernelspec": {
   "display_name": "Python 3",
   "language": "python",
   "name": "python3"
  },
  "language_info": {
   "codemirror_mode": {
    "name": "ipython",
    "version": 3
   },
   "file_extension": ".py",
   "mimetype": "text/x-python",
   "name": "python",
   "nbconvert_exporter": "python",
   "pygments_lexer": "ipython3",
   "version": "3.5.1"
  }
 },
 "nbformat": 4,
 "nbformat_minor": 0
}
